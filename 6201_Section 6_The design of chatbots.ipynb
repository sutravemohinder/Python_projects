{
 "cells": [
  {
   "cell_type": "code",
   "execution_count": 1,
   "metadata": {
    "collapsed": true
   },
   "outputs": [],
   "source": [
    "from __future__ import print_function\n",
    "from nltk.chat.util import Chat, reflections"
   ]
  },
  {
   "cell_type": "code",
   "execution_count": 2,
   "metadata": {
    "collapsed": true
   },
   "outputs": [],
   "source": [
    "pairs = (\n",
    "    (r'I need (.*)',\n",
    "    ( \"Why do you need %1?\",\n",
    "      \"Would it really help you to get %1?\",\n",
    "      \"Are you sure you need %1?\")),\n",
    "    \n",
    "    (r'Why don\\'t you (.*)',\n",
    "    ( \"Do you really think I don't %1?\",\n",
    "      \"Perhaps eventually I will %1.\",\n",
    "      \"Do you really want me to %1?\")),\n",
    "    \n",
    "    (r'(.*)\\?',\n",
    "    ( \"Why do you ask that?\",\n",
    "      \"Please consider whether you can answer your own question.\",\n",
    "      \"Perhaps the answer lies within yourself?\",\n",
    "      \"Why don't you tell me?\")),\n",
    "    \n",
    "    (r'quit',\n",
    "    ( \"Thank you for talking with me.\",\n",
    "      \"Good-bye.\",\n",
    "      \"Thank you, that will be $150.  Have a good day!\")),\n",
    "\n",
    "    (r'(.*)',\n",
    "    ( \"Please tell me more.\",\n",
    "      \"Let's change focus a bit... Tell me about your family.\",\n",
    "      \"Can you elaborate on that?\",\n",
    "      \"Why do you say that %1?\",\n",
    "      \"I see.\",\n",
    "      \"Very interesting.\",\n",
    "      \"%1.\",\n",
    "      \"I see.  And what does that tell you?\",\n",
    "      \"How does that make you feel?\",\n",
    "      \"How do you feel when you say that?\"))\n",
    ")\n"
   ]
  },
  {
   "cell_type": "code",
   "execution_count": 3,
   "metadata": {
    "collapsed": true
   },
   "outputs": [],
   "source": [
    "eliza_chatbot = Chat(pairs, reflections)"
   ]
  },
  {
   "cell_type": "code",
   "execution_count": 4,
   "metadata": {
    "collapsed": true
   },
   "outputs": [],
   "source": [
    "def eliza_chat():\n",
    "    print(\"Therapist\\n---------\")\n",
    "    print(\"Talk to the program by typing in plain English, using normal upper-\")\n",
    "    print('and lower-case letters and punctuation. Enter \"quit\" when done.')\n",
    "    print('='*72)\n",
    "    print(\"Hello. How are you feeling today?\")"
   ]
  },
  {
   "cell_type": "code",
   "execution_count": null,
   "metadata": {
    "collapsed": false
   },
   "outputs": [],
   "source": [
    "eliza_chatbot.converse()\n",
    "def demo():\n",
    "     eliza_chat()\n",
    "if __name__ == \"__main__\":\n",
    "    demo()"
   ]
  },
  {
   "cell_type": "code",
   "execution_count": null,
   "metadata": {
    "collapsed": true
   },
   "outputs": [],
   "source": []
  }
 ],
 "metadata": {
  "kernelspec": {
   "display_name": "Python [default]",
   "language": "python",
   "name": "python3"
  },
  "language_info": {
   "codemirror_mode": {
    "name": "ipython",
    "version": 3
   },
   "file_extension": ".py",
   "mimetype": "text/x-python",
   "name": "python",
   "nbconvert_exporter": "python",
   "pygments_lexer": "ipython3",
   "version": "3.5.2"
  }
 },
 "nbformat": 4,
 "nbformat_minor": 1
}
