{
 "cells": [
  {
   "cell_type": "code",
   "execution_count": 1,
   "metadata": {
    "collapsed": false
   },
   "outputs": [
    {
     "data": {
      "image/png": "[encoded data removed]",
      "text/plain": [
       "<matplotlib.figure.Figure at 0x4bce898>"
      ]
     },
     "metadata": {},
     "output_type": "display_data"
    }
   ],
   "source": [
    "from sklearn import datasets\n",
    "import matplotlib.pyplot as plt\n",
    "import numpy as np\n",
    "%matplotlib inline\n",
    "digits = datasets.load_digits()\n",
    "def display_img(img_no):\n",
    "    fig, ax = plt.subplots()\n",
    "    ax.set_xticklabels([])\n",
    "    ax.set_yticklabels([])\n",
    "    ax.matshow(digits.images[img_no], cmap = plt.cm.binary);\n",
    "display_img(0)"
   ]
  },
  {
   "cell_type": "code",
   "execution_count": 2,
   "metadata": {
    "collapsed": false
   },
   "outputs": [
    {
     "data": {
      "text/plain": [
       "array([[  0.,   0.,   5.,  13.,   9.,   1.,   0.,   0.],\n",
       "       [  0.,   0.,  13.,  15.,  10.,  15.,   5.,   0.],\n",
       "       [  0.,   3.,  15.,   2.,   0.,  11.,   8.,   0.],\n",
       "       [  0.,   4.,  12.,   0.,   0.,   8.,   8.,   0.],\n",
       "       [  0.,   5.,   8.,   0.,   0.,   9.,   8.,   0.],\n",
       "       [  0.,   4.,  11.,   0.,   1.,  12.,   7.,   0.],\n",
       "       [  0.,   2.,  14.,   5.,  10.,  12.,   0.,   0.],\n",
       "       [  0.,   0.,   6.,  13.,  10.,   0.,   0.,   0.]])"
      ]
     },
     "execution_count": 2,
     "metadata": {},
     "output_type": "execute_result"
    }
   ],
   "source": [
    "digits.images[0]"
   ]
  },
  {
   "cell_type": "code",
   "execution_count": 3,
   "metadata": {
    "collapsed": false
   },
   "outputs": [
    {
     "data": {
      "text/plain": [
       "(64,)"
      ]
     },
     "execution_count": 3,
     "metadata": {},
     "output_type": "execute_result"
    }
   ],
   "source": [
    "digits.data[0].shape"
   ]
  },
  {
   "cell_type": "code",
   "execution_count": 4,
   "metadata": {
    "collapsed": false
   },
   "outputs": [
    {
     "data": {
      "text/plain": [
       "0"
      ]
     },
     "execution_count": 4,
     "metadata": {},
     "output_type": "execute_result"
    }
   ],
   "source": [
    "digits.target[0]"
   ]
  },
  {
   "cell_type": "code",
   "execution_count": 5,
   "metadata": {
    "collapsed": true
   },
   "outputs": [],
   "source": [
    "import pandas as pd\n",
    "from sklearn.metrics.pairwise import cosine_similarity"
   ]
  },
  {
   "cell_type": "code",
   "execution_count": 6,
   "metadata": {
    "collapsed": true
   },
   "outputs": [],
   "source": [
    "X = digits.data\n",
    "co_sim = cosine_similarity(X[0].reshape(1,-1), X)"
   ]
  },
  {
   "cell_type": "code",
   "execution_count": 7,
   "metadata": {
    "collapsed": false
   },
   "outputs": [
    {
     "data": {
      "text/html": [
       "<div>\n",
       "<table border=\"1\" class=\"dataframe\">\n",
       "  <thead>\n",
       "    <tr style=\"text-align: right;\">\n",
       "      <th></th>\n",
       "      <th>similarity</th>\n",
       "    </tr>\n",
       "  </thead>\n",
       "  <tbody>\n",
       "    <tr>\n",
       "      <th>0</th>\n",
       "      <td>1.000000</td>\n",
       "    </tr>\n",
       "    <tr>\n",
       "      <th>877</th>\n",
       "      <td>0.980739</td>\n",
       "    </tr>\n",
       "    <tr>\n",
       "      <th>464</th>\n",
       "      <td>0.974474</td>\n",
       "    </tr>\n",
       "    <tr>\n",
       "      <th>1365</th>\n",
       "      <td>0.974188</td>\n",
       "    </tr>\n",
       "    <tr>\n",
       "      <th>1541</th>\n",
       "      <td>0.971831</td>\n",
       "    </tr>\n",
       "    <tr>\n",
       "      <th>1167</th>\n",
       "      <td>0.971130</td>\n",
       "    </tr>\n",
       "    <tr>\n",
       "      <th>1029</th>\n",
       "      <td>0.970858</td>\n",
       "    </tr>\n",
       "    <tr>\n",
       "      <th>396</th>\n",
       "      <td>0.968793</td>\n",
       "    </tr>\n",
       "    <tr>\n",
       "      <th>1697</th>\n",
       "      <td>0.966019</td>\n",
       "    </tr>\n",
       "    <tr>\n",
       "      <th>646</th>\n",
       "      <td>0.965490</td>\n",
       "    </tr>\n",
       "    <tr>\n",
       "      <th>1342</th>\n",
       "      <td>0.963990</td>\n",
       "    </tr>\n",
       "    <tr>\n",
       "      <th>160</th>\n",
       "      <td>0.961824</td>\n",
       "    </tr>\n",
       "    <tr>\n",
       "      <th>957</th>\n",
       "      <td>0.960468</td>\n",
       "    </tr>\n",
       "    <tr>\n",
       "      <th>335</th>\n",
       "      <td>0.959937</td>\n",
       "    </tr>\n",
       "    <tr>\n",
       "      <th>1463</th>\n",
       "      <td>0.958401</td>\n",
       "    </tr>\n",
       "    <tr>\n",
       "      <th>855</th>\n",
       "      <td>0.958079</td>\n",
       "    </tr>\n",
       "    <tr>\n",
       "      <th>229</th>\n",
       "      <td>0.957180</td>\n",
       "    </tr>\n",
       "    <tr>\n",
       "      <th>642</th>\n",
       "      <td>0.956975</td>\n",
       "    </tr>\n",
       "    <tr>\n",
       "      <th>682</th>\n",
       "      <td>0.956633</td>\n",
       "    </tr>\n",
       "    <tr>\n",
       "      <th>812</th>\n",
       "      <td>0.954502</td>\n",
       "    </tr>\n",
       "    <tr>\n",
       "      <th>276</th>\n",
       "      <td>0.953733</td>\n",
       "    </tr>\n",
       "    <tr>\n",
       "      <th>311</th>\n",
       "      <td>0.953675</td>\n",
       "    </tr>\n",
       "    <tr>\n",
       "      <th>725</th>\n",
       "      <td>0.953565</td>\n",
       "    </tr>\n",
       "    <tr>\n",
       "      <th>30</th>\n",
       "      <td>0.953453</td>\n",
       "    </tr>\n",
       "    <tr>\n",
       "      <th>666</th>\n",
       "      <td>0.952949</td>\n",
       "    </tr>\n",
       "    <tr>\n",
       "      <th>516</th>\n",
       "      <td>0.952674</td>\n",
       "    </tr>\n",
       "    <tr>\n",
       "      <th>305</th>\n",
       "      <td>0.952255</td>\n",
       "    </tr>\n",
       "    <tr>\n",
       "      <th>724</th>\n",
       "      <td>0.951774</td>\n",
       "    </tr>\n",
       "    <tr>\n",
       "      <th>1494</th>\n",
       "      <td>0.951671</td>\n",
       "    </tr>\n",
       "    <tr>\n",
       "      <th>458</th>\n",
       "      <td>0.951614</td>\n",
       "    </tr>\n",
       "    <tr>\n",
       "      <th>...</th>\n",
       "      <td>...</td>\n",
       "    </tr>\n",
       "    <tr>\n",
       "      <th>1372</th>\n",
       "      <td>0.486735</td>\n",
       "    </tr>\n",
       "    <tr>\n",
       "      <th>1613</th>\n",
       "      <td>0.486612</td>\n",
       "    </tr>\n",
       "    <tr>\n",
       "      <th>517</th>\n",
       "      <td>0.485804</td>\n",
       "    </tr>\n",
       "    <tr>\n",
       "      <th>972</th>\n",
       "      <td>0.484865</td>\n",
       "    </tr>\n",
       "    <tr>\n",
       "      <th>1000</th>\n",
       "      <td>0.479740</td>\n",
       "    </tr>\n",
       "    <tr>\n",
       "      <th>1357</th>\n",
       "      <td>0.479682</td>\n",
       "    </tr>\n",
       "    <tr>\n",
       "      <th>623</th>\n",
       "      <td>0.476078</td>\n",
       "    </tr>\n",
       "    <tr>\n",
       "      <th>215</th>\n",
       "      <td>0.473342</td>\n",
       "    </tr>\n",
       "    <tr>\n",
       "      <th>107</th>\n",
       "      <td>0.472412</td>\n",
       "    </tr>\n",
       "    <tr>\n",
       "      <th>1634</th>\n",
       "      <td>0.471961</td>\n",
       "    </tr>\n",
       "    <tr>\n",
       "      <th>777</th>\n",
       "      <td>0.469736</td>\n",
       "    </tr>\n",
       "    <tr>\n",
       "      <th>85</th>\n",
       "      <td>0.466485</td>\n",
       "    </tr>\n",
       "    <tr>\n",
       "      <th>994</th>\n",
       "      <td>0.466440</td>\n",
       "    </tr>\n",
       "    <tr>\n",
       "      <th>1590</th>\n",
       "      <td>0.463689</td>\n",
       "    </tr>\n",
       "    <tr>\n",
       "      <th>1380</th>\n",
       "      <td>0.456986</td>\n",
       "    </tr>\n",
       "    <tr>\n",
       "      <th>609</th>\n",
       "      <td>0.456557</td>\n",
       "    </tr>\n",
       "    <tr>\n",
       "      <th>1377</th>\n",
       "      <td>0.449912</td>\n",
       "    </tr>\n",
       "    <tr>\n",
       "      <th>267</th>\n",
       "      <td>0.449633</td>\n",
       "    </tr>\n",
       "    <tr>\n",
       "      <th>336</th>\n",
       "      <td>0.446742</td>\n",
       "    </tr>\n",
       "    <tr>\n",
       "      <th>1621</th>\n",
       "      <td>0.442270</td>\n",
       "    </tr>\n",
       "    <tr>\n",
       "      <th>1551</th>\n",
       "      <td>0.440442</td>\n",
       "    </tr>\n",
       "    <tr>\n",
       "      <th>341</th>\n",
       "      <td>0.430761</td>\n",
       "    </tr>\n",
       "    <tr>\n",
       "      <th>1648</th>\n",
       "      <td>0.426239</td>\n",
       "    </tr>\n",
       "    <tr>\n",
       "      <th>1329</th>\n",
       "      <td>0.425764</td>\n",
       "    </tr>\n",
       "    <tr>\n",
       "      <th>1640</th>\n",
       "      <td>0.420540</td>\n",
       "    </tr>\n",
       "    <tr>\n",
       "      <th>1334</th>\n",
       "      <td>0.420014</td>\n",
       "    </tr>\n",
       "    <tr>\n",
       "      <th>1585</th>\n",
       "      <td>0.402730</td>\n",
       "    </tr>\n",
       "    <tr>\n",
       "      <th>1213</th>\n",
       "      <td>0.393677</td>\n",
       "    </tr>\n",
       "    <tr>\n",
       "      <th>1631</th>\n",
       "      <td>0.368377</td>\n",
       "    </tr>\n",
       "    <tr>\n",
       "      <th>1626</th>\n",
       "      <td>0.361120</td>\n",
       "    </tr>\n",
       "  </tbody>\n",
       "</table>\n",
       "<p>1797 rows × 1 columns</p>\n",
       "</div>"
      ],
      "text/plain": [
       "      similarity\n",
       "0       1.000000\n",
       "877     0.980739\n",
       "464     0.974474\n",
       "1365    0.974188\n",
       "1541    0.971831\n",
       "1167    0.971130\n",
       "1029    0.970858\n",
       "396     0.968793\n",
       "1697    0.966019\n",
       "646     0.965490\n",
       "1342    0.963990\n",
       "160     0.961824\n",
       "957     0.960468\n",
       "335     0.959937\n",
       "1463    0.958401\n",
       "855     0.958079\n",
       "229     0.957180\n",
       "642     0.956975\n",
       "682     0.956633\n",
       "812     0.954502\n",
       "276     0.953733\n",
       "311     0.953675\n",
       "725     0.953565\n",
       "30      0.953453\n",
       "666     0.952949\n",
       "516     0.952674\n",
       "305     0.952255\n",
       "724     0.951774\n",
       "1494    0.951671\n",
       "458     0.951614\n",
       "...          ...\n",
       "1372    0.486735\n",
       "1613    0.486612\n",
       "517     0.485804\n",
       "972     0.484865\n",
       "1000    0.479740\n",
       "1357    0.479682\n",
       "623     0.476078\n",
       "215     0.473342\n",
       "107     0.472412\n",
       "1634    0.471961\n",
       "777     0.469736\n",
       "85      0.466485\n",
       "994     0.466440\n",
       "1590    0.463689\n",
       "1380    0.456986\n",
       "609     0.456557\n",
       "1377    0.449912\n",
       "267     0.449633\n",
       "336     0.446742\n",
       "1621    0.442270\n",
       "1551    0.440442\n",
       "341     0.430761\n",
       "1648    0.426239\n",
       "1329    0.425764\n",
       "1640    0.420540\n",
       "1334    0.420014\n",
       "1585    0.402730\n",
       "1213    0.393677\n",
       "1631    0.368377\n",
       "1626    0.361120\n",
       "\n",
       "[1797 rows x 1 columns]"
      ]
     },
     "execution_count": 7,
     "metadata": {},
     "output_type": "execute_result"
    }
   ],
   "source": [
    "cosf = pd.DataFrame(co_sim).T\n",
    "cosf.columns = ['similarity']\n",
    "cosf.sort_values('similarity', ascending=False)"
   ]
  },
  {
   "cell_type": "code",
   "execution_count": 8,
   "metadata": {
    "collapsed": false
   },
   "outputs": [
    {
     "data": {
      "image/png": "[encoded data removed]",
      "text/plain": [
       "<matplotlib.figure.Figure at 0x4be94e0>"
      ]
     },
     "metadata": {},
     "output_type": "display_data"
    }
   ],
   "source": [
    "display_img(877)"
   ]
  },
  {
   "cell_type": "code",
   "execution_count": 9,
   "metadata": {
    "collapsed": false
   },
   "outputs": [
    {
     "data": {
      "image/png": "[encoded data removed]",
      "text/plain": [
       "<matplotlib.figure.Figure at 0xb29e320>"
      ]
     },
     "metadata": {},
     "output_type": "display_data"
    }
   ],
   "source": [
    "display_img(0)"
   ]
  },
  {
   "cell_type": "code",
   "execution_count": 10,
   "metadata": {
    "collapsed": false
   },
   "outputs": [
    {
     "data": {
      "image/png": "[encoded data removed]",
      "text/plain": [
       "<matplotlib.figure.Figure at 0xb358320>"
      ]
     },
     "metadata": {},
     "output_type": "display_data"
    }
   ],
   "source": [
    "display_img(1626)"
   ]
  },
  {
   "cell_type": "code",
   "execution_count": 11,
   "metadata": {
    "collapsed": false
   },
   "outputs": [
    {
     "data": {
      "text/html": [
       "<div>\n",
       "<table border=\"1\" class=\"dataframe\">\n",
       "  <thead>\n",
       "    <tr style=\"text-align: right;\">\n",
       "      <th></th>\n",
       "      <th>similarity</th>\n",
       "    </tr>\n",
       "  </thead>\n",
       "  <tbody>\n",
       "    <tr>\n",
       "      <th>0</th>\n",
       "      <td>1.000000e+00</td>\n",
       "    </tr>\n",
       "    <tr>\n",
       "      <th>1167</th>\n",
       "      <td>1.644255e-07</td>\n",
       "    </tr>\n",
       "    <tr>\n",
       "      <th>877</th>\n",
       "      <td>1.040593e-07</td>\n",
       "    </tr>\n",
       "    <tr>\n",
       "      <th>464</th>\n",
       "      <td>1.232666e-08</td>\n",
       "    </tr>\n",
       "    <tr>\n",
       "      <th>1541</th>\n",
       "      <td>8.598399e-09</td>\n",
       "    </tr>\n",
       "    <tr>\n",
       "      <th>1365</th>\n",
       "      <td>8.274881e-09</td>\n",
       "    </tr>\n",
       "    <tr>\n",
       "      <th>1029</th>\n",
       "      <td>1.907361e-09</td>\n",
       "    </tr>\n",
       "    <tr>\n",
       "      <th>855</th>\n",
       "      <td>1.487874e-10</td>\n",
       "    </tr>\n",
       "    <tr>\n",
       "      <th>1697</th>\n",
       "      <td>1.191874e-10</td>\n",
       "    </tr>\n",
       "    <tr>\n",
       "      <th>957</th>\n",
       "      <td>1.870301e-11</td>\n",
       "    </tr>\n",
       "    <tr>\n",
       "      <th>1463</th>\n",
       "      <td>1.714631e-12</td>\n",
       "    </tr>\n",
       "    <tr>\n",
       "      <th>1236</th>\n",
       "      <td>1.528919e-13</td>\n",
       "    </tr>\n",
       "    <tr>\n",
       "      <th>646</th>\n",
       "      <td>8.264444e-14</td>\n",
       "    </tr>\n",
       "    <tr>\n",
       "      <th>335</th>\n",
       "      <td>7.758213e-14</td>\n",
       "    </tr>\n",
       "    <tr>\n",
       "      <th>812</th>\n",
       "      <td>4.250581e-14</td>\n",
       "    </tr>\n",
       "    <tr>\n",
       "      <th>276</th>\n",
       "      <td>2.589843e-14</td>\n",
       "    </tr>\n",
       "    <tr>\n",
       "      <th>305</th>\n",
       "      <td>1.141329e-14</td>\n",
       "    </tr>\n",
       "    <tr>\n",
       "      <th>806</th>\n",
       "      <td>1.101042e-14</td>\n",
       "    </tr>\n",
       "    <tr>\n",
       "      <th>311</th>\n",
       "      <td>6.290698e-15</td>\n",
       "    </tr>\n",
       "    <tr>\n",
       "      <th>1128</th>\n",
       "      <td>5.081774e-15</td>\n",
       "    </tr>\n",
       "    <tr>\n",
       "      <th>1494</th>\n",
       "      <td>4.847325e-15</td>\n",
       "    </tr>\n",
       "    <tr>\n",
       "      <th>166</th>\n",
       "      <td>4.115303e-15</td>\n",
       "    </tr>\n",
       "    <tr>\n",
       "      <th>516</th>\n",
       "      <td>2.819098e-15</td>\n",
       "    </tr>\n",
       "    <tr>\n",
       "      <th>642</th>\n",
       "      <td>1.384852e-15</td>\n",
       "    </tr>\n",
       "    <tr>\n",
       "      <th>229</th>\n",
       "      <td>1.246194e-15</td>\n",
       "    </tr>\n",
       "    <tr>\n",
       "      <th>1002</th>\n",
       "      <td>1.177180e-15</td>\n",
       "    </tr>\n",
       "    <tr>\n",
       "      <th>676</th>\n",
       "      <td>8.403675e-16</td>\n",
       "    </tr>\n",
       "    <tr>\n",
       "      <th>1745</th>\n",
       "      <td>7.786381e-16</td>\n",
       "    </tr>\n",
       "    <tr>\n",
       "      <th>396</th>\n",
       "      <td>7.525816e-16</td>\n",
       "    </tr>\n",
       "    <tr>\n",
       "      <th>941</th>\n",
       "      <td>6.983304e-16</td>\n",
       "    </tr>\n",
       "    <tr>\n",
       "      <th>...</th>\n",
       "      <td>...</td>\n",
       "    </tr>\n",
       "    <tr>\n",
       "      <th>558</th>\n",
       "      <td>1.580173e-124</td>\n",
       "    </tr>\n",
       "    <tr>\n",
       "      <th>537</th>\n",
       "      <td>1.045260e-124</td>\n",
       "    </tr>\n",
       "    <tr>\n",
       "      <th>1718</th>\n",
       "      <td>8.244835e-125</td>\n",
       "    </tr>\n",
       "    <tr>\n",
       "      <th>987</th>\n",
       "      <td>3.545141e-125</td>\n",
       "    </tr>\n",
       "    <tr>\n",
       "      <th>832</th>\n",
       "      <td>1.385241e-125</td>\n",
       "    </tr>\n",
       "    <tr>\n",
       "      <th>947</th>\n",
       "      <td>1.010415e-125</td>\n",
       "    </tr>\n",
       "    <tr>\n",
       "      <th>1551</th>\n",
       "      <td>8.810739e-126</td>\n",
       "    </tr>\n",
       "    <tr>\n",
       "      <th>1000</th>\n",
       "      <td>4.658142e-126</td>\n",
       "    </tr>\n",
       "    <tr>\n",
       "      <th>1648</th>\n",
       "      <td>3.785987e-126</td>\n",
       "    </tr>\n",
       "    <tr>\n",
       "      <th>572</th>\n",
       "      <td>3.661237e-126</td>\n",
       "    </tr>\n",
       "    <tr>\n",
       "      <th>994</th>\n",
       "      <td>3.042558e-126</td>\n",
       "    </tr>\n",
       "    <tr>\n",
       "      <th>312</th>\n",
       "      <td>2.429941e-126</td>\n",
       "    </tr>\n",
       "    <tr>\n",
       "      <th>953</th>\n",
       "      <td>3.466028e-127</td>\n",
       "    </tr>\n",
       "    <tr>\n",
       "      <th>1437</th>\n",
       "      <td>1.789318e-127</td>\n",
       "    </tr>\n",
       "    <tr>\n",
       "      <th>986</th>\n",
       "      <td>7.574662e-128</td>\n",
       "    </tr>\n",
       "    <tr>\n",
       "      <th>215</th>\n",
       "      <td>5.942922e-128</td>\n",
       "    </tr>\n",
       "    <tr>\n",
       "      <th>1640</th>\n",
       "      <td>1.382383e-128</td>\n",
       "    </tr>\n",
       "    <tr>\n",
       "      <th>336</th>\n",
       "      <td>5.279808e-129</td>\n",
       "    </tr>\n",
       "    <tr>\n",
       "      <th>1380</th>\n",
       "      <td>2.082809e-129</td>\n",
       "    </tr>\n",
       "    <tr>\n",
       "      <th>1329</th>\n",
       "      <td>4.867742e-131</td>\n",
       "    </tr>\n",
       "    <tr>\n",
       "      <th>517</th>\n",
       "      <td>1.673149e-131</td>\n",
       "    </tr>\n",
       "    <tr>\n",
       "      <th>1334</th>\n",
       "      <td>7.601630e-132</td>\n",
       "    </tr>\n",
       "    <tr>\n",
       "      <th>1626</th>\n",
       "      <td>4.137893e-132</td>\n",
       "    </tr>\n",
       "    <tr>\n",
       "      <th>341</th>\n",
       "      <td>2.398919e-132</td>\n",
       "    </tr>\n",
       "    <tr>\n",
       "      <th>623</th>\n",
       "      <td>6.193922e-133</td>\n",
       "    </tr>\n",
       "    <tr>\n",
       "      <th>1585</th>\n",
       "      <td>1.176835e-133</td>\n",
       "    </tr>\n",
       "    <tr>\n",
       "      <th>916</th>\n",
       "      <td>4.820881e-134</td>\n",
       "    </tr>\n",
       "    <tr>\n",
       "      <th>1213</th>\n",
       "      <td>1.319706e-134</td>\n",
       "    </tr>\n",
       "    <tr>\n",
       "      <th>1631</th>\n",
       "      <td>5.139275e-138</td>\n",
       "    </tr>\n",
       "    <tr>\n",
       "      <th>609</th>\n",
       "      <td>2.381570e-138</td>\n",
       "    </tr>\n",
       "  </tbody>\n",
       "</table>\n",
       "<p>1797 rows × 1 columns</p>\n",
       "</div>"
      ],
      "text/plain": [
       "         similarity\n",
       "0      1.000000e+00\n",
       "1167   1.644255e-07\n",
       "877    1.040593e-07\n",
       "464    1.232666e-08\n",
       "1541   8.598399e-09\n",
       "1365   8.274881e-09\n",
       "1029   1.907361e-09\n",
       "855    1.487874e-10\n",
       "1697   1.191874e-10\n",
       "957    1.870301e-11\n",
       "1463   1.714631e-12\n",
       "1236   1.528919e-13\n",
       "646    8.264444e-14\n",
       "335    7.758213e-14\n",
       "812    4.250581e-14\n",
       "276    2.589843e-14\n",
       "305    1.141329e-14\n",
       "806    1.101042e-14\n",
       "311    6.290698e-15\n",
       "1128   5.081774e-15\n",
       "1494   4.847325e-15\n",
       "166    4.115303e-15\n",
       "516    2.819098e-15\n",
       "642    1.384852e-15\n",
       "229    1.246194e-15\n",
       "1002   1.177180e-15\n",
       "676    8.403675e-16\n",
       "1745   7.786381e-16\n",
       "396    7.525816e-16\n",
       "941    6.983304e-16\n",
       "...             ...\n",
       "558   1.580173e-124\n",
       "537   1.045260e-124\n",
       "1718  8.244835e-125\n",
       "987   3.545141e-125\n",
       "832   1.385241e-125\n",
       "947   1.010415e-125\n",
       "1551  8.810739e-126\n",
       "1000  4.658142e-126\n",
       "1648  3.785987e-126\n",
       "572   3.661237e-126\n",
       "994   3.042558e-126\n",
       "312   2.429941e-126\n",
       "953   3.466028e-127\n",
       "1437  1.789318e-127\n",
       "986   7.574662e-128\n",
       "215   5.942922e-128\n",
       "1640  1.382383e-128\n",
       "336   5.279808e-129\n",
       "1380  2.082809e-129\n",
       "1329  4.867742e-131\n",
       "517   1.673149e-131\n",
       "1334  7.601630e-132\n",
       "1626  4.137893e-132\n",
       "341   2.398919e-132\n",
       "623   6.193922e-133\n",
       "1585  1.176835e-133\n",
       "916   4.820881e-134\n",
       "1213  1.319706e-134\n",
       "1631  5.139275e-138\n",
       "609   2.381570e-138\n",
       "\n",
       "[1797 rows x 1 columns]"
      ]
     },
     "execution_count": 11,
     "metadata": {},
     "output_type": "execute_result"
    }
   ],
   "source": [
    "from sklearn.metrics.pairwise import chi2_kernel\n",
    "k_sim = chi2_kernel(X[0].reshape(1,-1), X)\n",
    "kf = pd.DataFrame(k_sim).T\n",
    "kf.columns = ['similarity']\n",
    "kf.sort_values('similarity', ascending=False)"
   ]
  },
  {
   "cell_type": "code",
   "execution_count": 12,
   "metadata": {
    "collapsed": false
   },
   "outputs": [
    {
     "data": {
      "image/png": "[encoded data removed]",
      "text/plain": [
       "<matplotlib.figure.Figure at 0xb5c7828>"
      ]
     },
     "metadata": {},
     "output_type": "display_data"
    }
   ],
   "source": [
    "display_img(1167)"
   ]
  },
  {
   "cell_type": "code",
   "execution_count": 1,
   "metadata": {
    "collapsed": false
   },
   "outputs": [
    {
     "name": "stdout",
     "output_type": "stream",
     "text": [
      "Canvas is accessible via web browser at the URL: http://localhost:53115/index.html\n",
      "Opening Canvas in default web browser.\n"
     ]
    }
   ],
   "source": [
    "import graphlab\n",
    "graphlab.canvas.show() "
   ]
  },
  {
   "cell_type": "code",
   "execution_count": 2,
   "metadata": {
    "collapsed": false
   },
   "outputs": [],
   "source": [
    "graphlab.canvas.set_target('ipynb')"
   ]
  },
  {
   "cell_type": "code",
   "execution_count": 4,
   "metadata": {
    "collapsed": false,
    "scrolled": true
   },
   "outputs": [
    {
     "data": {
      "text/html": [
       "<div style=\"max-height:1000px;max-width:1500px;overflow:auto;\"><table frame=\"box\" rules=\"cols\">\n",
       "    <tr>\n",
       "        <th style=\"padding-left: 1em; padding-right: 1em; text-align: center\">id</th>\n",
       "        <th style=\"padding-left: 1em; padding-right: 1em; text-align: center\">image</th>\n",
       "        <th style=\"padding-left: 1em; padding-right: 1em; text-align: center\">label</th>\n",
       "        <th style=\"padding-left: 1em; padding-right: 1em; text-align: center\">deep_features</th>\n",
       "        <th style=\"padding-left: 1em; padding-right: 1em; text-align: center\">image_array</th>\n",
       "    </tr>\n",
       "    <tr>\n",
       "        <td style=\"padding-left: 1em; padding-right: 1em; text-align: center; vertical-align: top\">24</td>\n",
       "        <td style=\"padding-left: 1em; padding-right: 1em; text-align: center; vertical-align: top\">Height: 32 Width: 32</td>\n",
       "        <td style=\"padding-left: 1em; padding-right: 1em; text-align: center; vertical-align: top\">bird</td>\n",
       "        <td style=\"padding-left: 1em; padding-right: 1em; text-align: center; vertical-align: top\">[0.242871761322,<br>1.09545373917, 0.0, ...</td>\n",
       "        <td style=\"padding-left: 1em; padding-right: 1em; text-align: center; vertical-align: top\">[73.0, 77.0, 58.0, 71.0,<br>68.0, 50.0, 77.0, 69.0, ...</td>\n",
       "    </tr>\n",
       "    <tr>\n",
       "        <td style=\"padding-left: 1em; padding-right: 1em; text-align: center; vertical-align: top\">33</td>\n",
       "        <td style=\"padding-left: 1em; padding-right: 1em; text-align: center; vertical-align: top\">Height: 32 Width: 32</td>\n",
       "        <td style=\"padding-left: 1em; padding-right: 1em; text-align: center; vertical-align: top\">cat</td>\n",
       "        <td style=\"padding-left: 1em; padding-right: 1em; text-align: center; vertical-align: top\">[0.525087952614, 0.0,<br>0.0, 0.0, 0.0, 0.0, ...</td>\n",
       "        <td style=\"padding-left: 1em; padding-right: 1em; text-align: center; vertical-align: top\">[7.0, 5.0, 8.0, 7.0, 5.0,<br>8.0, 5.0, 4.0, 6.0, 7.0, ...</td>\n",
       "    </tr>\n",
       "    <tr>\n",
       "        <td style=\"padding-left: 1em; padding-right: 1em; text-align: center; vertical-align: top\">36</td>\n",
       "        <td style=\"padding-left: 1em; padding-right: 1em; text-align: center; vertical-align: top\">Height: 32 Width: 32</td>\n",
       "        <td style=\"padding-left: 1em; padding-right: 1em; text-align: center; vertical-align: top\">cat</td>\n",
       "        <td style=\"padding-left: 1em; padding-right: 1em; text-align: center; vertical-align: top\">[0.566015958786, 0.0,<br>0.0, 0.0, 0.0, 0.0, ...</td>\n",
       "        <td style=\"padding-left: 1em; padding-right: 1em; text-align: center; vertical-align: top\">[169.0, 122.0, 65.0,<br>131.0, 108.0, 75.0, ...</td>\n",
       "    </tr>\n",
       "    <tr>\n",
       "        <td style=\"padding-left: 1em; padding-right: 1em; text-align: center; vertical-align: top\">70</td>\n",
       "        <td style=\"padding-left: 1em; padding-right: 1em; text-align: center; vertical-align: top\">Height: 32 Width: 32</td>\n",
       "        <td style=\"padding-left: 1em; padding-right: 1em; text-align: center; vertical-align: top\">dog</td>\n",
       "        <td style=\"padding-left: 1em; padding-right: 1em; text-align: center; vertical-align: top\">[1.12979578972, 0.0, 0.0,<br>0.778194487095, 0.0, ...</td>\n",
       "        <td style=\"padding-left: 1em; padding-right: 1em; text-align: center; vertical-align: top\">[154.0, 179.0, 152.0,<br>159.0, 183.0, 157.0, ...</td>\n",
       "    </tr>\n",
       "    <tr>\n",
       "        <td style=\"padding-left: 1em; padding-right: 1em; text-align: center; vertical-align: top\">90</td>\n",
       "        <td style=\"padding-left: 1em; padding-right: 1em; text-align: center; vertical-align: top\">Height: 32 Width: 32</td>\n",
       "        <td style=\"padding-left: 1em; padding-right: 1em; text-align: center; vertical-align: top\">bird</td>\n",
       "        <td style=\"padding-left: 1em; padding-right: 1em; text-align: center; vertical-align: top\">[1.71786928177, 0.0, 0.0,<br>0.0, 0.0, 0.0, ...</td>\n",
       "        <td style=\"padding-left: 1em; padding-right: 1em; text-align: center; vertical-align: top\">[216.0, 195.0, 180.0,<br>201.0, 178.0, 160.0, ...</td>\n",
       "    </tr>\n",
       "    <tr>\n",
       "        <td style=\"padding-left: 1em; padding-right: 1em; text-align: center; vertical-align: top\">97</td>\n",
       "        <td style=\"padding-left: 1em; padding-right: 1em; text-align: center; vertical-align: top\">Height: 32 Width: 32</td>\n",
       "        <td style=\"padding-left: 1em; padding-right: 1em; text-align: center; vertical-align: top\">automobile</td>\n",
       "        <td style=\"padding-left: 1em; padding-right: 1em; text-align: center; vertical-align: top\">[1.57818555832, 0.0, 0.0,<br>0.0, 0.0, 0.0, ...</td>\n",
       "        <td style=\"padding-left: 1em; padding-right: 1em; text-align: center; vertical-align: top\">[33.0, 44.0, 27.0, 29.0,<br>44.0, 31.0, 32.0, 45.0, ...</td>\n",
       "    </tr>\n",
       "    <tr>\n",
       "        <td style=\"padding-left: 1em; padding-right: 1em; text-align: center; vertical-align: top\">107</td>\n",
       "        <td style=\"padding-left: 1em; padding-right: 1em; text-align: center; vertical-align: top\">Height: 32 Width: 32</td>\n",
       "        <td style=\"padding-left: 1em; padding-right: 1em; text-align: center; vertical-align: top\">dog</td>\n",
       "        <td style=\"padding-left: 1em; padding-right: 1em; text-align: center; vertical-align: top\">[0.0, 0.0,<br>0.220677852631, 0.0,  ...</td>\n",
       "        <td style=\"padding-left: 1em; padding-right: 1em; text-align: center; vertical-align: top\">[97.0, 51.0, 31.0, 104.0,<br>58.0, 38.0, 107.0, 61.0, ...</td>\n",
       "    </tr>\n",
       "    <tr>\n",
       "        <td style=\"padding-left: 1em; padding-right: 1em; text-align: center; vertical-align: top\">121</td>\n",
       "        <td style=\"padding-left: 1em; padding-right: 1em; text-align: center; vertical-align: top\">Height: 32 Width: 32</td>\n",
       "        <td style=\"padding-left: 1em; padding-right: 1em; text-align: center; vertical-align: top\">bird</td>\n",
       "        <td style=\"padding-left: 1em; padding-right: 1em; text-align: center; vertical-align: top\">[0.0, 0.23753464222, 0.0,<br>0.0, 0.0, 0.0, ...</td>\n",
       "        <td style=\"padding-left: 1em; padding-right: 1em; text-align: center; vertical-align: top\">[93.0, 96.0, 88.0, 102.0,<br>106.0, 97.0, 117.0, ...</td>\n",
       "    </tr>\n",
       "    <tr>\n",
       "        <td style=\"padding-left: 1em; padding-right: 1em; text-align: center; vertical-align: top\">136</td>\n",
       "        <td style=\"padding-left: 1em; padding-right: 1em; text-align: center; vertical-align: top\">Height: 32 Width: 32</td>\n",
       "        <td style=\"padding-left: 1em; padding-right: 1em; text-align: center; vertical-align: top\">automobile</td>\n",
       "        <td style=\"padding-left: 1em; padding-right: 1em; text-align: center; vertical-align: top\">[0.0, 0.0, 0.0, 0.0, 0.0,<br>0.0, 7.5737862587, 0.0, ...</td>\n",
       "        <td style=\"padding-left: 1em; padding-right: 1em; text-align: center; vertical-align: top\">[35.0, 59.0, 53.0, 36.0,<br>56.0, 56.0, 42.0, 62.0, ...</td>\n",
       "    </tr>\n",
       "    <tr>\n",
       "        <td style=\"padding-left: 1em; padding-right: 1em; text-align: center; vertical-align: top\">138</td>\n",
       "        <td style=\"padding-left: 1em; padding-right: 1em; text-align: center; vertical-align: top\">Height: 32 Width: 32</td>\n",
       "        <td style=\"padding-left: 1em; padding-right: 1em; text-align: center; vertical-align: top\">bird</td>\n",
       "        <td style=\"padding-left: 1em; padding-right: 1em; text-align: center; vertical-align: top\">[0.658935725689, 0.0,<br>0.0, 0.0, 0.0, 0.0, ...</td>\n",
       "        <td style=\"padding-left: 1em; padding-right: 1em; text-align: center; vertical-align: top\">[205.0, 193.0, 195.0,<br>200.0, 187.0, 193.0, ...</td>\n",
       "    </tr>\n",
       "</table>\n",
       "[2005 rows x 5 columns]<br/>Note: Only the head of the SFrame is printed.<br/>You can use print_rows(num_rows=m, num_columns=n) to print more rows and columns.\n",
       "</div>"
      ],
      "text/plain": [
       "Columns:\n",
       "\tid\tint\n",
       "\timage\tImage\n",
       "\tlabel\tstr\n",
       "\tdeep_features\tarray\n",
       "\timage_array\tarray\n",
       "\n",
       "Rows: 2005\n",
       "\n",
       "Data:\n",
       "+-----+----------------------+------------+-------------------------------+\n",
       "|  id |        image         |   label    |         deep_features         |\n",
       "+-----+----------------------+------------+-------------------------------+\n",
       "|  24 | Height: 32 Width: 32 |    bird    | [0.242871761322, 1.0954537... |\n",
       "|  33 | Height: 32 Width: 32 |    cat     | [0.525087952614, 0.0, 0.0,... |\n",
       "|  36 | Height: 32 Width: 32 |    cat     | [0.566015958786, 0.0, 0.0,... |\n",
       "|  70 | Height: 32 Width: 32 |    dog     | [1.12979578972, 0.0, 0.0, ... |\n",
       "|  90 | Height: 32 Width: 32 |    bird    | [1.71786928177, 0.0, 0.0, ... |\n",
       "|  97 | Height: 32 Width: 32 | automobile | [1.57818555832, 0.0, 0.0, ... |\n",
       "| 107 | Height: 32 Width: 32 |    dog     | [0.0, 0.0, 0.220677852631,... |\n",
       "| 121 | Height: 32 Width: 32 |    bird    | [0.0, 0.23753464222, 0.0, ... |\n",
       "| 136 | Height: 32 Width: 32 | automobile | [0.0, 0.0, 0.0, 0.0, 0.0, ... |\n",
       "| 138 | Height: 32 Width: 32 |    bird    | [0.658935725689, 0.0, 0.0,... |\n",
       "+-----+----------------------+------------+-------------------------------+\n",
       "+-------------------------------+\n",
       "|          image_array          |\n",
       "+-------------------------------+\n",
       "| [73.0, 77.0, 58.0, 71.0, 6... |\n",
       "| [7.0, 5.0, 8.0, 7.0, 5.0, ... |\n",
       "| [169.0, 122.0, 65.0, 131.0... |\n",
       "| [154.0, 179.0, 152.0, 159.... |\n",
       "| [216.0, 195.0, 180.0, 201.... |\n",
       "| [33.0, 44.0, 27.0, 29.0, 4... |\n",
       "| [97.0, 51.0, 31.0, 104.0, ... |\n",
       "| [93.0, 96.0, 88.0, 102.0, ... |\n",
       "| [35.0, 59.0, 53.0, 36.0, 5... |\n",
       "| [205.0, 193.0, 195.0, 200.... |\n",
       "+-------------------------------+\n",
       "[2005 rows x 5 columns]\n",
       "Note: Only the head of the SFrame is printed.\n",
       "You can use print_rows(num_rows=m, num_columns=n) to print more rows and columns."
      ]
     },
     "execution_count": 4,
     "metadata": {},
     "output_type": "execute_result"
    }
   ],
   "source": [
    "gl_img = graphlab.SFrame('http://s3.amazonaws.com/dato-datasets/coursera/deep_learning/image_train_data')\n",
    "gl_img "
   ]
  },
  {
   "cell_type": "code",
   "execution_count": 97,
   "metadata": {
    "collapsed": false
   },
   "outputs": [],
   "source": [
    "gl_img['image'][0:5].show()"
   ]
  },
  {
   "cell_type": "code",
   "execution_count": 91,
   "metadata": {
    "collapsed": false
   },
   "outputs": [
    {
     "data": {
      "application/javascript": [
       "$(\"head\").append($(\"<link/>\").attr({\n",
       "  rel:  \"stylesheet\",\n",
       "  type: \"text/css\",\n",
       "  href: \"//cdnjs.cloudflare.com/ajax/libs/font-awesome/4.1.0/css/font-awesome.min.css\"\n",
       "}));\n",
       "$(\"head\").append($(\"<link/>\").attr({\n",
       "  rel:  \"stylesheet\",\n",
       "  type: \"text/css\",\n",
       "  href: \"https://static.turi.com/products/graphlab-create/2.1/canvas/css/canvas.css\"\n",
       "}));\n",
       "\n",
       "            (function(){\n",
       "\n",
       "                var e = null;\n",
       "                if (typeof element == 'undefined') {\n",
       "                    var scripts = document.getElementsByTagName('script');\n",
       "                    var thisScriptTag = scripts[scripts.length-1];\n",
       "                    var parentDiv = thisScriptTag.parentNode;\n",
       "                    e = document.createElement('div');\n",
       "                    parentDiv.appendChild(e);\n",
       "                } else {\n",
       "                    e = element[0];\n",
       "                }\n",
       "\n",
       "                if (typeof requirejs !== 'undefined') {\n",
       "                    // disable load timeout; ipython_app.js is large and can take a while to load.\n",
       "                    requirejs.config({waitSeconds: 0});\n",
       "                }\n",
       "\n",
       "                require(['https://static.turi.com/products/graphlab-create/2.1/canvas/js/ipython_app.js'], function(IPythonApp){\n",
       "                    var app = new IPythonApp();\n",
       "                    app.attachView('sarray','Images', {\"ipython\": true, \"rows\": [{\"format\": \"png\", \"value\": \"image/png;base64,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\\n\", \"height\": 96, \"channels\": 3, \"width\": 96, \"type\": \"image\", \"id\": 1290211960}], \"selected_variable\": {\"name\": [\"<SArray>\"], \"dtype\": \"Image\", \"view_component\": \"Images\", \"view_file\": \"sarray\", \"descriptives\": {\"rows\": 1}, \"type\": \"SArray\", \"view_components\": [\"Images\"]}}, e);\n",
       "                });\n",
       "            })();\n",
       "        "
      ]
     },
     "metadata": {},
     "output_type": "display_data"
    }
   ],
   "source": [
    "graphlab.image_analysis.resize(gl_img['image'][2:3], 96,96).show()"
   ]
  },
  {
   "cell_type": "code",
   "execution_count": 115,
   "metadata": {
    "collapsed": false
   },
   "outputs": [
    {
     "data": {
      "application/javascript": [
       "$(\"head\").append($(\"<link/>\").attr({\n",
       "  rel:  \"stylesheet\",\n",
       "  type: \"text/css\",\n",
       "  href: \"//cdnjs.cloudflare.com/ajax/libs/font-awesome/4.1.0/css/font-awesome.min.css\"\n",
       "}));\n",
       "$(\"head\").append($(\"<link/>\").attr({\n",
       "  rel:  \"stylesheet\",\n",
       "  type: \"text/css\",\n",
       "  href: \"https://static.turi.com/products/graphlab-create/2.1/canvas/css/canvas.css\"\n",
       "}));\n",
       "\n",
       "            (function(){\n",
       "\n",
       "                var e = null;\n",
       "                if (typeof element == 'undefined') {\n",
       "                    var scripts = document.getElementsByTagName('script');\n",
       "                    var thisScriptTag = scripts[scripts.length-1];\n",
       "                    var parentDiv = thisScriptTag.parentNode;\n",
       "                    e = document.createElement('div');\n",
       "                    parentDiv.appendChild(e);\n",
       "                } else {\n",
       "                    e = element[0];\n",
       "                }\n",
       "\n",
       "                if (typeof requirejs !== 'undefined') {\n",
       "                    // disable load timeout; ipython_app.js is large and can take a while to load.\n",
       "                    requirejs.config({waitSeconds: 0});\n",
       "                }\n",
       "\n",
       "                require(['https://static.turi.com/products/graphlab-create/2.1/canvas/js/ipython_app.js'], function(IPythonApp){\n",
       "                    var app = new IPythonApp();\n",
       "                    app.attachView('sarray','Images', {\"ipython\": true, \"rows\": [{\"format\": \"png\", \"value\": \"image/png;base64,iVBORw0KGgoAAAANSUhEUgAAACAAAAAgCAIAAAD8GO2jAAAKFElEQVRIiQXBC5CdVX0A8PP/n3O+173fvXd3s4/sK5uYF4/ABHBRggYpGB6NaAs4aofS4oR2dGS0M62tU3XsaDt0ytQRGWZoKThVnIEhgKE1aBmLBoU0SSXJ0kCSdZN93Hv37n18936P8+7vB4v/8HVnB5S4UjX4yfOLlbJh1B+JHWMsDH2lJXMADAbKhpR6nhUKnQNrsNGXW+eiwAfmM+eMAbLtnpsOf/2nQzEwrZUF5qMtrSFVPVR9SpWWBZg8pgyKPhjLiQVReI5yIGgwdASdds6nxlKlqVUVUM1lHQ3FNECrNFGg6stb52OXG14qhQG59LvGj182iOB8XmGB75S0KldKAQBoC9YZ48AqIJ4RIksTnWuRKKuJI9YjhDk0uhCpNho450jt4usX9tz7wWSAmUgW/q9+9HSXcIsYUFqzcm3DAQXCnXZWCobUGAWGEMtNkdDJ7Xx+Hx7Y73/sRiucgVBJAwAgXd4VpLBWKiiMTov+W4uf+PZNyyvm2EXlxUMqR0SqOyeWeYl6zg3SIhWSMF8Z6ywj2qwLveriTpHapM/RQuxGH7p3kZEkk3mhtZSlAEXf5om2wgTImydXMK4eeXvVC70sTZutNkIW/OJU12hrgRjiGDJlUGoLQKnPwdKAaN86mw1KACNxqdPpfeTQZ/f+4yPdtJCGITX9xoazlAICRY/xe6//3lDFd0Zu2TLz5KN34Wuvngkj7iQ67azShdVGC865NXR9IKXMaFwGItPGeu+9yyoa8iN/0Ov1Ez3//a8VckAcUs6f+NFvwLnAwLf+dWG0EjKKmeL3HNiWckSFmGfCUaodozxk1qEXaEVpJMG5chiBFh7Snfs+Wt3zAdXpecwBpVoK0x9cXhNonTGup4PJhx8qH3pAgdOAhuLDf3xzddS3GjCiODYcOqn9ABkxfkA9UwDrJ60BEL/ZbYMxwXS8tPQuaOJ0nnUTFGrj+GldiD987huUiOWV5lce/0K91XGUeWWW9hIfg9oIsUXuJDDOOWPWDzweMQLOSWsBO3W7+9rRpYu90Uoc1cqkaytRKTtzgc+MUgKE+/70eHFxyaBXvf2ODx/0s9z0W63KCCfCBaXoofuu4WClBU0MSiEGqSLohFYe95WzDl2uYGRCej6rjlV89PvdfjBwhIYua9m8nS2u0HqnxN34bKUtTC6RxmVx6tyDH/5mpvTdt+1lNa8QxqEjlCDnNPKAEM0pKlEAUDA607J2xY5cZGuNfrPZAgndATl7Hs4uz/3H6/7ffuetZDXF0Vo3FSwIPeKOfvm7Q9dtrfiA2s5OBIgI3CeEGWmQ+54zxGpHCEHOkFECfHOM+Qjt55nIpbHeWls8+/PzL/30jUvnVl959bXHn/5U+eqxbqPrMfLPf/ZP4sTJ+/7yjr879C8iL27Zf208EzrfIqcWQROGSAARjaUOWF4Iagk4ElWiuHzl1ObpcjAiLX32tYWk3XGm9+axNw79zWd6QqOB8cpQ1aAdYCOpPvzZ5+K4GlI2Mxk6aoGiJY4Q4ixlVhsNoLUlCLxccYiIoGT6yl8/Vy3pRqJe/G0j8qk1kOT8e09/qpGY7HJrPPS8TXO8Et86DuNTU2NjUZqLROiZ3ZWkq51ToR9oLQPj0GrJAZGGAECVFdZRSsNK+Y3jZ6AW/vBEgzghrZmcm37kz29pvb/eOfKzhRff5B61YmAGLVGqPvqtpwwjRSEO/cltoEwYQuCjsLqfs9WBQUlIN83QSUeJ1gPPZkWnoCEf37HzsRcu3Xr/QRsF/nBl9x4+vm/b28+/9YPXl44ndPDr9yubp7/8pz/87/MbZaBTU5sJgkeEUZbkkkgrcymUShRjHqOpVEYD5V4t8IYr5db05I/fSTJ/2+hc1eNlLou03b7hmus7T756+4E919Una9un1GJdR6XP37T95MKpUy1dvL+Eho7MlLQ01qHVJkvtno/EhCA2enY9s9JaYp1Dm+no9CK/Yu/8rqlY9RuvPP2UoeEXDt3wpe+8MDQShBHfeWC+XKZItQBvdjreXKu6QjQ3kvv/4GpjVGGcttDqyxtuD8PI48MTWGhXGIIOlTJ54dKxXX2d4/QEcZgPir+4f0uk+1d9+rZJg8YY082zS8ui1ZW5zN95X4F74dSGg0F1xB+uWqMVEJMV+Y4dMQNm4hoyH2XWBy1YXKaEcjCj6Wq6vnHqxaPDo9OPfftDzx5pHdy/44sHHmOex4gtkg4tLOOe73NWwrzTyXweIrvrk79XGh0mxLMEiIWx7QaqmxmPqBdiAQFFrihHRI3Q7zYFEeNbJs++c/Jzj/zqmz/6zFO/vLB5uBwWjDOkxObrzbyTIAf5X2///eFzIz71OHFZxyDkQlsDxhjqDxNKCAkAHF5op61+ToTIONECzOyurJvP/9HB1Ub3iUe/Ms7FXLUsKTOhd/pSp58VmiBmWexCSYgDxQpF0e66crNUikeoics1kNoo+FVi2k620BjLw5LNc18pRunhoyc1tccOH7nipn0/O/KThx54qQoOrAAjFoS/cLFpCI+279TXzn3t6f+lkW8dzk6P25AC9YX1haWptIwYsIob0nn3LF5/45XrA2WywuRizZmeVJUoPPc/pzeVWJ3P7N67m6Po5aYgvN7Kdu2aKZzKN9o67T9++AGsBWHsdfsD2qi33qtfPrm4dn4lbWemn+Vrq186+O//+UydPnjnPVtu3FpttytzsfJnV1fbY5uqa+urzeVGPBKvnmk0BVQq3BD8+FXDMahKOSTGepNVRHvXvfO3PXz78ZdOVCZL4aYhv1yWGmcq3dkbt3/1c89//LoppwT+4Jmj26/eitwGHvO0kkZfXG5vCn0xSLrr6fwnP9jpdFWapkl/KiJxwBjR0gqx0cu7uRbapfTke61NwxV0RuliiHT3PfjR9rtnbtk50k6EHRlHLQYaQAxE36GDoTwZIBLC/ImJiSLrt8+erw3nUiTXTJR8AI8DApQQqCKYKykMUerJo19NFRFao+d/6PevglJ8/vDKUImWqkGz0UUGLB1okRcRMSEkfjnyOCSddqO5MhjU3/3d2qRfU5LdvM1/4ld1EsaA6IhxRhhR2DTR2kbRpoVjF5orXYP23C9Ootw4dXZ9YWXQE2x16TJ+4uadDPNeYaWlPQBEUkgxOztXDJKp4ak779y/lmTXb6lFJfpXd2wioC0QRKJ7fdtPVKcnRa6MLiKzdn79mSd/Mzzn/dsXX247kjGflNELSuyt39ZLH+uVwtDncPzNC5R4xhVLl5q79877tfjXx940Sk6zwtqqNBARSwkzNPC4Urn2c2J7XVOulYDBRPmBrcM/f7mnclebGhkbGj13oZ4pgn0oypAL31fglhvNVrczFIZxwK/Zv3/pxNuNS927t0Q7PjAcxz6lwIhTUlojHONA0QhDuolK+3d/4/ODPJspmVuv9juCF7mBWmmtvnHfFfH/A38XCElb9NNgAAAAAElFTkSuQmCC\\n\", \"height\": 32, \"channels\": 3, \"width\": 32, \"type\": \"image\", \"id\": 1768765368}], \"selected_variable\": {\"name\": [\"<SArray>\"], \"dtype\": \"Image\", \"view_component\": \"Images\", \"view_file\": \"sarray\", \"descriptives\": {\"rows\": 1}, \"type\": \"SArray\", \"view_components\": [\"Images\"]}}, e);\n",
       "                });\n",
       "            })();\n",
       "        "
      ]
     },
     "metadata": {},
     "output_type": "display_data"
    }
   ],
   "source": [
    "img = graphlab.Image('C:\\Users\\sandhyao\\Desktop\\profile_pic.jpg')\n",
    "ppsf = graphlab.SArray([img])\n",
    "ppsf = graphlab.image_analysis.resize(ppsf, 32,32)\n",
    "ppsf.show()"
   ]
  },
  {
   "cell_type": "code",
   "execution_count": null,
   "metadata": {
    "collapsed": true
   },
   "outputs": [],
   "source": []
  },
  {
   "cell_type": "code",
   "execution_count": 116,
   "metadata": {
    "collapsed": false
   },
   "outputs": [
    {
     "data": {
      "text/html": [
       "<div style=\"max-height:1000px;max-width:1500px;overflow:auto;\"><table frame=\"box\" rules=\"cols\">\n",
       "    <tr>\n",
       "        <th style=\"padding-left: 1em; padding-right: 1em; text-align: center\">image</th>\n",
       "    </tr>\n",
       "    <tr>\n",
       "        <td style=\"padding-left: 1em; padding-right: 1em; text-align: center; vertical-align: top\">Height: 32 Width: 32</td>\n",
       "    </tr>\n",
       "</table>\n",
       "[1 rows x 1 columns]<br/>\n",
       "</div>"
      ],
      "text/plain": [
       "Columns:\n",
       "\timage\tImage\n",
       "\n",
       "Rows: 1\n",
       "\n",
       "Data:\n",
       "+----------------------+\n",
       "|        image         |\n",
       "+----------------------+\n",
       "| Height: 32 Width: 32 |\n",
       "+----------------------+\n",
       "[1 rows x 1 columns]"
      ]
     },
     "execution_count": 116,
     "metadata": {},
     "output_type": "execute_result"
    }
   ],
   "source": [
    "ppsf = graphlab.SFrame(ppsf).rename({'X1': 'image'})\n",
    "ppsf"
   ]
  },
  {
   "cell_type": "code",
   "execution_count": 117,
   "metadata": {
    "collapsed": false
   },
   "outputs": [
    {
     "data": {
      "text/html": [
       "<pre>Images being resized.</pre>"
      ],
      "text/plain": [
       "Images being resized."
      ]
     },
     "metadata": {},
     "output_type": "display_data"
    },
    {
     "data": {
      "text/html": [
       "<div style=\"max-height:1000px;max-width:1500px;overflow:auto;\"><table frame=\"box\" rules=\"cols\">\n",
       "    <tr>\n",
       "        <th style=\"padding-left: 1em; padding-right: 1em; text-align: center\">image</th>\n",
       "        <th style=\"padding-left: 1em; padding-right: 1em; text-align: center\">deep_features</th>\n",
       "    </tr>\n",
       "    <tr>\n",
       "        <td style=\"padding-left: 1em; padding-right: 1em; text-align: center; vertical-align: top\">Height: 32 Width: 32</td>\n",
       "        <td style=\"padding-left: 1em; padding-right: 1em; text-align: center; vertical-align: top\">[0.0, 0.0, 0.0, 0.0, 0.0,<br>0.0, 6.76117181778, 0.0, ...</td>\n",
       "    </tr>\n",
       "</table>\n",
       "[1 rows x 2 columns]<br/>\n",
       "</div>"
      ],
      "text/plain": [
       "Columns:\n",
       "\timage\tImage\n",
       "\tdeep_features\tarray\n",
       "\n",
       "Rows: 1\n",
       "\n",
       "Data:\n",
       "+----------------------+-------------------------------+\n",
       "|        image         |         deep_features         |\n",
       "+----------------------+-------------------------------+\n",
       "| Height: 32 Width: 32 | [0.0, 0.0, 0.0, 0.0, 0.0, ... |\n",
       "+----------------------+-------------------------------+\n",
       "[1 rows x 2 columns]"
      ]
     },
     "execution_count": 117,
     "metadata": {},
     "output_type": "execute_result"
    }
   ],
   "source": [
    "deep_learning_model = graphlab.load_model('https://static.turi.com/products/graphlab-create/resources/models/python2.7/imagenet_model_iter45')\n",
    "ppsf['deep_features'] = deep_learning_model.extract_features(ppsf)\n",
    "ppsf"
   ]
  },
  {
   "cell_type": "code",
   "execution_count": 118,
   "metadata": {
    "collapsed": false
   },
   "outputs": [
    {
     "data": {
      "text/plain": [
       "49970L"
      ]
     },
     "execution_count": 118,
     "metadata": {},
     "output_type": "execute_result"
    }
   ],
   "source": [
    "ppsf['label'] = 'me'\n",
    "gl_img['id'].max()"
   ]
  },
  {
   "cell_type": "code",
   "execution_count": 119,
   "metadata": {
    "collapsed": false
   },
   "outputs": [
    {
     "data": {
      "text/html": [
       "<div style=\"max-height:1000px;max-width:1500px;overflow:auto;\"><table frame=\"box\" rules=\"cols\">\n",
       "    <tr>\n",
       "        <th style=\"padding-left: 1em; padding-right: 1em; text-align: center\">image</th>\n",
       "        <th style=\"padding-left: 1em; padding-right: 1em; text-align: center\">deep_features</th>\n",
       "        <th style=\"padding-left: 1em; padding-right: 1em; text-align: center\">label</th>\n",
       "        <th style=\"padding-left: 1em; padding-right: 1em; text-align: center\">id</th>\n",
       "    </tr>\n",
       "    <tr>\n",
       "        <td style=\"padding-left: 1em; padding-right: 1em; text-align: center; vertical-align: top\">Height: 32 Width: 32</td>\n",
       "        <td style=\"padding-left: 1em; padding-right: 1em; text-align: center; vertical-align: top\">[0.0, 0.0, 0.0, 0.0, 0.0,<br>0.0, 6.76117181778, 0.0, ...</td>\n",
       "        <td style=\"padding-left: 1em; padding-right: 1em; text-align: center; vertical-align: top\">me</td>\n",
       "        <td style=\"padding-left: 1em; padding-right: 1em; text-align: center; vertical-align: top\">50000</td>\n",
       "    </tr>\n",
       "</table>\n",
       "[1 rows x 4 columns]<br/>\n",
       "</div>"
      ],
      "text/plain": [
       "Columns:\n",
       "\timage\tImage\n",
       "\tdeep_features\tarray\n",
       "\tlabel\tstr\n",
       "\tid\tint\n",
       "\n",
       "Rows: 1\n",
       "\n",
       "Data:\n",
       "+----------------------+-------------------------------+-------+-------+\n",
       "|        image         |         deep_features         | label |   id  |\n",
       "+----------------------+-------------------------------+-------+-------+\n",
       "| Height: 32 Width: 32 | [0.0, 0.0, 0.0, 0.0, 0.0, ... |   me  | 50000 |\n",
       "+----------------------+-------------------------------+-------+-------+\n",
       "[1 rows x 4 columns]"
      ]
     },
     "execution_count": 119,
     "metadata": {},
     "output_type": "execute_result"
    }
   ],
   "source": [
    "ppsf['id'] = 50000\n",
    "ppsf"
   ]
  },
  {
   "cell_type": "code",
   "execution_count": null,
   "metadata": {
    "collapsed": false
   },
   "outputs": [],
   "source": []
  },
  {
   "cell_type": "code",
   "execution_count": 120,
   "metadata": {
    "collapsed": false
   },
   "outputs": [
    {
     "data": {
      "text/html": [
       "<div style=\"max-height:1000px;max-width:1500px;overflow:auto;\"><table frame=\"box\" rules=\"cols\">\n",
       "    <tr>\n",
       "        <th style=\"padding-left: 1em; padding-right: 1em; text-align: center\">id</th>\n",
       "        <th style=\"padding-left: 1em; padding-right: 1em; text-align: center\">image</th>\n",
       "        <th style=\"padding-left: 1em; padding-right: 1em; text-align: center\">label</th>\n",
       "        <th style=\"padding-left: 1em; padding-right: 1em; text-align: center\">deep_features</th>\n",
       "    </tr>\n",
       "    <tr>\n",
       "        <td style=\"padding-left: 1em; padding-right: 1em; text-align: center; vertical-align: top\">49840</td>\n",
       "        <td style=\"padding-left: 1em; padding-right: 1em; text-align: center; vertical-align: top\">Height: 32 Width: 32</td>\n",
       "        <td style=\"padding-left: 1em; padding-right: 1em; text-align: center; vertical-align: top\">cat</td>\n",
       "        <td style=\"padding-left: 1em; padding-right: 1em; text-align: center; vertical-align: top\">[0.0344250798225, 0.0,<br>0.0, 0.0, 0.0, 0.0, ...</td>\n",
       "    </tr>\n",
       "    <tr>\n",
       "        <td style=\"padding-left: 1em; padding-right: 1em; text-align: center; vertical-align: top\">49845</td>\n",
       "        <td style=\"padding-left: 1em; padding-right: 1em; text-align: center; vertical-align: top\">Height: 32 Width: 32</td>\n",
       "        <td style=\"padding-left: 1em; padding-right: 1em; text-align: center; vertical-align: top\">dog</td>\n",
       "        <td style=\"padding-left: 1em; padding-right: 1em; text-align: center; vertical-align: top\">[0.125242829323, 0.0,<br>0.0, 0.0, 0.0, 0.0, ...</td>\n",
       "    </tr>\n",
       "    <tr>\n",
       "        <td style=\"padding-left: 1em; padding-right: 1em; text-align: center; vertical-align: top\">49881</td>\n",
       "        <td style=\"padding-left: 1em; padding-right: 1em; text-align: center; vertical-align: top\">Height: 32 Width: 32</td>\n",
       "        <td style=\"padding-left: 1em; padding-right: 1em; text-align: center; vertical-align: top\">bird</td>\n",
       "        <td style=\"padding-left: 1em; padding-right: 1em; text-align: center; vertical-align: top\">[0.0, 0.0, 0.0, 0.0, 0.0,<br>0.0, 9.30746841431, 0.0, ...</td>\n",
       "    </tr>\n",
       "    <tr>\n",
       "        <td style=\"padding-left: 1em; padding-right: 1em; text-align: center; vertical-align: top\">49896</td>\n",
       "        <td style=\"padding-left: 1em; padding-right: 1em; text-align: center; vertical-align: top\">Height: 32 Width: 32</td>\n",
       "        <td style=\"padding-left: 1em; padding-right: 1em; text-align: center; vertical-align: top\">cat</td>\n",
       "        <td style=\"padding-left: 1em; padding-right: 1em; text-align: center; vertical-align: top\">[0.0, 0.0,<br>0.592454433441, 0.0,  ...</td>\n",
       "    </tr>\n",
       "    <tr>\n",
       "        <td style=\"padding-left: 1em; padding-right: 1em; text-align: center; vertical-align: top\">49913</td>\n",
       "        <td style=\"padding-left: 1em; padding-right: 1em; text-align: center; vertical-align: top\">Height: 32 Width: 32</td>\n",
       "        <td style=\"padding-left: 1em; padding-right: 1em; text-align: center; vertical-align: top\">automobile</td>\n",
       "        <td style=\"padding-left: 1em; padding-right: 1em; text-align: center; vertical-align: top\">[1.2023819685,<br>0.342965483665, 0.0,  ...</td>\n",
       "    </tr>\n",
       "    <tr>\n",
       "        <td style=\"padding-left: 1em; padding-right: 1em; text-align: center; vertical-align: top\">49919</td>\n",
       "        <td style=\"padding-left: 1em; padding-right: 1em; text-align: center; vertical-align: top\">Height: 32 Width: 32</td>\n",
       "        <td style=\"padding-left: 1em; padding-right: 1em; text-align: center; vertical-align: top\">automobile</td>\n",
       "        <td style=\"padding-left: 1em; padding-right: 1em; text-align: center; vertical-align: top\">[0.0, 0.0, 0.0,<br>0.769036352634, 0.0,  ...</td>\n",
       "    </tr>\n",
       "    <tr>\n",
       "        <td style=\"padding-left: 1em; padding-right: 1em; text-align: center; vertical-align: top\">49927</td>\n",
       "        <td style=\"padding-left: 1em; padding-right: 1em; text-align: center; vertical-align: top\">Height: 32 Width: 32</td>\n",
       "        <td style=\"padding-left: 1em; padding-right: 1em; text-align: center; vertical-align: top\">dog</td>\n",
       "        <td style=\"padding-left: 1em; padding-right: 1em; text-align: center; vertical-align: top\">[0.558163285255, 0.0,<br>1.05110442638, 0.0, 0.0, ...</td>\n",
       "    </tr>\n",
       "    <tr>\n",
       "        <td style=\"padding-left: 1em; padding-right: 1em; text-align: center; vertical-align: top\">49958</td>\n",
       "        <td style=\"padding-left: 1em; padding-right: 1em; text-align: center; vertical-align: top\">Height: 32 Width: 32</td>\n",
       "        <td style=\"padding-left: 1em; padding-right: 1em; text-align: center; vertical-align: top\">cat</td>\n",
       "        <td style=\"padding-left: 1em; padding-right: 1em; text-align: center; vertical-align: top\">[0.674960494041, 0.0,<br>0.0, 1.9640891552, ...</td>\n",
       "    </tr>\n",
       "    <tr>\n",
       "        <td style=\"padding-left: 1em; padding-right: 1em; text-align: center; vertical-align: top\">49970</td>\n",
       "        <td style=\"padding-left: 1em; padding-right: 1em; text-align: center; vertical-align: top\">Height: 32 Width: 32</td>\n",
       "        <td style=\"padding-left: 1em; padding-right: 1em; text-align: center; vertical-align: top\">cat</td>\n",
       "        <td style=\"padding-left: 1em; padding-right: 1em; text-align: center; vertical-align: top\">[1.07501864433, 0.0, 0.0,<br>0.0, 0.0, 0.0, ...</td>\n",
       "    </tr>\n",
       "    <tr>\n",
       "        <td style=\"padding-left: 1em; padding-right: 1em; text-align: center; vertical-align: top\">50000</td>\n",
       "        <td style=\"padding-left: 1em; padding-right: 1em; text-align: center; vertical-align: top\">Height: 32 Width: 32</td>\n",
       "        <td style=\"padding-left: 1em; padding-right: 1em; text-align: center; vertical-align: top\">me</td>\n",
       "        <td style=\"padding-left: 1em; padding-right: 1em; text-align: center; vertical-align: top\">[0.0, 0.0, 0.0, 0.0, 0.0,<br>0.0, 6.76117181778, 0.0, ...</td>\n",
       "    </tr>\n",
       "</table>\n",
       "[10 rows x 4 columns]<br/>\n",
       "</div>"
      ],
      "text/plain": [
       "Columns:\n",
       "\tid\tint\n",
       "\timage\tImage\n",
       "\tlabel\tstr\n",
       "\tdeep_features\tarray\n",
       "\n",
       "Rows: 10\n",
       "\n",
       "Data:\n",
       "+-------+----------------------+------------+-------------------------------+\n",
       "|   id  |        image         |   label    |         deep_features         |\n",
       "+-------+----------------------+------------+-------------------------------+\n",
       "| 49840 | Height: 32 Width: 32 |    cat     | [0.0344250798225, 0.0, 0.0... |\n",
       "| 49845 | Height: 32 Width: 32 |    dog     | [0.125242829323, 0.0, 0.0,... |\n",
       "| 49881 | Height: 32 Width: 32 |    bird    | [0.0, 0.0, 0.0, 0.0, 0.0, ... |\n",
       "| 49896 | Height: 32 Width: 32 |    cat     | [0.0, 0.0, 0.592454433441,... |\n",
       "| 49913 | Height: 32 Width: 32 | automobile | [1.2023819685, 0.342965483... |\n",
       "| 49919 | Height: 32 Width: 32 | automobile | [0.0, 0.0, 0.0, 0.76903635... |\n",
       "| 49927 | Height: 32 Width: 32 |    dog     | [0.558163285255, 0.0, 1.05... |\n",
       "| 49958 | Height: 32 Width: 32 |    cat     | [0.674960494041, 0.0, 0.0,... |\n",
       "| 49970 | Height: 32 Width: 32 |    cat     | [1.07501864433, 0.0, 0.0, ... |\n",
       "| 50000 | Height: 32 Width: 32 |     me     | [0.0, 0.0, 0.0, 0.0, 0.0, ... |\n",
       "+-------+----------------------+------------+-------------------------------+\n",
       "[10 rows x 4 columns]"
      ]
     },
     "execution_count": 120,
     "metadata": {},
     "output_type": "execute_result"
    }
   ],
   "source": [
    "labels = ['id', 'image', 'label', 'deep_features']\n",
    "part_train = gl_img[labels]\n",
    "new_train = part_train.append(ppsf[labels])\n",
    "new_train.tail()"
   ]
  },
  {
   "cell_type": "code",
   "execution_count": 121,
   "metadata": {
    "collapsed": false
   },
   "outputs": [
    {
     "data": {
      "application/javascript": [
       "$(\"head\").append($(\"<link/>\").attr({\n",
       "  rel:  \"stylesheet\",\n",
       "  type: \"text/css\",\n",
       "  href: \"//cdnjs.cloudflare.com/ajax/libs/font-awesome/4.1.0/css/font-awesome.min.css\"\n",
       "}));\n",
       "$(\"head\").append($(\"<link/>\").attr({\n",
       "  rel:  \"stylesheet\",\n",
       "  type: \"text/css\",\n",
       "  href: \"https://static.turi.com/products/graphlab-create/2.1/canvas/css/canvas.css\"\n",
       "}));\n",
       "\n",
       "            (function(){\n",
       "\n",
       "                var e = null;\n",
       "                if (typeof element == 'undefined') {\n",
       "                    var scripts = document.getElementsByTagName('script');\n",
       "                    var thisScriptTag = scripts[scripts.length-1];\n",
       "                    var parentDiv = thisScriptTag.parentNode;\n",
       "                    e = document.createElement('div');\n",
       "                    parentDiv.appendChild(e);\n",
       "                } else {\n",
       "                    e = element[0];\n",
       "                }\n",
       "\n",
       "                if (typeof requirejs !== 'undefined') {\n",
       "                    // disable load timeout; ipython_app.js is large and can take a while to load.\n",
       "                    requirejs.config({waitSeconds: 0});\n",
       "                }\n",
       "\n",
       "                require(['https://static.turi.com/products/graphlab-create/2.1/canvas/js/ipython_app.js'], function(IPythonApp){\n",
       "                    var app = new IPythonApp();\n",
       "                    app.attachView('sframe','Summary', {\"ipython\": true, \"sketch\": {\"deep_features\": {\"std\": 0.869397103375952, \"complete\": true, \"min\": 0.0, \"max\": 8.424213409423828, \"quantile\": [0.0, 0.0, 0.0, 0.0, 0.0, 0.0, 0.0, 0.0, 0.0, 0.0, 0.0, 0.0, 0.0, 0.0, 0.0, 0.0, 0.0, 0.0, 0.0, 0.0, 0.0, 0.0, 0.0, 0.0, 0.0, 0.0, 0.0, 0.0, 0.0, 0.0, 0.0, 0.0, 0.0, 0.0, 0.0, 0.0, 0.0, 0.0, 0.0, 0.0, 0.0, 0.0, 0.0, 0.0, 0.0, 0.0, 0.0, 0.0, 0.0, 0.0, 0.0, 0.0, 0.0, 0.0, 0.0, 0.0, 0.0, 0.0, 0.0, 0.0, 0.0, 0.0, 0.0, 0.0, 0.0, 0.0, 0.0, 0.0, 0.0, 0.0, 0.0, 0.0, 0.0, 0.0, 0.0, 0.04115086793899536, 0.09597843885421753, 0.1541643738746643, 0.22121012210845947, 0.3155641555786133, 0.36977821588516235, 0.42526113986968994, 0.49705711007118225, 0.5809282660484314, 0.6845245361328125, 0.8036229610443115, 0.8876150846481323, 0.9821123480796814, 1.0989022254943848, 1.2046173810958862, 1.3199942111968994, 1.4899080991744995, 1.636594533920288, 1.7927000522613525, 1.974378228187561, 2.1689915657043457, 2.496565341949463, 2.8528974056243896, 3.2604660987854004, 3.993159294128418, 8.424213409423828], \"median\": 0.0, \"numeric\": true, \"num_unique\": 1061, \"num_undefined\": 0, \"var\": 0.7558513233584958, \"progress\": 1.0, \"size\": 4096, \"frequent_items\": {\"0.0\": {\"frequency\": 3039, \"value\": 0.0}, \"0.004712998867034912\": {\"frequency\": 1, \"value\": 0.004712998867034912}, \"0.0023474693298339844\": {\"frequency\": 1, \"value\": 0.0023474693298339844}, \"0.960023045539856\": {\"frequency\": 1, \"value\": 0.960023045539856}, \"1.2170209884643555\": {\"frequency\": 1, \"value\": 1.2170209884643555}, \"2.5284042358398438\": {\"frequency\": 1, \"value\": 2.5284042358398438}, \"1.147794246673584\": {\"frequency\": 1, \"value\": 1.147794246673584}, \"2.7553558349609375\": {\"frequency\": 1, \"value\": 2.7553558349609375}, \"1.2248995304107666\": {\"frequency\": 1, \"value\": 1.2248995304107666}, \"0.27458810806274414\": {\"frequency\": 1, \"value\": 0.27458810806274414}, \"2.228778600692749\": {\"frequency\": 1, \"value\": 2.228778600692749}, \"0.9175264835357666\": {\"frequency\": 1, \"value\": 0.9175264835357666}, \"1.314594030380249\": {\"frequency\": 1, \"value\": 1.314594030380249}, \"2.0661330223083496\": {\"frequency\": 1, \"value\": 2.0661330223083496}, \"1.2920159101486206\": {\"frequency\": 1, \"value\": 1.2920159101486206}, \"0.10574537515640259\": {\"frequency\": 1, \"value\": 0.10574537515640259}, \"1.3019191026687622\": {\"frequency\": 1, \"value\": 1.3019191026687622}, \"1.647385835647583\": {\"frequency\": 1, \"value\": 1.647385835647583}, \"3.490079164505005\": {\"frequency\": 1, \"value\": 3.490079164505005}, \"0.8187987208366394\": {\"frequency\": 1, \"value\": 0.8187987208366394}, \"2.1503233909606934\": {\"frequency\": 1, \"value\": 2.1503233909606934}, \"1.597718358039856\": {\"frequency\": 1, \"value\": 1.597718358039856}, \"1.8909595012664795\": {\"frequency\": 1, \"value\": 1.8909595012664795}, \"0.6777808666229248\": {\"frequency\": 1, \"value\": 0.6777808666229248}, \"2.102126121520996\": {\"frequency\": 1, \"value\": 2.102126121520996}, \"0.28438448905944824\": {\"frequency\": 1, \"value\": 0.28438448905944824}, \"3.8858861923217773\": {\"frequency\": 1, \"value\": 3.8858861923217773}, \"1.1920945644378662\": {\"frequency\": 1, \"value\": 1.1920945644378662}, \"0.9146134853363037\": {\"frequency\": 1, \"value\": 0.9146134853363037}, \"1.0982431173324585\": {\"frequency\": 1, \"value\": 1.0982431173324585}, \"0.2964944839477539\": {\"frequency\": 1, \"value\": 0.2964944839477539}, \"1.2793636322021484\": {\"frequency\": 1, \"value\": 1.2793636322021484}, \"0.04244619607925415\": {\"frequency\": 1, \"value\": 0.04244619607925415}, \"0.9492235779762268\": {\"frequency\": 1, \"value\": 0.9492235779762268}, \"1.2541489601135254\": {\"frequency\": 1, \"value\": 1.2541489601135254}, \"1.3199942111968994\": {\"frequency\": 1, \"value\": 1.3199942111968994}, \"1.2027171850204468\": {\"frequency\": 1, \"value\": 1.2027171850204468}, \"0.16440832614898682\": {\"frequency\": 1, \"value\": 0.16440832614898682}, \"0.9274380803108215\": {\"frequency\": 1, \"value\": 0.9274380803108215}, \"5.848886489868164\": {\"frequency\": 1, \"value\": 5.848886489868164}, \"0.5431721210479736\": {\"frequency\": 1, \"value\": 0.5431721210479736}, \"3.65633487701416\": {\"frequency\": 1, \"value\": 3.65633487701416}, \"1.9448213577270508\": {\"frequency\": 1, \"value\": 1.9448213577270508}, \"1.4154841899871826\": {\"frequency\": 1, \"value\": 1.4154841899871826}, \"0.34816741943359375\": {\"frequency\": 1, \"value\": 0.34816741943359375}, \"3.0190043449401855\": {\"frequency\": 1, \"value\": 3.0190043449401855}, \"0.11117380857467651\": {\"frequency\": 1, \"value\": 0.11117380857467651}, \"1.372843861579895\": {\"frequency\": 1, \"value\": 1.372843861579895}, \"1.6134452819824219\": {\"frequency\": 1, \"value\": 1.6134452819824219}, \"0.37202149629592896\": {\"frequency\": 1, \"value\": 0.37202149629592896}, \"0.7987191081047058\": {\"frequency\": 1, \"value\": 0.7987191081047058}, \"1.987884283065796\": {\"frequency\": 1, \"value\": 1.987884283065796}, \"0.5480155944824219\": {\"frequency\": 1, \"value\": 0.5480155944824219}, \"3.0693726539611816\": {\"frequency\": 1, \"value\": 3.0693726539611816}, \"3.5305709838867188\": {\"frequency\": 1, \"value\": 3.5305709838867188}, \"0.48250842094421387\": {\"frequency\": 1, \"value\": 0.48250842094421387}, \"1.584064245223999\": {\"frequency\": 1, \"value\": 1.584064245223999}, \"0.6141796708106995\": {\"frequency\": 1, \"value\": 0.6141796708106995}, \"2.8528974056243896\": {\"frequency\": 1, \"value\": 2.8528974056243896}, \"2.0301589965820312\": {\"frequency\": 1, \"value\": 2.0301589965820312}, \"1.5401219129562378\": {\"frequency\": 1, \"value\": 1.5401219129562378}, \"2.095726251602173\": {\"frequency\": 1, \"value\": 2.095726251602173}, \"0.7777277231216431\": {\"frequency\": 1, \"value\": 0.7777277231216431}, \"0.9890843629837036\": {\"frequency\": 1, \"value\": 0.9890843629837036}, \"1.197811484336853\": {\"frequency\": 1, \"value\": 1.197811484336853}, \"2.4948973655700684\": {\"frequency\": 1, \"value\": 2.4948973655700684}, \"3.753350257873535\": {\"frequency\": 1, \"value\": 3.753350257873535}, \"1.4531903266906738\": {\"frequency\": 1, \"value\": 1.4531903266906738}, \"1.3577287197113037\": {\"frequency\": 1, \"value\": 1.3577287197113037}, \"1.8388919830322266\": {\"frequency\": 1, \"value\": 1.8388919830322266}, \"0.8725798726081848\": {\"frequency\": 1, \"value\": 0.8725798726081848}, \"0.44870489835739136\": {\"frequency\": 1, \"value\": 0.44870489835739136}, \"1.2046173810958862\": {\"frequency\": 1, \"value\": 1.2046173810958862}, \"0.15168821811676025\": {\"frequency\": 1, \"value\": 0.15168821811676025}, \"1.0805885791778564\": {\"frequency\": 1, \"value\": 1.0805885791778564}, \"0.11112463474273682\": {\"frequency\": 1, \"value\": 0.11112463474273682}, \"1.1760073900222778\": {\"frequency\": 1, \"value\": 1.1760073900222778}, \"5.7731523513793945\": {\"frequency\": 1, \"value\": 5.7731523513793945}, \"1.5347747802734375\": {\"frequency\": 1, \"value\": 1.5347747802734375}, \"2.8695950508117676\": {\"frequency\": 1, \"value\": 2.8695950508117676}, \"1.8493010997772217\": {\"frequency\": 1, \"value\": 1.8493010997772217}, \"2.2193098068237305\": {\"frequency\": 1, \"value\": 2.2193098068237305}, \"0.40739667415618896\": {\"frequency\": 1, \"value\": 0.40739667415618896}, \"1.676343560218811\": {\"frequency\": 1, \"value\": 1.676343560218811}, \"0.10197240114212036\": {\"frequency\": 1, \"value\": 0.10197240114212036}, \"1.9961144924163818\": {\"frequency\": 1, \"value\": 1.9961144924163818}, \"0.12364667654037476\": {\"frequency\": 1, \"value\": 0.12364667654037476}, \"1.9647271633148193\": {\"frequency\": 1, \"value\": 1.9647271633148193}, \"0.1560828685760498\": {\"frequency\": 1, \"value\": 0.1560828685760498}, \"1.3203284740447998\": {\"frequency\": 1, \"value\": 1.3203284740447998}, \"0.41748201847076416\": {\"frequency\": 1, \"value\": 0.41748201847076416}, \"0.27770042419433594\": {\"frequency\": 1, \"value\": 0.27770042419433594}, \"0.43324530124664307\": {\"frequency\": 1, \"value\": 0.43324530124664307}, \"8.27281665802002\": {\"frequency\": 1, \"value\": 8.27281665802002}, \"1.0367648601531982\": {\"frequency\": 1, \"value\": 1.0367648601531982}, \"0.04914283752441406\": {\"frequency\": 1, \"value\": 0.04914283752441406}, \"1.2282345294952393\": {\"frequency\": 1, \"value\": 1.2282345294952393}, \"0.515746533870697\": {\"frequency\": 1, \"value\": 0.515746533870697}, \"0.9571667909622192\": {\"frequency\": 1, \"value\": 0.9571667909622192}, \"0.11361545324325562\": {\"frequency\": 1, \"value\": 0.11361545324325562}, \"1.0784751176834106\": {\"frequency\": 1, \"value\": 1.0784751176834106}, \"0.4870229959487915\": {\"frequency\": 1, \"value\": 0.4870229959487915}, \"1.0407708883285522\": {\"frequency\": 1, \"value\": 1.0407708883285522}, \"0.084647536277771\": {\"frequency\": 1, \"value\": 0.084647536277771}, \"1.528327465057373\": {\"frequency\": 1, \"value\": 1.528327465057373}, \"3.0401015281677246\": {\"frequency\": 1, \"value\": 3.0401015281677246}, \"0.49496597051620483\": {\"frequency\": 1, \"value\": 0.49496597051620483}, \"0.9120743870735168\": {\"frequency\": 1, \"value\": 0.9120743870735168}, \"2.2473087310791016\": {\"frequency\": 1, \"value\": 2.2473087310791016}, \"0.7804220914840698\": {\"frequency\": 1, \"value\": 0.7804220914840698}, \"2.948988914489746\": {\"frequency\": 1, \"value\": 2.948988914489746}, \"0.33162790536880493\": {\"frequency\": 1, \"value\": 0.33162790536880493}, \"0.6945235133171082\": {\"frequency\": 1, \"value\": 0.6945235133171082}, \"2.599120855331421\": {\"frequency\": 1, \"value\": 2.599120855331421}, \"1.1421334743499756\": {\"frequency\": 1, \"value\": 1.1421334743499756}, \"0.0592501163482666\": {\"frequency\": 1, \"value\": 0.0592501163482666}, \"1.184738278388977\": {\"frequency\": 1, \"value\": 1.184738278388977}, \"1.4489500522613525\": {\"frequency\": 1, \"value\": 1.4489500522613525}, \"0.8582879304885864\": {\"frequency\": 1, \"value\": 0.8582879304885864}, \"2.1705031394958496\": {\"frequency\": 1, \"value\": 2.1705031394958496}, \"1.0226444005966187\": {\"frequency\": 1, \"value\": 1.0226444005966187}, \"3.313422679901123\": {\"frequency\": 1, \"value\": 3.313422679901123}, \"0.35698139667510986\": {\"frequency\": 1, \"value\": 0.35698139667510986}, \"3.1204540729522705\": {\"frequency\": 1, \"value\": 3.1204540729522705}, \"1.3387547731399536\": {\"frequency\": 1, \"value\": 1.3387547731399536}, \"1.345360517501831\": {\"frequency\": 1, \"value\": 1.345360517501831}, \"0.4979745149612427\": {\"frequency\": 1, \"value\": 0.4979745149612427}, \"5.699222564697266\": {\"frequency\": 1, \"value\": 5.699222564697266}, \"0.6047062277793884\": {\"frequency\": 1, \"value\": 0.6047062277793884}, \"0.34928345680236816\": {\"frequency\": 1, \"value\": 0.34928345680236816}, \"2.8048462867736816\": {\"frequency\": 1, \"value\": 2.8048462867736816}, \"1.3166229724884033\": {\"frequency\": 1, \"value\": 1.3166229724884033}, \"3.343255043029785\": {\"frequency\": 1, \"value\": 3.343255043029785}, \"0.5884519815444946\": {\"frequency\": 1, \"value\": 0.5884519815444946}, \"1.0092029571533203\": {\"frequency\": 1, \"value\": 1.0092029571533203}, \"0.75090092420578\": {\"frequency\": 1, \"value\": 0.75090092420578}, \"1.2628059387207031\": {\"frequency\": 1, \"value\": 1.2628059387207031}, \"4.309835433959961\": {\"frequency\": 1, \"value\": 4.309835433959961}, \"0.1294681429862976\": {\"frequency\": 1, \"value\": 0.1294681429862976}, \"0.8743522763252258\": {\"frequency\": 1, \"value\": 0.8743522763252258}, \"0.5679596662521362\": {\"frequency\": 1, \"value\": 0.5679596662521362}, \"3.2141003608703613\": {\"frequency\": 1, \"value\": 3.2141003608703613}, \"0.8536080718040466\": {\"frequency\": 1, \"value\": 0.8536080718040466}, \"1.3126804828643799\": {\"frequency\": 1, \"value\": 1.3126804828643799}, \"0.1611950397491455\": {\"frequency\": 1, \"value\": 0.1611950397491455}, \"0.6624197959899902\": {\"frequency\": 1, \"value\": 0.6624197959899902}, \"0.6947674751281738\": {\"frequency\": 1, \"value\": 0.6947674751281738}, \"0.431332528591156\": {\"frequency\": 1, \"value\": 0.431332528591156}, \"1.9759514331817627\": {\"frequency\": 1, \"value\": 1.9759514331817627}, \"3.3092455863952637\": {\"frequency\": 1, \"value\": 3.3092455863952637}, \"1.8847601413726807\": {\"frequency\": 1, \"value\": 1.8847601413726807}, \"0.43373358249664307\": {\"frequency\": 1, \"value\": 0.43373358249664307}, \"3.4277029037475586\": {\"frequency\": 1, \"value\": 3.4277029037475586}, \"0.2782738208770752\": {\"frequency\": 1, \"value\": 0.2782738208770752}, \"5.181714057922363\": {\"frequency\": 1, \"value\": 5.181714057922363}, \"2.3627829551696777\": {\"frequency\": 1, \"value\": 2.3627829551696777}, \"0.5052503943443298\": {\"frequency\": 1, \"value\": 0.5052503943443298}, \"0.401505708694458\": {\"frequency\": 1, \"value\": 0.401505708694458}, \"4.37478494644165\": {\"frequency\": 1, \"value\": 4.37478494644165}, \"0.25312304496765137\": {\"frequency\": 1, \"value\": 0.25312304496765137}, \"1.480891466140747\": {\"frequency\": 1, \"value\": 1.480891466140747}, \"1.840470314025879\": {\"frequency\": 1, \"value\": 1.840470314025879}, \"4.8518195152282715\": {\"frequency\": 1, \"value\": 4.8518195152282715}, \"0.3967108726501465\": {\"frequency\": 1, \"value\": 0.3967108726501465}, \"2.7325048446655273\": {\"frequency\": 1, \"value\": 2.7325048446655273}, \"0.5759867429733276\": {\"frequency\": 1, \"value\": 0.5759867429733276}, \"3.389694929122925\": {\"frequency\": 1, \"value\": 3.389694929122925}, \"1.851840853691101\": {\"frequency\": 1, \"value\": 1.851840853691101}, \"1.483922004699707\": {\"frequency\": 1, \"value\": 1.483922004699707}, \"0.2074904441833496\": {\"frequency\": 1, \"value\": 0.2074904441833496}, \"0.050910234451293945\": {\"frequency\": 1, \"value\": 0.050910234451293945}, \"0.8389378190040588\": {\"frequency\": 1, \"value\": 0.8389378190040588}, \"0.9208403825759888\": {\"frequency\": 1, \"value\": 0.9208403825759888}, \"0.6553784608840942\": {\"frequency\": 1, \"value\": 0.6553784608840942}, \"0.6661855578422546\": {\"frequency\": 1, \"value\": 0.6661855578422546}, \"0.732625424861908\": {\"frequency\": 1, \"value\": 0.732625424861908}, \"0.33603203296661377\": {\"frequency\": 1, \"value\": 0.33603203296661377}, \"1.4867260456085205\": {\"frequency\": 1, \"value\": 1.4867260456085205}, \"0.2889334559440613\": {\"frequency\": 1, \"value\": 0.2889334559440613}, \"0.7243598103523254\": {\"frequency\": 1, \"value\": 0.7243598103523254}, \"3.2775919437408447\": {\"frequency\": 1, \"value\": 3.2775919437408447}, \"0.8331044912338257\": {\"frequency\": 1, \"value\": 0.8331044912338257}, \"6.0846099853515625\": {\"frequency\": 1, \"value\": 6.0846099853515625}, \"0.9420458078384399\": {\"frequency\": 1, \"value\": 0.9420458078384399}, \"0.10605084896087646\": {\"frequency\": 1, \"value\": 0.10605084896087646}, \"0.11563760042190552\": {\"frequency\": 1, \"value\": 0.11563760042190552}, \"0.011576235294342041\": {\"frequency\": 1, \"value\": 0.011576235294342041}, \"3.1365528106689453\": {\"frequency\": 1, \"value\": 3.1365528106689453}, \"2.277506113052368\": {\"frequency\": 1, \"value\": 2.277506113052368}, \"0.8586291670799255\": {\"frequency\": 1, \"value\": 0.8586291670799255}, \"1.9618504047393799\": {\"frequency\": 1, \"value\": 1.9618504047393799}, \"2.1937637329101562\": {\"frequency\": 1, \"value\": 2.1937637329101562}, \"1.481852412223816\": {\"frequency\": 1, \"value\": 1.481852412223816}, \"0.010931670665740967\": {\"frequency\": 1, \"value\": 0.010931670665740967}, \"0.1753203272819519\": {\"frequency\": 1, \"value\": 0.1753203272819519}, \"0.539610743522644\": {\"frequency\": 1, \"value\": 0.539610743522644}, \"0.0033677220344543457\": {\"frequency\": 1, \"value\": 0.0033677220344543457}, \"0.8232131004333496\": {\"frequency\": 1, \"value\": 0.8232131004333496}, \"2.6330957412719727\": {\"frequency\": 1, \"value\": 2.6330957412719727}, \"2.1211204528808594\": {\"frequency\": 1, \"value\": 2.1211204528808594}, \"2.0771102905273438\": {\"frequency\": 1, \"value\": 2.0771102905273438}, \"0.8769255876541138\": {\"frequency\": 1, \"value\": 0.8769255876541138}, \"1.4594099521636963\": {\"frequency\": 1, \"value\": 1.4594099521636963}, \"0.979083240032196\": {\"frequency\": 1, \"value\": 0.979083240032196}, \"1.1475725173950195\": {\"frequency\": 1, \"value\": 1.1475725173950195}, \"0.27476656436920166\": {\"frequency\": 1, \"value\": 0.27476656436920166}, \"1.175978183746338\": {\"frequency\": 1, \"value\": 1.175978183746338}, \"4.004969120025635\": {\"frequency\": 1, \"value\": 4.004969120025635}, \"1.9558398723602295\": {\"frequency\": 1, \"value\": 1.9558398723602295}, \"1.3134183883666992\": {\"frequency\": 1, \"value\": 1.3134183883666992}, \"2.0799779891967773\": {\"frequency\": 1, \"value\": 2.0799779891967773}, \"2.4180097579956055\": {\"frequency\": 1, \"value\": 2.4180097579956055}, \"0.09103196859359741\": {\"frequency\": 1, \"value\": 0.09103196859359741}, \"0.11649221181869507\": {\"frequency\": 1, \"value\": 0.11649221181869507}, \"4.450179576873779\": {\"frequency\": 1, \"value\": 4.450179576873779}, \"2.588667154312134\": {\"frequency\": 1, \"value\": 2.588667154312134}, \"0.31118297576904297\": {\"frequency\": 1, \"value\": 0.31118297576904297}, \"0.34870481491088867\": {\"frequency\": 1, \"value\": 0.34870481491088867}, \"0.5360866785049438\": {\"frequency\": 1, \"value\": 0.5360866785049438}, \"3.0473475456237793\": {\"frequency\": 1, \"value\": 3.0473475456237793}, \"4.249051570892334\": {\"frequency\": 1, \"value\": 4.249051570892334}, \"1.5874781608581543\": {\"frequency\": 1, \"value\": 1.5874781608581543}, \"2.1028289794921875\": {\"frequency\": 1, \"value\": 2.1028289794921875}, \"0.9535384178161621\": {\"frequency\": 1, \"value\": 0.9535384178161621}, \"5.1265549659729\": {\"frequency\": 1, \"value\": 5.1265549659729}, \"3.726195812225342\": {\"frequency\": 1, \"value\": 3.726195812225342}, \"0.7220299243927002\": {\"frequency\": 1, \"value\": 0.7220299243927002}, \"0.6565479040145874\": {\"frequency\": 1, \"value\": 0.6565479040145874}, \"0.7865931987762451\": {\"frequency\": 1, \"value\": 0.7865931987762451}, \"1.1655120849609375\": {\"frequency\": 1, \"value\": 1.1655120849609375}, \"0.3842642903327942\": {\"frequency\": 1, \"value\": 0.3842642903327942}, \"0.2989349961280823\": {\"frequency\": 1, \"value\": 0.2989349961280823}, \"0.1541643738746643\": {\"frequency\": 1, \"value\": 0.1541643738746643}, \"2.057965040206909\": {\"frequency\": 1, \"value\": 2.057965040206909}, \"0.14025694131851196\": {\"frequency\": 1, \"value\": 0.14025694131851196}, \"0.7951319813728333\": {\"frequency\": 1, \"value\": 0.7951319813728333}, \"0.03939622640609741\": {\"frequency\": 1, \"value\": 0.03939622640609741}, \"1.4026801586151123\": {\"frequency\": 1, \"value\": 1.4026801586151123}, \"1.0714231729507446\": {\"frequency\": 1, \"value\": 1.0714231729507446}, \"0.57494056224823\": {\"frequency\": 1, \"value\": 0.57494056224823}, \"2.713533401489258\": {\"frequency\": 1, \"value\": 2.713533401489258}, \"1.0241271257400513\": {\"frequency\": 1, \"value\": 1.0241271257400513}, \"0.48173296451568604\": {\"frequency\": 1, \"value\": 0.48173296451568604}, \"1.6489269733428955\": {\"frequency\": 1, \"value\": 1.6489269733428955}, \"1.8495941162109375\": {\"frequency\": 1, \"value\": 1.8495941162109375}, \"0.4357645511627197\": {\"frequency\": 1, \"value\": 0.4357645511627197}, \"1.76753830909729\": {\"frequency\": 1, \"value\": 1.76753830909729}, \"1.1557706594467163\": {\"frequency\": 1, \"value\": 1.1557706594467163}, \"3.1501717567443848\": {\"frequency\": 1, \"value\": 3.1501717567443848}, \"1.9653077125549316\": {\"frequency\": 1, \"value\": 1.9653077125549316}, \"0.3999828100204468\": {\"frequency\": 1, \"value\": 0.3999828100204468}, \"0.9327127933502197\": {\"frequency\": 1, \"value\": 0.9327127933502197}, \"0.3494153618812561\": {\"frequency\": 1, \"value\": 0.3494153618812561}, \"0.7184842824935913\": {\"frequency\": 1, \"value\": 0.7184842824935913}, \"0.6723335981369019\": {\"frequency\": 1, \"value\": 0.6723335981369019}, \"1.2040257453918457\": {\"frequency\": 1, \"value\": 1.2040257453918457}, \"2.8470582962036133\": {\"frequency\": 1, \"value\": 2.8470582962036133}, \"1.6347565650939941\": {\"frequency\": 1, \"value\": 1.6347565650939941}, \"0.20187592506408691\": {\"frequency\": 1, \"value\": 0.20187592506408691}, \"2.4897959232330322\": {\"frequency\": 1, \"value\": 2.4897959232330322}, \"1.717409372329712\": {\"frequency\": 1, \"value\": 1.717409372329712}, \"0.2281627655029297\": {\"frequency\": 1, \"value\": 0.2281627655029297}, \"2.4793288707733154\": {\"frequency\": 1, \"value\": 2.4793288707733154}, \"0.3259626626968384\": {\"frequency\": 1, \"value\": 0.3259626626968384}, \"0.9452489018440247\": {\"frequency\": 1, \"value\": 0.9452489018440247}, \"2.3831839561462402\": {\"frequency\": 1, \"value\": 2.3831839561462402}, \"0.5440956354141235\": {\"frequency\": 1, \"value\": 0.5440956354141235}, \"1.3428305387496948\": {\"frequency\": 1, \"value\": 1.3428305387496948}, \"1.587199091911316\": {\"frequency\": 1, \"value\": 1.587199091911316}, \"0.4071471691131592\": {\"frequency\": 1, \"value\": 0.4071471691131592}, \"0.3613760471343994\": {\"frequency\": 1, \"value\": 0.3613760471343994}, \"0.6735053658485413\": {\"frequency\": 1, \"value\": 0.6735053658485413}, \"0.3910377621650696\": {\"frequency\": 1, \"value\": 0.3910377621650696}, \"1.834160566329956\": {\"frequency\": 1, \"value\": 1.834160566329956}, \"0.15508884191513062\": {\"frequency\": 1, \"value\": 0.15508884191513062}, \"0.9882791638374329\": {\"frequency\": 1, \"value\": 0.9882791638374329}, \"1.3748760223388672\": {\"frequency\": 1, \"value\": 1.3748760223388672}, \"1.4711644649505615\": {\"frequency\": 1, \"value\": 1.4711644649505615}, \"0.003509223461151123\": {\"frequency\": 1, \"value\": 0.003509223461151123}, \"0.49705711007118225\": {\"frequency\": 1, \"value\": 0.49705711007118225}, \"0.9032344222068787\": {\"frequency\": 1, \"value\": 0.9032344222068787}, \"1.2705810070037842\": {\"frequency\": 1, \"value\": 1.2705810070037842}, \"0.7417730689048767\": {\"frequency\": 1, \"value\": 0.7417730689048767}, \"2.0420303344726562\": {\"frequency\": 1, \"value\": 2.0420303344726562}, \"0.9279060363769531\": {\"frequency\": 1, \"value\": 0.9279060363769531}, \"0.8163891434669495\": {\"frequency\": 1, \"value\": 0.8163891434669495}, \"0.03734910488128662\": {\"frequency\": 1, \"value\": 0.03734910488128662}, \"0.07230645418167114\": {\"frequency\": 1, \"value\": 0.07230645418167114}, \"2.3692097663879395\": {\"frequency\": 1, \"value\": 2.3692097663879395}, \"3.5116653442382812\": {\"frequency\": 1, \"value\": 3.5116653442382812}, \"2.248863935470581\": {\"frequency\": 1, \"value\": 2.248863935470581}, \"3.711162567138672\": {\"frequency\": 1, \"value\": 3.711162567138672}, \"0.6597884297370911\": {\"frequency\": 1, \"value\": 0.6597884297370911}, \"2.010436534881592\": {\"frequency\": 1, \"value\": 2.010436534881592}, \"2.088770866394043\": {\"frequency\": 1, \"value\": 2.088770866394043}, \"0.19255197048187256\": {\"frequency\": 1, \"value\": 0.19255197048187256}, \"0.2552730441093445\": {\"frequency\": 1, \"value\": 0.2552730441093445}, \"0.16414642333984375\": {\"frequency\": 1, \"value\": 0.16414642333984375}, \"1.7734715938568115\": {\"frequency\": 1, \"value\": 1.7734715938568115}, \"0.2858402729034424\": {\"frequency\": 1, \"value\": 0.2858402729034424}, \"0.17864322662353516\": {\"frequency\": 1, \"value\": 0.17864322662353516}, \"1.67341947555542\": {\"frequency\": 1, \"value\": 1.67341947555542}, \"1.5612155199050903\": {\"frequency\": 1, \"value\": 1.5612155199050903}, \"0.9886347055435181\": {\"frequency\": 1, \"value\": 0.9886347055435181}, \"0.9198821187019348\": {\"frequency\": 1, \"value\": 0.9198821187019348}, \"2.6799588203430176\": {\"frequency\": 1, \"value\": 2.6799588203430176}, \"0.14329743385314941\": {\"frequency\": 1, \"value\": 0.14329743385314941}, \"1.4535117149353027\": {\"frequency\": 1, \"value\": 1.4535117149353027}, \"0.9539218544960022\": {\"frequency\": 1, \"value\": 0.9539218544960022}, \"0.7983387112617493\": {\"frequency\": 1, \"value\": 0.7983387112617493}, \"1.1149882078170776\": {\"frequency\": 1, \"value\": 1.1149882078170776}, \"0.1915508508682251\": {\"frequency\": 1, \"value\": 0.1915508508682251}, \"1.4410150051116943\": {\"frequency\": 1, \"value\": 1.4410150051116943}, \"2.7599141597747803\": {\"frequency\": 1, \"value\": 2.7599141597747803}, \"0.06586778163909912\": {\"frequency\": 1, \"value\": 0.06586778163909912}, \"0.024575352668762207\": {\"frequency\": 1, \"value\": 0.024575352668762207}, \"0.5556784272193909\": {\"frequency\": 1, \"value\": 0.5556784272193909}, \"0.4061312675476074\": {\"frequency\": 1, \"value\": 0.4061312675476074}, \"0.4172859191894531\": {\"frequency\": 1, \"value\": 0.4172859191894531}, \"1.974378228187561\": {\"frequency\": 1, \"value\": 1.974378228187561}, \"3.828843116760254\": {\"frequency\": 1, \"value\": 3.828843116760254}, \"1.0713027715682983\": {\"frequency\": 1, \"value\": 1.0713027715682983}, \"1.7542407512664795\": {\"frequency\": 1, \"value\": 1.7542407512664795}, \"1.0331039428710938\": {\"frequency\": 1, \"value\": 1.0331039428710938}, \"1.2895913124084473\": {\"frequency\": 1, \"value\": 1.2895913124084473}, \"1.35201895236969\": {\"frequency\": 1, \"value\": 1.35201895236969}, \"0.4029422998428345\": {\"frequency\": 1, \"value\": 0.4029422998428345}, \"0.5504487752914429\": {\"frequency\": 1, \"value\": 0.5504487752914429}, \"0.5769419074058533\": {\"frequency\": 1, \"value\": 0.5769419074058533}, \"0.1897130012512207\": {\"frequency\": 1, \"value\": 0.1897130012512207}, \"0.14203155040740967\": {\"frequency\": 1, \"value\": 0.14203155040740967}, \"3.991764545440674\": {\"frequency\": 1, \"value\": 3.991764545440674}, \"0.6679155230522156\": {\"frequency\": 1, \"value\": 0.6679155230522156}, \"0.532891035079956\": {\"frequency\": 1, \"value\": 0.532891035079956}, \"2.891554355621338\": {\"frequency\": 1, \"value\": 2.891554355621338}, \"0.01387321949005127\": {\"frequency\": 1, \"value\": 0.01387321949005127}, \"0.3704458475112915\": {\"frequency\": 1, \"value\": 0.3704458475112915}, \"0.34424030780792236\": {\"frequency\": 1, \"value\": 0.34424030780792236}, \"1.875733494758606\": {\"frequency\": 1, \"value\": 1.875733494758606}, \"0.3368738889694214\": {\"frequency\": 1, \"value\": 0.3368738889694214}, \"4.945054531097412\": {\"frequency\": 1, \"value\": 4.945054531097412}, \"0.07441884279251099\": {\"frequency\": 1, \"value\": 0.07441884279251099}, \"1.1540296077728271\": {\"frequency\": 1, \"value\": 1.1540296077728271}, \"0.025541305541992188\": {\"frequency\": 1, \"value\": 0.025541305541992188}, \"0.35835903882980347\": {\"frequency\": 1, \"value\": 0.35835903882980347}, \"1.2704154253005981\": {\"frequency\": 1, \"value\": 1.2704154253005981}, \"0.08252173662185669\": {\"frequency\": 1, \"value\": 0.08252173662185669}, \"0.029669642448425293\": {\"frequency\": 1, \"value\": 0.029669642448425293}, \"0.7920982837677002\": {\"frequency\": 1, \"value\": 0.7920982837677002}, \"2.1765897274017334\": {\"frequency\": 1, \"value\": 2.1765897274017334}, \"0.6875191926956177\": {\"frequency\": 1, \"value\": 0.6875191926956177}, \"0.8697433471679688\": {\"frequency\": 1, \"value\": 0.8697433471679688}, \"2.6866650581359863\": {\"frequency\": 1, \"value\": 2.6866650581359863}, \"1.6181186437606812\": {\"frequency\": 1, \"value\": 1.6181186437606812}, \"1.5172351598739624\": {\"frequency\": 1, \"value\": 1.5172351598739624}, \"1.9364097118377686\": {\"frequency\": 1, \"value\": 1.9364097118377686}, \"2.239011287689209\": {\"frequency\": 1, \"value\": 2.239011287689209}, \"0.3328399062156677\": {\"frequency\": 1, \"value\": 0.3328399062156677}, \"0.7490196228027344\": {\"frequency\": 1, \"value\": 0.7490196228027344}, \"0.44182443618774414\": {\"frequency\": 1, \"value\": 0.44182443618774414}, \"4.971560001373291\": {\"frequency\": 1, \"value\": 4.971560001373291}, \"0.9400629997253418\": {\"frequency\": 1, \"value\": 0.9400629997253418}, \"0.7893413305282593\": {\"frequency\": 1, \"value\": 0.7893413305282593}, \"0.09587669372558594\": {\"frequency\": 1, \"value\": 0.09587669372558594}, \"0.2713930606842041\": {\"frequency\": 1, \"value\": 0.2713930606842041}, \"1.3181939125061035\": {\"frequency\": 1, \"value\": 1.3181939125061035}, \"0.8568500876426697\": {\"frequency\": 1, \"value\": 0.8568500876426697}, \"1.5660943984985352\": {\"frequency\": 1, \"value\": 1.5660943984985352}, \"1.391297459602356\": {\"frequency\": 1, \"value\": 1.391297459602356}, \"1.2833340167999268\": {\"frequency\": 1, \"value\": 1.2833340167999268}, \"0.06789302825927734\": {\"frequency\": 1, \"value\": 0.06789302825927734}, \"3.926699638366699\": {\"frequency\": 1, \"value\": 3.926699638366699}, \"2.4631052017211914\": {\"frequency\": 1, \"value\": 2.4631052017211914}, \"3.2982053756713867\": {\"frequency\": 1, \"value\": 3.2982053756713867}, \"0.024889826774597168\": {\"frequency\": 1, \"value\": 0.024889826774597168}, \"1.0430703163146973\": {\"frequency\": 1, \"value\": 1.0430703163146973}, \"3.2745392322540283\": {\"frequency\": 1, \"value\": 3.2745392322540283}, \"0.1920543909072876\": {\"frequency\": 1, \"value\": 0.1920543909072876}, \"0.9532350301742554\": {\"frequency\": 1, \"value\": 0.9532350301742554}, \"2.81850004196167\": {\"frequency\": 1, \"value\": 2.81850004196167}, \"1.8716906309127808\": {\"frequency\": 1, \"value\": 1.8716906309127808}, \"0.6941646933555603\": {\"frequency\": 1, \"value\": 0.6941646933555603}, \"0.08250659704208374\": {\"frequency\": 1, \"value\": 0.08250659704208374}, \"0.1930476427078247\": {\"frequency\": 1, \"value\": 0.1930476427078247}, \"2.5241129398345947\": {\"frequency\": 1, \"value\": 2.5241129398345947}, \"2.314826726913452\": {\"frequency\": 1, \"value\": 2.314826726913452}, \"0.2789266109466553\": {\"frequency\": 1, \"value\": 0.2789266109466553}, \"1.7072694301605225\": {\"frequency\": 1, \"value\": 1.7072694301605225}, \"2.240607261657715\": {\"frequency\": 1, \"value\": 2.240607261657715}, \"1.1691817045211792\": {\"frequency\": 1, \"value\": 1.1691817045211792}, \"0.46223869919776917\": {\"frequency\": 1, \"value\": 0.46223869919776917}, \"0.22634822130203247\": {\"frequency\": 1, \"value\": 0.22634822130203247}, \"0.6044104695320129\": {\"frequency\": 1, \"value\": 0.6044104695320129}, \"1.7042336463928223\": {\"frequency\": 1, \"value\": 1.7042336463928223}, \"0.6526501774787903\": {\"frequency\": 1, \"value\": 0.6526501774787903}, \"0.6203054189682007\": {\"frequency\": 1, \"value\": 0.6203054189682007}, \"0.7620024085044861\": {\"frequency\": 1, \"value\": 0.7620024085044861}, \"0.6691412925720215\": {\"frequency\": 1, \"value\": 0.6691412925720215}, \"1.3143502473831177\": {\"frequency\": 1, \"value\": 1.3143502473831177}, \"0.44635480642318726\": {\"frequency\": 1, \"value\": 0.44635480642318726}, \"0.07171893119812012\": {\"frequency\": 1, \"value\": 0.07171893119812012}, \"2.672567844390869\": {\"frequency\": 1, \"value\": 2.672567844390869}, \"0.16243743896484375\": {\"frequency\": 1, \"value\": 0.16243743896484375}, \"0.5453721284866333\": {\"frequency\": 1, \"value\": 0.5453721284866333}, \"2.7023186683654785\": {\"frequency\": 1, \"value\": 2.7023186683654785}, \"0.3539341688156128\": {\"frequency\": 1, \"value\": 0.3539341688156128}, \"2.611579179763794\": {\"frequency\": 1, \"value\": 2.611579179763794}, \"0.266581654548645\": {\"frequency\": 1, \"value\": 0.266581654548645}, \"1.0732107162475586\": {\"frequency\": 1, \"value\": 1.0732107162475586}, \"0.956587553024292\": {\"frequency\": 1, \"value\": 0.956587553024292}, \"1.057169795036316\": {\"frequency\": 1, \"value\": 1.057169795036316}, \"0.8744601607322693\": {\"frequency\": 1, \"value\": 0.8744601607322693}, \"1.6216931343078613\": {\"frequency\": 1, \"value\": 1.6216931343078613}, \"0.024777352809906006\": {\"frequency\": 1, \"value\": 0.024777352809906006}, \"0.5674305558204651\": {\"frequency\": 1, \"value\": 0.5674305558204651}, \"0.25345343351364136\": {\"frequency\": 1, \"value\": 0.25345343351364136}, \"2.310605049133301\": {\"frequency\": 1, \"value\": 2.310605049133301}, \"0.6493833065032959\": {\"frequency\": 1, \"value\": 0.6493833065032959}, \"0.48217567801475525\": {\"frequency\": 1, \"value\": 0.48217567801475525}, \"1.1895413398742676\": {\"frequency\": 1, \"value\": 1.1895413398742676}, \"1.748435616493225\": {\"frequency\": 1, \"value\": 1.748435616493225}, \"0.4727887511253357\": {\"frequency\": 1, \"value\": 0.4727887511253357}, \"1.2849547863006592\": {\"frequency\": 1, \"value\": 1.2849547863006592}, \"3.43709135055542\": {\"frequency\": 1, \"value\": 3.43709135055542}, \"0.4456641674041748\": {\"frequency\": 1, \"value\": 0.4456641674041748}, \"6.972675323486328\": {\"frequency\": 1, \"value\": 6.972675323486328}, \"0.22121012210845947\": {\"frequency\": 1, \"value\": 0.22121012210845947}, \"1.9283870458602905\": {\"frequency\": 1, \"value\": 1.9283870458602905}, \"0.9261448383331299\": {\"frequency\": 1, \"value\": 0.9261448383331299}, \"3.626657724380493\": {\"frequency\": 1, \"value\": 3.626657724380493}, \"0.4369516968727112\": {\"frequency\": 1, \"value\": 0.4369516968727112}, \"0.9429640173912048\": {\"frequency\": 1, \"value\": 0.9429640173912048}, \"0.3181336522102356\": {\"frequency\": 1, \"value\": 0.3181336522102356}, \"1.599945306777954\": {\"frequency\": 1, \"value\": 1.599945306777954}, \"0.8575693964958191\": {\"frequency\": 1, \"value\": 0.8575693964958191}, \"0.5635485649108887\": {\"frequency\": 1, \"value\": 0.5635485649108887}, \"0.340262770652771\": {\"frequency\": 1, \"value\": 0.340262770652771}, \"2.7756407260894775\": {\"frequency\": 1, \"value\": 2.7756407260894775}, \"1.082688570022583\": {\"frequency\": 1, \"value\": 1.082688570022583}, \"0.6115204095840454\": {\"frequency\": 1, \"value\": 0.6115204095840454}, \"1.2402780055999756\": {\"frequency\": 1, \"value\": 1.2402780055999756}, \"0.6845245361328125\": {\"frequency\": 1, \"value\": 0.6845245361328125}, \"2.0462241172790527\": {\"frequency\": 1, \"value\": 2.0462241172790527}, \"0.037904977798461914\": {\"frequency\": 1, \"value\": 0.037904977798461914}, \"1.025009274482727\": {\"frequency\": 1, \"value\": 1.025009274482727}, \"3.7184479236602783\": {\"frequency\": 1, \"value\": 3.7184479236602783}, \"1.6188335418701172\": {\"frequency\": 1, \"value\": 1.6188335418701172}, \"3.480776309967041\": {\"frequency\": 1, \"value\": 3.480776309967041}, \"1.543850064277649\": {\"frequency\": 1, \"value\": 1.543850064277649}, \"0.6952086091041565\": {\"frequency\": 1, \"value\": 0.6952086091041565}, \"3.258556842803955\": {\"frequency\": 1, \"value\": 3.258556842803955}, \"3.2432522773742676\": {\"frequency\": 1, \"value\": 3.2432522773742676}, \"0.5593295097351074\": {\"frequency\": 1, \"value\": 0.5593295097351074}, \"1.5980165004730225\": {\"frequency\": 1, \"value\": 1.5980165004730225}, \"0.6343337893486023\": {\"frequency\": 1, \"value\": 0.6343337893486023}, \"1.6108078956604004\": {\"frequency\": 1, \"value\": 1.6108078956604004}, \"0.36977821588516235\": {\"frequency\": 1, \"value\": 0.36977821588516235}, \"3.1123173236846924\": {\"frequency\": 1, \"value\": 3.1123173236846924}, \"0.6173844337463379\": {\"frequency\": 1, \"value\": 0.6173844337463379}, \"0.287425696849823\": {\"frequency\": 1, \"value\": 0.287425696849823}, \"0.16032397747039795\": {\"frequency\": 1, \"value\": 0.16032397747039795}, \"1.7434637546539307\": {\"frequency\": 1, \"value\": 1.7434637546539307}, \"1.1633824110031128\": {\"frequency\": 1, \"value\": 1.1633824110031128}, \"0.4240108132362366\": {\"frequency\": 1, \"value\": 0.4240108132362366}, \"0.06358331441879272\": {\"frequency\": 1, \"value\": 0.06358331441879272}, \"0.050897836685180664\": {\"frequency\": 1, \"value\": 0.050897836685180664}, \"0.5152593851089478\": {\"frequency\": 1, \"value\": 0.5152593851089478}, \"1.7367825508117676\": {\"frequency\": 1, \"value\": 1.7367825508117676}, \"1.497373104095459\": {\"frequency\": 1, \"value\": 1.497373104095459}, \"1.3591454029083252\": {\"frequency\": 1, \"value\": 1.3591454029083252}, \"0.46227115392684937\": {\"frequency\": 1, \"value\": 0.46227115392684937}, \"0.42176657915115356\": {\"frequency\": 1, \"value\": 0.42176657915115356}, \"1.967296838760376\": {\"frequency\": 1, \"value\": 1.967296838760376}, \"0.22331231832504272\": {\"frequency\": 1, \"value\": 0.22331231832504272}, \"0.028646349906921387\": {\"frequency\": 1, \"value\": 0.028646349906921387}, \"0.6188857555389404\": {\"frequency\": 1, \"value\": 0.6188857555389404}, \"0.2118511199951172\": {\"frequency\": 1, \"value\": 0.2118511199951172}, \"2.012831926345825\": {\"frequency\": 1, \"value\": 2.012831926345825}, \"0.5888910889625549\": {\"frequency\": 1, \"value\": 0.5888910889625549}, \"4.5376386642456055\": {\"frequency\": 1, \"value\": 4.5376386642456055}, \"1.6396329402923584\": {\"frequency\": 1, \"value\": 1.6396329402923584}, \"0.529146671295166\": {\"frequency\": 1, \"value\": 0.529146671295166}, \"1.0399842262268066\": {\"frequency\": 1, \"value\": 1.0399842262268066}, \"3.71457576751709\": {\"frequency\": 1, \"value\": 3.71457576751709}, \"2.10040283203125\": {\"frequency\": 1, \"value\": 2.10040283203125}, \"4.924177169799805\": {\"frequency\": 1, \"value\": 4.924177169799805}, \"1.7105867862701416\": {\"frequency\": 1, \"value\": 1.7105867862701416}, \"1.9916110038757324\": {\"frequency\": 1, \"value\": 1.9916110038757324}, \"0.9882690906524658\": {\"frequency\": 1, \"value\": 0.9882690906524658}, \"2.2148447036743164\": {\"frequency\": 1, \"value\": 2.2148447036743164}, \"0.05372214317321777\": {\"frequency\": 1, \"value\": 0.05372214317321777}, \"0.3319704532623291\": {\"frequency\": 1, \"value\": 0.3319704532623291}, \"3.178889751434326\": {\"frequency\": 1, \"value\": 3.178889751434326}, \"0.0324629545211792\": {\"frequency\": 1, \"value\": 0.0324629545211792}, \"2.1228346824645996\": {\"frequency\": 1, \"value\": 2.1228346824645996}, \"0.6384395956993103\": {\"frequency\": 1, \"value\": 0.6384395956993103}, \"0.11616522073745728\": {\"frequency\": 1, \"value\": 0.11616522073745728}, \"4.227160930633545\": {\"frequency\": 1, \"value\": 4.227160930633545}, \"0.3728869557380676\": {\"frequency\": 1, \"value\": 0.3728869557380676}, \"3.3843557834625244\": {\"frequency\": 1, \"value\": 3.3843557834625244}, \"0.2581523060798645\": {\"frequency\": 1, \"value\": 0.2581523060798645}, \"0.08034050464630127\": {\"frequency\": 1, \"value\": 0.08034050464630127}, \"0.6246830224990845\": {\"frequency\": 1, \"value\": 0.6246830224990845}, \"7.945577621459961\": {\"frequency\": 1, \"value\": 7.945577621459961}, \"0.18794512748718262\": {\"frequency\": 1, \"value\": 0.18794512748718262}, \"0.18168658018112183\": {\"frequency\": 1, \"value\": 0.18168658018112183}, \"0.05418086051940918\": {\"frequency\": 1, \"value\": 0.05418086051940918}, \"0.34022748470306396\": {\"frequency\": 1, \"value\": 0.34022748470306396}, \"0.14773774147033691\": {\"frequency\": 1, \"value\": 0.14773774147033691}, \"0.9716576337814331\": {\"frequency\": 1, \"value\": 0.9716576337814331}, \"1.74314284324646\": {\"frequency\": 1, \"value\": 1.74314284324646}, \"1.0199843645095825\": {\"frequency\": 1, \"value\": 1.0199843645095825}, \"2.4868342876434326\": {\"frequency\": 1, \"value\": 2.4868342876434326}, \"0.43714678287506104\": {\"frequency\": 1, \"value\": 0.43714678287506104}, \"0.4810032844543457\": {\"frequency\": 1, \"value\": 0.4810032844543457}, \"1.886894702911377\": {\"frequency\": 1, \"value\": 1.886894702911377}, \"1.8997288942337036\": {\"frequency\": 1, \"value\": 1.8997288942337036}, \"0.29060858488082886\": {\"frequency\": 1, \"value\": 0.29060858488082886}, \"1.2489798069000244\": {\"frequency\": 1, \"value\": 1.2489798069000244}, \"0.9556818008422852\": {\"frequency\": 1, \"value\": 0.9556818008422852}, \"0.09293878078460693\": {\"frequency\": 1, \"value\": 0.09293878078460693}, \"1.6483572721481323\": {\"frequency\": 1, \"value\": 1.6483572721481323}, \"3.9358112812042236\": {\"frequency\": 1, \"value\": 3.9358112812042236}, \"2.1679232120513916\": {\"frequency\": 1, \"value\": 2.1679232120513916}, \"0.5662737488746643\": {\"frequency\": 1, \"value\": 0.5662737488746643}, \"1.9937007427215576\": {\"frequency\": 1, \"value\": 1.9937007427215576}, \"0.34743499755859375\": {\"frequency\": 1, \"value\": 0.34743499755859375}, \"1.6105908155441284\": {\"frequency\": 1, \"value\": 1.6105908155441284}, \"2.8069045543670654\": {\"frequency\": 1, \"value\": 2.8069045543670654}, \"1.6690702438354492\": {\"frequency\": 1, \"value\": 1.6690702438354492}, \"1.176964282989502\": {\"frequency\": 1, \"value\": 1.176964282989502}, \"0.8808929324150085\": {\"frequency\": 1, \"value\": 0.8808929324150085}, \"0.13202786445617676\": {\"frequency\": 1, \"value\": 0.13202786445617676}, \"1.50690758228302\": {\"frequency\": 1, \"value\": 1.50690758228302}, \"1.4020088911056519\": {\"frequency\": 1, \"value\": 1.4020088911056519}, \"2.873835563659668\": {\"frequency\": 1, \"value\": 2.873835563659668}, \"0.7253967523574829\": {\"frequency\": 1, \"value\": 0.7253967523574829}, \"0.9265269637107849\": {\"frequency\": 1, \"value\": 0.9265269637107849}, \"1.4861626625061035\": {\"frequency\": 1, \"value\": 1.4861626625061035}, \"1.1863054037094116\": {\"frequency\": 1, \"value\": 1.1863054037094116}, \"2.089362144470215\": {\"frequency\": 1, \"value\": 2.089362144470215}, \"1.7378345727920532\": {\"frequency\": 1, \"value\": 1.7378345727920532}, \"1.1539666652679443\": {\"frequency\": 1, \"value\": 1.1539666652679443}, \"0.418637216091156\": {\"frequency\": 1, \"value\": 0.418637216091156}, \"1.9943320751190186\": {\"frequency\": 1, \"value\": 1.9943320751190186}, \"1.1002589464187622\": {\"frequency\": 1, \"value\": 1.1002589464187622}, \"1.5954608917236328\": {\"frequency\": 1, \"value\": 1.5954608917236328}, \"0.14942783117294312\": {\"frequency\": 1, \"value\": 0.14942783117294312}, \"1.559828519821167\": {\"frequency\": 1, \"value\": 1.559828519821167}, \"0.06010544300079346\": {\"frequency\": 1, \"value\": 0.06010544300079346}, \"4.838727951049805\": {\"frequency\": 1, \"value\": 4.838727951049805}, \"0.11439967155456543\": {\"frequency\": 1, \"value\": 0.11439967155456543}, \"0.3811621069908142\": {\"frequency\": 1, \"value\": 0.3811621069908142}, \"0.6421147584915161\": {\"frequency\": 1, \"value\": 0.6421147584915161}, \"0.4590596556663513\": {\"frequency\": 1, \"value\": 0.4590596556663513}, \"0.20523899793624878\": {\"frequency\": 1, \"value\": 0.20523899793624878}, \"0.830409049987793\": {\"frequency\": 1, \"value\": 0.830409049987793}, \"0.4876796007156372\": {\"frequency\": 1, \"value\": 0.4876796007156372}, \"1.2721372842788696\": {\"frequency\": 1, \"value\": 1.2721372842788696}, \"0.7133842706680298\": {\"frequency\": 1, \"value\": 0.7133842706680298}, \"1.3491580486297607\": {\"frequency\": 1, \"value\": 1.3491580486297607}, \"0.6825355291366577\": {\"frequency\": 1, \"value\": 0.6825355291366577}, \"0.03433990478515625\": {\"frequency\": 1, \"value\": 0.03433990478515625}, \"4.693960666656494\": {\"frequency\": 1, \"value\": 4.693960666656494}, \"2.9907777309417725\": {\"frequency\": 1, \"value\": 2.9907777309417725}, \"1.2642638683319092\": {\"frequency\": 1, \"value\": 1.2642638683319092}, \"0.3564675450325012\": {\"frequency\": 1, \"value\": 0.3564675450325012}, \"3.262155532836914\": {\"frequency\": 1, \"value\": 3.262155532836914}, \"0.32771366834640503\": {\"frequency\": 1, \"value\": 0.32771366834640503}, \"0.09482824802398682\": {\"frequency\": 1, \"value\": 0.09482824802398682}, \"1.1618777513504028\": {\"frequency\": 1, \"value\": 1.1618777513504028}, \"0.21305227279663086\": {\"frequency\": 1, \"value\": 0.21305227279663086}, \"0.16931849718093872\": {\"frequency\": 1, \"value\": 0.16931849718093872}, \"0.6154733896255493\": {\"frequency\": 1, \"value\": 0.6154733896255493}, \"0.3955308198928833\": {\"frequency\": 1, \"value\": 0.3955308198928833}, \"0.33306342363357544\": {\"frequency\": 1, \"value\": 0.33306342363357544}, \"2.101801633834839\": {\"frequency\": 1, \"value\": 2.101801633834839}, \"2.021097183227539\": {\"frequency\": 1, \"value\": 2.021097183227539}, \"3.3764753341674805\": {\"frequency\": 1, \"value\": 3.3764753341674805}, \"1.9759445190429688\": {\"frequency\": 1, \"value\": 1.9759445190429688}, \"2.6709465980529785\": {\"frequency\": 1, \"value\": 2.6709465980529785}, \"2.896754503250122\": {\"frequency\": 1, \"value\": 2.896754503250122}, \"3.7853198051452637\": {\"frequency\": 1, \"value\": 3.7853198051452637}, \"0.9073900580406189\": {\"frequency\": 1, \"value\": 0.9073900580406189}, \"1.1080656051635742\": {\"frequency\": 1, \"value\": 1.1080656051635742}, \"0.06387627124786377\": {\"frequency\": 1, \"value\": 0.06387627124786377}, \"0.04580801725387573\": {\"frequency\": 1, \"value\": 0.04580801725387573}, \"0.1299680471420288\": {\"frequency\": 1, \"value\": 0.1299680471420288}, \"0.5681983828544617\": {\"frequency\": 1, \"value\": 0.5681983828544617}, \"2.5601720809936523\": {\"frequency\": 1, \"value\": 2.5601720809936523}, \"2.2522263526916504\": {\"frequency\": 1, \"value\": 2.2522263526916504}, \"3.993159294128418\": {\"frequency\": 1, \"value\": 3.993159294128418}, \"1.5137546062469482\": {\"frequency\": 1, \"value\": 1.5137546062469482}, \"1.05953049659729\": {\"frequency\": 1, \"value\": 1.05953049659729}, \"0.35654646158218384\": {\"frequency\": 1, \"value\": 0.35654646158218384}, \"0.6129898428916931\": {\"frequency\": 1, \"value\": 0.6129898428916931}, \"0.7806388735771179\": {\"frequency\": 1, \"value\": 0.7806388735771179}, \"1.4591126441955566\": {\"frequency\": 1, \"value\": 1.4591126441955566}, \"1.6250977516174316\": {\"frequency\": 1, \"value\": 1.6250977516174316}, \"0.41354721784591675\": {\"frequency\": 1, \"value\": 0.41354721784591675}, \"0.24604541063308716\": {\"frequency\": 1, \"value\": 0.24604541063308716}, \"3.071072816848755\": {\"frequency\": 1, \"value\": 3.071072816848755}, \"2.257838249206543\": {\"frequency\": 1, \"value\": 2.257838249206543}, \"1.6431186199188232\": {\"frequency\": 1, \"value\": 1.6431186199188232}, \"1.1175357103347778\": {\"frequency\": 1, \"value\": 1.1175357103347778}, \"0.9229977130889893\": {\"frequency\": 1, \"value\": 0.9229977130889893}, \"0.8145288825035095\": {\"frequency\": 1, \"value\": 0.8145288825035095}, \"0.5002322196960449\": {\"frequency\": 1, \"value\": 0.5002322196960449}, \"1.524742603302002\": {\"frequency\": 1, \"value\": 1.524742603302002}, \"2.496565341949463\": {\"frequency\": 1, \"value\": 2.496565341949463}, \"0.5421838760375977\": {\"frequency\": 1, \"value\": 0.5421838760375977}, \"1.1551812887191772\": {\"frequency\": 1, \"value\": 1.1551812887191772}, \"0.429598867893219\": {\"frequency\": 1, \"value\": 0.429598867893219}, \"2.644223690032959\": {\"frequency\": 1, \"value\": 2.644223690032959}, \"0.8036229610443115\": {\"frequency\": 1, \"value\": 0.8036229610443115}, \"0.4003644585609436\": {\"frequency\": 1, \"value\": 0.4003644585609436}, \"2.2979774475097656\": {\"frequency\": 1, \"value\": 2.2979774475097656}, \"0.8876150846481323\": {\"frequency\": 1, \"value\": 0.8876150846481323}, \"1.327998161315918\": {\"frequency\": 1, \"value\": 1.327998161315918}, \"0.510602593421936\": {\"frequency\": 1, \"value\": 0.510602593421936}, \"5.353129863739014\": {\"frequency\": 1, \"value\": 5.353129863739014}, \"0.02325737476348877\": {\"frequency\": 1, \"value\": 0.02325737476348877}, \"0.9696393013000488\": {\"frequency\": 1, \"value\": 0.9696393013000488}, \"1.8562190532684326\": {\"frequency\": 1, \"value\": 1.8562190532684326}, \"0.4080653190612793\": {\"frequency\": 1, \"value\": 0.4080653190612793}, \"0.0982930064201355\": {\"frequency\": 1, \"value\": 0.0982930064201355}, \"0.6994630694389343\": {\"frequency\": 1, \"value\": 0.6994630694389343}, \"0.0880158543586731\": {\"frequency\": 1, \"value\": 0.0880158543586731}, \"3.494216203689575\": {\"frequency\": 1, \"value\": 3.494216203689575}, \"0.11404943466186523\": {\"frequency\": 1, \"value\": 0.11404943466186523}, \"6.761171817779541\": {\"frequency\": 1, \"value\": 6.761171817779541}, \"2.855882167816162\": {\"frequency\": 1, \"value\": 2.855882167816162}, \"1.9499356746673584\": {\"frequency\": 1, \"value\": 1.9499356746673584}, \"0.4157969355583191\": {\"frequency\": 1, \"value\": 0.4157969355583191}, \"1.242633581161499\": {\"frequency\": 1, \"value\": 1.242633581161499}, \"4.828891754150391\": {\"frequency\": 1, \"value\": 4.828891754150391}, \"0.007829248905181885\": {\"frequency\": 1, \"value\": 0.007829248905181885}, \"3.265962839126587\": {\"frequency\": 1, \"value\": 3.265962839126587}, \"1.2090494632720947\": {\"frequency\": 1, \"value\": 1.2090494632720947}, \"0.6755844950675964\": {\"frequency\": 1, \"value\": 0.6755844950675964}, \"1.618035078048706\": {\"frequency\": 1, \"value\": 1.618035078048706}, \"1.3193373680114746\": {\"frequency\": 1, \"value\": 1.3193373680114746}, \"0.6126018762588501\": {\"frequency\": 1, \"value\": 0.6126018762588501}, \"2.870993137359619\": {\"frequency\": 1, \"value\": 2.870993137359619}, \"3.101116180419922\": {\"frequency\": 1, \"value\": 3.101116180419922}, \"0.5184304118156433\": {\"frequency\": 1, \"value\": 0.5184304118156433}, \"3.2629342079162598\": {\"frequency\": 1, \"value\": 3.2629342079162598}, \"0.0886838436126709\": {\"frequency\": 1, \"value\": 0.0886838436126709}, \"0.4132058620452881\": {\"frequency\": 1, \"value\": 0.4132058620452881}, \"1.2869203090667725\": {\"frequency\": 1, \"value\": 1.2869203090667725}, \"1.1104456186294556\": {\"frequency\": 1, \"value\": 1.1104456186294556}, \"0.379976749420166\": {\"frequency\": 1, \"value\": 0.379976749420166}, \"0.08429765701293945\": {\"frequency\": 1, \"value\": 0.08429765701293945}, \"0.4137346148490906\": {\"frequency\": 1, \"value\": 0.4137346148490906}, \"1.0080597400665283\": {\"frequency\": 1, \"value\": 1.0080597400665283}, \"1.201810359954834\": {\"frequency\": 1, \"value\": 1.201810359954834}, \"1.0548923015594482\": {\"frequency\": 1, \"value\": 1.0548923015594482}, \"1.6249639987945557\": {\"frequency\": 1, \"value\": 1.6249639987945557}, \"0.9724486470222473\": {\"frequency\": 1, \"value\": 0.9724486470222473}, \"0.591502845287323\": {\"frequency\": 1, \"value\": 0.591502845287323}, \"0.934829831123352\": {\"frequency\": 1, \"value\": 0.934829831123352}, \"0.22317630052566528\": {\"frequency\": 1, \"value\": 0.22317630052566528}, \"0.007894456386566162\": {\"frequency\": 1, \"value\": 0.007894456386566162}, \"1.6882719993591309\": {\"frequency\": 1, \"value\": 1.6882719993591309}, \"2.6994006633758545\": {\"frequency\": 1, \"value\": 2.6994006633758545}, \"0.9379884600639343\": {\"frequency\": 1, \"value\": 0.9379884600639343}, \"0.12119084596633911\": {\"frequency\": 1, \"value\": 0.12119084596633911}, \"1.2813060283660889\": {\"frequency\": 1, \"value\": 1.2813060283660889}, \"0.38545483350753784\": {\"frequency\": 1, \"value\": 0.38545483350753784}, \"8.424213409423828\": {\"frequency\": 1, \"value\": 8.424213409423828}, \"0.7898725867271423\": {\"frequency\": 1, \"value\": 0.7898725867271423}, \"0.09597843885421753\": {\"frequency\": 1, \"value\": 0.09597843885421753}, \"0.06012558937072754\": {\"frequency\": 1, \"value\": 0.06012558937072754}, \"1.6651864051818848\": {\"frequency\": 1, \"value\": 1.6651864051818848}, \"2.7059080600738525\": {\"frequency\": 1, \"value\": 2.7059080600738525}, \"4.892910957336426\": {\"frequency\": 1, \"value\": 4.892910957336426}, \"0.5416237115859985\": {\"frequency\": 1, \"value\": 0.5416237115859985}, \"2.962432861328125\": {\"frequency\": 1, \"value\": 2.962432861328125}, \"2.862520217895508\": {\"frequency\": 1, \"value\": 2.862520217895508}, \"1.6232026815414429\": {\"frequency\": 1, \"value\": 1.6232026815414429}, \"0.3829684853553772\": {\"frequency\": 1, \"value\": 0.3829684853553772}, \"1.7736620903015137\": {\"frequency\": 1, \"value\": 1.7736620903015137}, \"0.9353352189064026\": {\"frequency\": 1, \"value\": 0.9353352189064026}, \"1.1633243560791016\": {\"frequency\": 1, \"value\": 1.1633243560791016}, \"0.8790301084518433\": {\"frequency\": 1, \"value\": 0.8790301084518433}, \"1.02378511428833\": {\"frequency\": 1, \"value\": 1.02378511428833}, \"0.09472066164016724\": {\"frequency\": 1, \"value\": 0.09472066164016724}, \"0.11882007122039795\": {\"frequency\": 1, \"value\": 0.11882007122039795}, \"0.4175557494163513\": {\"frequency\": 1, \"value\": 0.4175557494163513}, \"4.4206366539001465\": {\"frequency\": 1, \"value\": 4.4206366539001465}, \"1.142146348953247\": {\"frequency\": 1, \"value\": 1.142146348953247}, \"1.0879981517791748\": {\"frequency\": 1, \"value\": 1.0879981517791748}, \"0.0669867992401123\": {\"frequency\": 1, \"value\": 0.0669867992401123}, \"0.017902493476867676\": {\"frequency\": 1, \"value\": 0.017902493476867676}, \"1.7930489778518677\": {\"frequency\": 1, \"value\": 1.7930489778518677}, \"0.08985984325408936\": {\"frequency\": 1, \"value\": 0.08985984325408936}, \"7.709580421447754\": {\"frequency\": 1, \"value\": 7.709580421447754}, \"1.494797706604004\": {\"frequency\": 1, \"value\": 1.494797706604004}, \"1.3986608982086182\": {\"frequency\": 1, \"value\": 1.3986608982086182}, \"3.1192710399627686\": {\"frequency\": 1, \"value\": 3.1192710399627686}, \"1.3017431497573853\": {\"frequency\": 1, \"value\": 1.3017431497573853}, \"0.40843725204467773\": {\"frequency\": 1, \"value\": 0.40843725204467773}, \"1.81852388381958\": {\"frequency\": 1, \"value\": 1.81852388381958}, \"0.4845985174179077\": {\"frequency\": 1, \"value\": 0.4845985174179077}, \"0.04115086793899536\": {\"frequency\": 1, \"value\": 0.04115086793899536}, \"0.8707373738288879\": {\"frequency\": 1, \"value\": 0.8707373738288879}, \"1.6464078426361084\": {\"frequency\": 1, \"value\": 1.6464078426361084}, \"0.4300071597099304\": {\"frequency\": 1, \"value\": 0.4300071597099304}, \"1.7048285007476807\": {\"frequency\": 1, \"value\": 1.7048285007476807}, \"0.4871074855327606\": {\"frequency\": 1, \"value\": 0.4871074855327606}, \"2.8402228355407715\": {\"frequency\": 1, \"value\": 2.8402228355407715}, \"0.07004624605178833\": {\"frequency\": 1, \"value\": 0.07004624605178833}, \"0.2989007830619812\": {\"frequency\": 1, \"value\": 0.2989007830619812}, \"0.7645516991615295\": {\"frequency\": 1, \"value\": 0.7645516991615295}, \"3.6200180053710938\": {\"frequency\": 1, \"value\": 3.6200180053710938}, \"2.174410820007324\": {\"frequency\": 1, \"value\": 2.174410820007324}, \"4.7950334548950195\": {\"frequency\": 1, \"value\": 4.7950334548950195}, \"0.26071780920028687\": {\"frequency\": 1, \"value\": 0.26071780920028687}, \"0.4505246579647064\": {\"frequency\": 1, \"value\": 0.4505246579647064}, \"2.759171962738037\": {\"frequency\": 1, \"value\": 2.759171962738037}, \"0.3245636224746704\": {\"frequency\": 1, \"value\": 0.3245636224746704}, \"3.632227897644043\": {\"frequency\": 1, \"value\": 3.632227897644043}, \"0.12028872966766357\": {\"frequency\": 1, \"value\": 0.12028872966766357}, \"1.636594533920288\": {\"frequency\": 1, \"value\": 1.636594533920288}, \"1.8261044025421143\": {\"frequency\": 1, \"value\": 1.8261044025421143}, \"0.7740048766136169\": {\"frequency\": 1, \"value\": 0.7740048766136169}, \"1.8398895263671875\": {\"frequency\": 1, \"value\": 1.8398895263671875}, \"1.000584602355957\": {\"frequency\": 1, \"value\": 1.000584602355957}, \"0.8610715866088867\": {\"frequency\": 1, \"value\": 0.8610715866088867}, \"0.22676634788513184\": {\"frequency\": 1, \"value\": 0.22676634788513184}, \"2.458315372467041\": {\"frequency\": 1, \"value\": 2.458315372467041}, \"1.3184415102005005\": {\"frequency\": 1, \"value\": 1.3184415102005005}, \"0.1642395257949829\": {\"frequency\": 1, \"value\": 0.1642395257949829}, \"1.7414298057556152\": {\"frequency\": 1, \"value\": 1.7414298057556152}, \"2.6422085762023926\": {\"frequency\": 1, \"value\": 2.6422085762023926}, \"0.39930975437164307\": {\"frequency\": 1, \"value\": 0.39930975437164307}, \"2.585095167160034\": {\"frequency\": 1, \"value\": 2.585095167160034}, \"0.4970661401748657\": {\"frequency\": 1, \"value\": 0.4970661401748657}, \"0.028088927268981934\": {\"frequency\": 1, \"value\": 0.028088927268981934}, \"0.8254197239875793\": {\"frequency\": 1, \"value\": 0.8254197239875793}, \"0.7006363868713379\": {\"frequency\": 1, \"value\": 0.7006363868713379}, \"2.666928768157959\": {\"frequency\": 1, \"value\": 2.666928768157959}, \"2.3884050846099854\": {\"frequency\": 1, \"value\": 2.3884050846099854}, \"1.1942204236984253\": {\"frequency\": 1, \"value\": 1.1942204236984253}, \"0.1494693160057068\": {\"frequency\": 1, \"value\": 0.1494693160057068}, \"3.249967575073242\": {\"frequency\": 1, \"value\": 3.249967575073242}, \"1.0989022254943848\": {\"frequency\": 1, \"value\": 1.0989022254943848}, \"1.023093342781067\": {\"frequency\": 1, \"value\": 1.023093342781067}, \"1.7181315422058105\": {\"frequency\": 1, \"value\": 1.7181315422058105}, \"0.14898455142974854\": {\"frequency\": 1, \"value\": 0.14898455142974854}, \"0.8278194665908813\": {\"frequency\": 1, \"value\": 0.8278194665908813}, \"0.1837841272354126\": {\"frequency\": 1, \"value\": 0.1837841272354126}, \"1.666205644607544\": {\"frequency\": 1, \"value\": 1.666205644607544}, \"1.2868417501449585\": {\"frequency\": 1, \"value\": 1.2868417501449585}, \"0.2347812056541443\": {\"frequency\": 1, \"value\": 0.2347812056541443}, \"2.3298707008361816\": {\"frequency\": 1, \"value\": 2.3298707008361816}, \"0.19520902633666992\": {\"frequency\": 1, \"value\": 0.19520902633666992}, \"0.3137526512145996\": {\"frequency\": 1, \"value\": 0.3137526512145996}, \"1.741576910018921\": {\"frequency\": 1, \"value\": 1.741576910018921}, \"0.25894373655319214\": {\"frequency\": 1, \"value\": 0.25894373655319214}, \"0.38324010372161865\": {\"frequency\": 1, \"value\": 0.38324010372161865}, \"0.7629777193069458\": {\"frequency\": 1, \"value\": 0.7629777193069458}, \"0.8686408400535583\": {\"frequency\": 1, \"value\": 0.8686408400535583}, \"0.3255435824394226\": {\"frequency\": 1, \"value\": 0.3255435824394226}, \"0.3281932473182678\": {\"frequency\": 1, \"value\": 0.3281932473182678}, \"0.03896474838256836\": {\"frequency\": 1, \"value\": 0.03896474838256836}, \"2.262855052947998\": {\"frequency\": 1, \"value\": 2.262855052947998}, \"2.1018404960632324\": {\"frequency\": 1, \"value\": 2.1018404960632324}, \"0.37649720907211304\": {\"frequency\": 1, \"value\": 0.37649720907211304}, \"1.5166308879852295\": {\"frequency\": 1, \"value\": 1.5166308879852295}, \"8.35063362121582\": {\"frequency\": 1, \"value\": 8.35063362121582}, \"2.600952625274658\": {\"frequency\": 1, \"value\": 2.600952625274658}, \"1.5514299869537354\": {\"frequency\": 1, \"value\": 1.5514299869537354}, \"0.7474751472473145\": {\"frequency\": 1, \"value\": 0.7474751472473145}, \"1.7069430351257324\": {\"frequency\": 1, \"value\": 1.7069430351257324}, \"0.17647618055343628\": {\"frequency\": 1, \"value\": 0.17647618055343628}, \"2.7223215103149414\": {\"frequency\": 1, \"value\": 2.7223215103149414}, \"1.7467880249023438\": {\"frequency\": 1, \"value\": 1.7467880249023438}, \"0.5549634695053101\": {\"frequency\": 1, \"value\": 0.5549634695053101}, \"0.4833356440067291\": {\"frequency\": 1, \"value\": 0.4833356440067291}, \"4.465211391448975\": {\"frequency\": 1, \"value\": 4.465211391448975}, \"1.0649421215057373\": {\"frequency\": 1, \"value\": 1.0649421215057373}, \"0.5336498618125916\": {\"frequency\": 1, \"value\": 0.5336498618125916}, \"0.28923583030700684\": {\"frequency\": 1, \"value\": 0.28923583030700684}, \"0.2970316410064697\": {\"frequency\": 1, \"value\": 0.2970316410064697}, \"0.4047147035598755\": {\"frequency\": 1, \"value\": 0.4047147035598755}, \"2.281024932861328\": {\"frequency\": 1, \"value\": 2.281024932861328}, \"0.7172513604164124\": {\"frequency\": 1, \"value\": 0.7172513604164124}, \"2.9396400451660156\": {\"frequency\": 1, \"value\": 2.9396400451660156}, \"1.3039257526397705\": {\"frequency\": 1, \"value\": 1.3039257526397705}, \"0.2941250801086426\": {\"frequency\": 1, \"value\": 0.2941250801086426}, \"0.8113753199577332\": {\"frequency\": 1, \"value\": 0.8113753199577332}, \"0.5636268854141235\": {\"frequency\": 1, \"value\": 0.5636268854141235}, \"2.585979461669922\": {\"frequency\": 1, \"value\": 2.585979461669922}, \"3.167025566101074\": {\"frequency\": 1, \"value\": 3.167025566101074}, \"0.21300631761550903\": {\"frequency\": 1, \"value\": 0.21300631761550903}, \"0.774334728717804\": {\"frequency\": 1, \"value\": 0.774334728717804}, \"0.564753532409668\": {\"frequency\": 1, \"value\": 0.564753532409668}, \"1.1177995204925537\": {\"frequency\": 1, \"value\": 1.1177995204925537}, \"1.0527889728546143\": {\"frequency\": 1, \"value\": 1.0527889728546143}, \"2.517575740814209\": {\"frequency\": 1, \"value\": 2.517575740814209}, \"1.7060880661010742\": {\"frequency\": 1, \"value\": 1.7060880661010742}, \"0.7931205034255981\": {\"frequency\": 1, \"value\": 0.7931205034255981}, \"0.07320892810821533\": {\"frequency\": 1, \"value\": 0.07320892810821533}, \"1.1438064575195312\": {\"frequency\": 1, \"value\": 1.1438064575195312}, \"0.21291446685791016\": {\"frequency\": 1, \"value\": 0.21291446685791016}, \"0.8221102356910706\": {\"frequency\": 1, \"value\": 0.8221102356910706}, \"0.022259891033172607\": {\"frequency\": 1, \"value\": 0.022259891033172607}, \"0.818177342414856\": {\"frequency\": 1, \"value\": 0.818177342414856}, \"0.828213095664978\": {\"frequency\": 1, \"value\": 0.828213095664978}, \"1.9060924053192139\": {\"frequency\": 1, \"value\": 1.9060924053192139}, \"2.1602981090545654\": {\"frequency\": 1, \"value\": 2.1602981090545654}, \"0.1700766682624817\": {\"frequency\": 1, \"value\": 0.1700766682624817}, \"0.1548910140991211\": {\"frequency\": 1, \"value\": 0.1548910140991211}, \"1.3343939781188965\": {\"frequency\": 1, \"value\": 1.3343939781188965}, \"0.39973515272140503\": {\"frequency\": 1, \"value\": 0.39973515272140503}, \"3.46091628074646\": {\"frequency\": 1, \"value\": 3.46091628074646}, \"0.9653898477554321\": {\"frequency\": 1, \"value\": 0.9653898477554321}, \"0.5809282660484314\": {\"frequency\": 1, \"value\": 0.5809282660484314}, \"2.083699941635132\": {\"frequency\": 1, \"value\": 2.083699941635132}, \"0.019850850105285645\": {\"frequency\": 1, \"value\": 0.019850850105285645}, \"0.20501554012298584\": {\"frequency\": 1, \"value\": 0.20501554012298584}, \"1.940907597541809\": {\"frequency\": 1, \"value\": 1.940907597541809}, \"2.406841516494751\": {\"frequency\": 1, \"value\": 2.406841516494751}, \"4.253493309020996\": {\"frequency\": 1, \"value\": 4.253493309020996}, \"2.5709919929504395\": {\"frequency\": 1, \"value\": 2.5709919929504395}, \"0.41031724214553833\": {\"frequency\": 1, \"value\": 0.41031724214553833}, \"0.2673606872558594\": {\"frequency\": 1, \"value\": 0.2673606872558594}, \"0.08239084482192993\": {\"frequency\": 1, \"value\": 0.08239084482192993}, \"1.6685149669647217\": {\"frequency\": 1, \"value\": 1.6685149669647217}, \"0.8516545295715332\": {\"frequency\": 1, \"value\": 0.8516545295715332}, \"0.4792209267616272\": {\"frequency\": 1, \"value\": 0.4792209267616272}, \"6.29194450378418\": {\"frequency\": 1, \"value\": 6.29194450378418}, \"0.7868478894233704\": {\"frequency\": 1, \"value\": 0.7868478894233704}, \"2.9611926078796387\": {\"frequency\": 1, \"value\": 2.9611926078796387}, \"2.2206549644470215\": {\"frequency\": 1, \"value\": 2.2206549644470215}, \"1.7744786739349365\": {\"frequency\": 1, \"value\": 1.7744786739349365}, \"2.148883104324341\": {\"frequency\": 1, \"value\": 2.148883104324341}, \"0.49022194743156433\": {\"frequency\": 1, \"value\": 0.49022194743156433}, \"0.04036545753479004\": {\"frequency\": 1, \"value\": 0.04036545753479004}, \"1.3712959289550781\": {\"frequency\": 1, \"value\": 1.3712959289550781}, \"0.5194164514541626\": {\"frequency\": 1, \"value\": 0.5194164514541626}, \"0.47068262100219727\": {\"frequency\": 1, \"value\": 0.47068262100219727}, \"2.786721706390381\": {\"frequency\": 1, \"value\": 2.786721706390381}, \"1.723599910736084\": {\"frequency\": 1, \"value\": 1.723599910736084}, \"2.0222249031066895\": {\"frequency\": 1, \"value\": 2.0222249031066895}, \"0.9698545336723328\": {\"frequency\": 1, \"value\": 0.9698545336723328}, \"0.17963266372680664\": {\"frequency\": 1, \"value\": 0.17963266372680664}, \"1.4367969036102295\": {\"frequency\": 1, \"value\": 1.4367969036102295}, \"2.6416406631469727\": {\"frequency\": 1, \"value\": 2.6416406631469727}, \"1.4412248134613037\": {\"frequency\": 1, \"value\": 1.4412248134613037}, \"1.664922833442688\": {\"frequency\": 1, \"value\": 1.664922833442688}, \"0.17620408535003662\": {\"frequency\": 1, \"value\": 0.17620408535003662}, \"0.4529913067817688\": {\"frequency\": 1, \"value\": 0.4529913067817688}, \"1.3405072689056396\": {\"frequency\": 1, \"value\": 1.3405072689056396}, \"2.668771266937256\": {\"frequency\": 1, \"value\": 2.668771266937256}, \"1.5601929426193237\": {\"frequency\": 1, \"value\": 1.5601929426193237}, \"0.3586837649345398\": {\"frequency\": 1, \"value\": 0.3586837649345398}, \"0.8584847450256348\": {\"frequency\": 1, \"value\": 0.8584847450256348}, \"0.9298744201660156\": {\"frequency\": 1, \"value\": 0.9298744201660156}, \"0.34625065326690674\": {\"frequency\": 1, \"value\": 0.34625065326690674}, \"2.1639504432678223\": {\"frequency\": 1, \"value\": 2.1639504432678223}, \"0.43198275566101074\": {\"frequency\": 1, \"value\": 0.43198275566101074}, \"1.458234190940857\": {\"frequency\": 1, \"value\": 1.458234190940857}, \"0.3155641555786133\": {\"frequency\": 1, \"value\": 0.3155641555786133}, \"0.04511517286300659\": {\"frequency\": 1, \"value\": 0.04511517286300659}, \"0.13070935010910034\": {\"frequency\": 1, \"value\": 0.13070935010910034}, \"0.8785746097564697\": {\"frequency\": 1, \"value\": 0.8785746097564697}, \"1.8568947315216064\": {\"frequency\": 1, \"value\": 1.8568947315216064}, \"0.6346296072006226\": {\"frequency\": 1, \"value\": 0.6346296072006226}, \"0.8563097715377808\": {\"frequency\": 1, \"value\": 0.8563097715377808}, \"1.2946832180023193\": {\"frequency\": 1, \"value\": 1.2946832180023193}, \"1.1758275032043457\": {\"frequency\": 1, \"value\": 1.1758275032043457}, \"0.8455246686935425\": {\"frequency\": 1, \"value\": 0.8455246686935425}, \"7.18171501159668\": {\"frequency\": 1, \"value\": 7.18171501159668}, \"3.254547357559204\": {\"frequency\": 1, \"value\": 3.254547357559204}, \"0.8267319202423096\": {\"frequency\": 1, \"value\": 0.8267319202423096}, \"0.35417699813842773\": {\"frequency\": 1, \"value\": 0.35417699813842773}, \"1.0346382856369019\": {\"frequency\": 1, \"value\": 1.0346382856369019}, \"1.7927000522613525\": {\"frequency\": 1, \"value\": 1.7927000522613525}, \"0.1663914918899536\": {\"frequency\": 1, \"value\": 0.1663914918899536}, \"0.3489106297492981\": {\"frequency\": 1, \"value\": 0.3489106297492981}, \"2.8852086067199707\": {\"frequency\": 1, \"value\": 2.8852086067199707}, \"0.44492876529693604\": {\"frequency\": 1, \"value\": 0.44492876529693604}, \"0.04214644432067871\": {\"frequency\": 1, \"value\": 0.04214644432067871}, \"0.2315363883972168\": {\"frequency\": 1, \"value\": 0.2315363883972168}, \"0.5052064657211304\": {\"frequency\": 1, \"value\": 0.5052064657211304}, \"0.07170242071151733\": {\"frequency\": 1, \"value\": 0.07170242071151733}, \"3.1260085105895996\": {\"frequency\": 1, \"value\": 3.1260085105895996}, \"2.9692206382751465\": {\"frequency\": 1, \"value\": 2.9692206382751465}, \"0.03455382585525513\": {\"frequency\": 1, \"value\": 0.03455382585525513}, \"1.6050711870193481\": {\"frequency\": 1, \"value\": 1.6050711870193481}, \"0.07272994518280029\": {\"frequency\": 1, \"value\": 0.07272994518280029}, \"0.506473183631897\": {\"frequency\": 1, \"value\": 0.506473183631897}, \"0.36354243755340576\": {\"frequency\": 1, \"value\": 0.36354243755340576}, \"1.1580041646957397\": {\"frequency\": 1, \"value\": 1.1580041646957397}, \"1.7929425239562988\": {\"frequency\": 1, \"value\": 1.7929425239562988}, \"0.7678334712982178\": {\"frequency\": 1, \"value\": 0.7678334712982178}, \"1.4521480798721313\": {\"frequency\": 1, \"value\": 1.4521480798721313}, \"0.2690630555152893\": {\"frequency\": 1, \"value\": 0.2690630555152893}, \"2.89390230178833\": {\"frequency\": 1, \"value\": 2.89390230178833}, \"1.4251782894134521\": {\"frequency\": 1, \"value\": 1.4251782894134521}, \"1.9298722743988037\": {\"frequency\": 1, \"value\": 1.9298722743988037}, \"0.5447362065315247\": {\"frequency\": 1, \"value\": 0.5447362065315247}, \"2.212005376815796\": {\"frequency\": 1, \"value\": 2.212005376815796}, \"0.017455458641052246\": {\"frequency\": 1, \"value\": 0.017455458641052246}, \"1.2398786544799805\": {\"frequency\": 1, \"value\": 1.2398786544799805}, \"1.3920345306396484\": {\"frequency\": 1, \"value\": 1.3920345306396484}, \"1.0436007976531982\": {\"frequency\": 1, \"value\": 1.0436007976531982}, \"2.4632725715637207\": {\"frequency\": 1, \"value\": 2.4632725715637207}, \"0.9217624068260193\": {\"frequency\": 1, \"value\": 0.9217624068260193}, \"0.6667813658714294\": {\"frequency\": 1, \"value\": 0.6667813658714294}, \"0.8410112261772156\": {\"frequency\": 1, \"value\": 0.8410112261772156}, \"0.10923504829406738\": {\"frequency\": 1, \"value\": 0.10923504829406738}, \"1.858663558959961\": {\"frequency\": 1, \"value\": 1.858663558959961}, \"0.35502445697784424\": {\"frequency\": 1, \"value\": 0.35502445697784424}, \"1.6101405620574951\": {\"frequency\": 1, \"value\": 1.6101405620574951}, \"1.9194341897964478\": {\"frequency\": 1, \"value\": 1.9194341897964478}, \"0.17632246017456055\": {\"frequency\": 1, \"value\": 0.17632246017456055}, \"0.12564432621002197\": {\"frequency\": 1, \"value\": 0.12564432621002197}, \"0.6155014038085938\": {\"frequency\": 1, \"value\": 0.6155014038085938}, \"2.363363742828369\": {\"frequency\": 1, \"value\": 2.363363742828369}, \"0.33131080865859985\": {\"frequency\": 1, \"value\": 0.33131080865859985}, \"0.9906551837921143\": {\"frequency\": 1, \"value\": 0.9906551837921143}, \"2.5274369716644287\": {\"frequency\": 1, \"value\": 2.5274369716644287}, \"0.16152238845825195\": {\"frequency\": 1, \"value\": 0.16152238845825195}, \"0.4592460095882416\": {\"frequency\": 1, \"value\": 0.4592460095882416}, \"2.8052964210510254\": {\"frequency\": 1, \"value\": 2.8052964210510254}, \"0.06619882583618164\": {\"frequency\": 1, \"value\": 0.06619882583618164}, \"1.8968019485473633\": {\"frequency\": 1, \"value\": 1.8968019485473633}, \"0.7625095844268799\": {\"frequency\": 1, \"value\": 0.7625095844268799}, \"1.295380711555481\": {\"frequency\": 1, \"value\": 1.295380711555481}, \"2.989561080932617\": {\"frequency\": 1, \"value\": 2.989561080932617}, \"0.29786139726638794\": {\"frequency\": 1, \"value\": 0.29786139726638794}, \"0.15039008855819702\": {\"frequency\": 1, \"value\": 0.15039008855819702}, \"0.13945800065994263\": {\"frequency\": 1, \"value\": 0.13945800065994263}, \"3.418978452682495\": {\"frequency\": 1, \"value\": 3.418978452682495}, \"2.0302178859710693\": {\"frequency\": 1, \"value\": 2.0302178859710693}, \"1.0209424495697021\": {\"frequency\": 1, \"value\": 1.0209424495697021}, \"1.1254260540008545\": {\"frequency\": 1, \"value\": 1.1254260540008545}, \"0.46384793519973755\": {\"frequency\": 1, \"value\": 0.46384793519973755}, \"0.8865827322006226\": {\"frequency\": 1, \"value\": 0.8865827322006226}, \"0.528086245059967\": {\"frequency\": 1, \"value\": 0.528086245059967}, \"0.8140960931777954\": {\"frequency\": 1, \"value\": 0.8140960931777954}, \"0.3469538688659668\": {\"frequency\": 1, \"value\": 0.3469538688659668}, \"0.70085608959198\": {\"frequency\": 1, \"value\": 0.70085608959198}, \"0.004077911376953125\": {\"frequency\": 1, \"value\": 0.004077911376953125}, \"1.9338940382003784\": {\"frequency\": 1, \"value\": 1.9338940382003784}, \"4.487648010253906\": {\"frequency\": 1, \"value\": 4.487648010253906}, \"0.5430670976638794\": {\"frequency\": 1, \"value\": 0.5430670976638794}, \"0.19679391384124756\": {\"frequency\": 1, \"value\": 0.19679391384124756}, \"2.002943277359009\": {\"frequency\": 1, \"value\": 2.002943277359009}, \"3.4238476753234863\": {\"frequency\": 1, \"value\": 3.4238476753234863}, \"1.300524115562439\": {\"frequency\": 1, \"value\": 1.300524115562439}, \"2.1203384399414062\": {\"frequency\": 1, \"value\": 2.1203384399414062}, \"0.9665141105651855\": {\"frequency\": 1, \"value\": 0.9665141105651855}, \"1.460764765739441\": {\"frequency\": 1, \"value\": 1.460764765739441}, \"0.42526113986968994\": {\"frequency\": 1, \"value\": 0.42526113986968994}, \"1.0613294839859009\": {\"frequency\": 1, \"value\": 1.0613294839859009}, \"4.207921981811523\": {\"frequency\": 1, \"value\": 4.207921981811523}, \"1.0954879522323608\": {\"frequency\": 1, \"value\": 1.0954879522323608}, \"1.0466943979263306\": {\"frequency\": 1, \"value\": 1.0466943979263306}, \"1.141148328781128\": {\"frequency\": 1, \"value\": 1.141148328781128}, \"3.2604660987854004\": {\"frequency\": 1, \"value\": 3.2604660987854004}, \"1.6237483024597168\": {\"frequency\": 1, \"value\": 1.6237483024597168}, \"1.2849223613739014\": {\"frequency\": 1, \"value\": 1.2849223613739014}, \"1.615020751953125\": {\"frequency\": 1, \"value\": 1.615020751953125}, \"0.4525526762008667\": {\"frequency\": 1, \"value\": 0.4525526762008667}, \"1.422399878501892\": {\"frequency\": 1, \"value\": 1.422399878501892}, \"0.40520358085632324\": {\"frequency\": 1, \"value\": 0.40520358085632324}, \"0.11332178115844727\": {\"frequency\": 1, \"value\": 0.11332178115844727}, \"0.40646207332611084\": {\"frequency\": 1, \"value\": 0.40646207332611084}, \"0.3721739649772644\": {\"frequency\": 1, \"value\": 0.3721739649772644}, \"4.977673053741455\": {\"frequency\": 1, \"value\": 4.977673053741455}, \"0.6555958986282349\": {\"frequency\": 1, \"value\": 0.6555958986282349}, \"0.8139300346374512\": {\"frequency\": 1, \"value\": 0.8139300346374512}, \"0.6983045935630798\": {\"frequency\": 1, \"value\": 0.6983045935630798}, \"0.5230766534805298\": {\"frequency\": 1, \"value\": 0.5230766534805298}, \"0.1454986333847046\": {\"frequency\": 1, \"value\": 0.1454986333847046}, \"2.975670337677002\": {\"frequency\": 1, \"value\": 2.975670337677002}, \"1.0219621658325195\": {\"frequency\": 1, \"value\": 1.0219621658325195}, \"0.9867684841156006\": {\"frequency\": 1, \"value\": 0.9867684841156006}, \"3.116129159927368\": {\"frequency\": 1, \"value\": 3.116129159927368}, \"0.09445548057556152\": {\"frequency\": 1, \"value\": 0.09445548057556152}, \"2.0299978256225586\": {\"frequency\": 1, \"value\": 2.0299978256225586}, \"0.19048064947128296\": {\"frequency\": 1, \"value\": 0.19048064947128296}, \"1.4899080991744995\": {\"frequency\": 1, \"value\": 1.4899080991744995}, \"1.7494696378707886\": {\"frequency\": 1, \"value\": 1.7494696378707886}, \"0.34618079662323\": {\"frequency\": 1, \"value\": 0.34618079662323}, \"1.2317771911621094\": {\"frequency\": 1, \"value\": 1.2317771911621094}, \"1.9932008981704712\": {\"frequency\": 1, \"value\": 1.9932008981704712}, \"3.8322832584381104\": {\"frequency\": 1, \"value\": 3.8322832584381104}, \"1.7563526630401611\": {\"frequency\": 1, \"value\": 1.7563526630401611}, \"3.345726490020752\": {\"frequency\": 1, \"value\": 3.345726490020752}, \"0.0054495930671691895\": {\"frequency\": 1, \"value\": 0.0054495930671691895}, \"0.029063045978546143\": {\"frequency\": 1, \"value\": 0.029063045978546143}, \"0.9768251776695251\": {\"frequency\": 1, \"value\": 0.9768251776695251}, \"1.2278331518173218\": {\"frequency\": 1, \"value\": 1.2278331518173218}, \"0.25540876388549805\": {\"frequency\": 1, \"value\": 0.25540876388549805}, \"0.31854164600372314\": {\"frequency\": 1, \"value\": 0.31854164600372314}, \"0.25923246145248413\": {\"frequency\": 1, \"value\": 0.25923246145248413}, \"1.4226806163787842\": {\"frequency\": 1, \"value\": 1.4226806163787842}, \"2.1689915657043457\": {\"frequency\": 1, \"value\": 2.1689915657043457}, \"0.34849172830581665\": {\"frequency\": 1, \"value\": 0.34849172830581665}, \"0.4396279454231262\": {\"frequency\": 1, \"value\": 0.4396279454231262}, \"0.6821885108947754\": {\"frequency\": 1, \"value\": 0.6821885108947754}, \"1.8419506549835205\": {\"frequency\": 1, \"value\": 1.8419506549835205}, \"0.45101726055145264\": {\"frequency\": 1, \"value\": 0.45101726055145264}, \"1.8482012748718262\": {\"frequency\": 1, \"value\": 1.8482012748718262}, \"0.6374448537826538\": {\"frequency\": 1, \"value\": 0.6374448537826538}, \"0.2105158567428589\": {\"frequency\": 1, \"value\": 0.2105158567428589}, \"2.9216561317443848\": {\"frequency\": 1, \"value\": 2.9216561317443848}, \"0.3730793595314026\": {\"frequency\": 1, \"value\": 0.3730793595314026}, \"1.671857476234436\": {\"frequency\": 1, \"value\": 1.671857476234436}, \"1.6278585195541382\": {\"frequency\": 1, \"value\": 1.6278585195541382}, \"1.9090545177459717\": {\"frequency\": 1, \"value\": 1.9090545177459717}, \"0.36457765102386475\": {\"frequency\": 1, \"value\": 0.36457765102386475}, \"1.7680840492248535\": {\"frequency\": 1, \"value\": 1.7680840492248535}, \"0.6018306016921997\": {\"frequency\": 1, \"value\": 0.6018306016921997}, \"1.5300633907318115\": {\"frequency\": 1, \"value\": 1.5300633907318115}, \"0.3623925447463989\": {\"frequency\": 1, \"value\": 0.3623925447463989}, \"1.1847970485687256\": {\"frequency\": 1, \"value\": 1.1847970485687256}, \"0.1379222869873047\": {\"frequency\": 1, \"value\": 0.1379222869873047}, \"4.327995300292969\": {\"frequency\": 1, \"value\": 4.327995300292969}, \"0.1220555305480957\": {\"frequency\": 1, \"value\": 0.1220555305480957}, \"2.4129385948181152\": {\"frequency\": 1, \"value\": 2.4129385948181152}, \"3.209240198135376\": {\"frequency\": 1, \"value\": 3.209240198135376}, \"1.1005973815917969\": {\"frequency\": 1, \"value\": 1.1005973815917969}, \"0.20078063011169434\": {\"frequency\": 1, \"value\": 0.20078063011169434}, \"0.590852677822113\": {\"frequency\": 1, \"value\": 0.590852677822113}, \"3.4602742195129395\": {\"frequency\": 1, \"value\": 3.4602742195129395}, \"2.229696750640869\": {\"frequency\": 1, \"value\": 2.229696750640869}, \"1.1171255111694336\": {\"frequency\": 1, \"value\": 1.1171255111694336}, \"0.1151384711265564\": {\"frequency\": 1, \"value\": 0.1151384711265564}, \"1.8345417976379395\": {\"frequency\": 1, \"value\": 1.8345417976379395}, \"2.5614216327667236\": {\"frequency\": 1, \"value\": 2.5614216327667236}, \"1.2618992328643799\": {\"frequency\": 1, \"value\": 1.2618992328643799}, \"0.81761234998703\": {\"frequency\": 1, \"value\": 0.81761234998703}, \"2.9967169761657715\": {\"frequency\": 1, \"value\": 2.9967169761657715}, \"1.855116605758667\": {\"frequency\": 1, \"value\": 1.855116605758667}, \"0.9821123480796814\": {\"frequency\": 1, \"value\": 0.9821123480796814}, \"0.45931339263916016\": {\"frequency\": 1, \"value\": 0.45931339263916016}, \"4.487911224365234\": {\"frequency\": 1, \"value\": 4.487911224365234}, \"0.8089332580566406\": {\"frequency\": 1, \"value\": 0.8089332580566406}, \"2.2055492401123047\": {\"frequency\": 1, \"value\": 2.2055492401123047}, \"0.11497992277145386\": {\"frequency\": 1, \"value\": 0.11497992277145386}, \"0.4501016438007355\": {\"frequency\": 1, \"value\": 0.4501016438007355}, \"0.6732250452041626\": {\"frequency\": 1, \"value\": 0.6732250452041626}, \"0.10190105438232422\": {\"frequency\": 1, \"value\": 0.10190105438232422}, \"0.3294207453727722\": {\"frequency\": 1, \"value\": 0.3294207453727722}, \"2.183516263961792\": {\"frequency\": 1, \"value\": 2.183516263961792}, \"1.140148401260376\": {\"frequency\": 1, \"value\": 1.140148401260376}, \"2.0232057571411133\": {\"frequency\": 1, \"value\": 2.0232057571411133}, \"0.14348214864730835\": {\"frequency\": 1, \"value\": 0.14348214864730835}, \"0.7627983093261719\": {\"frequency\": 1, \"value\": 0.7627983093261719}, \"0.8961675763130188\": {\"frequency\": 1, \"value\": 0.8961675763130188}, \"0.23575949668884277\": {\"frequency\": 1, \"value\": 0.23575949668884277}, \"0.00460505485534668\": {\"frequency\": 1, \"value\": 0.00460505485534668}}, \"mean\": 0.346013628564834}, \"image\": {\"progress\": 1.0, \"num_undefined\": 0, \"complete\": true, \"samples\": [{\"format\": \"png\", \"value\": \"image/png;base64,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\\n\", \"height\": 32, \"channels\": 3, \"width\": 32, \"type\": \"image\", \"id\": 1768765760}]}, \"id\": {\"std\": 0.0, \"complete\": true, \"min\": 50000.0, \"max\": 50000.0, \"quantile\": [50000.0, 50000.0, 50000.0, 50000.0, 50000.0, 50000.0, 50000.0, 50000.0, 50000.0, 50000.0, 50000.0, 50000.0, 50000.0, 50000.0, 50000.0, 50000.0, 50000.0, 50000.0, 50000.0, 50000.0, 50000.0, 50000.0, 50000.0, 50000.0, 50000.0, 50000.0, 50000.0, 50000.0, 50000.0, 50000.0, 50000.0, 50000.0, 50000.0, 50000.0, 50000.0, 50000.0, 50000.0, 50000.0, 50000.0, 50000.0, 50000.0, 50000.0, 50000.0, 50000.0, 50000.0, 50000.0, 50000.0, 50000.0, 50000.0, 50000.0, 50000.0, 50000.0, 50000.0, 50000.0, 50000.0, 50000.0, 50000.0, 50000.0, 50000.0, 50000.0, 50000.0, 50000.0, 50000.0, 50000.0, 50000.0, 50000.0, 50000.0, 50000.0, 50000.0, 50000.0, 50000.0, 50000.0, 50000.0, 50000.0, 50000.0, 50000.0, 50000.0, 50000.0, 50000.0, 50000.0, 50000.0, 50000.0, 50000.0, 50000.0, 50000.0, 50000.0, 50000.0, 50000.0, 50000.0, 50000.0, 50000.0, 50000.0, 50000.0, 50000.0, 50000.0, 50000.0, 50000.0, 50000.0, 50000.0, 50000.0, 50000.0], \"median\": 50000.0, \"numeric\": true, \"num_unique\": 1, \"num_undefined\": 0, \"var\": 0.0, \"progress\": 1.0, \"size\": 1, \"frequent_items\": {\"50000\": {\"frequency\": 1, \"value\": 50000}}, \"mean\": 50000.0}, \"label\": {\"complete\": true, \"numeric\": false, \"num_unique\": 1, \"num_undefined\": 0, \"progress\": 1.0, \"frequent_items\": {\"me\": {\"frequency\": 1, \"value\": \"me\"}}, \"size\": 1}}, \"selected_variable\": {\"name\": [\"ppsf\"], \"descriptives\": {\"rows\": 1, \"columns\": 4}, \"view_component\": \"Summary\", \"view_file\": \"sframe\", \"view_params\": {\"y\": null, \"x\": null, \"columns\": [\"image\", \"deep_features\", \"label\", \"id\"], \"view\": null}, \"view_components\": [\"Summary\", \"Table\", \"Bar Chart\", \"BoxWhisker Plot\", \"Line Chart\", \"Scatter Plot\", \"Heat Map\", \"Plots\"], \"type\": \"SFrame\", \"columns\": [{\"dtype\": \"Image\", \"name\": \"image\"}, {\"dtype\": \"array\", \"name\": \"deep_features\"}, {\"dtype\": \"str\", \"name\": \"label\"}, {\"dtype\": \"int\", \"name\": \"id\"}], \"column_identifiers\": [\"deep_features\", \"image\", \"id\", \"label\"]}, \"columns\": [{\"dtype\": \"Image\", \"name\": \"image\"}, {\"dtype\": \"array\", \"name\": \"deep_features\"}, {\"dtype\": \"str\", \"name\": \"label\"}, {\"dtype\": \"int\", \"name\": \"id\"}]}, e);\n",
       "                });\n",
       "            })();\n",
       "        "
      ]
     },
     "metadata": {},
     "output_type": "display_data"
    }
   ],
   "source": [
    "ppsf.show()"
   ]
  },
  {
   "cell_type": "code",
   "execution_count": 122,
   "metadata": {
    "collapsed": false
   },
   "outputs": [
    {
     "data": {
      "text/html": [
       "<pre>Starting brute force nearest neighbors model training.</pre>"
      ],
      "text/plain": [
       "Starting brute force nearest neighbors model training."
      ]
     },
     "metadata": {},
     "output_type": "display_data"
    }
   ],
   "source": [
    "knn_model = graphlab.nearest_neighbors.create(new_train,features=['deep_features'],label='id')"
   ]
  },
  {
   "cell_type": "code",
   "execution_count": 106,
   "metadata": {
    "collapsed": false
   },
   "outputs": [
    {
     "data": {
      "application/javascript": [
       "$(\"head\").append($(\"<link/>\").attr({\n",
       "  rel:  \"stylesheet\",\n",
       "  type: \"text/css\",\n",
       "  href: \"//cdnjs.cloudflare.com/ajax/libs/font-awesome/4.1.0/css/font-awesome.min.css\"\n",
       "}));\n",
       "$(\"head\").append($(\"<link/>\").attr({\n",
       "  rel:  \"stylesheet\",\n",
       "  type: \"text/css\",\n",
       "  href: \"https://static.turi.com/products/graphlab-create/2.1/canvas/css/canvas.css\"\n",
       "}));\n",
       "\n",
       "            (function(){\n",
       "\n",
       "                var e = null;\n",
       "                if (typeof element == 'undefined') {\n",
       "                    var scripts = document.getElementsByTagName('script');\n",
       "                    var thisScriptTag = scripts[scripts.length-1];\n",
       "                    var parentDiv = thisScriptTag.parentNode;\n",
       "                    e = document.createElement('div');\n",
       "                    parentDiv.appendChild(e);\n",
       "                } else {\n",
       "                    e = element[0];\n",
       "                }\n",
       "\n",
       "                if (typeof requirejs !== 'undefined') {\n",
       "                    // disable load timeout; ipython_app.js is large and can take a while to load.\n",
       "                    requirejs.config({waitSeconds: 0});\n",
       "                }\n",
       "\n",
       "                require(['https://static.turi.com/products/graphlab-create/2.1/canvas/js/ipython_app.js'], function(IPythonApp){\n",
       "                    var app = new IPythonApp();\n",
       "                    app.attachView('sarray','Images', {\"ipython\": true, \"rows\": [{\"format\": \"png\", \"value\": \"image/png;base64,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\\n\", \"height\": 96, \"channels\": 3, \"width\": 96, \"type\": \"image\", \"id\": 1290213136}], \"selected_variable\": {\"name\": [\"<SArray>\"], \"dtype\": \"Image\", \"view_component\": \"Images\", \"view_file\": \"sarray\", \"descriptives\": {\"rows\": 1}, \"type\": \"SArray\", \"view_components\": [\"Images\"]}}, e);\n",
       "                });\n",
       "            })();\n",
       "        "
      ]
     },
     "metadata": {},
     "output_type": "display_data"
    }
   ],
   "source": [
    "cat_test = new_train[-2:-1]\n",
    "graphlab.image_analysis.resize(cat_test['image'], 96,96).show()"
   ]
  },
  {
   "cell_type": "code",
   "execution_count": 86,
   "metadata": {
    "collapsed": false
   },
   "outputs": [
    {
     "data": {
      "text/html": [
       "<pre>Starting pairwise querying.</pre>"
      ],
      "text/plain": [
       "Starting pairwise querying."
      ]
     },
     "metadata": {},
     "output_type": "display_data"
    },
    {
     "data": {
      "text/html": [
       "<pre>+--------------+---------+-------------+--------------+</pre>"
      ],
      "text/plain": [
       "+--------------+---------+-------------+--------------+"
      ]
     },
     "metadata": {},
     "output_type": "display_data"
    },
    {
     "data": {
      "text/html": [
       "<pre>| Query points | # Pairs | % Complete. | Elapsed Time |</pre>"
      ],
      "text/plain": [
       "| Query points | # Pairs | % Complete. | Elapsed Time |"
      ]
     },
     "metadata": {},
     "output_type": "display_data"
    },
    {
     "data": {
      "text/html": [
       "<pre>+--------------+---------+-------------+--------------+</pre>"
      ],
      "text/plain": [
       "+--------------+---------+-------------+--------------+"
      ]
     },
     "metadata": {},
     "output_type": "display_data"
    },
    {
     "data": {
      "text/html": [
       "<pre>| 0            | 1       | 0.0498504   | 8ms          |</pre>"
      ],
      "text/plain": [
       "| 0            | 1       | 0.0498504   | 8ms          |"
      ]
     },
     "metadata": {},
     "output_type": "display_data"
    },
    {
     "data": {
      "text/html": [
       "<pre>| Done         |         | 100         | 118ms        |</pre>"
      ],
      "text/plain": [
       "| Done         |         | 100         | 118ms        |"
      ]
     },
     "metadata": {},
     "output_type": "display_data"
    },
    {
     "data": {
      "text/html": [
       "<pre>+--------------+---------+-------------+--------------+</pre>"
      ],
      "text/plain": [
       "+--------------+---------+-------------+--------------+"
      ]
     },
     "metadata": {},
     "output_type": "display_data"
    },
    {
     "data": {
      "text/html": [
       "<div style=\"max-height:1000px;max-width:1500px;overflow:auto;\"><table frame=\"box\" rules=\"cols\">\n",
       "    <tr>\n",
       "        <th style=\"padding-left: 1em; padding-right: 1em; text-align: center\">query_label</th>\n",
       "        <th style=\"padding-left: 1em; padding-right: 1em; text-align: center\">reference_label</th>\n",
       "        <th style=\"padding-left: 1em; padding-right: 1em; text-align: center\">distance</th>\n",
       "        <th style=\"padding-left: 1em; padding-right: 1em; text-align: center\">rank</th>\n",
       "    </tr>\n",
       "    <tr>\n",
       "        <td style=\"padding-left: 1em; padding-right: 1em; text-align: center; vertical-align: top\">0</td>\n",
       "        <td style=\"padding-left: 1em; padding-right: 1em; text-align: center; vertical-align: top\">49970</td>\n",
       "        <td style=\"padding-left: 1em; padding-right: 1em; text-align: center; vertical-align: top\">0.0</td>\n",
       "        <td style=\"padding-left: 1em; padding-right: 1em; text-align: center; vertical-align: top\">1</td>\n",
       "    </tr>\n",
       "    <tr>\n",
       "        <td style=\"padding-left: 1em; padding-right: 1em; text-align: center; vertical-align: top\">0</td>\n",
       "        <td style=\"padding-left: 1em; padding-right: 1em; text-align: center; vertical-align: top\">6186</td>\n",
       "        <td style=\"padding-left: 1em; padding-right: 1em; text-align: center; vertical-align: top\">38.0348505275</td>\n",
       "        <td style=\"padding-left: 1em; padding-right: 1em; text-align: center; vertical-align: top\">2</td>\n",
       "    </tr>\n",
       "    <tr>\n",
       "        <td style=\"padding-left: 1em; padding-right: 1em; text-align: center; vertical-align: top\">0</td>\n",
       "        <td style=\"padding-left: 1em; padding-right: 1em; text-align: center; vertical-align: top\">15882</td>\n",
       "        <td style=\"padding-left: 1em; padding-right: 1em; text-align: center; vertical-align: top\">39.0333337944</td>\n",
       "        <td style=\"padding-left: 1em; padding-right: 1em; text-align: center; vertical-align: top\">3</td>\n",
       "    </tr>\n",
       "    <tr>\n",
       "        <td style=\"padding-left: 1em; padding-right: 1em; text-align: center; vertical-align: top\">0</td>\n",
       "        <td style=\"padding-left: 1em; padding-right: 1em; text-align: center; vertical-align: top\">24302</td>\n",
       "        <td style=\"padding-left: 1em; padding-right: 1em; text-align: center; vertical-align: top\">40.5205578019</td>\n",
       "        <td style=\"padding-left: 1em; padding-right: 1em; text-align: center; vertical-align: top\">4</td>\n",
       "    </tr>\n",
       "    <tr>\n",
       "        <td style=\"padding-left: 1em; padding-right: 1em; text-align: center; vertical-align: top\">0</td>\n",
       "        <td style=\"padding-left: 1em; padding-right: 1em; text-align: center; vertical-align: top\">16289</td>\n",
       "        <td style=\"padding-left: 1em; padding-right: 1em; text-align: center; vertical-align: top\">40.6156967032</td>\n",
       "        <td style=\"padding-left: 1em; padding-right: 1em; text-align: center; vertical-align: top\">5</td>\n",
       "    </tr>\n",
       "</table>\n",
       "[5 rows x 4 columns]<br/>\n",
       "</div>"
      ],
      "text/plain": [
       "Columns:\n",
       "\tquery_label\tint\n",
       "\treference_label\tint\n",
       "\tdistance\tfloat\n",
       "\trank\tint\n",
       "\n",
       "Rows: 5\n",
       "\n",
       "Data:\n",
       "+-------------+-----------------+---------------+------+\n",
       "| query_label | reference_label |    distance   | rank |\n",
       "+-------------+-----------------+---------------+------+\n",
       "|      0      |      49970      |      0.0      |  1   |\n",
       "|      0      |       6186      | 38.0348505275 |  2   |\n",
       "|      0      |      15882      | 39.0333337944 |  3   |\n",
       "|      0      |      24302      | 40.5205578019 |  4   |\n",
       "|      0      |      16289      | 40.6156967032 |  5   |\n",
       "+-------------+-----------------+---------------+------+\n",
       "[5 rows x 4 columns]"
      ]
     },
     "execution_count": 86,
     "metadata": {},
     "output_type": "execute_result"
    }
   ],
   "source": [
    "sim_frame = knn_model.query(cat_test)\n",
    "sim_frame"
   ]
  },
  {
   "cell_type": "code",
   "execution_count": 87,
   "metadata": {
    "collapsed": false
   },
   "outputs": [
    {
     "data": {
      "text/html": [
       "<pre>Starting pairwise querying.</pre>"
      ],
      "text/plain": [
       "Starting pairwise querying."
      ]
     },
     "metadata": {},
     "output_type": "display_data"
    },
    {
     "data": {
      "text/html": [
       "<pre>+--------------+---------+-------------+--------------+</pre>"
      ],
      "text/plain": [
       "+--------------+---------+-------------+--------------+"
      ]
     },
     "metadata": {},
     "output_type": "display_data"
    },
    {
     "data": {
      "text/html": [
       "<pre>| Query points | # Pairs | % Complete. | Elapsed Time |</pre>"
      ],
      "text/plain": [
       "| Query points | # Pairs | % Complete. | Elapsed Time |"
      ]
     },
     "metadata": {},
     "output_type": "display_data"
    },
    {
     "data": {
      "text/html": [
       "<pre>+--------------+---------+-------------+--------------+</pre>"
      ],
      "text/plain": [
       "+--------------+---------+-------------+--------------+"
      ]
     },
     "metadata": {},
     "output_type": "display_data"
    },
    {
     "data": {
      "text/html": [
       "<pre>| 0            | 1       | 0.0498504   | 18ms         |</pre>"
      ],
      "text/plain": [
       "| 0            | 1       | 0.0498504   | 18ms         |"
      ]
     },
     "metadata": {},
     "output_type": "display_data"
    },
    {
     "data": {
      "text/html": [
       "<pre>| Done         |         | 100         | 129ms        |</pre>"
      ],
      "text/plain": [
       "| Done         |         | 100         | 129ms        |"
      ]
     },
     "metadata": {},
     "output_type": "display_data"
    },
    {
     "data": {
      "text/html": [
       "<pre>+--------------+---------+-------------+--------------+</pre>"
      ],
      "text/plain": [
       "+--------------+---------+-------------+--------------+"
      ]
     },
     "metadata": {},
     "output_type": "display_data"
    },
    {
     "data": {
      "application/javascript": [
       "$(\"head\").append($(\"<link/>\").attr({\n",
       "  rel:  \"stylesheet\",\n",
       "  type: \"text/css\",\n",
       "  href: \"//cdnjs.cloudflare.com/ajax/libs/font-awesome/4.1.0/css/font-awesome.min.css\"\n",
       "}));\n",
       "$(\"head\").append($(\"<link/>\").attr({\n",
       "  rel:  \"stylesheet\",\n",
       "  type: \"text/css\",\n",
       "  href: \"https://static.turi.com/products/graphlab-create/2.1/canvas/css/canvas.css\"\n",
       "}));\n",
       "\n",
       "            (function(){\n",
       "\n",
       "                var e = null;\n",
       "                if (typeof element == 'undefined') {\n",
       "                    var scripts = document.getElementsByTagName('script');\n",
       "                    var thisScriptTag = scripts[scripts.length-1];\n",
       "                    var parentDiv = thisScriptTag.parentNode;\n",
       "                    e = document.createElement('div');\n",
       "                    parentDiv.appendChild(e);\n",
       "                } else {\n",
       "                    e = element[0];\n",
       "                }\n",
       "\n",
       "                if (typeof requirejs !== 'undefined') {\n",
       "                    // disable load timeout; ipython_app.js is large and can take a while to load.\n",
       "                    requirejs.config({waitSeconds: 0});\n",
       "                }\n",
       "\n",
       "                require(['https://static.turi.com/products/graphlab-create/2.1/canvas/js/ipython_app.js'], function(IPythonApp){\n",
       "                    var app = new IPythonApp();\n",
       "                    app.attachView('sarray','Images', {\"ipython\": true, \"rows\": [{\"format\": \"raw\", \"value\": [255, 255, 255, 255, 255, 255, 255, 255, 255, 255, 255, 255, 255, 255, 255, 255, 255, 255, 255, 255, 255, 255, 255, 255, 255, 255, 255, 255, 255, 255, 255, 255, 255, 252, 255, 255, 242, 240, 240, 126, 112, 111, 73, 53, 50, 96, 79, 76, 174, 164, 162, 255, 255, 255, 255, 255, 255, 255, 255, 255, 255, 255, 255, 255, 255, 255, 255, 255, 255, 255, 255, 255, 254, 255, 255, 255, 255, 255, 255, 255, 255, 252, 247, 245, 213, 205, 202, 190, 183, 178, 224, 220, 217, 252, 249, 250, 252, 252, 252, 253, 253, 253, 254, 254, 254, 254, 254, 254, 254, 254, 254, 254, 254, 254, 254, 254, 254, 254, 254, 254, 254, 254, 254, 254, 254, 254, 253, 254, 254, 251, 252, 252, 237, 232, 233, 119, 102, 103, 86, 60, 59, 95, 69, 69, 92, 72, 73, 196, 187, 189, 253, 249, 251, 253, 251, 252, 254, 252, 253, 253, 253, 253, 252, 253, 253, 248, 253, 252, 248, 254, 250, 252, 251, 248, 216, 208, 206, 133, 116, 115, 93, 68, 68, 83, 63, 60, 130, 119, 116, 233, 228, 228, 253, 253, 253, 254, 254, 254, 254, 254, 254, 254, 254, 254, 254, 254, 254, 254, 254, 254, 254, 254, 254, 254, 254, 254, 254, 254, 254, 254, 254, 254, 254, 255, 254, 249, 253, 253, 243, 242, 242, 131, 116, 116, 72, 45, 44, 98, 71, 71, 74, 50, 53, 116, 101, 104, 235, 225, 229, 255, 253, 255, 255, 254, 255, 255, 255, 255, 253, 255, 255, 251, 254, 251, 249, 248, 245, 186, 179, 177, 85, 69, 67, 56, 31, 30, 85, 54, 53, 106, 77, 75, 129, 110, 106, 218, 212, 210, 253, 253, 253, 254, 254, 254, 254, 254, 254, 254, 254, 254, 254, 254, 254, 254, 254, 254, 254, 254, 254, 254, 254, 254, 254, 254, 254, 254, 254, 254, 254, 255, 255, 245, 252, 252, 244, 247, 246, 139, 127, 126, 63, 39, 38, 86, 60, 60, 71, 49, 51, 79, 60, 64, 188, 173, 177, 232, 222, 225, 234, 228, 229, 241, 238, 238, 248, 247, 246, 244, 238, 237, 176, 164, 163, 75, 59, 57, 48, 26, 24, 67, 40, 39, 87, 56, 54, 115, 82, 80, 146, 122, 119, 215, 208, 206, 253, 253, 253, 254, 254, 254, 254, 254, 254, 254, 254, 254, 254, 254, 254, 254, 254, 254, 254, 254, 254, 254, 254, 254, 254, 254, 254, 254, 254, 254, 254, 255, 255, 246, 251, 251, 250, 250, 251, 166, 152, 152, 72, 47, 46, 69, 43, 44, 51, 30, 32, 55, 36, 37, 90, 70, 70, 112, 93, 93, 109, 91, 90, 112, 94, 94, 129, 112, 111, 121, 101, 100, 67, 43, 42, 43, 18, 17, 54, 26, 25, 68, 38, 38, 89, 57, 57, 111, 74, 76, 139, 113, 114, 220, 215, 214, 253, 253, 253, 254, 254, 254, 254, 254, 254, 254, 254, 254, 254, 254, 254, 254, 254, 254, 254, 254, 254, 254, 254, 254, 254, 254, 254, 254, 254, 254, 254, 254, 254, 252, 252, 253, 246, 240, 241, 151, 132, 132, 69, 41, 40, 63, 35, 36, 58, 33, 35, 63, 42, 42, 69, 48, 47, 71, 49, 48, 56, 35, 34, 44, 22, 21, 41, 20, 19, 39, 17, 15, 40, 15, 14, 43, 17, 15, 51, 24, 23, 56, 27, 26, 76, 45, 46, 109, 73, 75, 148, 125, 125, 232, 229, 229, 253, 253, 253, 254, 254, 254, 254, 254, 254, 254, 254, 254, 254, 254, 254, 254, 254, 254, 254, 254, 254, 254, 254, 254, 254, 254, 254, 254, 254, 254, 254, 253, 254, 253, 247, 250, 182, 169, 170, 92, 71, 69, 72, 46, 42, 76, 50, 47, 78, 52, 53, 62, 40, 40, 59, 38, 37, 65, 44, 43, 69, 49, 48, 66, 45, 44, 54, 33, 32, 56, 36, 34, 71, 51, 47, 62, 39, 36, 52, 27, 25, 44, 17, 16, 57, 29, 28, 104, 73, 73, 180, 163, 162, 242, 243, 241, 253, 253, 253, 254, 254, 254, 254, 254, 254, 254, 254, 254, 254, 254, 254, 254, 254, 254, 254, 254, 254, 254, 254, 254, 254, 254, 254, 252, 252, 252, 254, 254, 254, 203, 195, 196, 105, 89, 89, 78, 62, 56, 77, 60, 51, 91, 73, 65, 82, 62, 58, 61, 40, 38, 60, 39, 38, 68, 47, 46, 79, 58, 57, 66, 45, 45, 62, 41, 40, 66, 47, 44, 74, 55, 51, 76, 56, 52, 66, 44, 41, 50, 25, 23, 54, 28, 26, 117, 91, 89, 213, 202, 199, 246, 251, 249, 253, 253, 253, 254, 254, 254, 254, 254, 254, 254, 254, 254, 254, 254, 254, 254, 253, 254, 254, 253, 254, 253, 253, 253, 252, 252, 251, 254, 254, 253, 230, 226, 226, 153, 141, 142, 106, 92, 90, 111, 99, 93, 113, 102, 93, 125, 111, 104, 101, 83, 80, 72, 52, 51, 73, 53, 52, 78, 58, 57, 62, 42, 41, 54, 35, 34, 52, 33, 31, 62, 44, 40, 58, 39, 36, 71, 52, 48, 104, 84, 81, 103, 81, 79, 77, 53, 51, 148, 127, 125, 232, 226, 222, 247, 253, 250, 253, 253, 253, 254, 254, 254, 254, 254, 254, 254, 254, 254, 254, 254, 254, 254, 252, 254, 254, 252, 253, 252, 253, 252, 253, 253, 250, 212, 206, 204, 131, 116, 116, 112, 91, 93, 101, 81, 83, 105, 88, 89, 118, 102, 102, 121, 103, 104, 113, 91, 93, 89, 69, 71, 78, 61, 62, 56, 40, 40, 53, 37, 35, 101, 86, 82, 103, 87, 82, 109, 90, 87, 81, 60, 59, 84, 63, 62, 92, 71, 70, 119, 97, 96, 136, 116, 115, 182, 172, 172, 249, 248, 248, 251, 251, 251, 253, 253, 253, 254, 254, 254, 254, 254, 254, 254, 254, 254, 254, 254, 254, 253, 254, 254, 252, 254, 253, 251, 250, 249, 194, 188, 186, 106, 90, 90, 87, 62, 65, 113, 87, 91, 104, 83, 85, 115, 97, 99, 122, 106, 107, 101, 81, 83, 88, 65, 68, 71, 50, 53, 68, 50, 51, 74, 56, 56, 89, 71, 70, 96, 79, 75, 95, 78, 72, 89, 69, 66, 74, 53, 52, 88, 67, 66, 72, 51, 50, 89, 68, 67, 162, 141, 141, 209, 200, 200, 249, 249, 249, 252, 252, 252, 253, 253, 253, 254, 254, 254, 254, 254, 254, 254, 253, 253, 253, 253, 253, 249, 251, 251, 251, 252, 252, 198, 191, 192, 92, 74, 76, 79, 53, 57, 90, 60, 65, 116, 89, 94, 125, 103, 106, 148, 130, 131, 142, 126, 127, 64, 45, 47, 46, 24, 27, 72, 50, 53, 107, 86, 88, 95, 75, 76, 86, 66, 66, 64, 45, 42, 55, 36, 31, 50, 30, 27, 66, 45, 44, 76, 55, 54, 51, 30, 29, 78, 57, 56, 141, 121, 120, 215, 206, 206, 253, 253, 253, 252, 252, 252, 253, 253, 253, 254, 254, 254, 254, 254, 255, 255, 255, 255, 255, 255, 255, 249, 248, 250, 200, 194, 197, 115, 98, 103, 77, 52, 57, 76, 50, 54, 85, 60, 63, 112, 87, 90, 118, 97, 100, 142, 125, 126, 160, 145, 145, 89, 70, 72, 101, 79, 82, 123, 99, 103, 112, 89, 92, 93, 70, 72, 69, 47, 47, 55, 33, 31, 50, 28, 24, 51, 29, 27, 58, 37, 36, 68, 47, 46, 65, 44, 43, 82, 61, 60, 126, 106, 105, 206, 198, 198, 254, 254, 254, 252, 252, 252, 251, 253, 252, 252, 254, 252, 252, 252, 250, 244, 241, 239, 209, 202, 201, 162, 150, 152, 113, 96, 100, 89, 65, 70, 86, 59, 64, 77, 52, 56, 94, 71, 73, 107, 83, 86, 106, 83, 86, 111, 90, 93, 111, 92, 94, 79, 57, 60, 100, 76, 80, 106, 81, 85, 89, 65, 68, 73, 50, 51, 58, 34, 35, 50, 27, 25, 46, 23, 21, 48, 26, 25, 52, 31, 30, 64, 43, 42, 78, 57, 56, 98, 77, 76, 114, 94, 93, 167, 156, 155, 246, 245, 243, 252, 252, 250, 247, 251, 251, 251, 255, 252, 220, 220, 214, 142, 130, 125, 93, 70, 67, 84, 58, 59, 94, 69, 72, 97, 72, 75, 94, 69, 72, 93, 68, 71, 98, 73, 75, 88, 61, 66, 102, 75, 80, 97, 70, 75, 75, 48, 53, 74, 47, 52, 71, 44, 49, 67, 43, 45, 67, 46, 45, 57, 36, 35, 46, 25, 24, 46, 25, 24, 48, 27, 26, 51, 30, 29, 53, 32, 31, 59, 38, 37, 85, 64, 63, 125, 104, 103, 121, 100, 99, 113, 97, 96, 215, 208, 205, 253, 252, 248, 250, 252, 252, 237, 236, 234, 139, 131, 127, 70, 52, 48, 65, 40, 37, 79, 52, 51, 94, 68, 69, 95, 69, 69, 90, 64, 64, 94, 68, 69, 95, 69, 69, 72, 45, 48, 73, 47, 51, 91, 65, 68, 92, 66, 70, 92, 66, 69, 81, 55, 58, 64, 41, 41, 60, 39, 37, 56, 35, 34, 50, 29, 28, 46, 25, 24, 43, 22, 21, 43, 22, 21, 50, 29, 28, 72, 51, 50, 111, 90, 89, 136, 115, 114, 111, 90, 89, 85, 66, 66, 171, 159, 157, 245, 241, 238, 247, 245, 246, 190, 181, 182, 96, 79, 78, 68, 44, 42, 59, 32, 29, 73, 45, 44, 92, 64, 63, 90, 62, 60, 75, 46, 45, 84, 56, 55, 87, 59, 58, 64, 38, 38, 55, 29, 30, 61, 35, 36, 70, 44, 45, 68, 42, 43, 64, 39, 39, 60, 37, 37, 57, 36, 35, 57, 36, 35, 49, 28, 27, 45, 24, 23, 43, 22, 21, 46, 25, 24, 61, 39, 38, 85, 64, 63, 112, 91, 90, 118, 97, 96, 91, 70, 69, 82, 60, 60, 130, 112, 113, 211, 203, 201, 222, 216, 219, 128, 111, 114, 88, 61, 64, 80, 51, 50, 64, 36, 33, 74, 45, 42, 88, 59, 55, 83, 53, 50, 70, 40, 37, 84, 54, 51, 81, 51, 48, 61, 33, 31, 53, 27, 25, 49, 23, 22, 52, 26, 25, 50, 24, 23, 44, 18, 17, 35, 12, 11, 28, 7, 7, 35, 14, 13, 34, 13, 12, 35, 14, 13, 37, 16, 15, 37, 16, 15, 48, 27, 26, 66, 45, 44, 93, 72, 71, 96, 76, 75, 78, 57, 56, 83, 57, 60, 102, 78, 81, 163, 151, 151, 170, 159, 162, 90, 68, 72, 89, 60, 64, 94, 64, 65, 79, 51, 50, 71, 42, 40, 81, 51, 48, 78, 48, 45, 70, 39, 37, 82, 52, 49, 77, 47, 44, 59, 31, 28, 53, 26, 23, 48, 21, 18, 49, 23, 19, 52, 26, 23, 52, 26, 23, 40, 16, 14, 32, 9, 9, 29, 8, 7, 27, 6, 7, 31, 11, 12, 32, 12, 13, 30, 9, 9, 49, 27, 25, 72, 49, 48, 85, 62, 61, 73, 50, 49, 67, 44, 43, 87, 59, 60, 91, 66, 66, 130, 116, 115, 118, 102, 105, 78, 54, 58, 80, 52, 56, 95, 66, 68, 84, 56, 58, 71, 42, 41, 79, 49, 47, 77, 47, 46, 69, 39, 37, 82, 52, 50, 77, 47, 45, 65, 36, 33, 54, 26, 23, 49, 21, 18, 53, 25, 22, 53, 25, 22, 52, 24, 21, 50, 24, 22, 44, 20, 18, 35, 12, 12, 29, 8, 8, 28, 9, 10, 33, 14, 16, 36, 14, 15, 54, 30, 28, 80, 55, 54, 84, 60, 58, 60, 36, 34, 64, 39, 38, 95, 68, 66, 80, 56, 52, 99, 86, 82, 90, 74, 77, 76, 52, 57, 70, 42, 46, 89, 60, 63, 83, 56, 57, 74, 45, 45, 85, 55, 53, 82, 52, 50, 72, 42, 40, 85, 55, 53, 79, 49, 47, 67, 39, 36, 57, 29, 26, 55, 27, 24, 56, 28, 25, 52, 24, 21, 53, 25, 22, 53, 26, 22, 48, 22, 19, 42, 17, 15, 37, 13, 13, 34, 13, 13, 41, 20, 21, 50, 27, 27, 62, 36, 35, 85, 59, 58, 74, 48, 47, 48, 22, 21, 73, 47, 46, 100, 72, 70, 75, 52, 48, 95, 82, 78, 91, 75, 78, 77, 53, 58, 64, 35, 39, 77, 48, 51, 83, 56, 57, 73, 44, 44, 81, 51, 49, 82, 52, 50, 76, 45, 43, 79, 49, 47, 75, 46, 43, 68, 39, 37, 65, 38, 35, 58, 30, 27, 55, 27, 24, 50, 22, 19, 48, 20, 17, 50, 21, 17, 48, 20, 15, 47, 20, 16, 41, 16, 13, 40, 16, 15, 48, 25, 25, 66, 40, 40, 87, 58, 58, 86, 57, 56, 66, 37, 36, 70, 42, 41, 98, 70, 69, 96, 67, 65, 79, 56, 52, 115, 101, 97, 100, 84, 87, 75, 51, 56, 62, 33, 37, 65, 36, 38, 84, 57, 58, 87, 58, 57, 84, 54, 52, 79, 49, 47, 75, 45, 43, 78, 48, 46, 78, 48, 46, 70, 41, 38, 71, 43, 40, 67, 39, 36, 58, 30, 28, 52, 24, 21, 50, 22, 18, 52, 22, 17, 53, 23, 17, 52, 23, 18, 46, 18, 14, 48, 22, 19, 67, 42, 41, 90, 62, 61, 84, 54, 54, 74, 44, 44, 72, 41, 41, 101, 70, 71, 107, 77, 77, 88, 59, 57, 85, 61, 57, 156, 143, 139, 120, 105, 108, 81, 53, 59, 69, 35, 40, 63, 31, 35, 72, 44, 45, 88, 60, 60, 94, 66, 64, 86, 57, 56, 78, 49, 48, 76, 47, 46, 77, 48, 46, 74, 47, 43, 73, 47, 43, 71, 44, 40, 63, 37, 33, 60, 34, 30, 53, 27, 22, 50, 21, 18, 53, 23, 20, 50, 21, 18, 50, 22, 20, 69, 44, 42, 86, 62, 60, 66, 43, 40, 65, 41, 38, 87, 58, 57, 106, 73, 73, 113, 80, 80, 92, 61, 61, 88, 58, 59, 130, 107, 108, 216, 208, 206, 137, 124, 126, 90, 63, 68, 80, 46, 52, 66, 33, 37, 60, 33, 34, 67, 41, 40, 84, 56, 55, 89, 62, 61, 78, 51, 50, 78, 50, 50, 80, 52, 51, 78, 50, 47, 75, 47, 43, 77, 48, 45, 72, 44, 41, 68, 39, 36, 68, 39, 36, 64, 33, 33, 56, 25, 26, 51, 22, 21, 53, 26, 25, 68, 43, 41, 66, 42, 40, 64, 45, 41, 98, 77, 73, 119, 91, 90, 125, 92, 92, 115, 82, 82, 100, 69, 69, 103, 74, 77, 162, 143, 146, 235, 230, 231, 163, 154, 155, 83, 64, 67, 84, 58, 61, 70, 42, 44, 62, 37, 37, 62, 35, 34, 69, 41, 40, 86, 58, 57, 86, 58, 57, 77, 49, 48, 79, 51, 50, 81, 51, 50, 80, 48, 49, 83, 51, 51, 82, 51, 51, 82, 50, 50, 80, 48, 48, 73, 41, 42, 67, 37, 37, 63, 34, 34, 62, 35, 34, 75, 50, 49, 74, 50, 48, 108, 84, 83, 142, 116, 117, 126, 97, 98, 120, 89, 91, 117, 88, 90, 116, 92, 92, 94, 74, 74, 106, 92, 93, 206, 202, 202, 221, 216, 216, 117, 106, 106, 70, 52, 53, 72, 50, 50, 61, 38, 38, 62, 35, 35, 61, 33, 32, 72, 44, 43, 95, 67, 66, 93, 65, 64, 75, 47, 46, 65, 36, 36, 62, 32, 34, 62, 33, 34, 65, 35, 37, 76, 47, 48, 79, 49, 51, 72, 41, 42, 70, 39, 39, 65, 36, 35, 63, 36, 36, 89, 63, 62, 136, 112, 110, 158, 134, 135, 137, 113, 115, 112, 87, 90, 124, 101, 103, 160, 144, 144, 196, 188, 185, 203, 198, 195, 212, 208, 205, 239, 237, 236, 251, 249, 248, 212, 208, 206, 116, 105, 103, 72, 56, 54, 60, 38, 38, 58, 32, 31, 61, 33, 32, 56, 28, 27, 65, 37, 36, 83, 55, 54, 89, 62, 61, 72, 48, 49, 50, 27, 29, 38, 15, 17, 32, 9, 10, 43, 21, 22, 59, 36, 37, 64, 36, 36, 63, 33, 33, 62, 33, 33, 72, 45, 44, 135, 110, 109, 189, 166, 164, 144, 124, 124, 95, 76, 78, 118, 101, 102, 201, 189, 189, 239, 238, 234, 247, 253, 247, 255, 255, 254, 255, 255, 255, 253, 253, 252, 252, 252, 251, 255, 255, 255, 220, 218, 216, 131, 126, 125, 88, 79, 79, 78, 58, 59, 84, 59, 60, 67, 42, 43, 39, 14, 15, 39, 14, 16, 61, 36, 38, 96, 72, 75, 86, 63, 66, 56, 34, 36, 36, 15, 16, 28, 8, 9, 33, 13, 14, 42, 22, 21, 56, 35, 33, 78, 57, 56, 137, 118, 116, 187, 169, 167, 131, 112, 110, 66, 44, 45, 94, 74, 75, 177, 165, 165, 246, 242, 240, 253, 255, 253, 250, 254, 252, 251, 253, 252, 252, 252, 251, 252, 252, 251, 253, 253, 253, 253, 253, 253, 251, 251, 251, 233, 233, 233, 173, 172, 172, 130, 119, 119, 110, 94, 95, 89, 73, 73, 65, 49, 50, 59, 43, 44, 57, 41, 42, 76, 59, 60, 103, 83, 85, 79, 57, 60, 59, 36, 38, 50, 24, 28, 46, 19, 23, 45, 23, 23, 44, 25, 24, 75, 56, 55, 135, 116, 114, 96, 77, 76, 50, 30, 29, 69, 47, 48, 132, 112, 113, 220, 210, 209, 255, 254, 252, 253, 254, 253, 254, 254, 255, 254, 254, 255, 254, 254, 254, 253, 253, 253, 252, 252, 252, 254, 254, 254, 251, 251, 251, 252, 252, 252, 245, 244, 244, 230, 226, 225, 215, 210, 208, 215, 211, 209, 216, 212, 210, 216, 212, 210, 217, 213, 211, 202, 195, 194, 148, 135, 136, 95, 77, 79, 70, 47, 51, 68, 40, 46, 76, 45, 52, 80, 55, 58, 72, 50, 52, 65, 43, 45, 63, 41, 43, 64, 42, 43, 77, 55, 57, 96, 76, 77, 135, 121, 120, 217, 211, 209, 255, 255, 253, 252, 254, 253, 255, 254, 255, 255, 254, 255, 254, 254, 254, 253, 253, 253, 253, 253, 253, 254, 254, 254, 254, 254, 254, 254, 254, 254, 255, 255, 255, 255, 255, 255, 255, 255, 255, 255, 255, 255, 255, 255, 255, 255, 255, 255, 255, 255, 255, 255, 255, 255, 219, 213, 215, 149, 139, 141, 106, 92, 96, 81, 65, 69, 92, 73, 78, 91, 71, 75, 74, 55, 58, 69, 50, 54, 87, 68, 71, 98, 79, 83, 109, 90, 93, 130, 115, 115, 180, 172, 169, 229, 226, 222, 252, 254, 250, 253, 254, 253, 255, 254, 255, 255, 254, 255, 254, 254, 254, 253, 253, 253], \"height\": 32, \"channels\": 3, \"width\": 32, \"type\": \"image\", \"id\": 1290288824}, {\"format\": \"raw\", \"value\": [255, 255, 255, 255, 255, 255, 255, 255, 255, 255, 255, 255, 255, 255, 255, 255, 255, 255, 255, 255, 255, 255, 255, 255, 255, 255, 255, 255, 255, 255, 255, 255, 255, 255, 255, 255, 255, 255, 255, 255, 255, 255, 255, 255, 255, 255, 255, 255, 255, 255, 255, 255, 255, 255, 255, 254, 247, 244, 227, 214, 234, 212, 199, 244, 231, 219, 255, 255, 246, 255, 255, 255, 255, 255, 255, 255, 255, 255, 255, 255, 255, 255, 255, 255, 255, 255, 255, 255, 255, 255, 255, 255, 255, 255, 255, 255, 255, 255, 255, 254, 254, 254, 255, 255, 255, 255, 255, 255, 255, 255, 255, 255, 255, 255, 255, 255, 255, 255, 255, 255, 255, 255, 255, 255, 255, 255, 255, 255, 255, 255, 255, 255, 255, 255, 255, 255, 255, 255, 253, 255, 255, 250, 255, 255, 251, 254, 254, 255, 252, 248, 236, 219, 204, 214, 182, 156, 240, 207, 181, 235, 209, 187, 244, 229, 216, 255, 254, 250, 251, 254, 254, 253, 254, 255, 255, 255, 255, 255, 255, 255, 255, 255, 255, 255, 255, 255, 254, 254, 254, 255, 255, 255, 255, 255, 255, 255, 255, 255, 255, 255, 255, 255, 255, 255, 255, 255, 255, 255, 255, 255, 255, 255, 255, 255, 255, 255, 255, 255, 255, 255, 255, 255, 255, 255, 255, 255, 255, 255, 255, 255, 255, 255, 255, 255, 255, 255, 254, 253, 253, 251, 254, 254, 251, 243, 236, 228, 191, 168, 150, 217, 183, 154, 254, 227, 200, 242, 219, 200, 234, 214, 205, 255, 250, 248, 250, 255, 255, 251, 255, 255, 255, 255, 255, 255, 255, 255, 255, 255, 255, 255, 255, 255, 255, 255, 255, 255, 255, 255, 255, 255, 255, 254, 254, 254, 254, 255, 255, 253, 254, 255, 252, 254, 254, 251, 254, 255, 253, 254, 255, 254, 255, 255, 255, 255, 255, 255, 255, 255, 255, 255, 255, 255, 255, 255, 254, 254, 254, 253, 254, 254, 254, 254, 253, 254, 250, 248, 255, 251, 245, 208, 194, 183, 160, 133, 113, 231, 198, 173, 250, 232, 212, 242, 225, 211, 235, 216, 207, 255, 249, 245, 248, 255, 254, 250, 255, 255, 255, 255, 255, 255, 255, 255, 255, 255, 255, 255, 255, 255, 255, 255, 255, 255, 255, 255, 255, 255, 255, 252, 253, 252, 242, 242, 241, 248, 249, 248, 255, 255, 255, 252, 255, 255, 250, 254, 255, 253, 254, 254, 254, 254, 253, 254, 253, 252, 254, 252, 253, 254, 252, 253, 253, 252, 254, 255, 255, 255, 255, 255, 255, 255, 255, 255, 250, 240, 232, 172, 150, 130, 158, 124, 99, 231, 192, 169, 248, 228, 210, 245, 224, 208, 227, 203, 188, 236, 227, 216, 244, 252, 249, 249, 255, 255, 255, 255, 255, 255, 255, 255, 255, 255, 255, 255, 255, 255, 255, 255, 255, 255, 255, 255, 255, 255, 255, 253, 252, 248, 231, 223, 215, 203, 190, 179, 198, 186, 174, 228, 217, 205, 247, 240, 229, 255, 251, 243, 255, 255, 249, 255, 255, 252, 255, 255, 253, 255, 254, 251, 252, 247, 244, 237, 231, 227, 213, 204, 197, 181, 163, 149, 173, 151, 126, 132, 106, 73, 140, 110, 78, 213, 181, 154, 248, 220, 201, 242, 212, 196, 201, 168, 154, 150, 129, 117, 217, 212, 203, 255, 255, 254, 255, 255, 255, 255, 255, 255, 255, 255, 255, 255, 255, 255, 255, 255, 255, 255, 255, 255, 255, 255, 255, 255, 253, 249, 255, 248, 238, 212, 197, 182, 132, 110, 88, 127, 103, 79, 147, 127, 105, 159, 143, 125, 169, 156, 140, 172, 162, 150, 163, 154, 146, 154, 143, 133, 136, 121, 108, 99, 81, 67, 67, 44, 31, 99, 68, 42, 141, 109, 71, 122, 91, 49, 135, 104, 65, 196, 164, 133, 237, 205, 183, 221, 187, 170, 195, 162, 148, 120, 92, 78, 164, 145, 128, 251, 247, 240, 253, 254, 254, 253, 253, 253, 255, 255, 255, 255, 255, 255, 255, 255, 255, 255, 255, 255, 255, 255, 255, 254, 254, 253, 255, 254, 251, 250, 248, 243, 193, 180, 164, 114, 95, 71, 96, 77, 52, 78, 58, 33, 72, 50, 23, 45, 28, 9, 19, 6, 0, 40, 22, 6, 63, 39, 17, 76, 47, 22, 64, 33, 10, 96, 63, 38, 133, 99, 63, 163, 127, 84, 191, 151, 111, 206, 165, 132, 230, 197, 171, 210, 182, 163, 180, 154, 138, 137, 112, 92, 118, 95, 66, 218, 210, 198, 253, 254, 255, 254, 254, 254, 255, 255, 255, 255, 255, 255, 255, 255, 255, 255, 255, 255, 255, 255, 255, 254, 255, 255, 253, 255, 255, 251, 253, 254, 234, 233, 225, 151, 141, 122, 101, 82, 59, 99, 74, 50, 67, 44, 24, 54, 32, 12, 68, 46, 19, 85, 65, 37, 80, 58, 30, 85, 56, 23, 126, 91, 53, 107, 71, 36, 98, 66, 29, 121, 89, 49, 139, 101, 58, 168, 125, 83, 209, 173, 136, 194, 161, 129, 119, 90, 64, 84, 59, 39, 65, 46, 27, 148, 137, 125, 244, 239, 235, 255, 253, 252, 254, 255, 255, 255, 255, 255, 255, 255, 254, 255, 255, 255, 255, 255, 255, 255, 255, 255, 254, 254, 254, 252, 252, 252, 251, 252, 249, 215, 207, 194, 148, 125, 101, 118, 89, 64, 56, 34, 18, 82, 58, 34, 104, 75, 36, 110, 89, 54, 76, 56, 27, 95, 70, 37, 143, 110, 66, 152, 114, 66, 133, 100, 57, 108, 80, 41, 110, 77, 34, 127, 87, 41, 132, 92, 52, 124, 84, 47, 104, 67, 33, 82, 55, 31, 53, 37, 22, 85, 69, 56, 205, 193, 182, 255, 254, 251, 254, 255, 255, 255, 255, 254, 255, 254, 253, 255, 255, 255, 255, 255, 255, 254, 254, 254, 254, 254, 254, 253, 253, 253, 255, 255, 255, 225, 214, 205, 136, 109, 84, 96, 66, 33, 70, 48, 23, 108, 87, 56, 132, 106, 71, 124, 100, 67, 96, 72, 40, 131, 106, 72, 107, 77, 40, 128, 92, 50, 130, 96, 55, 114, 81, 41, 122, 87, 46, 113, 77, 36, 101, 64, 34, 100, 62, 31, 110, 74, 39, 105, 77, 44, 74, 57, 29, 68, 52, 34, 159, 146, 136, 250, 248, 244, 255, 255, 255, 254, 254, 253, 255, 254, 253, 255, 255, 255, 255, 255, 255, 255, 255, 255, 255, 255, 255, 255, 255, 255, 255, 254, 250, 201, 188, 172, 135, 107, 76, 117, 84, 47, 97, 72, 37, 122, 101, 70, 155, 130, 100, 159, 131, 99, 113, 83, 51, 138, 112, 81, 106, 80, 50, 116, 84, 48, 128, 91, 51, 140, 101, 60, 153, 116, 76, 108, 75, 40, 83, 52, 22, 117, 83, 49, 117, 82, 44, 116, 87, 50, 93, 71, 38, 63, 45, 24, 140, 127, 117, 238, 235, 232, 254, 255, 255, 253, 253, 252, 254, 253, 252, 255, 255, 255, 255, 255, 255, 255, 255, 255, 255, 255, 255, 255, 255, 255, 250, 248, 235, 169, 153, 124, 129, 98, 60, 136, 101, 62, 125, 96, 64, 179, 159, 135, 191, 169, 144, 169, 139, 108, 139, 106, 74, 119, 92, 64, 92, 69, 46, 98, 67, 37, 128, 89, 50, 161, 118, 76, 142, 104, 67, 121, 91, 60, 109, 83, 46, 115, 85, 44, 118, 85, 44, 133, 102, 67, 102, 77, 50, 60, 40, 21, 153, 140, 129, 234, 230, 227, 251, 252, 253, 254, 253, 252, 254, 253, 252, 255, 255, 255, 255, 255, 255, 255, 255, 255, 255, 255, 255, 255, 255, 255, 240, 232, 219, 150, 128, 99, 126, 98, 60, 114, 85, 49, 145, 119, 91, 235, 220, 207, 229, 216, 209, 202, 177, 158, 192, 163, 133, 110, 87, 58, 67, 45, 25, 122, 84, 53, 158, 117, 75, 153, 115, 70, 109, 73, 39, 102, 71, 45, 117, 91, 58, 101, 72, 35, 105, 73, 38, 113, 85, 56, 80, 58, 39, 65, 42, 21, 158, 142, 122, 231, 229, 220, 245, 250, 247, 253, 255, 252, 254, 254, 252, 255, 255, 255, 255, 255, 255, 255, 255, 255, 254, 254, 254, 255, 255, 255, 230, 225, 220, 120, 108, 92, 102, 85, 57, 75, 58, 33, 89, 77, 62, 221, 214, 211, 254, 249, 250, 248, 232, 218, 183, 157, 129, 128, 99, 64, 122, 91, 61, 144, 102, 64, 180, 140, 90, 139, 103, 53, 119, 84, 41, 129, 95, 59, 125, 94, 57, 117, 85, 45, 130, 95, 54, 132, 101, 65, 81, 57, 31, 72, 50, 26, 144, 128, 107, 236, 233, 221, 246, 249, 244, 252, 255, 251, 254, 255, 252, 255, 255, 255, 255, 255, 255, 255, 255, 255, 255, 255, 255, 255, 255, 255, 242, 238, 232, 152, 135, 114, 169, 142, 106, 138, 111, 78, 76, 58, 39, 197, 191, 185, 255, 255, 255, 253, 244, 233, 166, 143, 119, 110, 76, 42, 152, 115, 74, 137, 102, 57, 124, 90, 43, 115, 81, 35, 121, 87, 42, 135, 102, 56, 113, 81, 36, 117, 81, 34, 160, 122, 72, 149, 114, 70, 87, 60, 26, 86, 67, 46, 188, 177, 163, 247, 241, 230, 246, 243, 237, 252, 253, 250, 254, 255, 254, 255, 255, 255, 255, 255, 255, 255, 255, 255, 255, 255, 255, 255, 255, 255, 255, 252, 245, 194, 171, 145, 140, 99, 54, 140, 101, 56, 115, 90, 64, 207, 199, 190, 255, 255, 255, 247, 245, 240, 174, 165, 154, 156, 134, 113, 178, 151, 121, 139, 120, 86, 96, 75, 46, 89, 65, 38, 121, 95, 62, 152, 126, 85, 154, 125, 81, 163, 129, 83, 155, 119, 76, 128, 95, 58, 121, 97, 69, 152, 141, 128, 242, 236, 228, 247, 237, 227, 242, 234, 227, 253, 252, 250, 254, 255, 255, 255, 255, 255, 255, 255, 255, 254, 255, 254, 255, 255, 254, 254, 254, 253, 255, 255, 254, 214, 202, 187, 144, 116, 83, 163, 135, 102, 177, 163, 147, 242, 239, 231, 255, 255, 248, 254, 255, 253, 239, 242, 240, 238, 235, 229, 247, 241, 229, 235, 232, 217, 172, 164, 154, 144, 131, 123, 143, 126, 111, 133, 115, 90, 144, 123, 95, 155, 131, 103, 163, 137, 109, 165, 143, 120, 206, 190, 175, 241, 235, 231, 250, 243, 240, 238, 224, 217, 246, 235, 229, 255, 253, 252, 253, 254, 254, 255, 255, 255, 252, 255, 255, 252, 254, 251, 253, 253, 249, 253, 251, 246, 255, 252, 245, 242, 233, 224, 202, 187, 173, 226, 208, 192, 224, 207, 193, 199, 179, 165, 180, 156, 141, 203, 187, 177, 248, 243, 239, 255, 255, 255, 252, 255, 255, 252, 254, 254, 244, 244, 244, 242, 239, 236, 226, 219, 212, 226, 218, 209, 236, 231, 222, 238, 232, 223, 238, 232, 223, 246, 242, 233, 253, 249, 242, 249, 245, 240, 249, 242, 240, 236, 222, 220, 239, 225, 224, 254, 249, 247, 255, 254, 252, 255, 255, 255, 253, 255, 253, 253, 253, 248, 254, 252, 246, 254, 251, 243, 255, 250, 242, 228, 220, 212, 198, 185, 175, 234, 218, 206, 191, 175, 162, 125, 92, 74, 117, 68, 48, 159, 123, 109, 244, 230, 223, 255, 252, 253, 252, 251, 254, 250, 250, 251, 251, 250, 249, 247, 244, 242, 251, 247, 243, 255, 254, 249, 255, 253, 248, 251, 249, 244, 253, 251, 246, 255, 254, 249, 251, 248, 244, 246, 244, 239, 238, 231, 228, 228, 214, 214, 241, 227, 226, 244, 238, 234, 253, 252, 249, 255, 255, 255, 254, 253, 249, 252, 249, 244, 254, 250, 243, 249, 243, 234, 194, 187, 179, 99, 91, 85, 104, 94, 86, 201, 188, 178, 244, 231, 220, 184, 161, 143, 137, 104, 79, 206, 185, 164, 247, 242, 228, 250, 255, 250, 248, 254, 252, 251, 250, 246, 248, 244, 241, 244, 240, 238, 248, 246, 244, 252, 251, 249, 252, 249, 248, 252, 249, 248, 255, 253, 252, 255, 252, 251, 249, 246, 244, 227, 226, 221, 219, 214, 210, 241, 231, 229, 250, 241, 239, 245, 241, 237, 250, 250, 247, 255, 255, 255, 255, 254, 247, 254, 250, 242, 252, 246, 237, 167, 158, 148, 58, 51, 44, 43, 37, 32, 73, 65, 59, 140, 130, 122, 231, 218, 209, 250, 237, 225, 210, 197, 182, 212, 205, 192, 243, 242, 231, 244, 249, 241, 245, 250, 242, 248, 242, 235, 246, 240, 235, 250, 249, 246, 251, 251, 251, 253, 254, 255, 255, 255, 255, 250, 247, 248, 203, 199, 200, 196, 192, 194, 238, 235, 235, 237, 237, 233, 244, 243, 238, 254, 247, 244, 252, 245, 242, 251, 250, 244, 250, 252, 248, 255, 255, 255, 255, 254, 251, 255, 251, 244, 242, 235, 224, 136, 128, 113, 51, 43, 32, 42, 35, 29, 70, 61, 57, 164, 154, 147, 198, 188, 173, 214, 201, 188, 226, 213, 206, 238, 228, 221, 251, 244, 236, 252, 244, 235, 248, 239, 230, 246, 237, 229, 254, 249, 243, 255, 254, 253, 255, 255, 255, 242, 243, 248, 198, 197, 200, 147, 145, 146, 165, 162, 164, 212, 209, 211, 247, 245, 246, 253, 254, 251, 250, 250, 245, 250, 246, 243, 253, 251, 247, 253, 253, 248, 251, 252, 249, 255, 255, 255, 255, 252, 255, 253, 247, 244, 253, 249, 238, 211, 207, 191, 113, 106, 90, 62, 53, 42, 77, 67, 63, 182, 172, 166, 234, 227, 211, 214, 205, 188, 214, 201, 191, 233, 221, 211, 239, 230, 220, 240, 229, 219, 239, 227, 217, 244, 237, 229, 230, 225, 220, 200, 196, 197, 175, 173, 179, 140, 138, 148, 129, 129, 132, 176, 176, 175, 242, 242, 242, 255, 255, 255, 254, 253, 253, 254, 254, 251, 250, 251, 246, 250, 251, 246, 253, 254, 249, 252, 253, 248, 251, 251, 249, 255, 255, 255, 255, 254, 255, 254, 251, 249, 251, 248, 241, 250, 248, 237, 229, 224, 208, 130, 124, 107, 80, 73, 63, 186, 179, 173, 255, 254, 250, 255, 251, 246, 253, 248, 241, 242, 235, 228, 232, 224, 218, 235, 227, 220, 244, 238, 231, 251, 246, 241, 184, 181, 178, 79, 78, 78, 71, 72, 76, 151, 153, 157, 233, 233, 234, 255, 255, 255, 255, 255, 255, 252, 252, 252, 253, 253, 253, 252, 253, 250, 252, 253, 248, 253, 253, 249, 251, 252, 247, 250, 251, 246, 251, 251, 249, 255, 255, 255, 255, 255, 255, 254, 254, 253, 254, 253, 251, 253, 253, 250, 255, 254, 247, 226, 223, 212, 150, 147, 134, 186, 183, 174, 255, 252, 251, 255, 253, 253, 255, 255, 252, 255, 255, 252, 255, 254, 252, 255, 254, 251, 254, 253, 251, 254, 252, 251, 244, 243, 242, 202, 204, 204, 207, 211, 211, 248, 253, 253, 255, 255, 255, 255, 254, 254, 255, 255, 255, 255, 255, 255, 255, 255, 254, 254, 254, 251, 253, 254, 249, 253, 254, 249, 252, 253, 248, 252, 253, 248, 254, 254, 252, 255, 255, 255, 255, 255, 255, 254, 255, 255, 255, 255, 255, 254, 255, 255, 254, 253, 254, 254, 253, 251, 234, 234, 223, 230, 230, 217, 251, 250, 243, 254, 254, 252, 254, 255, 255, 254, 255, 255, 254, 255, 255, 254, 255, 255, 254, 254, 254, 253, 253, 254, 254, 255, 255, 255, 255, 255, 253, 255, 255, 249, 255, 252, 253, 254, 253, 255, 255, 255, 255, 255, 255, 255, 255, 255, 255, 255, 255, 254, 254, 251, 253, 254, 249, 253, 254, 249, 252, 253, 248, 253, 254, 249, 255, 255, 253, 255, 255, 255, 255, 255, 255, 254, 255, 255, 255, 255, 255, 255, 255, 255, 255, 254, 255, 254, 254, 254, 255, 255, 252, 255, 255, 251, 254, 254, 251, 254, 254, 252, 254, 255, 253, 254, 255, 252, 254, 255, 252, 255, 255, 253, 255, 255, 253, 255, 255, 255, 254, 255, 255, 252, 254, 253, 252, 254, 253, 253, 255, 254, 254, 255, 255, 255, 255, 255, 255, 255, 255, 255, 255, 255, 255, 255, 255, 254, 254, 253, 253, 253, 252, 253, 253, 252, 254, 254, 253, 254, 255, 253, 255, 255, 254, 255, 255, 255, 255, 255, 255, 255, 255, 255, 255, 255, 255, 255, 255, 255, 255, 255, 255, 255, 255, 255, 255, 255, 255, 255, 255, 255, 255, 255, 255, 254, 254, 253, 253, 254, 249, 252, 253, 248, 252, 253, 248, 254, 254, 250, 254, 255, 251, 255, 255, 255, 255, 255, 255, 255, 255, 255, 255, 255, 255, 255, 255, 255, 255, 255, 255, 255, 255, 255, 255, 255, 255, 255, 255, 255, 255, 255, 255, 254, 254, 254, 253, 253, 253, 253, 253, 253, 255, 255, 255, 255, 255, 255, 255, 255, 255, 255, 255, 255, 255, 255, 255, 255, 255, 255, 255, 255, 255, 255, 255, 255, 255, 255, 255, 255, 255, 255, 255, 255, 255, 255, 255, 255, 255, 255, 255, 255, 255, 253, 254, 254, 250, 251, 252, 247, 249, 249, 245, 251, 252, 246, 253, 254, 250, 254, 254, 254, 254, 254, 254, 254, 254, 254, 254, 254, 254, 253, 253, 253, 255, 255, 255, 255, 255, 255, 255, 255, 255, 255, 255, 255, 255, 255, 255, 254, 254, 254, 254, 254, 254, 254, 254, 254, 255, 255, 255, 255, 255, 255, 255, 255, 255, 255, 255, 255, 255, 255, 255, 254, 254, 254, 255, 255, 255, 255, 255, 255, 255, 255, 255, 255, 255, 255, 255, 255, 255, 255, 255, 255, 255, 255, 255, 255, 255, 253, 255, 255, 251, 254, 254, 250, 253, 253, 249, 252, 253, 248, 252, 253, 249, 253, 253, 252, 253, 253, 253, 253, 253, 253, 252, 252, 252, 251, 251, 251, 254, 254, 254, 255, 255, 255, 255, 255, 255, 255, 255, 255, 255, 255, 255, 255, 255, 255, 255, 255, 255, 255, 255, 255, 255, 255, 255, 255, 255, 255, 254, 254, 254, 255, 255, 255, 255, 255, 255, 255, 255, 255, 255, 255, 255, 255, 255, 255, 255, 255, 255, 255, 255, 255, 255, 255, 255, 255, 255, 255, 255, 255, 255, 255, 255, 255, 255, 255, 255, 255, 255, 255, 255, 255, 255, 255, 255, 255, 255, 255, 255, 255, 255, 255, 255, 255, 255, 255, 255, 255, 255, 255, 255, 255, 255, 255, 255, 255, 255, 255, 255, 255, 255, 255, 255, 255, 255, 255, 255, 255, 255, 255, 255, 255, 255, 255, 255, 255, 255, 255, 255, 255, 255, 255, 255, 255, 255, 255, 255, 255, 255, 255], \"height\": 32, \"channels\": 3, \"width\": 32, \"type\": \"image\", \"id\": 1290288768}, {\"format\": \"raw\", \"value\": [215, 219, 231, 215, 219, 232, 216, 219, 233, 214, 217, 230, 213, 216, 230, 209, 215, 226, 208, 217, 221, 206, 215, 219, 201, 208, 217, 197, 203, 218, 194, 200, 221, 199, 204, 221, 142, 128, 131, 76, 46, 46, 81, 55, 57, 147, 136, 139, 160, 149, 154, 152, 141, 144, 156, 147, 150, 159, 148, 154, 160, 153, 157, 164, 156, 160, 160, 154, 158, 158, 151, 156, 159, 149, 157, 159, 150, 156, 157, 147, 154, 156, 145, 153, 152, 142, 149, 147, 137, 143, 141, 131, 136, 142, 131, 136, 215, 219, 231, 215, 219, 232, 215, 219, 232, 213, 217, 229, 212, 216, 229, 212, 214, 217, 206, 215, 217, 203, 211, 219, 197, 205, 218, 194, 201, 218, 196, 201, 218, 178, 180, 192, 92, 56, 55, 77, 50, 49, 112, 98, 100, 173, 162, 169, 162, 153, 157, 160, 152, 154, 164, 157, 159, 164, 155, 160, 165, 158, 163, 165, 155, 162, 167, 160, 166, 164, 155, 162, 160, 148, 155, 153, 142, 149, 160, 150, 159, 162, 154, 162, 157, 151, 156, 152, 143, 148, 139, 129, 133, 135, 124, 128, 215, 219, 231, 215, 219, 231, 214, 218, 230, 214, 218, 229, 214, 217, 227, 216, 211, 207, 207, 213, 215, 200, 207, 218, 195, 202, 220, 193, 201, 216, 196, 202, 216, 125, 101, 101, 79, 49, 48, 88, 67, 67, 157, 147, 152, 168, 160, 166, 164, 155, 158, 170, 163, 168, 169, 164, 166, 169, 160, 165, 169, 162, 167, 167, 159, 167, 166, 156, 164, 166, 155, 163, 163, 153, 158, 160, 150, 157, 160, 151, 158, 159, 150, 156, 157, 148, 155, 155, 145, 152, 152, 141, 147, 143, 131, 135, 216, 220, 232, 215, 219, 231, 214, 218, 230, 214, 218, 230, 214, 217, 227, 216, 213, 207, 205, 210, 216, 199, 203, 219, 196, 202, 219, 194, 204, 220, 164, 155, 162, 89, 54, 48, 77, 52, 52, 126, 110, 113, 173, 162, 168, 167, 159, 163, 170, 162, 166, 172, 163, 168, 171, 164, 168, 171, 163, 168, 171, 162, 169, 169, 161, 167, 165, 153, 160, 165, 154, 160, 163, 153, 158, 166, 155, 162, 165, 154, 160, 155, 144, 149, 156, 144, 151, 153, 143, 151, 151, 140, 148, 143, 131, 137, 217, 221, 233, 215, 219, 231, 215, 219, 231, 215, 219, 231, 217, 219, 229, 221, 222, 219, 199, 203, 211, 195, 202, 217, 198, 202, 220, 190, 193, 206, 109, 80, 77, 78, 50, 49, 94, 72, 74, 163, 154, 155, 166, 157, 158, 169, 158, 158, 173, 163, 167, 170, 158, 161, 172, 161, 168, 173, 166, 170, 173, 163, 170, 171, 161, 164, 169, 155, 160, 170, 158, 162, 162, 151, 157, 162, 151, 157, 167, 156, 164, 164, 153, 160, 158, 147, 153, 157, 146, 151, 149, 138, 144, 143, 132, 137, 217, 221, 233, 215, 219, 231, 214, 218, 230, 213, 217, 229, 222, 224, 232, 228, 227, 233, 192, 196, 211, 196, 202, 220, 196, 209, 225, 150, 128, 133, 80, 48, 46, 76, 51, 56, 144, 129, 134, 167, 158, 161, 165, 155, 156, 173, 161, 163, 175, 164, 168, 173, 162, 168, 175, 167, 171, 175, 165, 167, 174, 162, 169, 168, 157, 159, 156, 145, 146, 171, 159, 162, 168, 157, 163, 167, 156, 163, 167, 155, 165, 168, 157, 165, 159, 147, 155, 151, 140, 144, 145, 133, 137, 149, 137, 141, 217, 221, 233, 216, 220, 232, 214, 218, 230, 215, 219, 231, 166, 167, 174, 200, 198, 206, 194, 201, 218, 194, 200, 219, 177, 173, 184, 93, 65, 61, 75, 53, 53, 120, 100, 97, 172, 162, 166, 169, 158, 161, 167, 154, 156, 177, 166, 169, 181, 171, 175, 174, 166, 173, 175, 166, 172, 171, 160, 164, 173, 163, 171, 136, 125, 129, 101, 91, 88, 155, 141, 141, 175, 164, 169, 174, 162, 170, 167, 156, 165, 165, 154, 162, 161, 150, 157, 150, 138, 143, 148, 136, 140, 147, 135, 139, 217, 221, 233, 216, 220, 232, 215, 219, 231, 217, 221, 234, 113, 108, 113, 140, 130, 127, 163, 161, 169, 144, 143, 149, 153, 139, 139, 139, 122, 116, 132, 114, 102, 164, 147, 139, 161, 150, 142, 150, 138, 130, 135, 122, 116, 152, 138, 134, 149, 132, 127, 175, 162, 161, 180, 168, 175, 176, 164, 170, 177, 171, 180, 136, 126, 130, 87, 76, 68, 137, 121, 119, 178, 168, 173, 173, 162, 169, 168, 157, 164, 163, 152, 158, 158, 146, 151, 160, 147, 155, 163, 150, 158, 160, 147, 154, 218, 220, 233, 216, 219, 232, 215, 219, 232, 208, 212, 224, 92, 82, 85, 96, 78, 69, 111, 99, 93, 129, 116, 110, 167, 156, 155, 179, 168, 171, 171, 161, 158, 157, 137, 124, 120, 103, 92, 117, 98, 86, 102, 86, 81, 127, 108, 96, 147, 122, 108, 139, 122, 116, 168, 157, 155, 155, 145, 145, 200, 199, 207, 157, 149, 147, 116, 102, 91, 150, 137, 137, 176, 166, 170, 173, 162, 168, 169, 156, 164, 159, 147, 153, 159, 146, 150, 164, 151, 158, 166, 153, 161, 159, 145, 153, 217, 219, 232, 216, 218, 231, 217, 218, 229, 193, 195, 207, 95, 79, 74, 110, 88, 80, 154, 138, 132, 181, 165, 159, 207, 200, 205, 205, 207, 219, 199, 200, 209, 159, 138, 131, 143, 118, 101, 137, 110, 93, 115, 98, 91, 118, 103, 92, 184, 166, 159, 125, 113, 114, 149, 132, 126, 117, 101, 102, 213, 214, 226, 172, 170, 179, 133, 121, 123, 157, 143, 143, 147, 131, 129, 174, 158, 166, 169, 156, 165, 162, 149, 157, 168, 156, 164, 166, 154, 162, 162, 151, 158, 158, 146, 154, 218, 220, 233, 216, 218, 232, 216, 220, 234, 174, 176, 187, 90, 73, 70, 148, 125, 109, 194, 169, 157, 215, 204, 208, 220, 221, 230, 220, 223, 231, 218, 216, 224, 174, 154, 152, 162, 140, 127, 127, 100, 84, 146, 120, 103, 147, 124, 116, 169, 145, 133, 138, 122, 113, 148, 134, 124, 123, 103, 97, 154, 143, 141, 153, 143, 144, 133, 124, 127, 151, 136, 137, 140, 119, 111, 156, 139, 134, 175, 164, 169, 175, 160, 169, 170, 156, 165, 164, 151, 158, 156, 144, 150, 158, 146, 152, 218, 220, 233, 214, 218, 231, 216, 219, 233, 173, 164, 169, 134, 106, 90, 184, 152, 131, 205, 184, 171, 218, 214, 222, 221, 222, 232, 225, 226, 235, 218, 220, 231, 187, 172, 169, 156, 136, 127, 140, 116, 102, 147, 115, 98, 126, 99, 84, 171, 135, 105, 105, 81, 71, 132, 112, 105, 95, 80, 75, 130, 118, 114, 140, 127, 123, 128, 115, 114, 140, 125, 124, 159, 143, 139, 126, 113, 112, 165, 156, 163, 159, 144, 150, 163, 147, 148, 161, 145, 149, 161, 145, 149, 163, 148, 151, 217, 219, 232, 214, 218, 230, 218, 216, 229, 152, 133, 128, 169, 146, 138, 194, 172, 157, 201, 173, 151, 210, 197, 193, 215, 213, 223, 216, 218, 226, 203, 201, 209, 157, 129, 111, 145, 112, 92, 141, 114, 99, 133, 104, 90, 114, 84, 72, 183, 145, 108, 135, 106, 86, 143, 110, 95, 110, 95, 93, 200, 199, 207, 153, 147, 148, 129, 112, 111, 119, 102, 100, 144, 131, 127, 152, 145, 156, 188, 186, 198, 108, 92, 95, 99, 83, 78, 160, 140, 141, 176, 157, 168, 153, 134, 136, 218, 220, 233, 217, 219, 232, 209, 210, 222, 141, 114, 104, 212, 201, 202, 212, 206, 208, 184, 150, 123, 193, 164, 138, 202, 187, 180, 209, 207, 215, 200, 193, 196, 146, 111, 92, 141, 107, 88, 120, 97, 84, 86, 68, 60, 117, 87, 74, 163, 126, 95, 140, 103, 84, 139, 102, 78, 169, 141, 129, 218, 219, 228, 131, 123, 125, 104, 88, 81, 98, 83, 76, 122, 105, 97, 143, 138, 161, 209, 208, 226, 154, 141, 139, 99, 80, 73, 153, 127, 129, 156, 139, 144, 135, 116, 116, 219, 221, 234, 216, 218, 232, 204, 204, 219, 154, 126, 110, 213, 204, 206, 217, 214, 217, 170, 136, 110, 157, 118, 88, 170, 135, 108, 197, 174, 168, 170, 142, 125, 143, 103, 83, 122, 90, 75, 98, 76, 68, 68, 55, 55, 76, 59, 56, 118, 84, 71, 111, 79, 63, 107, 76, 63, 158, 121, 101, 196, 192, 200, 115, 101, 104, 106, 90, 83, 103, 87, 77, 128, 107, 97, 111, 97, 127, 206, 205, 220, 206, 209, 220, 157, 142, 127, 113, 91, 76, 121, 105, 101, 164, 149, 152, 220, 221, 234, 215, 218, 232, 208, 209, 223, 159, 136, 126, 213, 211, 218, 204, 202, 208, 140, 115, 102, 132, 104, 88, 148, 112, 93, 160, 124, 97, 136, 92, 70, 122, 86, 69, 97, 73, 60, 101, 74, 64, 84, 63, 60, 67, 53, 52, 82, 62, 57, 92, 71, 60, 82, 59, 53, 145, 116, 103, 125, 116, 120, 105, 91, 87, 92, 77, 76, 94, 76, 73, 119, 96, 84, 131, 113, 124, 207, 209, 223, 217, 219, 236, 157, 150, 150, 127, 115, 114, 138, 122, 119, 173, 160, 166, 219, 221, 234, 218, 223, 235, 173, 164, 171, 129, 109, 105, 219, 218, 228, 186, 179, 188, 102, 86, 85, 96, 82, 77, 108, 88, 76, 136, 106, 91, 129, 93, 74, 105, 73, 61, 79, 60, 55, 76, 57, 54, 73, 55, 54, 74, 55, 53, 71, 57, 55, 88, 70, 68, 84, 66, 63, 79, 66, 70, 76, 65, 70, 99, 87, 86, 67, 53, 55, 102, 84, 78, 118, 94, 83, 150, 132, 131, 211, 204, 220, 213, 184, 201, 202, 191, 208, 177, 176, 188, 146, 130, 133, 170, 157, 160, 219, 221, 233, 211, 210, 220, 116, 88, 81, 132, 117, 117, 226, 229, 238, 171, 156, 160, 104, 84, 77, 96, 80, 77, 95, 83, 77, 105, 87, 80, 119, 94, 77, 95, 70, 60, 72, 56, 54, 68, 54, 55, 75, 56, 53, 77, 60, 55, 78, 65, 63, 95, 79, 77, 79, 65, 65, 51, 40, 52, 84, 74, 81, 94, 83, 86, 74, 60, 60, 127, 109, 101, 125, 102, 92, 140, 120, 118, 207, 199, 211, 216, 198, 214, 195, 188, 197, 183, 180, 187, 146, 132, 139, 169, 153, 163, 222, 227, 240, 167, 132, 134, 121, 81, 62, 101, 85, 78, 172, 167, 178, 163, 155, 154, 127, 115, 110, 130, 116, 114, 125, 113, 112, 111, 95, 90, 117, 98, 88, 79, 63, 58, 63, 51, 52, 71, 56, 55, 88, 69, 62, 90, 72, 69, 90, 75, 73, 101, 87, 79, 70, 58, 61, 55, 45, 56, 109, 100, 107, 68, 56, 59, 86, 72, 72, 133, 116, 110, 130, 109, 101, 113, 94, 92, 210, 210, 217, 221, 228, 244, 177, 167, 158, 122, 107, 95, 140, 123, 124, 168, 151, 161, 201, 189, 197, 125, 74, 57, 137, 92, 70, 99, 73, 63, 69, 58, 67, 117, 113, 124, 138, 134, 143, 123, 113, 115, 124, 112, 112, 152, 136, 134, 114, 97, 90, 76, 60, 57, 64, 52, 54, 82, 68, 66, 96, 80, 73, 104, 90, 85, 77, 66, 65, 68, 56, 58, 65, 55, 62, 63, 53, 64, 83, 74, 81, 78, 66, 67, 117, 104, 103, 120, 105, 102, 90, 71, 67, 113, 97, 98, 222, 223, 233, 211, 207, 217, 150, 131, 121, 127, 101, 90, 145, 122, 128, 165, 147, 150, 149, 103, 96, 116, 73, 57, 133, 95, 73, 122, 85, 68, 65, 55, 58, 73, 68, 72, 122, 118, 130, 121, 114, 121, 107, 95, 98, 136, 121, 117, 102, 87, 81, 75, 59, 57, 77, 64, 66, 92, 79, 77, 87, 74, 70, 100, 89, 86, 79, 69, 66, 66, 50, 55, 51, 39, 48, 63, 53, 60, 89, 78, 82, 104, 92, 93, 94, 83, 81, 93, 80, 81, 127, 110, 113, 162, 149, 155, 199, 193, 203, 141, 122, 124, 104, 83, 79, 151, 126, 128, 168, 146, 155, 160, 140, 144, 118, 60, 49, 113, 84, 73, 131, 92, 70, 126, 97, 72, 90, 77, 71, 70, 62, 64, 74, 67, 71, 91, 85, 89, 87, 77, 78, 103, 90, 86, 78, 66, 65, 74, 61, 61, 88, 75, 76, 98, 85, 83, 93, 82, 83, 87, 76, 78, 87, 73, 70, 83, 64, 58, 52, 39, 44, 60, 49, 53, 81, 69, 71, 93, 80, 80, 117, 104, 102, 164, 150, 155, 188, 172, 179, 188, 174, 182, 171, 157, 162, 134, 117, 120, 143, 124, 126, 172, 153, 156, 169, 151, 157, 167, 147, 154, 100, 62, 57, 106, 83, 73, 111, 83, 67, 118, 97, 89, 167, 154, 161, 153, 145, 150, 118, 109, 114, 78, 69, 74, 87, 78, 80, 86, 76, 76, 77, 65, 65, 76, 62, 60, 87, 72, 71, 125, 112, 111, 158, 149, 153, 174, 164, 169, 158, 145, 152, 119, 105, 106, 75, 62, 65, 86, 75, 79, 131, 117, 121, 169, 155, 157, 174, 158, 161, 180, 164, 168, 182, 165, 170, 185, 169, 172, 189, 174, 177, 190, 174, 181, 186, 169, 179, 178, 159, 165, 174, 158, 161, 178, 161, 167, 90, 71, 67, 84, 66, 64, 92, 73, 70, 163, 145, 150, 187, 175, 181, 191, 181, 188, 191, 179, 189, 181, 170, 178, 174, 165, 171, 159, 148, 153, 128, 117, 121, 139, 128, 129, 163, 151, 155, 189, 177, 183, 191, 179, 185, 191, 178, 186, 193, 180, 191, 191, 180, 188, 171, 160, 163, 175, 162, 165, 187, 170, 174, 188, 171, 177, 185, 168, 174, 186, 170, 175, 186, 169, 175, 187, 171, 175, 186, 169, 174, 186, 170, 176, 185, 170, 177, 180, 161, 167, 176, 159, 163, 176, 159, 166, 75, 61, 60, 70, 60, 54, 138, 124, 124, 195, 182, 186, 195, 183, 184, 195, 183, 187, 191, 179, 184, 186, 174, 175, 189, 177, 179, 195, 184, 188, 194, 183, 188, 194, 182, 185, 196, 184, 190, 195, 183, 191, 195, 182, 189, 191, 179, 184, 189, 178, 184, 191, 179, 185, 193, 180, 183, 186, 169, 172, 183, 165, 169, 186, 168, 174, 190, 173, 179, 188, 172, 177, 188, 171, 176, 192, 175, 181, 193, 177, 182, 191, 175, 181, 188, 173, 179, 181, 163, 167, 181, 164, 168, 182, 165, 173, 65, 57, 56, 126, 114, 115, 191, 176, 178, 195, 183, 184, 201, 187, 193, 202, 188, 197, 200, 186, 192, 192, 175, 177, 189, 172, 176, 196, 181, 188, 193, 179, 185, 193, 178, 182, 195, 180, 187, 199, 186, 194, 197, 185, 191, 193, 182, 188, 191, 178, 183, 190, 175, 180, 190, 173, 177, 187, 168, 172, 182, 165, 168, 183, 165, 168, 184, 167, 170, 186, 170, 173, 184, 168, 172, 186, 170, 176, 188, 173, 179, 186, 171, 176, 185, 168, 173, 180, 161, 165, 184, 167, 171, 185, 168, 177, 87, 78, 82, 186, 171, 175, 202, 186, 189, 203, 192, 196, 201, 188, 194, 199, 184, 191, 200, 188, 192, 203, 191, 194, 195, 180, 184, 199, 185, 192, 199, 186, 193, 198, 186, 193, 200, 186, 192, 199, 187, 193, 199, 188, 192, 195, 183, 187, 193, 176, 181, 191, 173, 178, 192, 174, 180, 188, 171, 175, 184, 168, 171, 180, 163, 166, 182, 163, 165, 187, 171, 172, 187, 170, 172, 186, 169, 174, 185, 169, 176, 186, 170, 176, 185, 168, 174, 182, 163, 167, 187, 170, 177, 185, 169, 178, 150, 139, 143, 195, 180, 182, 196, 182, 181, 203, 190, 191, 204, 189, 193, 204, 186, 191, 195, 178, 179, 198, 185, 186, 198, 183, 187, 203, 189, 196, 202, 190, 196, 199, 188, 194, 202, 188, 195, 196, 183, 189, 197, 184, 188, 191, 177, 181, 193, 176, 182, 194, 180, 185, 195, 180, 186, 195, 180, 184, 192, 177, 181, 186, 168, 171, 183, 164, 166, 186, 169, 172, 190, 172, 175, 191, 173, 176, 186, 170, 175, 187, 170, 176, 185, 168, 174, 186, 167, 171, 189, 171, 178, 189, 173, 181, 190, 177, 181, 200, 183, 186, 202, 187, 188, 204, 189, 194, 203, 190, 195, 203, 190, 193, 199, 183, 182, 197, 182, 181, 203, 189, 192, 204, 191, 197, 199, 186, 191, 196, 182, 186, 203, 189, 195, 198, 183, 188, 196, 181, 185, 195, 179, 184, 196, 182, 186, 198, 186, 190, 199, 184, 190, 193, 178, 183, 190, 175, 178, 187, 169, 170, 190, 171, 173, 190, 174, 178, 190, 172, 176, 184, 167, 169, 185, 169, 174, 189, 172, 178, 186, 168, 174, 187, 168, 171, 185, 166, 171, 191, 173, 180, 200, 186, 189, 201, 185, 187, 201, 184, 188, 206, 191, 198, 204, 192, 197, 203, 191, 195, 199, 185, 185, 197, 180, 179, 202, 188, 191, 204, 191, 196, 202, 187, 190, 195, 180, 181, 198, 184, 190, 198, 183, 187, 199, 184, 186, 194, 179, 181, 192, 180, 181, 193, 178, 181, 193, 176, 181, 190, 172, 176, 184, 167, 169, 185, 167, 167, 187, 170, 170, 190, 175, 178, 191, 172, 177, 192, 174, 179, 193, 176, 182, 193, 176, 182, 186, 168, 174, 181, 162, 164, 177, 157, 160, 183, 164, 168, 204, 190, 194, 198, 182, 182, 195, 177, 175, 203, 188, 188, 203, 189, 191, 203, 186, 190, 201, 181, 184, 195, 177, 174, 203, 189, 191, 204, 191, 197, 202, 188, 191, 193, 178, 178, 192, 177, 181, 197, 182, 186, 199, 185, 187, 192, 176, 176, 184, 168, 168, 189, 171, 172, 188, 168, 170, 187, 168, 169, 185, 166, 166, 185, 166, 166, 186, 169, 169, 190, 173, 176, 192, 174, 179, 195, 179, 185, 195, 179, 186, 194, 178, 184, 187, 169, 175, 182, 163, 165, 177, 158, 160, 187, 169, 173, 206, 192, 195, 203, 187, 187, 195, 176, 172, 196, 175, 172, 198, 182, 180, 195, 178, 175, 193, 172, 169, 191, 171, 166, 198, 182, 181, 201, 187, 194, 199, 185, 190, 190, 173, 174, 190, 175, 175, 194, 179, 185, 193, 179, 182, 186, 168, 167, 187, 167, 167, 187, 167, 168, 187, 167, 169, 186, 166, 164, 186, 166, 165, 183, 163, 163, 188, 169, 169, 191, 172, 174, 193, 177, 183, 196, 182, 188, 193, 178, 185, 192, 176, 184, 187, 170, 176, 188, 170, 173, 192, 173, 177, 194, 178, 187], \"height\": 32, \"channels\": 3, \"width\": 32, \"type\": \"image\", \"id\": 1290288600}, {\"format\": \"raw\", \"value\": [174, 170, 176, 158, 159, 161, 157, 157, 157, 184, 180, 182, 167, 162, 160, 164, 159, 158, 172, 167, 166, 166, 158, 158, 166, 155, 156, 159, 150, 150, 156, 151, 149, 158, 156, 156, 185, 185, 195, 188, 191, 201, 183, 188, 197, 179, 186, 195, 181, 184, 194, 183, 184, 194, 180, 182, 191, 177, 178, 188, 175, 176, 184, 179, 175, 184, 185, 176, 187, 177, 173, 182, 187, 188, 197, 180, 184, 193, 170, 173, 182, 168, 172, 181, 159, 162, 171, 160, 161, 171, 158, 158, 168, 160, 160, 170, 172, 167, 172, 115, 112, 110, 68, 61, 54, 133, 116, 109, 109, 89, 77, 99, 80, 68, 111, 91, 80, 122, 98, 88, 113, 85, 77, 91, 70, 59, 73, 59, 45, 75, 67, 57, 162, 162, 166, 184, 187, 193, 179, 184, 191, 174, 180, 189, 176, 177, 186, 179, 178, 186, 176, 175, 183, 172, 171, 179, 170, 170, 178, 173, 169, 178, 177, 167, 178, 174, 170, 179, 182, 182, 191, 179, 181, 190, 159, 161, 171, 150, 152, 162, 156, 158, 167, 161, 161, 171, 155, 155, 165, 153, 153, 163, 166, 161, 166, 92, 84, 78, 65, 49, 35, 78, 53, 41, 86, 61, 45, 99, 73, 58, 99, 74, 59, 99, 71, 57, 98, 68, 55, 69, 45, 29, 50, 31, 14, 44, 31, 15, 123, 119, 113, 170, 168, 167, 186, 186, 188, 184, 184, 190, 177, 175, 182, 175, 173, 179, 172, 170, 176, 167, 164, 171, 164, 164, 171, 172, 167, 177, 173, 164, 175, 171, 167, 176, 166, 165, 174, 174, 173, 183, 148, 147, 158, 135, 133, 144, 156, 155, 165, 160, 160, 170, 155, 155, 165, 153, 153, 163, 171, 166, 170, 99, 88, 79, 84, 62, 43, 84, 59, 46, 93, 71, 58, 89, 68, 55, 70, 49, 36, 59, 40, 26, 66, 48, 33, 58, 40, 25, 48, 30, 15, 56, 40, 26, 85, 74, 60, 91, 83, 72, 122, 115, 110, 140, 135, 134, 148, 143, 147, 156, 151, 157, 164, 159, 164, 162, 158, 163, 159, 157, 164, 153, 149, 158, 163, 154, 165, 163, 160, 169, 154, 154, 163, 158, 156, 167, 144, 142, 153, 135, 133, 143, 138, 136, 146, 150, 149, 159, 154, 153, 164, 150, 150, 160, 190, 184, 186, 100, 92, 83, 71, 54, 34, 85, 65, 48, 85, 67, 54, 76, 60, 46, 64, 51, 36, 49, 39, 22, 47, 37, 17, 52, 38, 20, 79, 60, 49, 109, 90, 81, 82, 67, 51, 43, 33, 17, 44, 36, 21, 63, 52, 41, 100, 87, 81, 85, 73, 68, 90, 81, 75, 117, 110, 103, 136, 128, 127, 133, 124, 129, 140, 134, 142, 151, 150, 161, 162, 163, 174, 151, 151, 162, 142, 140, 149, 143, 139, 147, 132, 128, 136, 138, 136, 146, 140, 138, 148, 142, 140, 151, 193, 189, 189, 105, 99, 92, 65, 52, 33, 82, 63, 43, 89, 69, 53, 95, 79, 62, 78, 66, 48, 60, 45, 25, 66, 46, 25, 62, 42, 25, 93, 75, 63, 98, 80, 71, 64, 49, 34, 61, 52, 35, 54, 46, 28, 64, 50, 34, 100, 82, 70, 70, 53, 41, 47, 33, 21, 56, 45, 32, 88, 70, 61, 109, 88, 84, 122, 107, 106, 159, 148, 152, 165, 160, 166, 145, 145, 154, 153, 152, 160, 161, 159, 167, 149, 147, 154, 139, 136, 147, 136, 133, 144, 135, 131, 142, 195, 192, 194, 117, 110, 106, 69, 53, 37, 84, 61, 42, 102, 79, 61, 112, 89, 71, 77, 57, 38, 109, 80, 61, 132, 97, 78, 80, 55, 40, 88, 70, 58, 73, 56, 42, 58, 44, 28, 64, 54, 37, 55, 43, 27, 78, 59, 46, 93, 71, 59, 73, 52, 40, 67, 47, 34, 85, 65, 52, 117, 89, 75, 129, 96, 82, 121, 91, 80, 135, 107, 98, 150, 132, 128, 161, 155, 159, 181, 177, 184, 176, 176, 185, 161, 162, 173, 148, 145, 156, 136, 133, 144, 136, 133, 144, 191, 189, 194, 126, 119, 116, 83, 63, 51, 130, 104, 84, 129, 103, 82, 88, 60, 39, 65, 36, 16, 142, 105, 83, 153, 114, 93, 86, 61, 47, 79, 62, 48, 71, 53, 36, 59, 45, 29, 60, 48, 32, 63, 47, 32, 102, 77, 65, 105, 79, 67, 98, 72, 60, 113, 85, 73, 128, 99, 88, 146, 111, 96, 148, 111, 92, 142, 106, 88, 134, 98, 81, 123, 93, 81, 143, 125, 120, 185, 174, 174, 174, 171, 177, 176, 176, 186, 173, 170, 181, 157, 154, 165, 156, 153, 164, 182, 182, 187, 140, 131, 131, 80, 58, 48, 98, 70, 50, 116, 87, 62, 101, 68, 45, 107, 70, 49, 154, 115, 90, 116, 83, 58, 69, 51, 36, 85, 70, 54, 70, 50, 29, 69, 56, 39, 68, 56, 40, 82, 63, 49, 126, 98, 87, 126, 97, 85, 129, 100, 87, 144, 111, 99, 153, 117, 106, 154, 119, 106, 149, 115, 101, 142, 108, 93, 137, 102, 86, 132, 97, 80, 118, 88, 72, 134, 114, 106, 173, 163, 164, 183, 179, 187, 181, 178, 189, 173, 170, 181, 170, 167, 178, 181, 179, 186, 141, 131, 133, 97, 77, 70, 62, 39, 21, 88, 63, 39, 107, 76, 50, 123, 84, 62, 129, 91, 70, 87, 62, 42, 72, 53, 39, 77, 61, 45, 74, 56, 38, 87, 70, 56, 92, 74, 59, 107, 82, 69, 139, 108, 95, 131, 102, 90, 132, 104, 92, 143, 111, 100, 152, 116, 107, 152, 120, 109, 149, 120, 107, 141, 111, 98, 134, 103, 89, 131, 98, 82, 123, 92, 76, 105, 79, 70, 131, 111, 109, 183, 169, 173, 177, 173, 182, 172, 171, 178, 172, 170, 178, 176, 173, 181, 117, 106, 111, 123, 106, 101, 108, 89, 75, 87, 65, 44, 84, 58, 32, 114, 80, 58, 120, 90, 74, 82, 62, 47, 77, 55, 41, 104, 81, 67, 113, 91, 78, 93, 73, 60, 101, 78, 64, 116, 87, 73, 141, 110, 95, 134, 107, 94, 127, 100, 89, 139, 110, 100, 146, 114, 104, 149, 118, 107, 145, 116, 102, 140, 111, 97, 138, 109, 95, 132, 104, 89, 127, 99, 85, 107, 80, 71, 92, 67, 63, 145, 124, 124, 171, 165, 170, 162, 163, 167, 161, 161, 167, 169, 167, 176, 137, 127, 134, 128, 115, 112, 127, 109, 98, 81, 60, 42, 65, 43, 19, 95, 71, 49, 90, 69, 51, 65, 47, 30, 103, 80, 65, 154, 123, 111, 136, 105, 93, 90, 70, 57, 99, 76, 63, 117, 89, 74, 141, 110, 96, 132, 106, 94, 121, 96, 84, 134, 106, 95, 139, 109, 99, 144, 114, 102, 141, 112, 98, 137, 108, 94, 135, 106, 92, 128, 99, 85, 126, 98, 84, 112, 85, 74, 85, 61, 53, 90, 69, 65, 154, 145, 144, 160, 158, 161, 154, 153, 161, 150, 148, 157, 181, 175, 184, 169, 160, 161, 135, 123, 115, 76, 61, 46, 48, 33, 12, 59, 42, 23, 91, 72, 54, 118, 96, 77, 151, 124, 107, 165, 130, 115, 137, 102, 89, 84, 64, 51, 101, 78, 64, 120, 91, 77, 143, 113, 98, 121, 98, 84, 106, 84, 71, 123, 97, 85, 130, 102, 91, 139, 110, 98, 140, 110, 96, 143, 114, 100, 138, 109, 95, 124, 95, 81, 120, 92, 80, 111, 86, 73, 89, 66, 53, 75, 54, 42, 112, 98, 92, 163, 157, 162, 157, 154, 165, 147, 145, 153, 187, 183, 193, 200, 196, 200, 175, 173, 166, 93, 89, 74, 40, 30, 11, 55, 38, 23, 100, 75, 61, 154, 122, 105, 165, 133, 115, 160, 125, 108, 124, 92, 76, 78, 58, 44, 93, 70, 57, 112, 83, 69, 134, 103, 88, 109, 87, 73, 86, 66, 53, 105, 82, 69, 121, 95, 84, 136, 108, 95, 144, 114, 100, 143, 114, 100, 129, 100, 86, 119, 89, 77, 110, 82, 70, 102, 76, 62, 85, 62, 47, 77, 56, 39, 75, 58, 47, 140, 131, 137, 157, 153, 165, 155, 155, 166, 187, 186, 198, 192, 185, 186, 169, 160, 151, 146, 137, 122, 92, 79, 62, 88, 70, 56, 124, 98, 85, 148, 115, 98, 141, 107, 88, 141, 109, 92, 112, 85, 70, 71, 52, 39, 79, 57, 42, 104, 77, 61, 118, 89, 71, 107, 86, 70, 89, 70, 56, 96, 74, 62, 112, 87, 77, 126, 99, 87, 126, 100, 83, 112, 86, 69, 106, 79, 66, 108, 81, 69, 99, 73, 60, 90, 66, 52, 86, 63, 47, 87, 65, 48, 68, 50, 36, 106, 95, 97, 157, 152, 162, 156, 158, 170, 182, 181, 192, 185, 173, 168, 153, 135, 121, 160, 141, 127, 149, 130, 116, 149, 130, 116, 155, 135, 120, 151, 127, 108, 140, 108, 88, 124, 90, 73, 113, 84, 71, 85, 64, 51, 94, 71, 56, 121, 95, 77, 111, 84, 64, 91, 70, 54, 98, 78, 65, 102, 79, 68, 111, 84, 75, 106, 81, 68, 92, 69, 49, 84, 61, 40, 84, 60, 46, 86, 62, 51, 86, 63, 49, 90, 67, 53, 90, 67, 53, 90, 68, 53, 72, 55, 40, 76, 63, 62, 154, 147, 154, 143, 142, 148, 180, 170, 172, 187, 171, 162, 165, 146, 132, 159, 140, 126, 156, 137, 123, 157, 138, 124, 156, 139, 125, 161, 142, 123, 163, 133, 112, 151, 113, 95, 129, 94, 80, 96, 71, 56, 119, 93, 78, 126, 99, 82, 97, 70, 53, 88, 66, 52, 117, 96, 83, 121, 96, 83, 106, 79, 66, 104, 77, 62, 108, 83, 62, 105, 79, 58, 100, 74, 59, 94, 68, 57, 86, 63, 49, 86, 63, 49, 89, 66, 52, 84, 61, 47, 70, 52, 37, 65, 51, 46, 141, 133, 137, 140, 128, 130, 181, 155, 148, 187, 160, 147, 169, 148, 134, 162, 143, 129, 159, 140, 126, 159, 139, 125, 158, 141, 127, 161, 143, 126, 170, 140, 120, 181, 143, 123, 142, 105, 89, 116, 86, 70, 127, 98, 82, 114, 86, 71, 109, 82, 68, 126, 102, 91, 134, 109, 97, 118, 92, 77, 106, 78, 60, 116, 88, 69, 116, 89, 67, 117, 91, 67, 113, 85, 68, 105, 78, 65, 93, 69, 56, 85, 62, 48, 85, 61, 48, 81, 58, 44, 70, 49, 36, 61, 45, 36, 122, 113, 112, 143, 114, 114, 157, 110, 97, 196, 155, 140, 185, 160, 147, 167, 148, 134, 160, 141, 127, 161, 142, 128, 161, 141, 130, 161, 137, 126, 176, 144, 125, 168, 135, 112, 132, 101, 80, 138, 104, 86, 122, 89, 73, 104, 75, 62, 116, 89, 78, 131, 106, 97, 118, 92, 81, 114, 86, 69, 119, 90, 68, 117, 87, 66, 117, 88, 65, 122, 93, 68, 121, 90, 72, 113, 84, 72, 102, 80, 65, 97, 75, 60, 86, 63, 49, 80, 56, 43, 73, 49, 36, 58, 41, 28, 105, 94, 90, 158, 136, 137, 143, 99, 87, 165, 112, 94, 192, 156, 139, 180, 158, 144, 166, 146, 135, 160, 143, 130, 162, 141, 129, 172, 142, 130, 182, 148, 130, 167, 133, 111, 148, 117, 95, 131, 98, 79, 113, 84, 68, 141, 116, 102, 147, 119, 105, 116, 85, 72, 112, 83, 70, 120, 91, 75, 117, 84, 64, 116, 81, 60, 121, 87, 65, 123, 92, 70, 125, 95, 79, 118, 90, 79, 111, 85, 74, 111, 85, 73, 96, 73, 60, 75, 51, 39, 71, 49, 35, 58, 43, 25, 95, 86, 77, 180, 179, 184, 188, 169, 165, 143, 92, 76, 168, 113, 92, 188, 155, 138, 169, 154, 141, 161, 144, 132, 170, 143, 129, 182, 149, 134, 178, 143, 125, 170, 133, 114, 150, 113, 92, 115, 87, 67, 148, 127, 111, 173, 151, 133, 182, 152, 129, 128, 92, 69, 118, 87, 71, 115, 86, 74, 103, 68, 52, 111, 72, 52, 124, 86, 67, 126, 94, 79, 120, 94, 83, 110, 85, 77, 107, 80, 71, 99, 74, 64, 90, 68, 57, 72, 52, 41, 61, 46, 30, 51, 41, 20, 87, 81, 71, 187, 187, 191, 202, 193, 193, 168, 139, 135, 114, 62, 45, 163, 118, 95, 180, 153, 134, 178, 148, 133, 183, 148, 134, 181, 150, 134, 171, 138, 119, 159, 124, 104, 127, 93, 71, 164, 138, 119, 178, 155, 136, 180, 152, 129, 176, 142, 115, 111, 77, 58, 108, 78, 64, 106, 78, 63, 94, 63, 46, 113, 79, 60, 131, 98, 81, 128, 99, 85, 120, 96, 85, 107, 86, 75, 97, 77, 65, 85, 67, 55, 73, 58, 45, 62, 49, 35, 55, 42, 25, 46, 38, 19, 87, 81, 76, 188, 187, 191, 199, 197, 199, 167, 157, 162, 69, 49, 35, 110, 65, 43, 182, 119, 106, 188, 147, 131, 181, 159, 140, 186, 157, 140, 171, 140, 121, 156, 123, 102, 135, 103, 82, 191, 167, 149, 187, 161, 140, 180, 149, 125, 134, 103, 80, 92, 64, 50, 112, 84, 72, 104, 77, 60, 88, 62, 43, 113, 87, 69, 118, 92, 77, 122, 98, 84, 130, 107, 94, 122, 102, 90, 101, 84, 72, 82, 68, 55, 69, 58, 44, 56, 47, 32, 49, 39, 21, 43, 35, 22, 94, 90, 89, 190, 189, 192, 197, 194, 193, 179, 174, 178, 112, 109, 106, 66, 45, 34, 116, 72, 59, 175, 137, 120, 185, 160, 142, 182, 156, 139, 174, 146, 126, 165, 134, 112, 147, 117, 95, 161, 137, 119, 178, 151, 130, 161, 137, 118, 127, 110, 97, 110, 90, 84, 118, 92, 81, 102, 76, 56, 90, 69, 49, 80, 62, 47, 81, 61, 49, 109, 89, 76, 127, 108, 94, 130, 111, 98, 120, 102, 90, 101, 85, 73, 72, 59, 46, 49, 38, 23, 45, 37, 18, 48, 42, 32, 116, 114, 117, 194, 193, 195, 193, 190, 187, 186, 183, 183, 177, 171, 178, 125, 125, 125, 115, 114, 103, 144, 119, 108, 181, 143, 131, 184, 154, 135, 173, 149, 126, 165, 139, 117, 163, 133, 114, 153, 126, 106, 135, 109, 90, 146, 128, 116, 163, 155, 153, 160, 147, 146, 133, 111, 102, 97, 72, 54, 88, 69, 49, 84, 68, 53, 89, 72, 58, 104, 85, 71, 118, 98, 84, 130, 109, 97, 130, 108, 97, 116, 97, 85, 84, 68, 54, 60, 46, 31, 46, 37, 22, 77, 71, 67, 135, 133, 140, 192, 196, 197, 186, 187, 188, 182, 181, 183, 180, 181, 183, 174, 174, 183, 176, 172, 183, 168, 159, 157, 152, 126, 113, 181, 145, 126, 178, 155, 128, 170, 149, 127, 158, 129, 113, 158, 127, 103, 151, 124, 107, 112, 93, 87, 155, 142, 143, 174, 160, 158, 132, 112, 103, 95, 73, 58, 103, 84, 70, 127, 111, 96, 101, 84, 69, 115, 96, 81, 113, 91, 78, 119, 96, 84, 125, 103, 90, 118, 98, 84, 107, 90, 74, 76, 61, 46, 60, 49, 44, 121, 113, 119, 137, 134, 145, 187, 192, 193, 179, 181, 184, 176, 176, 179, 179, 178, 181, 174, 171, 181, 169, 165, 177, 175, 174, 174, 163, 155, 144, 154, 129, 114, 182, 149, 127, 179, 146, 122, 173, 143, 118, 158, 124, 98, 147, 116, 97, 111, 87, 75, 136, 117, 110, 160, 136, 128, 124, 97, 84, 94, 70, 57, 122, 107, 98, 155, 142, 137, 112, 97, 91, 104, 86, 77, 102, 83, 70, 101, 81, 67, 104, 85, 71, 106, 88, 74, 89, 74, 59, 48, 36, 23, 93, 85, 84, 135, 129, 138, 134, 133, 145, 183, 186, 191, 176, 177, 182, 172, 171, 177, 176, 173, 179, 172, 168, 177, 168, 167, 177, 164, 165, 168, 173, 175, 173, 157, 146, 140, 149, 114, 100, 160, 122, 97, 157, 128, 98, 163, 130, 105, 147, 116, 94, 128, 102, 84, 118, 94, 79, 136, 106, 90, 113, 83, 65, 98, 74, 60, 139, 128, 121, 151, 142, 144, 146, 134, 134, 128, 115, 109, 105, 91, 78, 97, 81, 66, 89, 74, 59, 77, 64, 51, 46, 36, 24, 45, 37, 29, 115, 112, 114, 133, 130, 141, 134, 133, 145, 179, 182, 189, 172, 173, 180, 168, 167, 175, 168, 169, 176, 167, 170, 176, 165, 166, 173, 165, 165, 172, 169, 168, 175, 162, 157, 159, 104, 89, 77, 109, 84, 63, 134, 106, 84, 133, 103, 84, 133, 105, 86, 126, 102, 81, 121, 98, 77, 119, 95, 74, 99, 74, 53, 89, 71, 53, 81, 75, 63, 67, 64, 58, 77, 70, 63, 87, 79, 70, 92, 81, 70, 87, 76, 60, 73, 63, 45, 53, 44, 30, 31, 24, 14, 65, 61, 56, 124, 125, 131, 134, 134, 147, 133, 132, 145, 174, 177, 184, 168, 169, 176, 163, 161, 169, 159, 164, 170, 162, 171, 175, 159, 161, 166, 167, 164, 174, 166, 159, 174, 157, 154, 163, 93, 96, 89, 57, 48, 35, 90, 67, 57, 102, 82, 70, 107, 89, 75, 76, 59, 42, 62, 47, 28, 57, 43, 25, 49, 35, 16, 43, 32, 13, 32, 29, 12, 33, 32, 17, 35, 31, 17, 37, 31, 18, 40, 32, 22, 43, 35, 21, 41, 34, 16, 33, 27, 14, 49, 44, 38, 112, 109, 109, 134, 137, 146, 134, 136, 149, 131, 131, 144, 166, 169, 177, 164, 165, 171, 160, 159, 164, 156, 159, 163, 158, 163, 168, 157, 159, 164, 161, 159, 166, 168, 165, 176, 159, 158, 169, 143, 145, 150, 128, 128, 129, 123, 120, 119, 143, 139, 137, 152, 150, 146, 116, 113, 109, 88, 85, 81, 69, 64, 57, 69, 63, 54, 69, 63, 55, 56, 52, 44, 52, 48, 40, 48, 42, 35, 42, 37, 30, 40, 34, 28, 41, 36, 28, 52, 48, 39, 70, 66, 62, 96, 92, 95, 135, 131, 139, 129, 130, 140, 130, 130, 141, 131, 131, 141, 158, 161, 170, 158, 159, 166, 157, 156, 161, 154, 156, 161, 154, 158, 165, 156, 157, 165, 155, 154, 162, 163, 162, 171, 163, 163, 173, 156, 156, 165, 165, 166, 173, 175, 177, 180, 169, 169, 170, 163, 164, 165, 168, 169, 170, 167, 166, 167, 158, 154, 155, 157, 152, 153, 154, 150, 151, 140, 135, 137, 136, 133, 134, 127, 126, 126, 114, 113, 113, 100, 99, 99, 111, 109, 108, 125, 124, 123, 133, 131, 134, 130, 127, 136, 137, 134, 146, 135, 135, 145, 132, 132, 142, 130, 130, 140], \"height\": 32, \"channels\": 3, \"width\": 32, \"type\": \"image\", \"id\": 1290211568}, {\"format\": \"raw\", \"value\": [255, 255, 255, 255, 255, 255, 255, 255, 255, 255, 255, 255, 255, 255, 255, 255, 255, 255, 255, 255, 255, 255, 255, 255, 255, 255, 255, 255, 255, 255, 255, 255, 255, 255, 255, 255, 255, 255, 255, 255, 255, 255, 255, 255, 255, 255, 255, 255, 255, 255, 255, 255, 255, 255, 255, 255, 255, 255, 255, 255, 255, 255, 255, 255, 255, 255, 255, 255, 255, 255, 255, 255, 255, 255, 255, 255, 255, 255, 255, 255, 255, 255, 255, 255, 255, 255, 255, 255, 255, 255, 255, 255, 255, 255, 255, 255, 255, 255, 255, 254, 254, 254, 254, 254, 254, 254, 254, 254, 254, 254, 254, 254, 254, 254, 254, 254, 254, 254, 254, 254, 254, 254, 254, 254, 254, 254, 254, 254, 254, 254, 254, 254, 254, 254, 254, 254, 254, 254, 254, 254, 254, 254, 254, 254, 254, 254, 254, 254, 254, 254, 254, 254, 254, 254, 254, 254, 254, 254, 254, 253, 254, 254, 251, 254, 253, 249, 249, 240, 198, 195, 183, 183, 179, 171, 248, 247, 245, 255, 255, 255, 254, 254, 254, 254, 254, 254, 254, 254, 254, 254, 254, 254, 255, 255, 255, 254, 254, 254, 255, 255, 255, 255, 255, 255, 255, 255, 255, 255, 255, 255, 255, 255, 255, 255, 255, 255, 255, 255, 255, 255, 255, 255, 254, 254, 254, 255, 255, 254, 255, 255, 255, 255, 255, 255, 255, 255, 255, 255, 255, 255, 255, 255, 255, 255, 255, 254, 254, 254, 254, 254, 254, 254, 254, 254, 254, 254, 254, 255, 254, 254, 254, 205, 194, 180, 150, 131, 111, 158, 141, 129, 238, 232, 230, 255, 255, 255, 254, 254, 254, 255, 255, 255, 255, 255, 255, 255, 255, 255, 255, 255, 255, 254, 254, 254, 255, 255, 255, 255, 255, 255, 255, 255, 255, 255, 255, 255, 255, 255, 255, 255, 255, 255, 252, 255, 254, 254, 255, 255, 255, 255, 255, 255, 255, 255, 253, 254, 255, 254, 254, 254, 253, 254, 255, 254, 255, 255, 254, 253, 254, 254, 255, 255, 255, 255, 255, 255, 255, 255, 255, 255, 255, 255, 255, 255, 222, 215, 212, 169, 149, 136, 161, 135, 119, 153, 131, 121, 224, 216, 214, 255, 255, 255, 254, 254, 254, 255, 255, 255, 255, 255, 255, 255, 255, 255, 255, 255, 255, 254, 254, 254, 255, 255, 255, 255, 255, 255, 255, 255, 255, 255, 255, 255, 255, 255, 255, 254, 255, 255, 250, 254, 253, 248, 249, 248, 235, 230, 231, 237, 234, 233, 251, 251, 248, 255, 255, 254, 251, 254, 255, 250, 253, 254, 255, 254, 254, 240, 237, 237, 216, 211, 212, 221, 214, 214, 220, 214, 214, 220, 212, 208, 167, 148, 134, 154, 128, 120, 144, 119, 115, 135, 118, 116, 223, 218, 217, 255, 255, 255, 254, 254, 254, 255, 255, 255, 255, 255, 255, 255, 255, 255, 255, 255, 255, 254, 254, 254, 255, 255, 255, 255, 255, 255, 255, 255, 255, 255, 255, 255, 255, 255, 255, 254, 254, 254, 255, 254, 255, 221, 212, 214, 156, 139, 134, 171, 156, 141, 202, 193, 175, 235, 231, 224, 251, 252, 250, 254, 255, 253, 215, 210, 203, 139, 119, 111, 66, 42, 39, 72, 52, 51, 76, 56, 55, 101, 78, 70, 118, 86, 70, 121, 85, 77, 108, 77, 78, 124, 105, 110, 232, 227, 229, 255, 255, 255, 254, 254, 254, 255, 255, 255, 255, 255, 255, 255, 255, 255, 255, 255, 255, 254, 254, 254, 255, 255, 255, 255, 255, 255, 255, 255, 255, 255, 255, 255, 255, 255, 255, 254, 254, 254, 255, 255, 255, 236, 226, 229, 155, 132, 127, 169, 144, 127, 182, 161, 140, 177, 159, 146, 187, 176, 168, 169, 157, 150, 101, 82, 69, 97, 66, 49, 49, 22, 15, 28, 13, 14, 33, 16, 16, 50, 27, 20, 66, 40, 28, 95, 62, 56, 98, 66, 65, 115, 91, 92, 224, 217, 217, 255, 255, 255, 254, 254, 254, 255, 255, 255, 255, 255, 255, 255, 255, 255, 255, 255, 255, 254, 254, 254, 255, 255, 255, 255, 255, 255, 255, 255, 255, 255, 255, 255, 255, 255, 255, 254, 255, 255, 253, 255, 255, 251, 246, 247, 180, 159, 158, 167, 141, 133, 167, 138, 124, 151, 118, 103, 120, 93, 84, 79, 53, 44, 73, 40, 27, 84, 52, 34, 38, 21, 14, 17, 16, 21, 16, 13, 16, 22, 14, 8, 30, 22, 16, 65, 45, 40, 102, 74, 67, 124, 98, 88, 189, 180, 175, 250, 250, 250, 255, 255, 255, 255, 255, 255, 255, 255, 255, 255, 255, 255, 255, 255, 255, 254, 254, 254, 255, 255, 255, 255, 255, 255, 255, 255, 255, 255, 255, 255, 255, 255, 255, 255, 255, 255, 253, 254, 254, 255, 255, 255, 228, 218, 216, 155, 129, 119, 134, 98, 82, 137, 100, 86, 95, 66, 58, 51, 29, 22, 46, 26, 18, 29, 17, 9, 18, 12, 11, 18, 14, 20, 17, 15, 18, 30, 29, 24, 31, 27, 17, 48, 32, 19, 69, 47, 32, 73, 53, 41, 142, 130, 126, 246, 242, 242, 255, 255, 255, 254, 254, 255, 255, 254, 255, 255, 255, 255, 255, 255, 255, 254, 254, 254, 255, 255, 255, 255, 255, 255, 255, 255, 255, 255, 255, 255, 255, 255, 255, 255, 255, 255, 255, 255, 254, 255, 255, 255, 253, 249, 246, 173, 150, 139, 131, 97, 79, 144, 110, 96, 92, 64, 53, 39, 21, 12, 27, 17, 11, 27, 20, 15, 44, 31, 27, 61, 42, 39, 57, 43, 38, 83, 76, 69, 72, 59, 50, 69, 48, 34, 66, 41, 28, 57, 35, 28, 130, 115, 114, 240, 235, 235, 254, 255, 255, 253, 254, 255, 255, 254, 255, 255, 255, 255, 255, 255, 255, 254, 254, 254, 255, 255, 255, 255, 255, 255, 255, 255, 255, 255, 255, 255, 255, 255, 255, 255, 255, 255, 255, 255, 253, 254, 254, 254, 255, 254, 254, 208, 192, 186, 140, 112, 99, 117, 86, 70, 81, 50, 32, 50, 28, 14, 49, 41, 34, 79, 70, 62, 114, 91, 78, 148, 116, 101, 135, 111, 98, 93, 81, 72, 56, 42, 36, 73, 50, 39, 74, 46, 37, 68, 44, 40, 103, 87, 87, 199, 193, 192, 250, 251, 251, 254, 255, 255, 255, 254, 255, 255, 255, 255, 255, 255, 255, 254, 254, 254, 255, 255, 255, 255, 255, 255, 255, 255, 255, 255, 255, 255, 255, 255, 255, 255, 255, 255, 255, 255, 252, 254, 254, 253, 255, 255, 255, 215, 204, 202, 123, 102, 94, 87, 59, 42, 98, 63, 38, 98, 73, 51, 70, 63, 54, 95, 92, 85, 155, 130, 116, 173, 135, 115, 126, 100, 85, 61, 53, 46, 56, 50, 44, 90, 74, 65, 53, 34, 25, 38, 22, 18, 59, 46, 46, 177, 171, 170, 250, 252, 251, 254, 254, 255, 255, 254, 255, 255, 255, 255, 255, 255, 255, 254, 254, 254, 255, 255, 255, 255, 255, 255, 255, 255, 255, 255, 255, 255, 254, 254, 254, 253, 254, 253, 254, 254, 252, 255, 255, 255, 255, 252, 254, 181, 169, 170, 101, 81, 73, 98, 70, 51, 99, 69, 46, 114, 94, 77, 94, 89, 82, 83, 78, 75, 108, 87, 76, 171, 135, 119, 104, 78, 69, 39, 37, 33, 68, 66, 60, 48, 40, 32, 27, 16, 10, 26, 18, 15, 53, 44, 45, 198, 193, 193, 255, 255, 255, 253, 254, 254, 255, 254, 255, 255, 255, 255, 255, 255, 255, 254, 254, 254, 255, 255, 255, 255, 255, 255, 255, 254, 255, 255, 255, 255, 253, 254, 252, 252, 254, 251, 255, 254, 255, 236, 230, 233, 177, 164, 165, 118, 97, 98, 103, 77, 69, 98, 70, 53, 54, 38, 29, 80, 71, 67, 105, 95, 90, 99, 82, 77, 66, 48, 37, 175, 138, 129, 148, 112, 111, 44, 33, 30, 59, 46, 38, 80, 68, 62, 60, 51, 47, 42, 35, 32, 79, 74, 74, 217, 214, 215, 255, 255, 255, 253, 254, 254, 253, 255, 255, 255, 255, 255, 255, 255, 255, 254, 254, 254, 254, 254, 253, 254, 254, 254, 255, 254, 255, 255, 254, 255, 255, 254, 254, 249, 246, 244, 183, 170, 171, 103, 84, 87, 86, 61, 64, 101, 72, 76, 99, 72, 71, 66, 50, 43, 64, 53, 49, 50, 37, 31, 77, 56, 43, 88, 64, 48, 106, 84, 66, 165, 120, 111, 158, 103, 102, 182, 150, 145, 168, 148, 137, 160, 141, 133, 122, 106, 99, 111, 98, 93, 173, 166, 166, 244, 242, 243, 255, 255, 255, 253, 255, 255, 253, 255, 255, 255, 255, 255, 255, 255, 255, 254, 254, 254, 255, 255, 255, 255, 255, 255, 253, 254, 254, 253, 252, 253, 255, 252, 253, 189, 178, 178, 78, 57, 55, 64, 38, 37, 75, 48, 49, 87, 58, 61, 80, 56, 56, 75, 64, 58, 87, 77, 74, 78, 63, 55, 133, 107, 91, 158, 132, 111, 171, 154, 136, 210, 174, 167, 188, 138, 137, 216, 183, 176, 209, 188, 181, 165, 146, 140, 151, 134, 131, 176, 162, 161, 234, 227, 228, 255, 255, 255, 254, 254, 254, 253, 255, 255, 253, 255, 255, 255, 255, 255, 255, 255, 255, 241, 241, 241, 212, 211, 211, 234, 235, 235, 255, 255, 255, 255, 255, 255, 236, 226, 228, 107, 88, 89, 57, 35, 28, 76, 53, 45, 66, 45, 41, 64, 44, 44, 76, 57, 54, 96, 80, 71, 81, 70, 65, 84, 71, 65, 139, 119, 106, 186, 164, 147, 199, 191, 177, 210, 194, 191, 207, 182, 180, 203, 188, 179, 194, 179, 178, 175, 162, 164, 152, 142, 146, 136, 128, 134, 181, 176, 179, 246, 244, 245, 255, 255, 255, 253, 255, 255, 253, 255, 255, 255, 255, 255, 255, 255, 255, 213, 211, 212, 86, 81, 83, 103, 99, 100, 167, 164, 164, 187, 178, 176, 153, 135, 132, 74, 48, 42, 73, 43, 34, 82, 54, 44, 59, 38, 32, 56, 41, 39, 65, 50, 48, 99, 78, 76, 112, 96, 96, 109, 97, 97, 145, 134, 133, 190, 181, 178, 212, 209, 205, 217, 209, 207, 218, 204, 200, 201, 190, 183, 184, 173, 174, 164, 154, 158, 127, 121, 126, 102, 98, 104, 117, 111, 115, 217, 212, 214, 255, 255, 255, 254, 254, 254, 254, 255, 255, 255, 255, 255, 255, 255, 255, 243, 240, 241, 126, 118, 121, 43, 34, 37, 37, 27, 28, 63, 46, 44, 87, 61, 56, 73, 39, 31, 88, 51, 41, 89, 56, 47, 62, 38, 32, 49, 34, 31, 55, 43, 44, 71, 55, 60, 73, 60, 65, 123, 114, 118, 175, 170, 172, 194, 190, 190, 202, 195, 193, 201, 190, 187, 196, 182, 176, 178, 164, 159, 159, 147, 146, 147, 137, 139, 118, 112, 115, 69, 66, 71, 75, 68, 72, 201, 194, 196, 255, 255, 255, 254, 254, 254, 254, 255, 255, 255, 255, 255, 255, 255, 255, 255, 254, 255, 220, 214, 216, 131, 122, 126, 69, 58, 60, 88, 69, 68, 94, 65, 62, 74, 38, 32, 94, 57, 47, 95, 64, 54, 65, 42, 36, 46, 31, 29, 48, 38, 39, 51, 41, 47, 52, 43, 47, 86, 77, 78, 113, 105, 102, 153, 142, 137, 202, 189, 183, 210, 197, 191, 197, 184, 178, 173, 160, 155, 154, 142, 142, 142, 133, 134, 107, 101, 104, 64, 61, 66, 78, 71, 75, 186, 179, 181, 254, 252, 253, 255, 255, 255, 254, 255, 255, 255, 255, 255, 255, 255, 255, 254, 252, 253, 255, 251, 253, 238, 234, 236, 203, 200, 199, 200, 189, 186, 156, 135, 129, 88, 59, 50, 90, 55, 45, 92, 60, 50, 60, 36, 30, 38, 23, 21, 42, 31, 31, 52, 40, 41, 54, 40, 36, 75, 59, 49, 128, 110, 96, 185, 165, 152, 192, 174, 164, 194, 178, 170, 185, 172, 166, 177, 166, 163, 169, 157, 157, 140, 131, 133, 122, 116, 119, 95, 92, 97, 93, 87, 90, 206, 199, 201, 255, 255, 255, 254, 254, 254, 255, 255, 255, 255, 255, 255, 255, 255, 255, 254, 253, 254, 255, 252, 254, 255, 255, 255, 255, 255, 255, 255, 255, 255, 235, 227, 220, 151, 135, 126, 101, 71, 61, 83, 51, 42, 44, 21, 16, 34, 19, 18, 42, 31, 30, 49, 36, 33, 64, 48, 41, 102, 82, 68, 147, 123, 105, 151, 127, 112, 148, 126, 114, 153, 135, 126, 136, 121, 115, 151, 137, 133, 173, 161, 159, 159, 148, 149, 146, 137, 140, 114, 108, 114, 134, 127, 131, 243, 238, 240, 255, 255, 255, 254, 254, 255, 254, 255, 255, 255, 255, 255, 255, 255, 255, 254, 254, 254, 255, 255, 255, 255, 255, 255, 254, 254, 254, 253, 253, 253, 252, 252, 252, 225, 223, 222, 151, 130, 124, 76, 48, 41, 48, 26, 22, 49, 31, 30, 52, 38, 39, 43, 33, 35, 51, 38, 37, 63, 48, 42, 70, 50, 43, 82, 61, 53, 109, 88, 80, 116, 95, 87, 111, 90, 83, 121, 102, 95, 143, 129, 124, 142, 127, 126, 113, 97, 101, 90, 74, 82, 166, 158, 163, 255, 255, 255, 255, 255, 255, 252, 255, 255, 252, 255, 255, 255, 255, 255, 255, 255, 255, 254, 254, 254, 255, 255, 255, 255, 255, 255, 255, 255, 255, 255, 254, 255, 253, 253, 253, 250, 249, 249, 210, 202, 203, 118, 105, 105, 57, 40, 36, 55, 33, 26, 63, 42, 34, 51, 34, 28, 61, 42, 36, 71, 51, 42, 69, 47, 38, 55, 36, 29, 75, 58, 51, 77, 60, 53, 67, 51, 44, 83, 68, 62, 108, 95, 93, 105, 92, 92, 76, 63, 65, 57, 44, 47, 89, 80, 82, 181, 176, 177, 240, 238, 238, 255, 255, 255, 253, 255, 254, 255, 255, 255, 255, 255, 255, 254, 254, 254, 255, 255, 255, 255, 255, 255, 255, 255, 255, 255, 255, 255, 255, 255, 255, 254, 254, 254, 245, 245, 250, 215, 212, 217, 150, 139, 137, 97, 77, 69, 65, 42, 32, 57, 35, 25, 62, 41, 32, 72, 52, 44, 67, 49, 42, 66, 53, 47, 94, 85, 78, 63, 53, 47, 64, 54, 47, 64, 53, 50, 72, 62, 64, 95, 85, 86, 127, 117, 116, 124, 115, 112, 94, 85, 83, 151, 143, 141, 225, 220, 217, 254, 253, 249, 255, 255, 251, 255, 255, 255, 255, 255, 255, 254, 254, 254, 255, 255, 255, 255, 255, 255, 255, 255, 255, 255, 255, 255, 255, 255, 255, 255, 255, 255, 252, 253, 255, 252, 250, 253, 248, 242, 241, 198, 188, 183, 113, 98, 91, 78, 59, 52, 74, 58, 53, 85, 72, 70, 58, 48, 48, 76, 70, 67, 76, 71, 66, 54, 49, 44, 65, 60, 55, 43, 38, 35, 54, 47, 51, 143, 136, 138, 214, 208, 205, 215, 210, 203, 196, 187, 182, 217, 207, 203, 232, 225, 220, 243, 240, 234, 255, 254, 249, 255, 255, 254, 255, 255, 255, 254, 254, 254, 255, 255, 255, 255, 255, 255, 255, 255, 255, 255, 255, 255, 255, 255, 255, 255, 255, 255, 255, 255, 255, 254, 254, 254, 254, 252, 252, 247, 245, 244, 223, 219, 217, 170, 163, 162, 97, 93, 92, 63, 60, 61, 39, 37, 38, 47, 43, 39, 57, 51, 46, 78, 72, 67, 71, 66, 60, 79, 73, 68, 169, 162, 158, 229, 222, 217, 232, 225, 218, 223, 217, 207, 224, 214, 205, 219, 209, 202, 224, 217, 211, 229, 224, 219, 249, 247, 243, 255, 255, 255, 255, 255, 255, 254, 254, 254, 255, 255, 255, 255, 255, 255, 255, 255, 255, 255, 255, 255, 255, 255, 255, 255, 255, 255, 255, 255, 255, 255, 255, 255, 254, 254, 254, 254, 254, 254, 254, 254, 254, 247, 247, 247, 226, 227, 227, 206, 206, 206, 189, 189, 188, 183, 179, 176, 175, 169, 163, 133, 127, 122, 133, 127, 122, 195, 189, 183, 237, 231, 222, 234, 228, 219, 229, 224, 214, 226, 221, 212, 223, 214, 205, 192, 182, 175, 203, 196, 191, 228, 225, 222, 249, 248, 246, 255, 255, 255, 255, 255, 255, 254, 254, 254, 255, 255, 255, 255, 255, 255, 255, 255, 255, 255, 255, 255, 255, 255, 255, 255, 255, 255, 255, 255, 255, 255, 255, 255, 255, 255, 255, 255, 255, 255, 254, 254, 254, 254, 254, 254, 255, 255, 255, 255, 255, 255, 255, 255, 255, 255, 255, 255, 254, 252, 250, 238, 236, 233, 238, 236, 234, 251, 248, 245, 248, 246, 240, 239, 237, 230, 234, 232, 225, 227, 224, 218, 218, 212, 206, 218, 212, 207, 235, 233, 229, 250, 249, 248, 254, 254, 254, 255, 255, 255, 255, 255, 255, 254, 254, 254, 255, 255, 255, 255, 255, 255, 255, 255, 255, 255, 255, 255, 255, 255, 255, 255, 255, 255, 255, 255, 255, 255, 255, 255, 255, 255, 255, 255, 255, 255, 255, 255, 255, 255, 255, 255, 254, 254, 254, 254, 254, 254, 254, 254, 254, 254, 254, 254, 255, 255, 254, 255, 255, 255, 255, 255, 255, 254, 255, 253, 254, 254, 250, 252, 252, 249, 250, 250, 246, 245, 245, 241, 246, 244, 240, 255, 254, 251, 255, 255, 255, 254, 255, 255, 253, 255, 255, 255, 255, 255, 255, 255, 255, 254, 254, 254, 255, 255, 255, 255, 255, 255, 255, 255, 255, 255, 255, 255, 255, 255, 255, 255, 255, 255, 255, 255, 255, 255, 255, 255, 255, 255, 255, 255, 255, 255, 255, 255, 255, 255, 255, 255, 255, 255, 255, 255, 255, 255, 255, 255, 255, 255, 255, 255, 254, 255, 255, 254, 254, 254, 254, 254, 255, 254, 255, 255, 254, 255, 253, 254, 255, 253, 254, 255, 253, 255, 255, 254, 255, 255, 253, 255, 254, 252, 254, 254, 254, 253, 255, 255, 252, 255, 255, 255, 255, 255, 255, 255, 255, 254, 254, 254, 255, 255, 255, 255, 255, 255, 255, 255, 255, 255, 255, 255, 255, 255, 255, 255, 255, 255, 255, 255, 255, 255, 255, 255, 255, 255, 255, 255, 255, 255, 255, 255, 255, 255, 255, 255, 255, 255, 255, 255, 255, 255, 255, 255, 255, 255, 255, 255, 255, 255, 255, 255, 255, 255, 255, 255, 255, 255, 255, 255, 255, 255, 255, 255, 255, 255, 255, 255, 255, 255, 255, 255, 255, 255, 254, 255, 255, 255, 255, 255, 255, 255, 255, 255, 255, 255, 255, 255, 255, 255], \"height\": 32, \"channels\": 3, \"width\": 32, \"type\": \"image\", \"id\": 1290211400}], \"selected_variable\": {\"name\": [\"<SArray>\"], \"dtype\": \"Image\", \"view_component\": \"Images\", \"view_file\": \"sarray\", \"descriptives\": {\"rows\": 5}, \"type\": \"SArray\", \"view_components\": [\"Images\"]}}, e);\n",
       "                });\n",
       "            })();\n",
       "        "
      ]
     },
     "metadata": {},
     "output_type": "display_data"
    }
   ],
   "source": [
    "def reveal_my_twin(x):\n",
    "    return gl_img.filter_by(x['reference_label'],'id')\n",
    "spirit_animal = reveal_my_twin(knn_model.query(cat_test))\n",
    "spirit_animal['image'].show()"
   ]
  },
  {
   "cell_type": "code",
   "execution_count": 111,
   "metadata": {
    "collapsed": false
   },
   "outputs": [
    {
     "data": {
      "application/javascript": [
       "$(\"head\").append($(\"<link/>\").attr({\n",
       "  rel:  \"stylesheet\",\n",
       "  type: \"text/css\",\n",
       "  href: \"//cdnjs.cloudflare.com/ajax/libs/font-awesome/4.1.0/css/font-awesome.min.css\"\n",
       "}));\n",
       "$(\"head\").append($(\"<link/>\").attr({\n",
       "  rel:  \"stylesheet\",\n",
       "  type: \"text/css\",\n",
       "  href: \"https://static.turi.com/products/graphlab-create/2.1/canvas/css/canvas.css\"\n",
       "}));\n",
       "\n",
       "            (function(){\n",
       "\n",
       "                var e = null;\n",
       "                if (typeof element == 'undefined') {\n",
       "                    var scripts = document.getElementsByTagName('script');\n",
       "                    var thisScriptTag = scripts[scripts.length-1];\n",
       "                    var parentDiv = thisScriptTag.parentNode;\n",
       "                    e = document.createElement('div');\n",
       "                    parentDiv.appendChild(e);\n",
       "                } else {\n",
       "                    e = element[0];\n",
       "                }\n",
       "\n",
       "                if (typeof requirejs !== 'undefined') {\n",
       "                    // disable load timeout; ipython_app.js is large and can take a while to load.\n",
       "                    requirejs.config({waitSeconds: 0});\n",
       "                }\n",
       "\n",
       "                require(['https://static.turi.com/products/graphlab-create/2.1/canvas/js/ipython_app.js'], function(IPythonApp){\n",
       "                    var app = new IPythonApp();\n",
       "                    app.attachView('sarray','Images', {\"ipython\": true, \"rows\": [{\"format\": \"png\", \"value\": \"image/png;base64,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\\n\", \"height\": 96, \"channels\": 3, \"width\": 96, \"type\": \"image\", \"id\": 1426338592}], \"selected_variable\": {\"name\": [\"<SArray>\"], \"dtype\": \"Image\", \"view_component\": \"Images\", \"view_file\": \"sarray\", \"descriptives\": {\"rows\": 1}, \"type\": \"SArray\", \"view_components\": [\"Images\"]}}, e);\n",
       "                });\n",
       "            })();\n",
       "        "
      ]
     },
     "metadata": {},
     "output_type": "display_data"
    }
   ],
   "source": [
    "me_test = new_train[-1:]\n",
    "graphlab.image_analysis.resize(me_test['image'], 96,96).show()"
   ]
  },
  {
   "cell_type": "code",
   "execution_count": 112,
   "metadata": {
    "collapsed": false
   },
   "outputs": [
    {
     "data": {
      "text/html": [
       "<pre>Starting pairwise querying.</pre>"
      ],
      "text/plain": [
       "Starting pairwise querying."
      ]
     },
     "metadata": {},
     "output_type": "display_data"
    },
    {
     "data": {
      "text/html": [
       "<pre>+--------------+---------+-------------+--------------+</pre>"
      ],
      "text/plain": [
       "+--------------+---------+-------------+--------------+"
      ]
     },
     "metadata": {},
     "output_type": "display_data"
    },
    {
     "data": {
      "text/html": [
       "<pre>| Query points | # Pairs | % Complete. | Elapsed Time |</pre>"
      ],
      "text/plain": [
       "| Query points | # Pairs | % Complete. | Elapsed Time |"
      ]
     },
     "metadata": {},
     "output_type": "display_data"
    },
    {
     "data": {
      "text/html": [
       "<pre>+--------------+---------+-------------+--------------+</pre>"
      ],
      "text/plain": [
       "+--------------+---------+-------------+--------------+"
      ]
     },
     "metadata": {},
     "output_type": "display_data"
    },
    {
     "data": {
      "text/html": [
       "<pre>| 0            | 1       | 0.0498504   | 9ms          |</pre>"
      ],
      "text/plain": [
       "| 0            | 1       | 0.0498504   | 9ms          |"
      ]
     },
     "metadata": {},
     "output_type": "display_data"
    },
    {
     "data": {
      "text/html": [
       "<pre>| Done         |         | 100         | 156ms        |</pre>"
      ],
      "text/plain": [
       "| Done         |         | 100         | 156ms        |"
      ]
     },
     "metadata": {},
     "output_type": "display_data"
    },
    {
     "data": {
      "text/html": [
       "<pre>+--------------+---------+-------------+--------------+</pre>"
      ],
      "text/plain": [
       "+--------------+---------+-------------+--------------+"
      ]
     },
     "metadata": {},
     "output_type": "display_data"
    },
    {
     "data": {
      "text/html": [
       "<div style=\"max-height:1000px;max-width:1500px;overflow:auto;\"><table frame=\"box\" rules=\"cols\">\n",
       "    <tr>\n",
       "        <th style=\"padding-left: 1em; padding-right: 1em; text-align: center\">query_label</th>\n",
       "        <th style=\"padding-left: 1em; padding-right: 1em; text-align: center\">reference_label</th>\n",
       "        <th style=\"padding-left: 1em; padding-right: 1em; text-align: center\">distance</th>\n",
       "        <th style=\"padding-left: 1em; padding-right: 1em; text-align: center\">rank</th>\n",
       "    </tr>\n",
       "    <tr>\n",
       "        <td style=\"padding-left: 1em; padding-right: 1em; text-align: center; vertical-align: top\">0</td>\n",
       "        <td style=\"padding-left: 1em; padding-right: 1em; text-align: center; vertical-align: top\">50000</td>\n",
       "        <td style=\"padding-left: 1em; padding-right: 1em; text-align: center; vertical-align: top\">0.0</td>\n",
       "        <td style=\"padding-left: 1em; padding-right: 1em; text-align: center; vertical-align: top\">1</td>\n",
       "    </tr>\n",
       "    <tr>\n",
       "        <td style=\"padding-left: 1em; padding-right: 1em; text-align: center; vertical-align: top\">0</td>\n",
       "        <td style=\"padding-left: 1em; padding-right: 1em; text-align: center; vertical-align: top\">3756</td>\n",
       "        <td style=\"padding-left: 1em; padding-right: 1em; text-align: center; vertical-align: top\">4.58061598149e-05</td>\n",
       "        <td style=\"padding-left: 1em; padding-right: 1em; text-align: center; vertical-align: top\">2</td>\n",
       "    </tr>\n",
       "    <tr>\n",
       "        <td style=\"padding-left: 1em; padding-right: 1em; text-align: center; vertical-align: top\">0</td>\n",
       "        <td style=\"padding-left: 1em; padding-right: 1em; text-align: center; vertical-align: top\">40326</td>\n",
       "        <td style=\"padding-left: 1em; padding-right: 1em; text-align: center; vertical-align: top\">33.1991112775</td>\n",
       "        <td style=\"padding-left: 1em; padding-right: 1em; text-align: center; vertical-align: top\">3</td>\n",
       "    </tr>\n",
       "    <tr>\n",
       "        <td style=\"padding-left: 1em; padding-right: 1em; text-align: center; vertical-align: top\">0</td>\n",
       "        <td style=\"padding-left: 1em; padding-right: 1em; text-align: center; vertical-align: top\">46023</td>\n",
       "        <td style=\"padding-left: 1em; padding-right: 1em; text-align: center; vertical-align: top\">33.8479726871</td>\n",
       "        <td style=\"padding-left: 1em; padding-right: 1em; text-align: center; vertical-align: top\">4</td>\n",
       "    </tr>\n",
       "    <tr>\n",
       "        <td style=\"padding-left: 1em; padding-right: 1em; text-align: center; vertical-align: top\">0</td>\n",
       "        <td style=\"padding-left: 1em; padding-right: 1em; text-align: center; vertical-align: top\">43313</td>\n",
       "        <td style=\"padding-left: 1em; padding-right: 1em; text-align: center; vertical-align: top\">34.279815522</td>\n",
       "        <td style=\"padding-left: 1em; padding-right: 1em; text-align: center; vertical-align: top\">5</td>\n",
       "    </tr>\n",
       "</table>\n",
       "[5 rows x 4 columns]<br/>\n",
       "</div>"
      ],
      "text/plain": [
       "Columns:\n",
       "\tquery_label\tint\n",
       "\treference_label\tint\n",
       "\tdistance\tfloat\n",
       "\trank\tint\n",
       "\n",
       "Rows: 5\n",
       "\n",
       "Data:\n",
       "+-------------+-----------------+-------------------+------+\n",
       "| query_label | reference_label |      distance     | rank |\n",
       "+-------------+-----------------+-------------------+------+\n",
       "|      0      |      50000      |        0.0        |  1   |\n",
       "|      0      |       3756      | 4.58061598149e-05 |  2   |\n",
       "|      0      |      40326      |   33.1991112775   |  3   |\n",
       "|      0      |      46023      |   33.8479726871   |  4   |\n",
       "|      0      |      43313      |    34.279815522   |  5   |\n",
       "+-------------+-----------------+-------------------+------+\n",
       "[5 rows x 4 columns]"
      ]
     },
     "execution_count": 112,
     "metadata": {},
     "output_type": "execute_result"
    }
   ],
   "source": [
    "sim_frame = knn_model.query(me_test)\n",
    "sim_frame\n"
   ]
  },
  {
   "cell_type": "code",
   "execution_count": 113,
   "metadata": {
    "collapsed": false
   },
   "outputs": [
    {
     "data": {
      "text/html": [
       "<pre>Starting pairwise querying.</pre>"
      ],
      "text/plain": [
       "Starting pairwise querying."
      ]
     },
     "metadata": {},
     "output_type": "display_data"
    },
    {
     "data": {
      "text/html": [
       "<pre>+--------------+---------+-------------+--------------+</pre>"
      ],
      "text/plain": [
       "+--------------+---------+-------------+--------------+"
      ]
     },
     "metadata": {},
     "output_type": "display_data"
    },
    {
     "data": {
      "text/html": [
       "<pre>| Query points | # Pairs | % Complete. | Elapsed Time |</pre>"
      ],
      "text/plain": [
       "| Query points | # Pairs | % Complete. | Elapsed Time |"
      ]
     },
     "metadata": {},
     "output_type": "display_data"
    },
    {
     "data": {
      "text/html": [
       "<pre>+--------------+---------+-------------+--------------+</pre>"
      ],
      "text/plain": [
       "+--------------+---------+-------------+--------------+"
      ]
     },
     "metadata": {},
     "output_type": "display_data"
    },
    {
     "data": {
      "text/html": [
       "<pre>| 0            | 1       | 0.0498504   | 11ms         |</pre>"
      ],
      "text/plain": [
       "| 0            | 1       | 0.0498504   | 11ms         |"
      ]
     },
     "metadata": {},
     "output_type": "display_data"
    },
    {
     "data": {
      "text/html": [
       "<pre>| Done         |         | 100         | 120.5ms      |</pre>"
      ],
      "text/plain": [
       "| Done         |         | 100         | 120.5ms      |"
      ]
     },
     "metadata": {},
     "output_type": "display_data"
    },
    {
     "data": {
      "text/html": [
       "<pre>+--------------+---------+-------------+--------------+</pre>"
      ],
      "text/plain": [
       "+--------------+---------+-------------+--------------+"
      ]
     },
     "metadata": {},
     "output_type": "display_data"
    },
    {
     "data": {
      "application/javascript": [
       "$(\"head\").append($(\"<link/>\").attr({\n",
       "  rel:  \"stylesheet\",\n",
       "  type: \"text/css\",\n",
       "  href: \"//cdnjs.cloudflare.com/ajax/libs/font-awesome/4.1.0/css/font-awesome.min.css\"\n",
       "}));\n",
       "$(\"head\").append($(\"<link/>\").attr({\n",
       "  rel:  \"stylesheet\",\n",
       "  type: \"text/css\",\n",
       "  href: \"https://static.turi.com/products/graphlab-create/2.1/canvas/css/canvas.css\"\n",
       "}));\n",
       "\n",
       "            (function(){\n",
       "\n",
       "                var e = null;\n",
       "                if (typeof element == 'undefined') {\n",
       "                    var scripts = document.getElementsByTagName('script');\n",
       "                    var thisScriptTag = scripts[scripts.length-1];\n",
       "                    var parentDiv = thisScriptTag.parentNode;\n",
       "                    e = document.createElement('div');\n",
       "                    parentDiv.appendChild(e);\n",
       "                } else {\n",
       "                    e = element[0];\n",
       "                }\n",
       "\n",
       "                if (typeof requirejs !== 'undefined') {\n",
       "                    // disable load timeout; ipython_app.js is large and can take a while to load.\n",
       "                    requirejs.config({waitSeconds: 0});\n",
       "                }\n",
       "\n",
       "                require(['https://static.turi.com/products/graphlab-create/2.1/canvas/js/ipython_app.js'], function(IPythonApp){\n",
       "                    var app = new IPythonApp();\n",
       "                    app.attachView('sarray','Images', {\"ipython\": true, \"rows\": [{\"format\": \"raw\", \"value\": [23, 23, 23, 23, 22, 23, 23, 22, 23, 24, 24, 24, 25, 25, 25, 25, 24, 24, 25, 25, 25, 32, 26, 27, 46, 30, 31, 63, 44, 44, 73, 59, 61, 74, 64, 71, 74, 63, 68, 77, 66, 70, 79, 68, 72, 79, 68, 72, 78, 69, 72, 78, 68, 71, 77, 68, 71, 75, 66, 69, 71, 58, 57, 67, 55, 54, 72, 63, 65, 68, 56, 55, 62, 41, 37, 68, 40, 35, 75, 47, 43, 77, 49, 45, 79, 51, 47, 80, 54, 50, 82, 57, 53, 85, 59, 55, 25, 22, 23, 25, 22, 23, 25, 22, 23, 25, 22, 23, 25, 22, 23, 24, 21, 22, 24, 21, 22, 24, 19, 19, 32, 23, 22, 56, 41, 39, 71, 57, 59, 72, 61, 69, 70, 59, 64, 74, 63, 67, 76, 65, 69, 76, 65, 69, 74, 65, 68, 74, 65, 68, 74, 65, 68, 73, 64, 67, 68, 55, 54, 64, 52, 51, 68, 59, 62, 64, 52, 51, 59, 38, 35, 67, 39, 35, 71, 43, 39, 72, 44, 40, 74, 46, 42, 74, 49, 45, 77, 52, 48, 80, 55, 51, 29, 23, 25, 28, 23, 25, 28, 23, 25, 28, 23, 25, 29, 23, 25, 29, 24, 25, 80, 75, 77, 90, 86, 86, 45, 41, 37, 44, 32, 30, 65, 50, 53, 70, 58, 65, 69, 58, 62, 74, 63, 66, 75, 64, 68, 75, 64, 68, 73, 64, 67, 73, 64, 67, 73, 64, 67, 71, 63, 66, 67, 54, 53, 64, 52, 51, 68, 59, 61, 62, 51, 50, 58, 38, 34, 66, 38, 34, 69, 41, 37, 67, 39, 34, 67, 39, 35, 68, 43, 39, 71, 46, 42, 74, 49, 45, 32, 24, 27, 31, 23, 26, 31, 23, 26, 31, 25, 27, 31, 26, 28, 37, 30, 32, 133, 124, 127, 168, 161, 165, 123, 119, 122, 55, 47, 48, 40, 28, 29, 59, 47, 50, 66, 56, 60, 72, 62, 66, 73, 64, 67, 73, 64, 67, 72, 64, 65, 71, 63, 63, 72, 63, 63, 71, 62, 62, 66, 54, 53, 63, 51, 51, 64, 55, 56, 60, 46, 44, 57, 37, 32, 62, 38, 34, 62, 39, 35, 60, 36, 33, 60, 37, 33, 64, 42, 39, 68, 46, 42, 70, 48, 44, 33, 24, 27, 32, 23, 26, 32, 23, 26, 31, 26, 27, 34, 29, 30, 35, 27, 30, 127, 116, 120, 184, 175, 180, 156, 151, 156, 120, 114, 117, 47, 37, 38, 51, 40, 40, 65, 56, 59, 71, 62, 65, 74, 65, 68, 73, 64, 67, 73, 64, 65, 71, 63, 62, 72, 63, 63, 71, 62, 62, 62, 51, 50, 64, 54, 55, 87, 78, 80, 89, 75, 72, 65, 45, 40, 57, 37, 34, 57, 36, 33, 57, 36, 33, 59, 39, 35, 63, 44, 40, 66, 48, 44, 68, 49, 45, 31, 25, 27, 31, 26, 27, 30, 25, 27, 32, 28, 29, 36, 31, 32, 34, 27, 29, 124, 113, 117, 206, 196, 199, 176, 168, 171, 155, 147, 150, 110, 102, 105, 90, 82, 85, 85, 76, 79, 66, 57, 60, 70, 61, 64, 72, 63, 66, 73, 64, 67, 69, 60, 63, 70, 61, 64, 69, 60, 63, 85, 75, 77, 127, 120, 122, 152, 146, 150, 170, 158, 157, 102, 83, 79, 53, 32, 29, 57, 36, 33, 58, 37, 34, 60, 39, 36, 62, 43, 39, 66, 47, 43, 68, 49, 45, 29, 27, 28, 30, 28, 29, 30, 28, 29, 32, 29, 30, 36, 31, 33, 35, 27, 30, 116, 105, 109, 213, 202, 204, 199, 189, 189, 170, 162, 164, 143, 137, 141, 131, 126, 131, 117, 108, 111, 67, 58, 60, 59, 50, 53, 61, 52, 55, 63, 53, 59, 91, 81, 87, 105, 95, 101, 103, 93, 99, 145, 136, 140, 159, 154, 159, 169, 165, 171, 170, 160, 162, 88, 70, 68, 54, 33, 30, 57, 36, 33, 59, 38, 35, 60, 39, 36, 60, 41, 37, 64, 45, 41, 68, 49, 45, 31, 29, 29, 33, 29, 30, 33, 29, 29, 34, 28, 30, 37, 32, 34, 31, 26, 28, 109, 99, 102, 211, 197, 199, 194, 181, 180, 169, 160, 161, 152, 146, 151, 121, 117, 123, 117, 110, 115, 105, 97, 102, 78, 70, 75, 82, 74, 80, 82, 74, 81, 104, 95, 103, 137, 129, 137, 153, 144, 152, 162, 153, 158, 178, 171, 174, 199, 193, 196, 152, 142, 142, 62, 47, 43, 56, 36, 32, 56, 36, 33, 59, 38, 35, 59, 39, 35, 59, 39, 35, 63, 45, 41, 67, 49, 47, 35, 33, 31, 38, 32, 32, 38, 29, 30, 38, 29, 31, 38, 33, 35, 29, 27, 28, 103, 93, 96, 201, 184, 188, 205, 191, 191, 185, 173, 176, 163, 155, 161, 154, 148, 155, 138, 131, 139, 123, 115, 123, 112, 104, 112, 118, 110, 118, 123, 115, 123, 116, 108, 116, 137, 129, 137, 156, 148, 156, 178, 167, 172, 208, 196, 198, 211, 200, 199, 113, 102, 98, 52, 37, 34, 57, 37, 34, 56, 37, 33, 58, 39, 35, 57, 38, 34, 59, 39, 34, 63, 45, 42, 65, 49, 49, 37, 35, 33, 40, 34, 34, 40, 31, 32, 38, 32, 33, 37, 33, 34, 34, 28, 30, 71, 60, 64, 166, 153, 157, 205, 193, 196, 198, 187, 191, 184, 174, 178, 185, 175, 180, 148, 138, 145, 131, 120, 128, 119, 108, 116, 113, 103, 110, 116, 105, 113, 152, 141, 149, 158, 147, 155, 163, 153, 160, 184, 173, 177, 222, 209, 211, 192, 181, 180, 70, 60, 56, 49, 35, 31, 55, 36, 32, 54, 35, 31, 56, 37, 33, 57, 37, 33, 60, 40, 36, 62, 44, 41, 64, 47, 47, 35, 34, 32, 38, 32, 32, 39, 30, 31, 36, 32, 33, 37, 32, 34, 40, 29, 33, 78, 67, 70, 153, 145, 149, 173, 165, 170, 172, 162, 166, 177, 165, 168, 170, 157, 159, 165, 152, 157, 154, 142, 147, 127, 114, 119, 142, 130, 135, 143, 131, 136, 169, 157, 161, 180, 167, 172, 191, 179, 184, 209, 196, 199, 211, 199, 201, 145, 133, 132, 49, 39, 35, 50, 35, 31, 54, 36, 31, 55, 36, 32, 56, 37, 33, 58, 38, 34, 62, 42, 38, 63, 45, 43, 63, 47, 47, 35, 32, 30, 38, 31, 32, 39, 30, 31, 36, 32, 32, 40, 33, 35, 53, 40, 44, 122, 109, 114, 167, 160, 165, 173, 165, 172, 169, 159, 163, 170, 157, 157, 177, 162, 162, 161, 147, 149, 163, 149, 153, 173, 159, 162, 209, 195, 196, 168, 154, 156, 158, 143, 146, 171, 156, 160, 172, 157, 161, 184, 172, 175, 156, 146, 148, 67, 56, 56, 40, 29, 27, 50, 35, 32, 55, 35, 32, 56, 36, 33, 59, 38, 35, 60, 40, 35, 63, 44, 39, 65, 47, 44, 64, 47, 46, 42, 33, 34, 42, 33, 34, 43, 34, 35, 41, 34, 33, 42, 34, 34, 59, 47, 51, 112, 98, 106, 123, 109, 115, 144, 132, 135, 162, 151, 151, 148, 137, 134, 183, 172, 168, 205, 194, 191, 172, 160, 163, 204, 192, 192, 243, 232, 225, 191, 179, 176, 181, 168, 169, 169, 157, 160, 163, 150, 156, 169, 161, 167, 140, 135, 140, 75, 67, 70, 46, 35, 36, 50, 32, 34, 60, 35, 36, 61, 36, 35, 64, 39, 36, 65, 41, 36, 64, 45, 41, 66, 48, 44, 69, 50, 46, 41, 34, 34, 40, 32, 33, 39, 32, 32, 42, 37, 35, 45, 39, 38, 53, 43, 47, 91, 78, 86, 129, 116, 123, 184, 172, 174, 192, 180, 180, 123, 112, 108, 156, 145, 141, 211, 200, 198, 215, 204, 202, 239, 228, 224, 248, 238, 229, 217, 206, 201, 162, 151, 150, 149, 138, 139, 164, 152, 155, 164, 156, 161, 149, 143, 147, 173, 165, 166, 128, 119, 118, 56, 41, 41, 59, 35, 37, 62, 38, 37, 64, 40, 36, 64, 42, 37, 65, 46, 42, 68, 49, 45, 72, 53, 48, 35, 32, 31, 35, 32, 31, 35, 32, 31, 38, 36, 33, 43, 40, 38, 56, 49, 51, 123, 114, 120, 158, 147, 153, 195, 183, 185, 204, 192, 192, 176, 165, 162, 177, 166, 163, 198, 187, 184, 243, 233, 225, 250, 240, 230, 239, 229, 219, 198, 188, 181, 141, 130, 126, 163, 151, 150, 190, 178, 178, 136, 125, 127, 104, 95, 96, 181, 174, 172, 208, 203, 199, 97, 86, 83, 57, 36, 36, 62, 42, 39, 64, 44, 38, 65, 46, 39, 68, 49, 45, 71, 52, 48, 74, 55, 51, 35, 34, 32, 35, 34, 32, 36, 34, 32, 39, 39, 35, 43, 41, 39, 51, 46, 47, 109, 102, 107, 142, 131, 137, 172, 160, 162, 199, 187, 187, 206, 195, 191, 183, 171, 168, 196, 185, 181, 250, 241, 228, 252, 243, 228, 229, 218, 209, 190, 179, 171, 191, 180, 173, 203, 192, 188, 201, 190, 189, 151, 139, 141, 85, 74, 75, 168, 161, 158, 235, 232, 224, 165, 157, 152, 73, 55, 55, 57, 39, 37, 60, 42, 37, 61, 44, 38, 65, 47, 43, 69, 50, 47, 71, 52, 49, 39, 35, 32, 40, 36, 33, 43, 38, 36, 45, 39, 38, 50, 43, 43, 49, 41, 42, 99, 91, 92, 167, 158, 160, 171, 161, 163, 208, 198, 195, 241, 229, 222, 239, 225, 216, 241, 226, 216, 250, 242, 227, 251, 243, 227, 246, 232, 220, 238, 223, 213, 228, 215, 208, 211, 199, 197, 182, 170, 172, 134, 123, 131, 123, 114, 118, 194, 187, 182, 241, 235, 226, 215, 209, 203, 125, 116, 118, 67, 55, 61, 64, 51, 56, 60, 47, 47, 57, 44, 43, 59, 46, 45, 62, 49, 48, 44, 36, 34, 45, 37, 35, 50, 43, 40, 56, 48, 48, 62, 53, 54, 66, 57, 57, 96, 87, 88, 178, 170, 170, 202, 196, 192, 213, 205, 198, 245, 236, 224, 251, 240, 225, 251, 236, 224, 250, 240, 226, 249, 239, 225, 252, 238, 225, 255, 242, 227, 250, 238, 227, 215, 204, 203, 165, 155, 161, 125, 116, 124, 152, 143, 145, 225, 218, 211, 242, 235, 226, 226, 221, 217, 150, 145, 149, 86, 79, 88, 89, 78, 87, 75, 64, 68, 59, 50, 51, 59, 50, 51, 63, 53, 54, 48, 38, 37, 48, 38, 37, 51, 41, 40, 60, 50, 50, 69, 61, 62, 77, 68, 69, 88, 79, 80, 138, 132, 132, 201, 198, 195, 221, 215, 208, 241, 234, 222, 247, 239, 225, 240, 228, 218, 235, 220, 211, 236, 222, 213, 248, 236, 226, 252, 242, 227, 240, 231, 220, 201, 193, 191, 198, 191, 195, 183, 175, 179, 207, 200, 195, 244, 238, 227, 242, 235, 227, 229, 224, 222, 159, 157, 163, 100, 94, 106, 99, 90, 101, 93, 85, 90, 81, 73, 76, 71, 64, 66, 72, 65, 68, 53, 40, 40, 53, 40, 40, 57, 44, 44, 61, 51, 52, 70, 61, 62, 73, 64, 65, 78, 69, 70, 122, 116, 118, 175, 173, 176, 195, 192, 191, 220, 214, 209, 239, 231, 223, 242, 232, 224, 228, 210, 204, 238, 221, 215, 250, 239, 231, 249, 240, 234, 239, 231, 225, 231, 226, 220, 232, 229, 224, 227, 223, 217, 245, 238, 228, 248, 242, 229, 244, 236, 228, 222, 218, 217, 155, 155, 162, 119, 116, 129, 107, 101, 113, 95, 89, 96, 96, 91, 96, 87, 81, 87, 80, 75, 80, 54, 42, 40, 56, 44, 42, 59, 47, 45, 64, 52, 51, 63, 52, 52, 61, 51, 52, 69, 61, 62, 124, 120, 126, 184, 183, 193, 164, 163, 166, 140, 136, 138, 180, 173, 176, 213, 204, 202, 222, 209, 207, 228, 215, 213, 224, 214, 211, 221, 211, 210, 220, 211, 208, 230, 223, 216, 237, 232, 222, 246, 239, 229, 249, 242, 230, 247, 242, 227, 244, 239, 229, 210, 206, 202, 132, 128, 131, 128, 123, 135, 117, 112, 125, 99, 95, 101, 98, 96, 102, 105, 102, 108, 94, 91, 97, 51, 40, 36, 54, 43, 39, 54, 44, 39, 54, 41, 39, 59, 46, 46, 57, 47, 47, 63, 55, 57, 130, 126, 133, 192, 191, 198, 186, 185, 185, 150, 146, 146, 137, 129, 134, 157, 146, 152, 181, 170, 175, 167, 156, 161, 161, 150, 154, 176, 166, 165, 213, 203, 198, 243, 234, 226, 250, 241, 231, 251, 242, 232, 250, 242, 230, 247, 242, 227, 243, 240, 230, 205, 201, 197, 121, 116, 117, 121, 115, 125, 125, 118, 129, 99, 94, 102, 104, 102, 113, 126, 124, 135, 107, 105, 116, 53, 42, 38, 53, 42, 38, 53, 42, 38, 57, 44, 42, 58, 45, 45, 58, 48, 48, 55, 47, 50, 119, 115, 118, 202, 200, 200, 219, 216, 209, 213, 208, 201, 189, 180, 178, 158, 148, 151, 152, 141, 144, 170, 160, 163, 198, 187, 189, 223, 213, 209, 243, 234, 226, 251, 243, 233, 251, 243, 230, 251, 242, 231, 251, 243, 230, 247, 242, 229, 240, 235, 231, 191, 188, 191, 118, 116, 121, 103, 98, 105, 101, 92, 100, 88, 79, 88, 119, 116, 130, 146, 144, 158, 126, 124, 138, 57, 46, 42, 57, 46, 42, 58, 47, 43, 59, 46, 44, 61, 48, 48, 59, 49, 50, 56, 48, 51, 131, 126, 126, 219, 216, 209, 234, 230, 216, 240, 233, 220, 239, 230, 221, 227, 218, 211, 220, 211, 204, 233, 224, 217, 244, 235, 228, 249, 240, 232, 252, 243, 233, 253, 245, 232, 252, 245, 229, 253, 244, 231, 251, 243, 230, 248, 243, 233, 223, 218, 219, 165, 162, 172, 125, 124, 134, 102, 98, 101, 87, 76, 81, 110, 99, 109, 129, 126, 137, 120, 119, 130, 116, 114, 125, 61, 50, 44, 60, 49, 43, 59, 48, 42, 61, 48, 44, 64, 51, 49, 60, 49, 48, 65, 56, 57, 159, 154, 152, 233, 229, 219, 241, 235, 218, 246, 238, 221, 248, 239, 224, 248, 241, 226, 248, 241, 226, 249, 242, 227, 251, 243, 229, 252, 245, 232, 253, 245, 232, 254, 246, 231, 254, 247, 230, 253, 244, 230, 252, 243, 232, 241, 235, 229, 194, 189, 195, 154, 153, 166, 141, 141, 152, 119, 116, 120, 100, 91, 96, 126, 115, 124, 132, 129, 137, 101, 100, 107, 95, 93, 101, 62, 52, 43, 61, 51, 42, 61, 51, 42, 63, 50, 43, 64, 50, 45, 60, 48, 45, 65, 55, 53, 155, 148, 146, 234, 229, 222, 243, 236, 220, 249, 240, 222, 252, 242, 226, 251, 244, 228, 251, 244, 228, 252, 245, 229, 252, 245, 229, 254, 247, 231, 254, 247, 231, 254, 247, 231, 254, 247, 231, 254, 246, 231, 252, 243, 233, 226, 220, 219, 181, 179, 187, 154, 154, 166, 142, 140, 151, 124, 120, 129, 107, 101, 108, 120, 114, 121, 128, 124, 133, 101, 98, 107, 101, 98, 107, 65, 52, 44, 63, 51, 43, 63, 51, 43, 64, 50, 43, 64, 50, 44, 60, 48, 45, 58, 48, 46, 122, 115, 114, 224, 218, 214, 244, 237, 224, 250, 241, 225, 254, 243, 230, 253, 246, 230, 253, 246, 230, 253, 246, 230, 253, 246, 230, 254, 247, 231, 254, 247, 231, 254, 247, 231, 254, 247, 231, 254, 247, 232, 246, 239, 230, 201, 198, 198, 166, 166, 176, 151, 151, 164, 137, 136, 147, 129, 126, 135, 121, 115, 122, 120, 114, 121, 124, 121, 130, 100, 97, 106, 96, 93, 102, 67, 50, 43, 66, 49, 42, 65, 49, 42, 65, 49, 42, 63, 49, 43, 57, 45, 42, 54, 44, 43, 85, 77, 77, 192, 186, 184, 240, 232, 222, 247, 237, 225, 251, 240, 229, 252, 244, 229, 251, 244, 227, 251, 245, 228, 252, 245, 229, 253, 247, 230, 254, 247, 231, 254, 247, 231, 254, 247, 231, 252, 246, 233, 233, 228, 222, 184, 183, 186, 151, 154, 166, 143, 146, 160, 136, 134, 146, 128, 125, 134, 123, 118, 125, 108, 102, 110, 130, 127, 136, 112, 109, 118, 101, 98, 107, 68, 50, 43, 66, 49, 42, 66, 49, 42, 65, 49, 43, 64, 49, 45, 58, 45, 43, 54, 44, 42, 72, 64, 64, 181, 175, 174, 238, 231, 222, 244, 234, 223, 249, 236, 227, 248, 240, 226, 249, 242, 227, 250, 243, 228, 251, 244, 229, 253, 246, 230, 254, 247, 231, 254, 247, 231, 253, 246, 230, 246, 241, 230, 212, 209, 206, 162, 163, 167, 150, 153, 165, 140, 141, 155, 129, 127, 138, 124, 120, 129, 110, 104, 111, 107, 100, 107, 147, 143, 152, 122, 119, 127, 106, 102, 110, 68, 49, 42, 67, 48, 41, 67, 48, 41, 67, 48, 45, 66, 49, 48, 60, 46, 45, 55, 45, 42, 67, 58, 56, 161, 155, 150, 234, 230, 220, 242, 232, 222, 249, 233, 225, 248, 237, 227, 249, 240, 229, 251, 241, 231, 252, 243, 232, 253, 245, 231, 254, 247, 231, 253, 246, 230, 251, 244, 228, 232, 227, 221, 188, 187, 193, 162, 163, 174, 155, 154, 165, 130, 125, 135, 122, 116, 126, 118, 110, 119, 104, 94, 100, 114, 104, 111, 155, 151, 160, 118, 113, 122, 102, 94, 101, 69, 49, 42, 67, 48, 41, 67, 48, 41, 66, 48, 43, 67, 49, 46, 61, 45, 42, 58, 44, 40, 54, 41, 38, 95, 86, 83, 202, 197, 192, 240, 232, 225, 246, 233, 224, 248, 237, 227, 248, 238, 228, 247, 237, 227, 248, 238, 228, 250, 242, 228, 251, 244, 228, 251, 244, 228, 247, 240, 224, 218, 213, 207, 178, 178, 184, 146, 148, 159, 137, 136, 146, 120, 115, 124, 118, 111, 121, 117, 109, 118, 102, 91, 97, 121, 110, 117, 151, 148, 156, 108, 104, 112, 97, 89, 95, 68, 49, 42, 67, 48, 41, 67, 48, 41, 65, 48, 41, 66, 49, 43, 64, 46, 40, 62, 42, 37, 59, 41, 37, 63, 51, 50, 123, 116, 119, 220, 214, 210, 245, 235, 224, 244, 234, 224, 244, 234, 224, 243, 233, 223, 245, 236, 225, 248, 240, 225, 250, 243, 227, 249, 242, 227, 244, 237, 221, 211, 206, 200, 168, 167, 174, 157, 158, 170, 137, 136, 146, 111, 106, 115, 119, 112, 122, 112, 104, 113, 104, 93, 100, 144, 134, 140, 151, 148, 156, 104, 100, 108, 101, 93, 99], \"height\": 32, \"channels\": 3, \"width\": 32, \"type\": \"image\", \"id\": 1768764136}, {\"format\": \"raw\", \"value\": [25, 38, 34, 26, 38, 34, 28, 40, 36, 26, 43, 36, 25, 41, 34, 27, 38, 32, 52, 57, 53, 79, 81, 78, 45, 45, 42, 27, 27, 25, 31, 31, 29, 38, 39, 36, 41, 46, 39, 37, 43, 36, 35, 41, 34, 38, 44, 37, 44, 50, 43, 43, 49, 42, 47, 53, 46, 44, 50, 43, 44, 49, 43, 41, 47, 40, 39, 48, 41, 40, 52, 43, 40, 50, 42, 36, 42, 35, 27, 33, 26, 34, 40, 33, 33, 38, 32, 34, 39, 33, 37, 51, 42, 36, 53, 42, 27, 39, 35, 27, 39, 35, 30, 42, 38, 28, 45, 38, 25, 41, 34, 29, 40, 34, 46, 52, 48, 87, 89, 85, 73, 74, 69, 37, 38, 33, 26, 27, 22, 29, 31, 25, 45, 48, 41, 47, 51, 43, 41, 46, 38, 41, 45, 37, 44, 48, 41, 46, 50, 43, 52, 56, 49, 48, 52, 44, 50, 53, 47, 44, 48, 42, 40, 47, 40, 40, 50, 42, 33, 41, 33, 26, 30, 22, 32, 36, 28, 56, 60, 52, 38, 42, 35, 31, 39, 32, 36, 51, 41, 37, 51, 42, 28, 40, 36, 28, 40, 36, 31, 43, 39, 30, 46, 39, 28, 44, 36, 33, 44, 38, 45, 50, 46, 88, 90, 85, 109, 110, 103, 72, 73, 66, 34, 35, 27, 26, 27, 19, 38, 40, 30, 53, 56, 45, 53, 55, 45, 55, 57, 47, 55, 58, 47, 56, 59, 48, 59, 61, 51, 53, 56, 45, 54, 55, 49, 47, 48, 44, 43, 47, 41, 35, 42, 35, 25, 31, 23, 30, 32, 22, 53, 56, 45, 77, 80, 69, 47, 50, 41, 34, 45, 36, 37, 53, 43, 38, 52, 43, 28, 40, 36, 30, 42, 38, 32, 44, 40, 29, 45, 38, 29, 45, 38, 35, 46, 39, 42, 48, 44, 83, 85, 79, 114, 116, 107, 88, 89, 80, 45, 46, 38, 31, 32, 23, 37, 38, 27, 52, 53, 42, 56, 57, 45, 62, 63, 52, 63, 64, 52, 67, 68, 57, 65, 66, 55, 60, 61, 50, 50, 50, 43, 43, 43, 38, 39, 41, 35, 27, 32, 26, 33, 37, 28, 65, 66, 55, 93, 94, 82, 91, 92, 81, 53, 56, 46, 38, 51, 41, 38, 55, 45, 41, 54, 45, 29, 42, 38, 32, 43, 39, 33, 42, 39, 30, 43, 37, 30, 45, 37, 34, 46, 38, 39, 47, 38, 59, 64, 53, 98, 99, 85, 90, 92, 77, 55, 56, 42, 33, 34, 20, 34, 34, 22, 46, 46, 34, 59, 59, 47, 62, 62, 50, 60, 60, 48, 68, 68, 56, 68, 68, 56, 61, 60, 48, 45, 46, 35, 37, 39, 29, 35, 38, 27, 27, 30, 19, 45, 46, 37, 82, 79, 71, 112, 112, 99, 105, 106, 95, 52, 57, 49, 39, 54, 46, 42, 57, 49, 45, 55, 49, 30, 42, 38, 31, 41, 37, 33, 40, 38, 31, 42, 37, 31, 45, 38, 35, 46, 37, 37, 47, 36, 44, 48, 34, 71, 69, 49, 85, 83, 64, 67, 65, 45, 39, 38, 20, 32, 32, 20, 41, 41, 29, 61, 61, 49, 61, 61, 49, 54, 54, 42, 60, 60, 48, 61, 61, 49, 56, 56, 44, 45, 46, 33, 34, 37, 23, 31, 34, 20, 28, 30, 17, 43, 42, 32, 78, 75, 65, 121, 120, 104, 105, 107, 92, 46, 51, 42, 43, 57, 49, 46, 58, 52, 48, 57, 52, 30, 42, 38, 30, 40, 37, 33, 40, 38, 33, 45, 39, 35, 49, 42, 37, 49, 40, 39, 48, 38, 44, 46, 32, 61, 55, 36, 65, 59, 39, 59, 53, 33, 44, 39, 21, 41, 40, 28, 47, 47, 35, 52, 52, 40, 50, 50, 38, 53, 53, 41, 56, 56, 44, 53, 53, 41, 48, 48, 36, 46, 45, 33, 40, 39, 27, 34, 34, 22, 34, 34, 21, 55, 52, 41, 98, 93, 79, 125, 123, 103, 75, 75, 57, 41, 44, 32, 45, 54, 48, 46, 55, 50, 47, 56, 51, 31, 44, 40, 31, 42, 38, 35, 42, 40, 35, 46, 41, 36, 50, 43, 39, 51, 42, 42, 52, 41, 46, 49, 36, 63, 59, 42, 58, 53, 36, 44, 39, 22, 48, 44, 28, 51, 51, 38, 51, 51, 39, 44, 44, 32, 44, 44, 32, 54, 54, 42, 56, 56, 44, 47, 47, 35, 44, 44, 32, 46, 45, 33, 52, 49, 37, 43, 41, 29, 52, 50, 38, 75, 69, 59, 90, 82, 71, 88, 84, 67, 46, 43, 27, 42, 41, 32, 43, 47, 43, 42, 47, 43, 42, 49, 44, 35, 47, 43, 35, 45, 41, 38, 45, 42, 36, 47, 42, 38, 51, 44, 42, 53, 44, 46, 55, 44, 49, 53, 41, 60, 60, 48, 57, 57, 44, 38, 38, 26, 45, 44, 32, 59, 58, 47, 56, 56, 44, 44, 44, 32, 42, 42, 30, 46, 46, 34, 48, 48, 36, 45, 45, 33, 42, 42, 30, 45, 43, 31, 54, 51, 39, 50, 46, 35, 52, 48, 37, 61, 55, 47, 62, 52, 46, 60, 54, 42, 42, 37, 27, 38, 35, 30, 34, 33, 31, 32, 34, 31, 32, 38, 34, 38, 49, 46, 39, 47, 44, 40, 45, 43, 38, 45, 42, 42, 53, 49, 47, 57, 51, 54, 59, 48, 57, 58, 44, 48, 50, 36, 50, 52, 37, 42, 44, 29, 49, 48, 36, 66, 60, 55, 70, 67, 59, 48, 48, 36, 38, 38, 24, 38, 39, 26, 39, 42, 26, 40, 43, 27, 40, 40, 29, 53, 51, 40, 53, 52, 40, 44, 42, 32, 36, 34, 26, 35, 33, 25, 45, 43, 32, 54, 53, 42, 38, 38, 30, 25, 24, 20, 22, 22, 21, 25, 25, 24, 26, 28, 26, 38, 49, 45, 41, 48, 46, 42, 47, 45, 43, 48, 45, 43, 51, 50, 44, 53, 50, 58, 63, 51, 64, 62, 46, 48, 45, 29, 57, 54, 38, 58, 56, 39, 59, 56, 41, 74, 68, 58, 90, 86, 75, 64, 63, 51, 45, 46, 34, 63, 67, 53, 50, 55, 36, 38, 41, 21, 49, 48, 35, 69, 69, 55, 48, 49, 34, 41, 42, 29, 39, 39, 29, 34, 35, 23, 43, 45, 32, 48, 50, 38, 29, 30, 22, 20, 21, 16, 20, 20, 19, 21, 21, 21, 20, 19, 19, 38, 49, 45, 43, 50, 48, 44, 49, 47, 46, 50, 48, 45, 54, 52, 46, 55, 52, 62, 67, 55, 77, 75, 58, 80, 74, 56, 93, 87, 69, 87, 80, 63, 70, 65, 46, 78, 75, 54, 109, 103, 86, 89, 85, 72, 89, 92, 80, 144, 153, 139, 97, 102, 83, 45, 44, 23, 74, 73, 56, 94, 93, 76, 68, 67, 48, 55, 53, 38, 43, 41, 27, 36, 36, 23, 34, 36, 23, 37, 38, 27, 28, 30, 21, 20, 21, 16, 20, 20, 19, 19, 19, 19, 19, 19, 19, 38, 49, 45, 44, 50, 48, 46, 50, 49, 47, 51, 49, 47, 56, 54, 48, 58, 54, 67, 72, 60, 105, 103, 85, 97, 93, 73, 101, 97, 77, 98, 94, 74, 93, 90, 69, 90, 89, 65, 106, 99, 79, 105, 99, 82, 151, 157, 138, 204, 220, 203, 149, 155, 136, 65, 61, 38, 92, 90, 68, 104, 103, 80, 83, 79, 57, 70, 66, 46, 55, 51, 34, 53, 51, 36, 46, 48, 35, 45, 47, 35, 33, 35, 26, 20, 21, 16, 19, 19, 18, 19, 19, 19, 21, 21, 21, 41, 52, 47, 45, 52, 49, 46, 51, 50, 48, 53, 50, 48, 57, 55, 50, 60, 56, 65, 70, 58, 107, 107, 88, 95, 96, 72, 85, 86, 62, 90, 92, 68, 92, 94, 71, 98, 100, 79, 104, 96, 76, 108, 102, 78, 185, 195, 167, 227, 247, 227, 181, 186, 166, 88, 81, 56, 90, 86, 61, 96, 95, 69, 87, 83, 58, 84, 79, 57, 74, 69, 49, 71, 69, 51, 69, 71, 57, 60, 62, 50, 37, 38, 30, 21, 22, 17, 19, 19, 19, 19, 19, 19, 21, 21, 21, 44, 56, 45, 45, 56, 48, 45, 54, 49, 47, 56, 52, 49, 59, 54, 53, 63, 54, 59, 67, 53, 86, 92, 71, 95, 100, 75, 81, 86, 62, 80, 85, 62, 109, 117, 96, 112, 128, 109, 124, 135, 109, 125, 132, 103, 206, 215, 190, 240, 255, 238, 201, 205, 181, 108, 98, 70, 93, 84, 67, 94, 99, 82, 101, 103, 82, 97, 89, 69, 80, 78, 53, 63, 64, 42, 65, 63, 48, 52, 54, 39, 25, 30, 20, 19, 23, 20, 19, 19, 19, 19, 19, 19, 21, 21, 21, 44, 56, 44, 46, 57, 48, 46, 57, 51, 47, 58, 54, 51, 62, 55, 58, 67, 56, 61, 69, 53, 75, 83, 64, 90, 98, 77, 80, 89, 68, 96, 104, 84, 153, 165, 146, 135, 159, 142, 163, 185, 161, 162, 178, 153, 220, 231, 213, 243, 255, 240, 205, 207, 181, 118, 114, 83, 139, 139, 123, 140, 159, 146, 125, 140, 125, 109, 107, 92, 60, 60, 40, 47, 50, 32, 50, 50, 38, 33, 35, 20, 19, 23, 12, 19, 22, 18, 19, 19, 19, 19, 19, 19, 21, 21, 21, 32, 43, 37, 40, 51, 46, 47, 58, 54, 50, 62, 58, 52, 63, 56, 62, 70, 60, 73, 76, 62, 80, 85, 70, 98, 107, 92, 82, 92, 76, 100, 110, 92, 157, 171, 151, 143, 166, 149, 157, 178, 159, 169, 187, 168, 223, 238, 222, 244, 255, 240, 201, 205, 179, 130, 133, 103, 161, 177, 154, 142, 173, 158, 139, 164, 151, 116, 123, 112, 43, 44, 29, 36, 38, 25, 38, 39, 30, 31, 28, 16, 22, 21, 10, 19, 20, 14, 19, 19, 18, 19, 19, 19, 20, 20, 20, 18, 28, 29, 22, 32, 32, 32, 43, 41, 42, 54, 50, 51, 62, 55, 61, 66, 56, 74, 72, 60, 77, 76, 64, 97, 102, 90, 90, 96, 80, 88, 95, 74, 129, 138, 115, 143, 161, 138, 144, 161, 144, 168, 183, 168, 226, 241, 224, 244, 255, 236, 214, 218, 194, 150, 154, 127, 159, 177, 153, 146, 172, 154, 144, 163, 148, 92, 99, 83, 40, 39, 21, 40, 35, 17, 48, 38, 22, 49, 34, 19, 31, 23, 12, 19, 21, 15, 19, 19, 19, 19, 19, 19, 19, 19, 19, 18, 28, 34, 17, 27, 29, 20, 30, 29, 24, 37, 33, 38, 50, 42, 58, 61, 52, 59, 55, 43, 55, 50, 38, 78, 78, 65, 112, 113, 95, 102, 104, 79, 113, 118, 89, 131, 141, 113, 161, 171, 152, 196, 207, 191, 235, 247, 228, 242, 253, 232, 235, 238, 216, 177, 177, 154, 142, 153, 130, 133, 143, 122, 104, 107, 86, 58, 58, 34, 49, 43, 15, 61, 47, 18, 88, 63, 36, 105, 78, 56, 48, 35, 22, 16, 20, 15, 19, 20, 20, 19, 19, 19, 19, 19, 19, 20, 32, 37, 17, 30, 30, 21, 34, 29, 26, 39, 31, 40, 48, 40, 54, 55, 45, 56, 55, 43, 55, 56, 43, 60, 60, 46, 107, 106, 86, 160, 162, 139, 183, 191, 165, 199, 211, 185, 221, 235, 217, 237, 249, 234, 244, 253, 235, 242, 252, 233, 242, 249, 229, 223, 227, 207, 176, 182, 161, 116, 117, 95, 62, 54, 32, 56, 42, 17, 65, 49, 18, 93, 72, 37, 149, 124, 88, 169, 148, 115, 69, 56, 40, 16, 22, 18, 20, 22, 21, 20, 19, 19, 19, 19, 19, 21, 35, 39, 18, 33, 31, 20, 35, 29, 28, 41, 32, 45, 51, 42, 48, 48, 38, 53, 55, 42, 70, 75, 61, 83, 84, 68, 97, 96, 74, 153, 157, 133, 199, 210, 187, 225, 240, 218, 234, 252, 234, 240, 254, 238, 243, 251, 233, 243, 253, 235, 239, 250, 232, 239, 250, 231, 228, 238, 220, 186, 189, 168, 123, 114, 91, 103, 85, 59, 113, 94, 63, 153, 134, 100, 198, 185, 146, 194, 182, 145, 92, 77, 58, 21, 21, 18, 21, 22, 22, 20, 20, 20, 19, 19, 19, 23, 36, 43, 20, 34, 35, 21, 36, 32, 31, 43, 36, 43, 49, 40, 44, 44, 34, 54, 56, 43, 67, 71, 55, 80, 80, 61, 100, 98, 72, 145, 148, 120, 176, 186, 160, 215, 227, 206, 237, 252, 235, 239, 252, 233, 238, 246, 222, 240, 249, 227, 237, 249, 229, 238, 251, 233, 238, 252, 235, 226, 230, 208, 166, 157, 129, 132, 118, 86, 176, 161, 128, 214, 204, 172, 222, 221, 183, 208, 201, 163, 108, 88, 68, 24, 16, 11, 21, 22, 21, 20, 20, 20, 19, 19, 19, 24, 37, 46, 23, 37, 40, 24, 38, 37, 34, 47, 40, 53, 59, 49, 55, 55, 45, 56, 58, 45, 55, 59, 41, 49, 48, 24, 120, 116, 86, 202, 204, 171, 202, 210, 181, 214, 224, 204, 238, 251, 233, 239, 250, 228, 226, 231, 202, 227, 231, 202, 227, 234, 208, 237, 248, 225, 239, 254, 234, 219, 224, 199, 138, 130, 96, 130, 119, 80, 214, 205, 170, 236, 233, 204, 227, 233, 198, 214, 211, 173, 121, 101, 77, 27, 19, 7, 22, 22, 21, 20, 20, 20, 19, 19, 19, 25, 38, 49, 25, 39, 44, 25, 39, 39, 41, 54, 48, 59, 65, 56, 48, 48, 38, 47, 49, 36, 49, 52, 33, 79, 76, 50, 192, 187, 154, 237, 237, 202, 237, 243, 213, 232, 240, 221, 236, 248, 230, 241, 251, 227, 227, 231, 199, 211, 210, 175, 225, 225, 192, 244, 249, 220, 238, 249, 224, 210, 212, 184, 173, 166, 127, 190, 182, 137, 233, 228, 192, 239, 238, 213, 232, 237, 207, 220, 217, 181, 141, 125, 96, 30, 24, 8, 21, 21, 20, 20, 20, 20, 19, 19, 19, 25, 37, 50, 25, 38, 46, 27, 40, 45, 38, 53, 52, 48, 57, 50, 41, 42, 31, 41, 39, 28, 53, 49, 31, 113, 105, 76, 219, 211, 180, 239, 237, 209, 242, 248, 225, 241, 246, 224, 236, 243, 220, 236, 242, 216, 233, 238, 210, 220, 228, 196, 233, 233, 194, 235, 229, 187, 216, 215, 178, 203, 202, 166, 207, 205, 161, 213, 214, 166, 223, 227, 191, 238, 237, 212, 234, 234, 208, 222, 220, 185, 167, 153, 117, 40, 35, 17, 20, 21, 18, 22, 22, 22, 19, 19, 21, 25, 37, 50, 25, 38, 48, 25, 38, 46, 36, 52, 58, 47, 58, 56, 48, 48, 37, 48, 45, 29, 72, 68, 45, 111, 103, 70, 198, 189, 157, 242, 242, 214, 240, 246, 224, 242, 246, 221, 237, 241, 216, 231, 234, 209, 231, 236, 211, 230, 240, 211, 220, 221, 180, 200, 194, 145, 208, 208, 163, 223, 226, 189, 232, 235, 194, 223, 227, 183, 218, 223, 184, 233, 231, 199, 234, 232, 201, 224, 222, 182, 190, 176, 133, 62, 56, 35, 19, 20, 16, 22, 22, 21, 19, 19, 21, 25, 37, 50, 25, 38, 48, 25, 38, 46, 35, 49, 59, 49, 57, 60, 56, 57, 43, 62, 62, 38, 75, 75, 46, 81, 78, 44, 152, 147, 111, 221, 221, 190, 239, 244, 218, 243, 247, 222, 241, 245, 220, 238, 242, 217, 234, 238, 213, 238, 239, 210, 230, 228, 189, 226, 225, 181, 237, 246, 201, 238, 248, 214, 238, 245, 213, 232, 236, 197, 224, 225, 183, 230, 225, 183, 231, 228, 189, 225, 223, 176, 200, 185, 138, 78, 70, 46, 19, 20, 14, 21, 21, 18, 19, 19, 19, 27, 39, 53, 26, 39, 49, 25, 38, 46, 37, 49, 57, 52, 57, 57, 68, 69, 53, 70, 72, 47, 61, 66, 38, 80, 81, 52, 113, 111, 79, 192, 192, 162, 234, 239, 213, 241, 245, 220, 243, 247, 222, 243, 247, 222, 243, 246, 221, 242, 241, 213, 241, 240, 209, 242, 246, 212, 240, 251, 215, 239, 248, 218, 240, 245, 218, 237, 239, 208, 230, 231, 190, 227, 222, 176, 226, 221, 178, 223, 218, 170, 194, 176, 130, 71, 61, 39, 19, 20, 12, 22, 23, 17, 20, 20, 17, 29, 41, 55, 27, 39, 49, 27, 40, 48, 38, 49, 51, 75, 80, 72, 97, 98, 81, 78, 82, 59, 73, 80, 59, 113, 118, 96, 150, 149, 124, 216, 216, 191, 232, 235, 213, 241, 245, 221, 245, 249, 224, 245, 249, 224, 245, 249, 224, 244, 246, 222, 243, 247, 224, 243, 249, 227, 244, 250, 228, 247, 248, 221, 246, 246, 218, 242, 244, 217, 234, 240, 203, 223, 222, 177, 216, 210, 168, 216, 209, 164, 179, 159, 118, 57, 45, 29, 20, 20, 12, 22, 23, 16, 20, 21, 16, 29, 42, 56, 30, 40, 51, 35, 43, 50, 72, 75, 69, 155, 154, 140, 162, 165, 146, 135, 143, 122, 145, 156, 135, 197, 205, 186, 228, 233, 212, 239, 242, 222, 231, 235, 215, 239, 244, 215, 249, 250, 226, 248, 249, 227, 246, 250, 227, 247, 251, 228, 247, 251, 230, 244, 248, 228, 246, 249, 229, 250, 249, 224, 249, 247, 221, 245, 246, 220, 242, 243, 210, 225, 220, 179, 204, 200, 152, 208, 197, 147, 162, 139, 103, 43, 34, 19, 19, 24, 15, 21, 24, 17, 19, 20, 17, 28, 42, 54, 29, 39, 42, 75, 82, 78, 167, 168, 154, 210, 211, 192, 213, 220, 200, 212, 225, 203, 221, 235, 213, 235, 247, 228, 238, 247, 229, 241, 246, 230, 233, 237, 218, 223, 229, 198, 244, 243, 217, 248, 247, 225, 246, 249, 227, 249, 253, 231, 248, 252, 229, 244, 248, 225, 244, 248, 225, 250, 249, 225, 248, 247, 223, 244, 244, 219, 245, 240, 208, 224, 215, 175, 199, 193, 142, 203, 189, 134, 146, 121, 86, 35, 30, 14, 19, 26, 18, 20, 24, 19, 19, 20, 18, 30, 46, 51, 60, 73, 62, 161, 170, 152, 215, 223, 203, 219, 229, 209, 227, 240, 219, 234, 252, 230, 239, 255, 234, 242, 253, 236, 243, 252, 235, 248, 253, 238, 244, 248, 231, 231, 234, 208, 241, 238, 209, 245, 243, 215, 249, 251, 226, 251, 254, 231, 251, 255, 232, 249, 253, 229, 247, 251, 228, 251, 250, 226, 249, 248, 223, 245, 245, 220, 244, 239, 206, 225, 214, 174, 207, 196, 146, 202, 184, 130, 137, 112, 76, 33, 29, 12, 19, 26, 18, 20, 25, 19, 19, 20, 18], \"height\": 32, \"channels\": 3, \"width\": 32, \"type\": \"image\", \"id\": 1768763912}, {\"format\": \"raw\", \"value\": [137, 105, 88, 193, 149, 128, 205, 153, 128, 203, 151, 124, 199, 149, 123, 196, 146, 119, 191, 140, 113, 179, 131, 104, 165, 123, 98, 126, 94, 73, 83, 60, 45, 43, 33, 30, 20, 19, 21, 13, 15, 16, 3, 7, 7, 5, 6, 7, 9, 6, 9, 9, 8, 6, 14, 14, 10, 15, 15, 11, 13, 13, 9, 12, 12, 8, 8, 8, 5, 15, 16, 10, 21, 22, 17, 15, 15, 15, 3, 3, 5, 9, 9, 8, 12, 12, 8, 6, 4, 4, 6, 2, 5, 23, 19, 19, 49, 37, 29, 121, 95, 82, 184, 147, 127, 194, 151, 125, 180, 136, 106, 178, 130, 102, 189, 139, 112, 185, 140, 115, 163, 125, 105, 115, 87, 72, 73, 54, 47, 34, 28, 31, 18, 19, 25, 9, 12, 17, 5, 9, 12, 9, 8, 12, 12, 7, 11, 12, 11, 11, 11, 13, 11, 7, 9, 7, 5, 6, 5, 12, 14, 12, 7, 8, 7, 12, 13, 13, 16, 16, 17, 8, 8, 9, 6, 6, 6, 11, 12, 8, 6, 7, 2, 3, 2, 2, 7, 3, 6, 11, 9, 9, 21, 22, 22, 37, 26, 21, 91, 70, 57, 152, 124, 103, 170, 139, 110, 160, 126, 95, 163, 130, 98, 174, 144, 115, 148, 124, 100, 80, 65, 50, 40, 33, 25, 27, 22, 23, 19, 17, 20, 13, 13, 15, 10, 11, 12, 11, 10, 11, 13, 8, 9, 12, 11, 10, 12, 14, 11, 9, 10, 8, 7, 8, 6, 16, 18, 15, 11, 12, 10, 20, 19, 20, 21, 19, 20, 10, 9, 7, 12, 11, 7, 19, 18, 12, 20, 19, 13, 13, 11, 10, 11, 10, 11, 8, 6, 6, 23, 25, 28, 27, 24, 26, 31, 23, 20, 59, 47, 36, 108, 93, 74, 150, 129, 100, 154, 130, 97, 136, 113, 83, 90, 71, 45, 51, 37, 18, 47, 39, 26, 55, 44, 34, 45, 34, 26, 35, 29, 20, 29, 26, 19, 20, 18, 13, 15, 11, 9, 15, 12, 9, 14, 12, 8, 12, 10, 6, 16, 14, 9, 16, 14, 9, 13, 10, 6, 20, 15, 11, 21, 15, 9, 22, 16, 7, 26, 21, 11, 53, 47, 38, 55, 49, 42, 15, 13, 11, 7, 7, 7, 8, 8, 8, 29, 27, 30, 28, 27, 32, 29, 28, 32, 23, 21, 20, 40, 37, 29, 135, 117, 95, 172, 145, 115, 158, 128, 99, 109, 80, 54, 65, 40, 19, 65, 43, 26, 88, 64, 44, 80, 60, 38, 64, 50, 31, 58, 51, 36, 52, 48, 37, 43, 38, 30, 34, 28, 21, 41, 34, 26, 41, 34, 25, 41, 33, 25, 48, 40, 32, 39, 31, 22, 40, 30, 20, 46, 35, 22, 56, 45, 29, 90, 80, 63, 105, 94, 83, 44, 34, 30, 7, 3, 1, 3, 3, 3, 3, 3, 3, 26, 25, 27, 24, 24, 28, 20, 21, 25, 17, 18, 20, 23, 23, 22, 110, 95, 84, 182, 152, 129, 188, 153, 122, 174, 143, 114, 114, 88, 64, 78, 50, 27, 100, 71, 41, 105, 79, 47, 94, 72, 43, 84, 67, 43, 104, 91, 71, 94, 83, 67, 76, 64, 49, 92, 79, 63, 96, 82, 65, 77, 61, 44, 87, 70, 51, 79, 61, 42, 68, 52, 31, 80, 64, 41, 124, 108, 86, 149, 134, 116, 77, 67, 58, 10, 6, 6, 3, 2, 3, 1, 1, 1, 1, 1, 1, 18, 19, 21, 18, 19, 21, 17, 18, 20, 17, 19, 21, 17, 17, 18, 75, 63, 56, 172, 144, 124, 191, 158, 126, 175, 147, 117, 146, 121, 96, 124, 96, 69, 124, 95, 61, 124, 98, 63, 126, 102, 70, 113, 92, 64, 112, 93, 70, 113, 96, 75, 103, 88, 68, 103, 87, 67, 111, 93, 72, 115, 96, 73, 115, 95, 70, 103, 82, 57, 99, 80, 55, 130, 112, 86, 156, 138, 114, 105, 91, 74, 26, 19, 13, 4, 3, 4, 0, 1, 3, 1, 1, 1, 1, 1, 1, 18, 19, 22, 18, 19, 22, 17, 18, 22, 17, 19, 22, 17, 17, 20, 56, 45, 41, 157, 131, 111, 192, 160, 130, 172, 144, 114, 149, 124, 98, 137, 107, 79, 145, 116, 82, 150, 124, 89, 152, 127, 95, 119, 97, 68, 84, 63, 41, 130, 110, 87, 137, 119, 95, 126, 107, 83, 142, 123, 98, 145, 125, 101, 135, 115, 90, 142, 121, 94, 131, 111, 84, 136, 118, 93, 148, 132, 110, 85, 73, 60, 18, 12, 7, 2, 1, 2, 1, 1, 3, 1, 1, 1, 1, 1, 1, 19, 20, 25, 20, 22, 26, 20, 21, 25, 17, 18, 23, 15, 15, 19, 46, 38, 34, 144, 123, 103, 186, 157, 127, 173, 146, 116, 169, 144, 116, 166, 136, 106, 160, 131, 97, 157, 132, 97, 152, 126, 94, 137, 113, 83, 122, 99, 72, 152, 129, 103, 162, 140, 113, 146, 125, 97, 160, 139, 111, 165, 144, 117, 153, 133, 106, 159, 139, 111, 155, 135, 108, 152, 135, 109, 135, 122, 102, 63, 56, 45, 12, 9, 5, 4, 3, 4, 1, 1, 2, 1, 1, 1, 1, 1, 1, 20, 20, 26, 21, 22, 28, 20, 21, 27, 19, 20, 26, 19, 19, 25, 34, 29, 26, 110, 91, 73, 155, 128, 97, 161, 136, 104, 183, 159, 129, 188, 158, 126, 161, 132, 98, 145, 120, 86, 153, 127, 95, 159, 133, 103, 151, 126, 96, 142, 116, 87, 159, 134, 103, 138, 114, 82, 149, 126, 95, 158, 137, 107, 161, 141, 112, 155, 135, 107, 157, 137, 109, 156, 139, 114, 106, 95, 79, 27, 23, 16, 4, 3, 1, 5, 5, 5, 2, 2, 2, 1, 1, 1, 1, 1, 1, 20, 20, 27, 21, 21, 28, 21, 21, 29, 21, 21, 28, 22, 22, 29, 32, 27, 25, 86, 70, 51, 130, 105, 73, 158, 133, 101, 178, 154, 123, 172, 142, 109, 164, 136, 101, 150, 125, 91, 162, 137, 104, 163, 137, 105, 171, 144, 114, 157, 128, 98, 139, 111, 78, 123, 97, 63, 129, 105, 72, 148, 127, 95, 164, 144, 114, 146, 128, 98, 139, 119, 90, 137, 120, 95, 75, 66, 51, 21, 19, 13, 10, 10, 8, 8, 8, 8, 3, 3, 3, 1, 1, 1, 1, 1, 1, 19, 22, 26, 20, 23, 27, 21, 23, 28, 21, 23, 28, 20, 22, 25, 41, 34, 27, 98, 81, 56, 131, 109, 72, 162, 134, 100, 173, 143, 114, 156, 125, 92, 169, 139, 104, 164, 139, 103, 166, 146, 107, 176, 157, 119, 181, 155, 123, 184, 151, 123, 154, 123, 92, 148, 123, 89, 147, 124, 90, 159, 138, 103, 168, 149, 115, 164, 145, 112, 142, 119, 89, 145, 122, 98, 93, 80, 64, 25, 18, 11, 13, 10, 8, 13, 12, 11, 6, 6, 4, 1, 1, 0, 1, 1, 1, 20, 24, 26, 20, 24, 27, 20, 24, 27, 21, 25, 28, 20, 23, 25, 43, 34, 25, 101, 84, 57, 142, 120, 81, 160, 131, 96, 138, 106, 77, 129, 99, 66, 166, 136, 93, 170, 145, 96, 172, 155, 103, 178, 163, 113, 199, 177, 134, 198, 167, 133, 175, 147, 118, 169, 145, 115, 171, 147, 115, 175, 152, 116, 167, 145, 106, 163, 140, 101, 153, 128, 95, 132, 108, 84, 97, 81, 65, 35, 27, 18, 12, 9, 6, 13, 12, 10, 9, 8, 7, 4, 4, 2, 1, 1, 0, 21, 25, 28, 20, 24, 27, 21, 25, 28, 22, 26, 29, 22, 24, 27, 43, 35, 29, 101, 84, 60, 132, 110, 73, 112, 85, 51, 109, 79, 49, 144, 115, 80, 195, 165, 117, 196, 169, 115, 178, 157, 100, 172, 154, 98, 187, 166, 118, 206, 180, 141, 187, 161, 133, 179, 155, 129, 183, 158, 127, 174, 148, 112, 145, 119, 77, 155, 128, 84, 200, 174, 139, 148, 125, 101, 72, 57, 41, 27, 20, 13, 9, 7, 4, 11, 10, 10, 10, 10, 9, 8, 8, 6, 6, 6, 4, 21, 25, 28, 20, 24, 27, 21, 25, 28, 23, 27, 30, 21, 24, 27, 44, 36, 33, 103, 88, 67, 96, 76, 41, 94, 67, 34, 155, 126, 96, 165, 138, 103, 171, 141, 101, 192, 163, 120, 177, 152, 106, 165, 142, 96, 143, 118, 76, 192, 164, 130, 207, 179, 151, 180, 152, 125, 178, 149, 118, 147, 118, 81, 142, 113, 72, 183, 155, 111, 210, 184, 149, 148, 127, 104, 71, 57, 43, 23, 18, 12, 6, 6, 4, 9, 9, 10, 11, 11, 11, 11, 11, 9, 11, 11, 9, 22, 26, 29, 21, 25, 28, 22, 26, 29, 24, 28, 31, 21, 24, 27, 40, 32, 31, 73, 58, 41, 85, 66, 35, 146, 121, 89, 172, 145, 115, 170, 145, 110, 160, 134, 103, 169, 141, 112, 182, 154, 119, 202, 172, 134, 165, 133, 97, 157, 123, 89, 199, 164, 128, 184, 149, 112, 159, 126, 89, 156, 125, 89, 187, 157, 122, 182, 154, 119, 158, 132, 103, 113, 93, 72, 77, 65, 51, 25, 21, 16, 4, 4, 3, 9, 10, 12, 11, 12, 12, 11, 11, 9, 11, 11, 9, 22, 26, 29, 23, 27, 30, 24, 28, 31, 23, 28, 31, 24, 27, 30, 33, 26, 27, 50, 37, 22, 120, 102, 71, 187, 162, 130, 163, 137, 105, 163, 140, 103, 168, 146, 117, 171, 148, 121, 197, 169, 136, 219, 186, 146, 199, 162, 120, 166, 127, 84, 176, 134, 87, 174, 133, 86, 152, 115, 74, 185, 151, 116, 209, 181, 151, 174, 149, 123, 134, 110, 85, 93, 74, 52, 66, 54, 42, 19, 15, 11, 2, 3, 3, 7, 10, 13, 12, 13, 13, 10, 10, 8, 10, 10, 8, 22, 27, 30, 23, 28, 31, 24, 28, 31, 23, 28, 31, 25, 29, 32, 31, 32, 30, 52, 44, 31, 106, 87, 61, 141, 113, 80, 127, 99, 64, 156, 131, 95, 181, 159, 128, 198, 174, 144, 221, 192, 157, 213, 179, 139, 213, 175, 131, 188, 145, 99, 156, 108, 63, 160, 114, 72, 153, 113, 74, 195, 162, 127, 207, 180, 150, 188, 166, 138, 140, 118, 90, 108, 89, 66, 65, 56, 42, 14, 13, 8, 2, 5, 6, 7, 12, 15, 11, 14, 14, 9, 11, 9, 9, 10, 9, 23, 27, 30, 24, 28, 31, 24, 28, 31, 25, 29, 32, 25, 30, 32, 32, 34, 34, 64, 58, 49, 88, 69, 48, 107, 79, 49, 159, 129, 96, 188, 161, 129, 201, 179, 147, 211, 189, 154, 208, 183, 145, 200, 171, 129, 209, 175, 130, 225, 188, 141, 175, 134, 94, 151, 109, 75, 196, 160, 127, 215, 186, 154, 209, 186, 156, 195, 177, 147, 181, 160, 132, 145, 127, 104, 75, 66, 52, 17, 16, 11, 4, 8, 8, 9, 14, 16, 11, 14, 15, 10, 11, 11, 9, 11, 10, 25, 28, 31, 26, 29, 32, 25, 28, 31, 27, 29, 33, 27, 29, 33, 33, 33, 34, 79, 72, 66, 130, 112, 97, 145, 120, 96, 170, 143, 117, 190, 164, 137, 206, 187, 156, 216, 200, 165, 204, 185, 148, 195, 172, 132, 216, 189, 146, 242, 214, 171, 198, 167, 132, 178, 148, 119, 232, 206, 178, 238, 216, 189, 227, 209, 183, 194, 180, 154, 181, 164, 138, 134, 117, 96, 68, 59, 45, 24, 22, 15, 11, 13, 12, 10, 15, 17, 11, 15, 15, 11, 12, 11, 10, 12, 11, 27, 28, 32, 26, 27, 32, 26, 27, 31, 27, 28, 32, 29, 29, 33, 37, 34, 34, 86, 77, 72, 162, 146, 134, 186, 164, 145, 190, 166, 143, 209, 185, 161, 221, 204, 182, 229, 215, 193, 223, 207, 183, 213, 194, 168, 226, 204, 176, 235, 212, 183, 223, 201, 174, 218, 199, 174, 212, 194, 170, 218, 202, 178, 209, 196, 173, 188, 177, 154, 180, 166, 144, 155, 142, 123, 97, 88, 73, 30, 25, 16, 16, 17, 13, 14, 18, 19, 12, 15, 16, 11, 13, 12, 10, 12, 11, 28, 28, 33, 28, 28, 32, 28, 27, 32, 28, 27, 32, 32, 31, 35, 50, 45, 42, 102, 92, 84, 179, 166, 153, 213, 196, 178, 213, 193, 170, 223, 201, 176, 228, 211, 191, 234, 219, 203, 235, 219, 201, 231, 214, 195, 232, 213, 193, 232, 213, 192, 228, 212, 190, 219, 205, 183, 208, 195, 172, 214, 201, 179, 216, 204, 181, 211, 199, 177, 205, 194, 175, 159, 148, 131, 104, 93, 78, 45, 38, 27, 15, 13, 8, 18, 21, 21, 13, 16, 17, 11, 13, 12, 10, 12, 11, 28, 28, 32, 28, 27, 32, 29, 27, 32, 30, 28, 32, 35, 34, 36, 64, 57, 50, 112, 101, 88, 164, 153, 137, 216, 202, 182, 228, 210, 186, 228, 209, 181, 229, 212, 187, 231, 215, 191, 234, 217, 193, 234, 217, 193, 230, 213, 188, 224, 207, 181, 219, 206, 182, 222, 212, 189, 227, 215, 192, 232, 219, 195, 234, 220, 196, 222, 208, 185, 192, 182, 164, 121, 112, 96, 91, 79, 63, 65, 56, 43, 24, 20, 14, 20, 22, 21, 13, 16, 17, 10, 12, 11, 11, 13, 12, 34, 29, 29, 47, 31, 30, 52, 32, 28, 53, 36, 31, 57, 45, 36, 89, 67, 55, 127, 104, 88, 139, 121, 104, 177, 161, 141, 225, 210, 187, 242, 226, 201, 241, 226, 199, 239, 224, 196, 238, 224, 197, 239, 226, 199, 240, 227, 201, 242, 230, 203, 244, 232, 205, 247, 235, 209, 247, 236, 211, 243, 231, 209, 239, 227, 205, 220, 206, 185, 168, 154, 136, 102, 89, 70, 97, 85, 65, 68, 59, 43, 18, 13, 6, 16, 15, 13, 13, 14, 14, 11, 12, 11, 11, 13, 11, 135, 89, 79, 168, 108, 96, 177, 111, 98, 180, 120, 104, 176, 126, 109, 176, 133, 115, 167, 129, 111, 151, 123, 102, 155, 135, 113, 203, 187, 164, 245, 229, 206, 246, 231, 206, 248, 235, 209, 249, 237, 212, 250, 241, 216, 251, 243, 220, 253, 245, 223, 253, 242, 218, 251, 239, 213, 248, 237, 214, 237, 228, 207, 215, 204, 185, 160, 149, 130, 103, 89, 69, 108, 92, 71, 127, 115, 93, 69, 61, 43, 24, 19, 9, 19, 17, 13, 12, 11, 11, 10, 10, 10, 11, 12, 11, 225, 152, 125, 247, 165, 138, 250, 166, 138, 252, 175, 148, 247, 181, 155, 238, 183, 160, 202, 155, 132, 163, 127, 102, 176, 150, 124, 204, 183, 157, 239, 221, 196, 250, 236, 212, 249, 239, 215, 251, 242, 219, 254, 247, 224, 254, 248, 226, 253, 247, 226, 252, 246, 224, 242, 234, 211, 217, 206, 183, 198, 187, 165, 152, 141, 122, 88, 78, 60, 89, 76, 55, 138, 122, 99, 119, 107, 86, 58, 49, 33, 35, 30, 19, 24, 22, 17, 14, 13, 12, 12, 11, 11, 11, 12, 11, 237, 161, 126, 249, 168, 133, 251, 171, 136, 250, 177, 146, 249, 185, 157, 250, 189, 162, 229, 173, 146, 192, 149, 121, 183, 152, 123, 207, 183, 154, 237, 217, 190, 251, 240, 216, 250, 243, 221, 250, 244, 223, 254, 250, 230, 255, 251, 232, 253, 251, 232, 254, 250, 231, 233, 226, 204, 183, 171, 146, 159, 143, 118, 126, 111, 89, 112, 100, 80, 144, 130, 108, 151, 135, 112, 87, 75, 56, 37, 28, 14, 30, 24, 15, 21, 19, 13, 19, 18, 13, 26, 23, 20, 14, 13, 11, 230, 139, 113, 242, 147, 121, 245, 152, 126, 241, 153, 131, 238, 156, 136, 234, 161, 137, 217, 155, 127, 201, 153, 124, 192, 159, 130, 198, 175, 146, 227, 209, 183, 248, 239, 217, 252, 248, 228, 253, 249, 230, 254, 252, 234, 255, 254, 237, 254, 254, 238, 254, 252, 234, 245, 236, 213, 210, 192, 164, 171, 149, 118, 153, 132, 104, 139, 122, 98, 121, 105, 80, 111, 95, 71, 74, 61, 43, 44, 34, 23, 28, 23, 15, 28, 26, 19, 36, 34, 24, 41, 38, 28, 31, 29, 21, 239, 152, 126, 243, 153, 126, 246, 156, 128, 249, 162, 136, 249, 167, 144, 246, 171, 147, 228, 164, 138, 187, 138, 111, 174, 141, 114, 202, 180, 155, 235, 221, 198, 252, 246, 226, 254, 252, 233, 254, 252, 235, 253, 252, 236, 253, 254, 239, 252, 253, 238, 254, 251, 232, 243, 230, 204, 207, 185, 152, 160, 131, 95, 132, 104, 71, 119, 97, 69, 110, 93, 65, 104, 88, 64, 88, 75, 58, 56, 47, 37, 29, 23, 16, 31, 29, 20, 55, 54, 39, 44, 42, 24, 41, 39, 24, 251, 179, 153, 251, 174, 148, 250, 174, 147, 254, 179, 153, 255, 185, 160, 255, 190, 165, 251, 192, 166, 220, 171, 145, 180, 139, 116, 213, 186, 166, 249, 237, 218, 253, 248, 228, 253, 248, 228, 252, 247, 229, 251, 247, 229, 252, 246, 226, 251, 241, 220, 245, 232, 204, 220, 201, 167, 176, 149, 112, 147, 116, 78, 144, 116, 84, 124, 101, 74, 103, 84, 57, 101, 83, 58, 121, 107, 88, 87, 78, 66, 46, 43, 34, 26, 26, 18, 50, 49, 36, 56, 54, 38, 53, 52, 37, 251, 176, 153, 253, 174, 152, 252, 171, 149, 247, 170, 146, 248, 175, 151, 249, 183, 157, 247, 189, 161, 242, 188, 160, 220, 168, 145, 225, 185, 168, 245, 227, 210, 249, 239, 217, 249, 238, 216, 246, 236, 215, 246, 235, 213, 246, 230, 205, 243, 222, 193, 230, 208, 173, 203, 180, 141, 186, 159, 121, 167, 139, 103, 138, 112, 83, 107, 86, 61, 100, 80, 56, 121, 102, 79, 128, 113, 94, 86, 78, 62, 50, 47, 37, 24, 25, 19, 26, 26, 17, 45, 43, 31, 58, 56, 45, 243, 163, 136, 247, 164, 137, 248, 163, 137, 242, 160, 133, 237, 159, 131, 238, 163, 136, 236, 169, 140, 232, 169, 139, 223, 160, 135, 223, 171, 151, 229, 197, 177, 240, 222, 197, 242, 226, 200, 240, 225, 200, 244, 228, 202, 234, 213, 182, 223, 198, 163, 226, 202, 164, 206, 181, 144, 173, 147, 112, 123, 98, 66, 89, 66, 40, 104, 85, 63, 131, 113, 92, 125, 108, 87, 89, 76, 58, 53, 46, 32, 34, 32, 22, 18, 19, 11, 19, 18, 10, 35, 32, 23, 37, 35, 25], \"height\": 32, \"channels\": 3, \"width\": 32, \"type\": \"image\", \"id\": 1768764640}, {\"format\": \"raw\", \"value\": [210, 208, 202, 192, 187, 176, 194, 192, 182, 194, 192, 183, 196, 193, 181, 197, 194, 180, 197, 195, 178, 199, 196, 179, 202, 196, 182, 202, 197, 183, 203, 197, 185, 203, 198, 185, 203, 198, 182, 204, 199, 183, 205, 200, 184, 205, 200, 183, 205, 201, 183, 205, 200, 187, 205, 199, 188, 206, 200, 183, 207, 200, 179, 206, 196, 187, 206, 198, 184, 206, 199, 180, 204, 197, 186, 203, 196, 184, 201, 195, 184, 198, 194, 185, 196, 194, 185, 196, 195, 185, 196, 191, 186, 194, 190, 187, 125, 118, 110, 70, 59, 40, 79, 70, 48, 81, 73, 48, 85, 76, 48, 88, 80, 49, 91, 84, 49, 96, 86, 52, 102, 87, 55, 105, 89, 57, 107, 91, 57, 110, 94, 59, 112, 96, 58, 115, 99, 60, 116, 100, 62, 116, 101, 61, 117, 102, 59, 118, 102, 61, 118, 102, 64, 118, 103, 62, 118, 103, 61, 117, 98, 70, 117, 98, 65, 118, 97, 62, 112, 92, 67, 105, 90, 64, 100, 88, 63, 95, 85, 62, 92, 84, 60, 90, 83, 55, 86, 75, 54, 82, 73, 60, 113, 104, 93, 52, 36, 13, 64, 50, 18, 67, 53, 22, 72, 56, 25, 76, 60, 27, 78, 64, 28, 83, 67, 28, 90, 71, 27, 95, 74, 28, 100, 76, 28, 105, 80, 32, 108, 84, 38, 109, 85, 40, 109, 85, 40, 110, 86, 40, 112, 86, 35, 114, 87, 36, 112, 88, 39, 110, 88, 41, 104, 92, 47, 86, 76, 43, 92, 76, 38, 105, 83, 43, 102, 78, 44, 96, 77, 38, 91, 74, 36, 86, 71, 36, 81, 68, 33, 78, 66, 27, 73, 59, 24, 68, 57, 34, 114, 106, 91, 56, 39, 13, 70, 53, 20, 72, 54, 24, 75, 56, 29, 80, 61, 31, 82, 64, 31, 86, 69, 32, 93, 76, 34, 101, 80, 36, 106, 80, 32, 111, 82, 34, 112, 85, 41, 113, 87, 43, 114, 88, 44, 116, 89, 45, 119, 87, 41, 118, 88, 39, 115, 89, 42, 114, 92, 51, 88, 83, 49, 49, 49, 26, 76, 68, 34, 106, 90, 47, 108, 86, 47, 105, 84, 40, 100, 81, 38, 93, 76, 35, 87, 72, 33, 85, 69, 31, 80, 64, 26, 72, 62, 34, 114, 107, 90, 58, 42, 16, 73, 54, 26, 73, 57, 26, 77, 60, 26, 82, 66, 29, 85, 69, 29, 87, 73, 37, 80, 67, 36, 86, 68, 34, 106, 83, 44, 113, 87, 43, 113, 90, 42, 115, 92, 43, 116, 93, 44, 118, 94, 46, 123, 93, 45, 122, 94, 43, 117, 97, 46, 110, 93, 53, 66, 65, 37, 49, 51, 34, 79, 71, 36, 110, 92, 42, 112, 89, 45, 110, 88, 45, 103, 84, 42, 95, 78, 37, 89, 74, 37, 86, 68, 39, 80, 64, 30, 73, 65, 36, 116, 109, 91, 60, 44, 16, 73, 57, 27, 75, 62, 26, 80, 64, 29, 88, 68, 30, 94, 74, 28, 85, 73, 38, 51, 47, 25, 48, 38, 18, 87, 68, 39, 115, 92, 49, 114, 95, 45, 116, 96, 46, 118, 96, 47, 122, 97, 48, 127, 96, 43, 126, 99, 47, 117, 101, 57, 85, 79, 48, 59, 62, 44, 63, 62, 44, 86, 73, 35, 114, 92, 42, 116, 91, 44, 113, 90, 45, 106, 85, 41, 99, 80, 38, 93, 76, 37, 88, 70, 39, 83, 66, 33, 75, 67, 36, 118, 109, 92, 61, 46, 13, 74, 59, 24, 74, 63, 23, 81, 63, 32, 90, 65, 30, 98, 75, 28, 78, 66, 33, 43, 43, 27, 41, 38, 26, 51, 38, 17, 106, 85, 45, 119, 97, 47, 121, 97, 47, 125, 96, 49, 128, 97, 49, 130, 98, 45, 123, 100, 54, 100, 91, 60, 58, 61, 43, 64, 71, 62, 70, 69, 49, 93, 79, 38, 116, 94, 46, 118, 93, 45, 116, 90, 43, 109, 86, 40, 105, 83, 40, 99, 81, 38, 94, 75, 37, 86, 67, 35, 78, 67, 35, 118, 110, 92, 62, 46, 14, 75, 60, 25, 75, 64, 25, 83, 65, 34, 92, 70, 32, 98, 78, 33, 74, 61, 31, 55, 51, 36, 57, 54, 45, 46, 38, 25, 76, 61, 32, 121, 96, 46, 124, 95, 45, 128, 97, 47, 128, 97, 48, 121, 99, 55, 99, 87, 51, 70, 68, 44, 58, 65, 51, 74, 81, 74, 73, 72, 51, 100, 85, 44, 119, 96, 48, 120, 94, 47, 119, 93, 47, 114, 91, 45, 108, 87, 44, 103, 85, 42, 98, 79, 41, 90, 71, 37, 81, 70, 36, 117, 108, 91, 61, 46, 13, 75, 61, 25, 77, 65, 27, 86, 68, 36, 94, 74, 35, 96, 79, 36, 68, 55, 31, 60, 54, 42, 63, 62, 55, 58, 56, 49, 51, 44, 27, 97, 81, 44, 107, 91, 52, 109, 92, 53, 108, 91, 54, 93, 86, 56, 67, 66, 42, 56, 60, 43, 67, 77, 66, 75, 82, 76, 70, 69, 48, 97, 83, 42, 112, 90, 42, 113, 88, 40, 115, 89, 42, 111, 89, 43, 107, 86, 43, 103, 85, 41, 100, 82, 41, 95, 76, 40, 83, 73, 37, 114, 106, 89, 57, 42, 9, 71, 57, 21, 75, 62, 25, 82, 64, 32, 89, 71, 29, 87, 74, 34, 60, 51, 31, 62, 58, 47, 69, 72, 63, 69, 72, 64, 50, 49, 40, 58, 58, 39, 80, 81, 61, 76, 80, 59, 76, 81, 60, 72, 80, 62, 62, 71, 56, 51, 60, 48, 60, 68, 59, 78, 85, 78, 78, 76, 56, 95, 80, 39, 106, 83, 35, 109, 83, 36, 110, 84, 38, 108, 85, 39, 106, 84, 41, 102, 83, 39, 100, 82, 39, 96, 78, 40, 85, 75, 37, 114, 106, 88, 56, 40, 8, 68, 53, 18, 70, 56, 21, 76, 59, 26, 82, 65, 22, 78, 68, 29, 58, 52, 37, 65, 67, 57, 71, 78, 65, 71, 75, 62, 51, 52, 42, 38, 44, 35, 61, 71, 61, 61, 75, 63, 59, 75, 63, 72, 89, 79, 78, 92, 82, 59, 67, 58, 57, 61, 51, 84, 88, 81, 89, 88, 67, 103, 89, 48, 112, 90, 42, 115, 90, 42, 115, 90, 43, 111, 88, 42, 105, 84, 41, 99, 81, 37, 97, 79, 35, 95, 77, 37, 85, 75, 36, 114, 106, 88, 55, 40, 7, 65, 50, 16, 68, 53, 20, 76, 58, 23, 81, 64, 21, 77, 65, 29, 56, 52, 37, 65, 69, 59, 80, 87, 73, 68, 71, 57, 45, 45, 34, 36, 40, 31, 45, 52, 42, 56, 67, 56, 62, 78, 66, 85, 103, 94, 110, 125, 119, 73, 82, 75, 58, 63, 52, 71, 77, 68, 80, 78, 57, 107, 91, 49, 116, 93, 44, 116, 92, 43, 116, 90, 42, 110, 87, 40, 104, 83, 39, 98, 79, 33, 95, 76, 31, 94, 75, 35, 85, 75, 35, 113, 107, 89, 52, 40, 7, 62, 45, 14, 65, 48, 19, 75, 56, 19, 83, 65, 22, 78, 64, 30, 54, 48, 30, 60, 63, 52, 90, 93, 81, 87, 89, 77, 54, 57, 46, 39, 44, 34, 38, 40, 31, 53, 60, 50, 60, 74, 62, 79, 97, 87, 146, 162, 157, 109, 122, 117, 59, 70, 60, 55, 66, 56, 70, 67, 46, 110, 90, 48, 117, 93, 44, 115, 91, 42, 114, 89, 40, 111, 88, 40, 105, 84, 38, 98, 78, 32, 95, 74, 30, 92, 71, 35, 85, 74, 37, 110, 105, 89, 47, 37, 7, 59, 45, 17, 64, 48, 22, 72, 55, 20, 81, 63, 23, 76, 63, 31, 52, 47, 29, 54, 56, 45, 83, 85, 74, 97, 98, 87, 78, 82, 71, 48, 54, 44, 34, 35, 27, 48, 54, 44, 57, 70, 58, 75, 92, 82, 171, 186, 182, 176, 188, 185, 91, 102, 92, 50, 61, 50, 68, 66, 44, 102, 83, 43, 111, 87, 41, 109, 86, 42, 107, 84, 41, 103, 82, 40, 98, 78, 39, 92, 74, 34, 88, 69, 32, 86, 66, 37, 82, 71, 40, 101, 98, 84, 33, 27, 2, 50, 40, 15, 55, 43, 19, 62, 48, 17, 70, 55, 19, 64, 54, 26, 44, 41, 25, 51, 53, 42, 68, 70, 59, 54, 56, 44, 62, 65, 54, 43, 49, 39, 33, 35, 27, 42, 48, 38, 59, 72, 60, 105, 121, 111, 196, 209, 206, 223, 234, 231, 147, 157, 148, 62, 70, 56, 66, 64, 42, 79, 64, 29, 84, 63, 23, 82, 61, 23, 78, 58, 24, 75, 56, 24, 69, 53, 23, 65, 51, 20, 62, 47, 19, 61, 44, 23, 58, 48, 24, 96, 94, 83, 24, 21, 1, 41, 37, 16, 48, 40, 20, 58, 46, 19, 64, 52, 21, 56, 49, 26, 36, 35, 22, 48, 50, 40, 67, 69, 58, 39, 40, 29, 32, 36, 25, 32, 37, 27, 36, 38, 29, 40, 46, 36, 68, 81, 68, 149, 164, 154, 222, 233, 231, 236, 245, 243, 188, 196, 187, 84, 89, 73, 70, 68, 46, 66, 54, 25, 61, 43, 10, 59, 40, 9, 55, 39, 11, 51, 38, 11, 47, 35, 11, 42, 33, 8, 40, 30, 8, 38, 25, 9, 37, 28, 9, 96, 95, 87, 24, 24, 10, 40, 40, 22, 47, 43, 26, 59, 50, 27, 64, 55, 27, 57, 52, 33, 33, 34, 23, 35, 37, 26, 49, 51, 40, 47, 49, 38, 33, 36, 25, 33, 39, 29, 37, 39, 31, 43, 49, 39, 70, 83, 71, 150, 163, 154, 228, 238, 236, 240, 247, 246, 207, 213, 205, 92, 95, 77, 69, 67, 45, 71, 63, 38, 62, 47, 20, 59, 43, 16, 55, 44, 17, 51, 42, 17, 46, 39, 17, 42, 37, 14, 40, 35, 15, 39, 29, 15, 38, 32, 12, 94, 94, 88, 23, 25, 15, 37, 41, 25, 43, 42, 26, 54, 48, 28, 59, 53, 29, 55, 52, 36, 35, 36, 26, 29, 32, 21, 34, 36, 25, 42, 44, 34, 39, 42, 32, 38, 44, 34, 44, 46, 37, 48, 53, 42, 56, 67, 53, 126, 138, 129, 224, 233, 232, 243, 249, 249, 201, 205, 197, 89, 90, 70, 70, 69, 46, 76, 71, 50, 67, 53, 30, 64, 50, 24, 59, 51, 24, 55, 49, 23, 50, 45, 22, 45, 43, 20, 44, 42, 22, 44, 36, 21, 43, 38, 17, 92, 94, 90, 20, 22, 15, 37, 40, 29, 39, 44, 31, 45, 51, 34, 52, 55, 38, 52, 55, 41, 38, 43, 30, 30, 35, 23, 29, 34, 24, 33, 37, 29, 46, 51, 43, 45, 54, 46, 48, 52, 45, 62, 63, 46, 72, 75, 47, 120, 129, 116, 218, 227, 232, 240, 246, 252, 195, 195, 186, 91, 93, 66, 80, 81, 55, 86, 82, 61, 68, 58, 33, 63, 51, 22, 61, 49, 22, 57, 47, 22, 52, 44, 22, 48, 42, 21, 46, 41, 21, 46, 36, 18, 45, 37, 20, 92, 94, 90, 19, 22, 15, 35, 38, 29, 37, 45, 32, 39, 50, 36, 53, 62, 49, 64, 73, 59, 46, 54, 40, 33, 40, 27, 32, 38, 28, 39, 44, 37, 52, 59, 52, 51, 61, 53, 54, 60, 52, 82, 84, 65, 97, 98, 66, 101, 108, 94, 196, 207, 213, 232, 238, 246, 197, 196, 187, 91, 94, 69, 93, 96, 73, 106, 104, 84, 67, 61, 34, 62, 52, 21, 63, 49, 22, 58, 46, 22, 54, 45, 22, 50, 42, 22, 48, 40, 21, 47, 36, 16, 45, 35, 20, 90, 92, 89, 19, 22, 15, 34, 37, 28, 32, 39, 28, 37, 48, 35, 60, 70, 58, 85, 96, 83, 62, 72, 59, 37, 45, 31, 33, 40, 30, 38, 45, 37, 49, 58, 50, 53, 64, 56, 65, 74, 64, 82, 87, 70, 98, 102, 77, 75, 83, 73, 162, 173, 178, 219, 225, 232, 193, 191, 183, 126, 128, 113, 166, 171, 156, 129, 129, 110, 61, 58, 29, 62, 53, 22, 64, 50, 23, 59, 47, 23, 55, 46, 23, 51, 43, 23, 50, 42, 23, 48, 37, 17, 45, 35, 21, 90, 92, 89, 18, 21, 14, 33, 36, 27, 32, 37, 28, 40, 49, 40, 68, 80, 70, 98, 113, 101, 77, 91, 78, 47, 57, 43, 39, 48, 37, 37, 46, 37, 50, 60, 52, 55, 67, 59, 61, 72, 61, 75, 84, 69, 80, 88, 72, 109, 118, 113, 168, 178, 182, 198, 205, 209, 192, 191, 183, 191, 192, 182, 211, 214, 202, 128, 128, 107, 63, 59, 30, 64, 55, 25, 63, 49, 23, 59, 47, 23, 54, 45, 23, 50, 43, 22, 50, 42, 23, 48, 37, 17, 44, 34, 20, 90, 92, 88, 17, 20, 13, 31, 34, 25, 31, 36, 28, 38, 47, 38, 60, 74, 64, 94, 113, 101, 96, 113, 99, 78, 90, 75, 56, 67, 55, 47, 59, 49, 59, 70, 62, 64, 77, 69, 60, 74, 61, 85, 98, 85, 145, 157, 149, 205, 215, 213, 197, 208, 210, 180, 187, 188, 183, 181, 175, 191, 189, 179, 188, 188, 172, 109, 105, 80, 68, 60, 32, 69, 56, 30, 64, 50, 24, 58, 46, 22, 53, 44, 22, 49, 42, 21, 48, 40, 21, 47, 35, 16, 44, 34, 20, 88, 90, 87, 14, 17, 10, 30, 33, 24, 32, 36, 29, 34, 43, 35, 49, 63, 54, 89, 110, 98, 112, 132, 118, 110, 123, 108, 95, 108, 96, 81, 93, 84, 83, 95, 87, 105, 118, 110, 103, 119, 105, 116, 132, 120, 184, 199, 197, 220, 231, 232, 196, 207, 209, 123, 132, 130, 98, 97, 91, 152, 147, 134, 163, 159, 136, 82, 73, 44, 67, 53, 28, 69, 53, 30, 65, 51, 25, 60, 47, 23, 54, 45, 23, 50, 42, 22, 48, 40, 21, 47, 35, 16, 45, 35, 20, 88, 89, 87, 12, 15, 10, 27, 32, 24, 29, 35, 28, 31, 38, 31, 46, 56, 49, 91, 110, 101, 124, 144, 134, 128, 143, 131, 128, 142, 130, 127, 140, 129, 133, 145, 135, 158, 169, 162, 160, 173, 163, 166, 179, 171, 191, 203, 200, 203, 211, 211, 155, 169, 166, 79, 94, 87, 46, 47, 41, 139, 133, 120, 144, 138, 115, 71, 59, 32, 70, 54, 28, 70, 53, 28, 65, 51, 24, 62, 49, 24, 58, 46, 24, 54, 44, 23, 50, 42, 20, 49, 37, 17, 47, 38, 22, 88, 88, 87, 11, 15, 10, 26, 33, 25, 26, 34, 25, 28, 34, 27, 44, 50, 45, 82, 97, 92, 124, 144, 138, 135, 151, 143, 140, 154, 144, 150, 161, 150, 161, 172, 160, 174, 184, 175, 178, 187, 179, 178, 188, 179, 181, 190, 182, 180, 186, 182, 114, 129, 122, 95, 114, 104, 98, 101, 94, 161, 155, 141, 117, 109, 88, 72, 59, 35, 73, 56, 28, 71, 54, 25, 66, 52, 24, 64, 50, 23, 62, 47, 24, 57, 44, 23, 51, 43, 18, 50, 39, 16, 48, 39, 23, 88, 88, 87, 10, 14, 9, 22, 28, 21, 24, 31, 23, 30, 36, 29, 43, 49, 44, 70, 86, 80, 122, 142, 136, 141, 158, 151, 143, 158, 148, 147, 159, 149, 160, 171, 159, 168, 179, 166, 174, 185, 172, 170, 181, 168, 164, 174, 162, 168, 175, 168, 134, 147, 138, 101, 116, 105, 105, 109, 99, 135, 129, 113, 87, 77, 54, 77, 63, 36, 80, 61, 31, 74, 57, 26, 69, 55, 26, 66, 52, 26, 64, 49, 26, 59, 46, 25, 52, 44, 19, 51, 40, 17, 48, 39, 23, 87, 88, 87, 10, 14, 9, 20, 26, 19, 22, 29, 21, 32, 37, 30, 43, 49, 44, 70, 85, 80, 117, 138, 132, 142, 161, 155, 146, 163, 155, 148, 162, 153, 159, 171, 159, 169, 180, 164, 172, 183, 167, 170, 181, 165, 158, 168, 154, 157, 164, 155, 141, 152, 141, 95, 106, 92, 96, 100, 86, 117, 113, 94, 81, 72, 48, 77, 64, 37, 81, 64, 32, 77, 59, 28, 70, 56, 27, 67, 53, 27, 65, 50, 27, 60, 47, 25, 53, 46, 21, 52, 41, 18, 49, 40, 24, 86, 87, 86, 9, 13, 8, 20, 26, 19, 22, 29, 21, 32, 38, 31, 43, 49, 44, 66, 81, 75, 108, 129, 124, 137, 157, 153, 147, 165, 159, 152, 168, 159, 158, 172, 161, 163, 174, 160, 168, 179, 164, 167, 178, 164, 158, 169, 155, 145, 153, 140, 122, 131, 116, 100, 107, 91, 125, 128, 111, 138, 137, 118, 102, 98, 76, 81, 73, 47, 77, 65, 35, 75, 61, 31, 70, 57, 28, 67, 54, 27, 65, 50, 27, 59, 46, 25, 54, 46, 22, 52, 42, 18, 49, 41, 25, 88, 88, 87, 9, 14, 8, 21, 27, 20, 23, 30, 22, 32, 38, 31, 39, 46, 40, 53, 68, 63, 89, 111, 107, 127, 148, 145, 144, 164, 159, 155, 173, 165, 166, 181, 172, 167, 177, 167, 170, 180, 170, 171, 181, 171, 167, 177, 166, 156, 166, 151, 146, 152, 136, 145, 148, 130, 155, 158, 138, 152, 157, 138, 136, 139, 120, 111, 110, 87, 83, 77, 51, 75, 65, 36, 71, 57, 28, 68, 53, 27, 66, 51, 27, 60, 46, 25, 55, 47, 22, 54, 43, 20, 51, 42, 26, 85, 86, 85, 7, 10, 7, 18, 23, 17, 22, 28, 21, 29, 35, 29, 33, 39, 35, 40, 53, 49, 62, 80, 76, 108, 127, 124, 140, 158, 154, 154, 171, 164, 166, 180, 173, 173, 183, 177, 179, 188, 183, 177, 187, 182, 175, 185, 178, 171, 179, 166, 165, 169, 154, 163, 165, 149, 161, 163, 145, 140, 147, 130, 142, 149, 134, 144, 148, 130, 119, 120, 99, 101, 97, 74, 91, 82, 59, 79, 69, 47, 66, 56, 36, 62, 53, 35, 56, 51, 30, 49, 42, 22, 46, 40, 25, 121, 121, 121, 61, 61, 60, 70, 71, 70, 73, 77, 75, 76, 82, 79, 77, 83, 81, 83, 90, 88, 94, 104, 101, 126, 139, 135, 158, 171, 167, 170, 183, 179, 181, 193, 189, 189, 198, 195, 194, 203, 200, 193, 202, 199, 193, 201, 197, 192, 196, 188, 188, 190, 179, 182, 184, 174, 180, 181, 171, 160, 166, 154, 162, 170, 158, 171, 178, 165, 164, 171, 158, 158, 162, 150, 153, 153, 141, 138, 137, 126, 120, 119, 109, 119, 119, 108, 113, 113, 102, 94, 93, 83, 85, 85, 76], \"height\": 32, \"channels\": 3, \"width\": 32, \"type\": \"image\", \"id\": 1768764360}], \"selected_variable\": {\"name\": [\"<SArray>\"], \"dtype\": \"Image\", \"view_component\": \"Images\", \"view_file\": \"sarray\", \"descriptives\": {\"rows\": 4}, \"type\": \"SArray\", \"view_components\": [\"Images\"]}}, e);\n",
       "                });\n",
       "            })();\n",
       "        "
      ]
     },
     "metadata": {},
     "output_type": "display_data"
    }
   ],
   "source": [
    "def reveal_my_twin(x):\n",
    "    return gl_img.filter_by(x['reference_label'],'id')\n",
    "spirit_animal = reveal_my_twin(knn_model.query(me_test))\n",
    "spirit_animal['image'].show()"
   ]
  },
  {
   "cell_type": "code",
   "execution_count": 129,
   "metadata": {
    "collapsed": false
   },
   "outputs": [
    {
     "data": {
      "application/javascript": [
       "$(\"head\").append($(\"<link/>\").attr({\n",
       "  rel:  \"stylesheet\",\n",
       "  type: \"text/css\",\n",
       "  href: \"//cdnjs.cloudflare.com/ajax/libs/font-awesome/4.1.0/css/font-awesome.min.css\"\n",
       "}));\n",
       "$(\"head\").append($(\"<link/>\").attr({\n",
       "  rel:  \"stylesheet\",\n",
       "  type: \"text/css\",\n",
       "  href: \"https://static.turi.com/products/graphlab-create/2.1/canvas/css/canvas.css\"\n",
       "}));\n",
       "\n",
       "            (function(){\n",
       "\n",
       "                var e = null;\n",
       "                if (typeof element == 'undefined') {\n",
       "                    var scripts = document.getElementsByTagName('script');\n",
       "                    var thisScriptTag = scripts[scripts.length-1];\n",
       "                    var parentDiv = thisScriptTag.parentNode;\n",
       "                    e = document.createElement('div');\n",
       "                    parentDiv.appendChild(e);\n",
       "                } else {\n",
       "                    e = element[0];\n",
       "                }\n",
       "\n",
       "                if (typeof requirejs !== 'undefined') {\n",
       "                    // disable load timeout; ipython_app.js is large and can take a while to load.\n",
       "                    requirejs.config({waitSeconds: 0});\n",
       "                }\n",
       "\n",
       "                require(['https://static.turi.com/products/graphlab-create/2.1/canvas/js/ipython_app.js'], function(IPythonApp){\n",
       "                    var app = new IPythonApp();\n",
       "                    app.attachView('sarray','Images', {\"ipython\": true, \"rows\": [{\"format\": \"png\", \"value\": \"image/png;base64,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\\n\", \"height\": 96, \"channels\": 3, \"width\": 96, \"type\": \"image\", \"id\": 1769808392}], \"selected_variable\": {\"name\": [\"<SArray>\"], \"dtype\": \"Image\", \"view_component\": \"Images\", \"view_file\": \"sarray\", \"descriptives\": {\"rows\": 1}, \"type\": \"SArray\", \"view_components\": [\"Images\"]}}, e);\n",
       "                });\n",
       "            })();\n",
       "        "
      ]
     },
     "metadata": {},
     "output_type": "display_data"
    }
   ],
   "source": [
    "me_test = new_train[-1:]\n",
    "graphlab.image_analysis.resize(me_test['image'], 96,96).show()"
   ]
  },
  {
   "cell_type": "code",
   "execution_count": 130,
   "metadata": {
    "collapsed": false
   },
   "outputs": [
    {
     "data": {
      "text/html": [
       "<pre>Starting pairwise querying.</pre>"
      ],
      "text/plain": [
       "Starting pairwise querying."
      ]
     },
     "metadata": {},
     "output_type": "display_data"
    },
    {
     "data": {
      "text/html": [
       "<pre>+--------------+---------+-------------+--------------+</pre>"
      ],
      "text/plain": [
       "+--------------+---------+-------------+--------------+"
      ]
     },
     "metadata": {},
     "output_type": "display_data"
    },
    {
     "data": {
      "text/html": [
       "<pre>| Query points | # Pairs | % Complete. | Elapsed Time |</pre>"
      ],
      "text/plain": [
       "| Query points | # Pairs | % Complete. | Elapsed Time |"
      ]
     },
     "metadata": {},
     "output_type": "display_data"
    },
    {
     "data": {
      "text/html": [
       "<pre>+--------------+---------+-------------+--------------+</pre>"
      ],
      "text/plain": [
       "+--------------+---------+-------------+--------------+"
      ]
     },
     "metadata": {},
     "output_type": "display_data"
    },
    {
     "data": {
      "text/html": [
       "<pre>| 0            | 1       | 0.0498504   | 5ms          |</pre>"
      ],
      "text/plain": [
       "| 0            | 1       | 0.0498504   | 5ms          |"
      ]
     },
     "metadata": {},
     "output_type": "display_data"
    },
    {
     "data": {
      "text/html": [
       "<pre>| Done         |         | 100         | 107.5ms      |</pre>"
      ],
      "text/plain": [
       "| Done         |         | 100         | 107.5ms      |"
      ]
     },
     "metadata": {},
     "output_type": "display_data"
    },
    {
     "data": {
      "text/html": [
       "<pre>+--------------+---------+-------------+--------------+</pre>"
      ],
      "text/plain": [
       "+--------------+---------+-------------+--------------+"
      ]
     },
     "metadata": {},
     "output_type": "display_data"
    },
    {
     "data": {
      "text/html": [
       "<div style=\"max-height:1000px;max-width:1500px;overflow:auto;\"><table frame=\"box\" rules=\"cols\">\n",
       "    <tr>\n",
       "        <th style=\"padding-left: 1em; padding-right: 1em; text-align: center\">query_label</th>\n",
       "        <th style=\"padding-left: 1em; padding-right: 1em; text-align: center\">reference_label</th>\n",
       "        <th style=\"padding-left: 1em; padding-right: 1em; text-align: center\">distance</th>\n",
       "        <th style=\"padding-left: 1em; padding-right: 1em; text-align: center\">rank</th>\n",
       "    </tr>\n",
       "    <tr>\n",
       "        <td style=\"padding-left: 1em; padding-right: 1em; text-align: center; vertical-align: top\">0</td>\n",
       "        <td style=\"padding-left: 1em; padding-right: 1em; text-align: center; vertical-align: top\">50000</td>\n",
       "        <td style=\"padding-left: 1em; padding-right: 1em; text-align: center; vertical-align: top\">0.0</td>\n",
       "        <td style=\"padding-left: 1em; padding-right: 1em; text-align: center; vertical-align: top\">1</td>\n",
       "    </tr>\n",
       "    <tr>\n",
       "        <td style=\"padding-left: 1em; padding-right: 1em; text-align: center; vertical-align: top\">0</td>\n",
       "        <td style=\"padding-left: 1em; padding-right: 1em; text-align: center; vertical-align: top\">367</td>\n",
       "        <td style=\"padding-left: 1em; padding-right: 1em; text-align: center; vertical-align: top\">47.1597323502</td>\n",
       "        <td style=\"padding-left: 1em; padding-right: 1em; text-align: center; vertical-align: top\">2</td>\n",
       "    </tr>\n",
       "    <tr>\n",
       "        <td style=\"padding-left: 1em; padding-right: 1em; text-align: center; vertical-align: top\">0</td>\n",
       "        <td style=\"padding-left: 1em; padding-right: 1em; text-align: center; vertical-align: top\">44997</td>\n",
       "        <td style=\"padding-left: 1em; padding-right: 1em; text-align: center; vertical-align: top\">47.6493994475</td>\n",
       "        <td style=\"padding-left: 1em; padding-right: 1em; text-align: center; vertical-align: top\">3</td>\n",
       "    </tr>\n",
       "    <tr>\n",
       "        <td style=\"padding-left: 1em; padding-right: 1em; text-align: center; vertical-align: top\">0</td>\n",
       "        <td style=\"padding-left: 1em; padding-right: 1em; text-align: center; vertical-align: top\">45933</td>\n",
       "        <td style=\"padding-left: 1em; padding-right: 1em; text-align: center; vertical-align: top\">47.7891111506</td>\n",
       "        <td style=\"padding-left: 1em; padding-right: 1em; text-align: center; vertical-align: top\">4</td>\n",
       "    </tr>\n",
       "    <tr>\n",
       "        <td style=\"padding-left: 1em; padding-right: 1em; text-align: center; vertical-align: top\">0</td>\n",
       "        <td style=\"padding-left: 1em; padding-right: 1em; text-align: center; vertical-align: top\">41527</td>\n",
       "        <td style=\"padding-left: 1em; padding-right: 1em; text-align: center; vertical-align: top\">48.4181412343</td>\n",
       "        <td style=\"padding-left: 1em; padding-right: 1em; text-align: center; vertical-align: top\">5</td>\n",
       "    </tr>\n",
       "</table>\n",
       "[5 rows x 4 columns]<br/>\n",
       "</div>"
      ],
      "text/plain": [
       "Columns:\n",
       "\tquery_label\tint\n",
       "\treference_label\tint\n",
       "\tdistance\tfloat\n",
       "\trank\tint\n",
       "\n",
       "Rows: 5\n",
       "\n",
       "Data:\n",
       "+-------------+-----------------+---------------+------+\n",
       "| query_label | reference_label |    distance   | rank |\n",
       "+-------------+-----------------+---------------+------+\n",
       "|      0      |      50000      |      0.0      |  1   |\n",
       "|      0      |       367       | 47.1597323502 |  2   |\n",
       "|      0      |      44997      | 47.6493994475 |  3   |\n",
       "|      0      |      45933      | 47.7891111506 |  4   |\n",
       "|      0      |      41527      | 48.4181412343 |  5   |\n",
       "+-------------+-----------------+---------------+------+\n",
       "[5 rows x 4 columns]"
      ]
     },
     "execution_count": 130,
     "metadata": {},
     "output_type": "execute_result"
    }
   ],
   "source": [
    "sim_frame = knn_model.query(me_test)\n",
    "sim_frame"
   ]
  },
  {
   "cell_type": "code",
   "execution_count": 131,
   "metadata": {
    "collapsed": false
   },
   "outputs": [
    {
     "data": {
      "text/html": [
       "<pre>Starting pairwise querying.</pre>"
      ],
      "text/plain": [
       "Starting pairwise querying."
      ]
     },
     "metadata": {},
     "output_type": "display_data"
    },
    {
     "data": {
      "text/html": [
       "<pre>+--------------+---------+-------------+--------------+</pre>"
      ],
      "text/plain": [
       "+--------------+---------+-------------+--------------+"
      ]
     },
     "metadata": {},
     "output_type": "display_data"
    },
    {
     "data": {
      "text/html": [
       "<pre>| Query points | # Pairs | % Complete. | Elapsed Time |</pre>"
      ],
      "text/plain": [
       "| Query points | # Pairs | % Complete. | Elapsed Time |"
      ]
     },
     "metadata": {},
     "output_type": "display_data"
    },
    {
     "data": {
      "text/html": [
       "<pre>+--------------+---------+-------------+--------------+</pre>"
      ],
      "text/plain": [
       "+--------------+---------+-------------+--------------+"
      ]
     },
     "metadata": {},
     "output_type": "display_data"
    },
    {
     "data": {
      "text/html": [
       "<pre>| 0            | 1       | 0.0498504   | 5ms          |</pre>"
      ],
      "text/plain": [
       "| 0            | 1       | 0.0498504   | 5ms          |"
      ]
     },
     "metadata": {},
     "output_type": "display_data"
    },
    {
     "data": {
      "text/html": [
       "<pre>| Done         |         | 100         | 110ms        |</pre>"
      ],
      "text/plain": [
       "| Done         |         | 100         | 110ms        |"
      ]
     },
     "metadata": {},
     "output_type": "display_data"
    },
    {
     "data": {
      "text/html": [
       "<pre>+--------------+---------+-------------+--------------+</pre>"
      ],
      "text/plain": [
       "+--------------+---------+-------------+--------------+"
      ]
     },
     "metadata": {},
     "output_type": "display_data"
    },
    {
     "data": {
      "application/javascript": [
       "$(\"head\").append($(\"<link/>\").attr({\n",
       "  rel:  \"stylesheet\",\n",
       "  type: \"text/css\",\n",
       "  href: \"//cdnjs.cloudflare.com/ajax/libs/font-awesome/4.1.0/css/font-awesome.min.css\"\n",
       "}));\n",
       "$(\"head\").append($(\"<link/>\").attr({\n",
       "  rel:  \"stylesheet\",\n",
       "  type: \"text/css\",\n",
       "  href: \"https://static.turi.com/products/graphlab-create/2.1/canvas/css/canvas.css\"\n",
       "}));\n",
       "\n",
       "            (function(){\n",
       "\n",
       "                var e = null;\n",
       "                if (typeof element == 'undefined') {\n",
       "                    var scripts = document.getElementsByTagName('script');\n",
       "                    var thisScriptTag = scripts[scripts.length-1];\n",
       "                    var parentDiv = thisScriptTag.parentNode;\n",
       "                    e = document.createElement('div');\n",
       "                    parentDiv.appendChild(e);\n",
       "                } else {\n",
       "                    e = element[0];\n",
       "                }\n",
       "\n",
       "                if (typeof requirejs !== 'undefined') {\n",
       "                    // disable load timeout; ipython_app.js is large and can take a while to load.\n",
       "                    requirejs.config({waitSeconds: 0});\n",
       "                }\n",
       "\n",
       "                require(['https://static.turi.com/products/graphlab-create/2.1/canvas/js/ipython_app.js'], function(IPythonApp){\n",
       "                    var app = new IPythonApp();\n",
       "                    app.attachView('sarray','Images', {\"ipython\": true, \"rows\": [{\"format\": \"raw\", \"value\": [168, 151, 143, 145, 130, 124, 134, 134, 136, 178, 173, 170, 189, 191, 193, 186, 192, 196, 215, 221, 212, 231, 244, 226, 214, 229, 236, 184, 202, 213, 230, 223, 224, 229, 219, 221, 226, 239, 240, 234, 242, 242, 200, 188, 198, 155, 136, 136, 243, 251, 197, 230, 237, 199, 214, 221, 182, 211, 220, 143, 199, 199, 106, 195, 192, 82, 197, 186, 87, 206, 193, 56, 176, 196, 86, 161, 181, 152, 206, 207, 180, 223, 228, 207, 173, 183, 177, 222, 222, 189, 239, 239, 169, 229, 241, 92, 179, 159, 149, 154, 138, 132, 141, 142, 145, 189, 185, 181, 183, 185, 187, 209, 212, 217, 194, 190, 188, 226, 231, 222, 230, 246, 248, 223, 233, 235, 244, 244, 232, 238, 236, 223, 249, 253, 248, 201, 195, 196, 68, 41, 58, 160, 134, 140, 236, 246, 201, 214, 221, 205, 203, 212, 187, 209, 221, 142, 206, 207, 110, 195, 195, 70, 207, 200, 77, 202, 190, 80, 175, 186, 139, 174, 183, 186, 222, 222, 179, 217, 225, 186, 186, 197, 185, 223, 222, 196, 228, 227, 158, 229, 240, 99, 177, 154, 141, 152, 135, 129, 152, 154, 158, 206, 201, 197, 183, 186, 187, 202, 200, 206, 93, 64, 75, 112, 100, 99, 229, 233, 232, 255, 249, 253, 248, 255, 244, 241, 255, 239, 218, 205, 207, 70, 57, 62, 98, 66, 85, 213, 193, 194, 214, 227, 197, 191, 201, 197, 193, 206, 187, 212, 225, 157, 204, 204, 112, 187, 189, 47, 218, 217, 56, 212, 210, 71, 186, 197, 167, 196, 206, 181, 236, 241, 144, 207, 216, 167, 221, 233, 212, 229, 229, 198, 222, 222, 145, 234, 241, 124, 164, 139, 124, 151, 134, 128, 166, 169, 174, 208, 203, 199, 201, 204, 205, 159, 153, 162, 89, 35, 57, 61, 26, 35, 155, 142, 143, 231, 224, 230, 202, 187, 188, 169, 153, 152, 80, 67, 76, 65, 56, 67, 165, 136, 155, 200, 194, 185, 197, 213, 201, 186, 198, 196, 187, 203, 182, 201, 213, 162, 208, 206, 122, 198, 202, 48, 231, 236, 45, 217, 224, 57, 192, 209, 148, 207, 214, 187, 236, 236, 152, 206, 217, 162, 237, 249, 223, 244, 243, 205, 223, 226, 135, 239, 242, 154, 173, 132, 123, 163, 138, 135, 170, 171, 181, 172, 177, 179, 197, 199, 205, 131, 111, 120, 114, 62, 86, 116, 73, 93, 66, 49, 58, 97, 71, 77, 131, 68, 80, 120, 73, 79, 71, 49, 55, 164, 147, 156, 188, 158, 174, 222, 216, 187, 206, 214, 196, 180, 191, 182, 171, 186, 176, 176, 198, 153, 186, 201, 110, 200, 201, 43, 230, 229, 24, 221, 224, 94, 183, 205, 150, 203, 215, 209, 238, 234, 186, 228, 226, 177, 246, 252, 212, 241, 251, 206, 225, 242, 161, 248, 246, 182, 156, 109, 102, 172, 145, 145, 179, 184, 200, 158, 173, 181, 192, 191, 202, 118, 87, 98, 115, 71, 94, 104, 66, 88, 57, 40, 55, 58, 19, 26, 104, 55, 59, 125, 85, 86, 170, 109, 122, 179, 151, 159, 165, 131, 147, 213, 204, 165, 225, 233, 183, 184, 196, 165, 168, 182, 176, 169, 198, 150, 175, 204, 77, 208, 211, 27, 241, 236, 32, 227, 221, 115, 177, 195, 140, 201, 216, 168, 217, 224, 147, 213, 217, 172, 245, 247, 206, 243, 246, 198, 233, 234, 180, 246, 234, 166, 154, 111, 102, 163, 144, 145, 159, 173, 197, 147, 167, 182, 201, 199, 213, 114, 82, 98, 105, 67, 92, 105, 74, 97, 106, 87, 106, 137, 104, 114, 90, 56, 60, 97, 65, 68, 154, 93, 111, 103, 74, 83, 57, 27, 40, 170, 161, 125, 228, 242, 154, 193, 211, 149, 179, 195, 175, 171, 196, 165, 179, 200, 108, 217, 214, 72, 245, 237, 52, 236, 232, 69, 180, 193, 105, 198, 204, 141, 192, 200, 118, 173, 192, 141, 211, 216, 183, 217, 220, 161, 204, 204, 144, 229, 224, 130, 159, 119, 108, 166, 156, 158, 114, 134, 171, 120, 143, 171, 207, 210, 225, 114, 87, 105, 153, 124, 151, 180, 158, 182, 176, 155, 179, 190, 165, 177, 143, 86, 102, 89, 52, 61, 79, 66, 71, 86, 59, 67, 45, 12, 27, 144, 135, 98, 212, 230, 123, 195, 214, 141, 183, 203, 165, 169, 194, 166, 188, 205, 140, 224, 218, 93, 237, 235, 18, 231, 232, 42, 165, 179, 88, 174, 185, 100, 190, 192, 103, 173, 184, 127, 185, 199, 159, 188, 213, 146, 194, 221, 138, 229, 236, 145, 180, 142, 126, 172, 170, 171, 127, 147, 195, 137, 157, 195, 196, 205, 221, 137, 119, 140, 196, 175, 202, 170, 156, 182, 168, 146, 175, 184, 163, 178, 118, 74, 89, 94, 64, 75, 73, 56, 66, 86, 59, 67, 48, 15, 31, 124, 116, 77, 215, 233, 132, 199, 216, 154, 174, 196, 141, 157, 180, 154, 182, 204, 114, 226, 234, 32, 234, 234, 8, 221, 223, 66, 158, 177, 110, 183, 207, 91, 210, 237, 124, 189, 226, 140, 185, 209, 151, 174, 187, 141, 167, 161, 116, 173, 152, 115, 170, 141, 132, 142, 149, 163, 136, 155, 210, 160, 177, 224, 186, 196, 213, 139, 125, 142, 135, 112, 145, 139, 121, 152, 170, 143, 176, 152, 127, 148, 70, 52, 62, 66, 53, 61, 83, 50, 66, 91, 58, 67, 98, 67, 82, 170, 161, 129, 240, 249, 173, 207, 223, 166, 168, 196, 128, 167, 195, 170, 191, 211, 115, 238, 244, 22, 247, 242, 74, 231, 245, 86, 163, 194, 137, 165, 195, 134, 186, 159, 106, 148, 111, 73, 185, 103, 72, 172, 54, 52, 108, 22, 21, 81, 19, 27, 174, 158, 165, 117, 135, 172, 116, 134, 192, 122, 139, 193, 189, 196, 209, 159, 139, 150, 166, 133, 175, 171, 139, 176, 182, 151, 182, 141, 112, 139, 158, 138, 152, 53, 44, 54, 55, 39, 51, 96, 56, 65, 145, 128, 138, 194, 183, 165, 248, 242, 189, 220, 222, 167, 183, 197, 153, 182, 201, 172, 199, 212, 100, 240, 235, 65, 235, 229, 105, 197, 180, 86, 102, 80, 64, 82, 45, 57, 116, 23, 34, 122, 44, 52, 189, 62, 46, 199, 39, 39, 121, 30, 35, 141, 59, 62, 198, 183, 192, 111, 130, 165, 105, 122, 179, 96, 113, 167, 202, 209, 220, 213, 193, 204, 143, 112, 145, 163, 133, 158, 140, 111, 129, 162, 145, 152, 203, 191, 192, 119, 95, 101, 85, 47, 57, 108, 70, 75, 61, 65, 64, 180, 168, 154, 167, 143, 112, 140, 116, 98, 118, 90, 100, 84, 58, 85, 104, 88, 79, 107, 85, 70, 101, 62, 58, 111, 44, 67, 78, 12, 22, 116, 18, 32, 128, 60, 61, 203, 109, 83, 168, 52, 46, 163, 45, 59, 118, 70, 97, 180, 105, 106, 170, 159, 170, 145, 164, 199, 120, 135, 191, 105, 122, 177, 184, 192, 207, 184, 164, 173, 149, 118, 144, 135, 105, 127, 131, 103, 119, 88, 77, 69, 87, 73, 57, 154, 117, 109, 129, 71, 68, 100, 57, 59, 83, 89, 84, 193, 173, 168, 73, 45, 58, 86, 59, 80, 116, 81, 106, 92, 52, 70, 78, 47, 62, 74, 39, 82, 102, 38, 58, 114, 37, 51, 57, 36, 42, 119, 52, 60, 140, 95, 83, 165, 83, 59, 95, 17, 29, 121, 47, 72, 151, 82, 100, 154, 106, 138, 151, 142, 156, 166, 185, 220, 120, 134, 188, 114, 131, 186, 182, 189, 204, 176, 157, 165, 180, 150, 173, 125, 95, 123, 109, 77, 111, 75, 61, 73, 90, 68, 72, 120, 69, 72, 125, 54, 52, 127, 70, 72, 180, 158, 159, 156, 122, 128, 93, 66, 95, 104, 80, 109, 99, 68, 84, 94, 61, 70, 86, 50, 77, 113, 59, 94, 140, 56, 59, 169, 56, 34, 102, 38, 47, 138, 63, 76, 144, 68, 66, 88, 36, 32, 61, 18, 19, 118, 74, 90, 144, 78, 96, 90, 67, 107, 178, 172, 188, 142, 160, 198, 111, 125, 179, 105, 123, 176, 188, 195, 209, 187, 168, 173, 178, 150, 171, 144, 110, 148, 112, 78, 130, 111, 88, 135, 135, 102, 149, 151, 91, 126, 134, 59, 70, 164, 95, 100, 169, 119, 130, 117, 69, 84, 180, 147, 158, 134, 103, 117, 90, 52, 71, 108, 76, 92, 104, 72, 85, 153, 84, 72, 183, 95, 60, 182, 67, 48, 164, 34, 40, 159, 84, 82, 132, 42, 50, 97, 52, 62, 126, 89, 70, 157, 122, 125, 91, 69, 106, 49, 27, 40, 185, 187, 204, 138, 154, 202, 115, 139, 188, 132, 156, 197, 193, 195, 209, 193, 171, 162, 189, 171, 180, 206, 180, 203, 159, 134, 177, 114, 84, 131, 119, 84, 139, 118, 75, 111, 127, 72, 71, 148, 100, 101, 223, 199, 211, 176, 144, 155, 164, 132, 148, 121, 91, 108, 75, 45, 58, 78, 53, 55, 75, 43, 37, 204, 125, 88, 196, 106, 69, 184, 57, 48, 187, 56, 33, 157, 75, 58, 111, 26, 43, 133, 76, 82, 146, 101, 112, 140, 104, 128, 111, 79, 98, 80, 51, 61, 185, 188, 206, 142, 159, 204, 109, 134, 181, 124, 148, 188, 200, 206, 221, 245, 223, 216, 218, 198, 205, 218, 229, 234, 216, 200, 229, 149, 111, 166, 134, 103, 153, 109, 75, 106, 100, 50, 60, 98, 58, 48, 221, 223, 220, 160, 151, 153, 128, 100, 118, 107, 79, 97, 71, 44, 54, 52, 30, 38, 121, 70, 54, 227, 147, 102, 191, 91, 68, 215, 58, 45, 211, 96, 54, 181, 60, 48, 130, 52, 64, 154, 117, 114, 103, 67, 83, 118, 84, 110, 114, 80, 94, 147, 122, 133, 198, 200, 220, 155, 172, 213, 132, 156, 198, 153, 178, 217, 202, 213, 232, 239, 227, 226, 223, 214, 217, 164, 163, 170, 198, 189, 204, 197, 172, 213, 168, 143, 168, 203, 183, 191, 173, 126, 136, 178, 108, 99, 231, 219, 218, 150, 115, 127, 118, 82, 103, 65, 38, 55, 60, 33, 42, 55, 31, 45, 159, 84, 59, 221, 133, 85, 191, 76, 65, 210, 56, 30, 224, 86, 43, 213, 56, 52, 152, 101, 102, 158, 125, 122, 98, 54, 75, 92, 37, 68, 140, 69, 95, 112, 85, 96, 210, 212, 233, 172, 190, 226, 149, 172, 210, 156, 180, 220, 176, 192, 216, 229, 230, 232, 229, 223, 220, 202, 161, 172, 205, 190, 193, 189, 180, 191, 198, 180, 179, 224, 215, 202, 223, 207, 198, 224, 193, 181, 175, 177, 179, 123, 106, 119, 81, 51, 71, 58, 30, 47, 55, 28, 38, 63, 29, 34, 195, 106, 80, 211, 102, 64, 188, 56, 47, 198, 70, 33, 215, 56, 22, 187, 53, 50, 119, 94, 90, 106, 62, 63, 115, 57, 86, 120, 58, 90, 65, 33, 45, 23, 13, 18, 208, 210, 232, 177, 196, 228, 149, 171, 206, 138, 163, 204, 155, 176, 205, 223, 224, 232, 238, 212, 215, 200, 166, 169, 222, 192, 190, 206, 190, 191, 204, 190, 196, 204, 199, 197, 233, 240, 228, 175, 170, 169, 84, 73, 91, 116, 94, 115, 110, 81, 102, 80, 51, 69, 51, 26, 38, 115, 73, 65, 209, 119, 99, 208, 82, 58, 207, 55, 43, 211, 87, 56, 215, 85, 50, 139, 76, 63, 80, 52, 57, 111, 73, 71, 115, 65, 94, 108, 60, 86, 17, 12, 15, 12, 14, 15, 202, 211, 221, 176, 200, 226, 150, 177, 213, 172, 199, 234, 158, 172, 200, 173, 170, 172, 225, 191, 190, 238, 217, 213, 224, 199, 200, 238, 216, 218, 206, 175, 179, 194, 163, 170, 172, 160, 167, 78, 60, 74, 66, 41, 62, 83, 54, 76, 93, 72, 93, 74, 44, 56, 43, 12, 24, 154, 74, 50, 212, 84, 70, 195, 47, 36, 208, 59, 42, 225, 106, 75, 227, 160, 125, 119, 75, 78, 72, 36, 35, 80, 50, 54, 87, 64, 82, 51, 22, 37, 34, 17, 27, 48, 28, 36, 206, 218, 223, 169, 197, 222, 163, 193, 226, 186, 212, 236, 164, 176, 194, 171, 173, 166, 234, 209, 204, 234, 211, 208, 213, 191, 191, 168, 138, 141, 128, 76, 79, 124, 68, 79, 136, 103, 122, 83, 66, 82, 73, 57, 72, 74, 58, 74, 47, 38, 60, 78, 49, 60, 74, 35, 46, 180, 80, 53, 223, 93, 53, 202, 64, 45, 214, 93, 58, 228, 116, 75, 172, 116, 92, 117, 66, 79, 79, 48, 38, 68, 31, 42, 97, 60, 82, 20, 12, 16, 33, 20, 30, 46, 25, 33, 197, 207, 217, 171, 197, 227, 183, 210, 238, 187, 212, 221, 174, 190, 197, 180, 189, 180, 189, 174, 174, 198, 172, 172, 114, 77, 75, 78, 37, 40, 87, 40, 50, 186, 135, 152, 176, 144, 162, 95, 78, 94, 67, 49, 65, 94, 75, 92, 51, 46, 71, 64, 38, 52, 86, 43, 50, 200, 108, 79, 217, 121, 69, 211, 104, 73, 217, 128, 75, 217, 106, 63, 126, 52, 42, 114, 75, 81, 104, 64, 60, 105, 62, 73, 69, 31, 51, 13, 10, 13, 22, 7, 16, 18, 11, 14, 175, 185, 199, 167, 192, 227, 182, 205, 235, 191, 212, 216, 188, 206, 211, 173, 190, 185, 162, 155, 152, 161, 131, 132, 110, 68, 67, 69, 38, 38, 82, 55, 64, 191, 160, 177, 127, 107, 122, 85, 67, 83, 72, 54, 70, 102, 84, 101, 82, 76, 102, 54, 28, 42, 86, 43, 51, 202, 114, 80, 174, 82, 61, 192, 94, 65, 215, 136, 81, 232, 129, 92, 144, 77, 77, 88, 60, 62, 146, 93, 98, 136, 99, 109, 33, 29, 39, 31, 12, 21, 40, 16, 29, 31, 18, 24, 175, 184, 203, 150, 177, 214, 167, 186, 221, 184, 199, 211, 182, 200, 216, 169, 188, 197, 203, 199, 189, 206, 179, 180, 137, 95, 100, 77, 46, 48, 102, 77, 90, 151, 120, 144, 85, 63, 80, 66, 49, 65, 76, 58, 75, 68, 51, 68, 71, 62, 83, 86, 57, 69, 86, 48, 59, 210, 123, 97, 190, 82, 66, 198, 84, 58, 220, 125, 65, 226, 137, 89, 130, 91, 92, 63, 43, 42, 80, 49, 49, 95, 61, 69, 38, 26, 40, 39, 18, 27, 47, 19, 34, 44, 12, 24, 174, 182, 199, 144, 160, 209, 161, 178, 223, 192, 214, 225, 195, 217, 228, 200, 218, 225, 208, 197, 185, 223, 193, 191, 157, 122, 131, 109, 76, 87, 93, 61, 79, 141, 107, 130, 119, 91, 109, 116, 94, 107, 118, 96, 110, 80, 57, 72, 88, 71, 88, 122, 91, 102, 89, 47, 55, 192, 101, 86, 206, 103, 61, 197, 88, 54, 221, 122, 69, 185, 119, 82, 94, 66, 67, 73, 48, 47, 77, 56, 55, 76, 42, 52, 73, 44, 60, 39, 20, 28, 50, 20, 33, 62, 15, 32, 183, 183, 195, 134, 153, 205, 149, 172, 212, 164, 184, 191, 158, 172, 167, 153, 155, 152, 127, 104, 101, 155, 122, 121, 126, 97, 110, 82, 58, 74, 71, 47, 61, 122, 99, 113, 163, 138, 151, 186, 157, 167, 131, 101, 111, 118, 87, 97, 133, 103, 121, 111, 81, 92, 138, 86, 90, 181, 94, 76, 227, 128, 72, 223, 108, 65, 212, 116, 77, 133, 83, 79, 104, 66, 68, 105, 65, 66, 123, 80, 88, 76, 43, 55, 41, 21, 28, 37, 15, 22, 24, 17, 22, 48, 24, 33, 164, 158, 175, 99, 102, 140, 95, 91, 119, 67, 55, 68, 68, 52, 64, 60, 40, 54, 86, 58, 69, 108, 75, 88, 89, 58, 79, 102, 77, 94, 72, 48, 62, 121, 99, 111, 144, 118, 131, 204, 175, 185, 140, 111, 121, 105, 75, 85, 124, 93, 110, 134, 105, 117, 135, 86, 94, 123, 60, 53, 170, 82, 62, 175, 67, 61, 151, 72, 62, 120, 81, 80, 101, 62, 67, 108, 68, 73, 114, 79, 86, 88, 52, 65, 68, 33, 44, 33, 18, 24, 20, 20, 29, 28, 18, 22, 103, 93, 111, 124, 89, 119, 141, 110, 127, 97, 76, 88, 102, 81, 101, 118, 95, 118, 122, 91, 112, 97, 67, 88, 117, 87, 105, 105, 79, 94, 97, 74, 87, 135, 112, 125, 141, 116, 129, 196, 167, 177, 114, 84, 94, 152, 122, 132, 200, 168, 183, 171, 143, 156, 80, 38, 49, 102, 48, 63, 129, 74, 95, 72, 37, 58, 109, 49, 83, 100, 61, 73, 91, 51, 60, 115, 74, 83, 125, 93, 101, 91, 54, 67, 81, 40, 54, 26, 9, 17, 37, 10, 30, 42, 24, 32, 84, 56, 79, 143, 121, 132, 159, 135, 138, 124, 97, 113, 129, 108, 132, 179, 160, 180, 168, 136, 154, 124, 98, 114, 198, 169, 174, 119, 92, 100, 180, 156, 170, 177, 153, 166, 123, 97, 110, 190, 163, 173, 140, 109, 119, 131, 101, 111, 145, 111, 125, 98, 72, 85, 70, 36, 54, 133, 70, 89, 153, 91, 97, 79, 43, 47, 125, 53, 75, 83, 35, 51, 93, 53, 67, 95, 54, 68, 101, 63, 77, 80, 46, 57, 85, 55, 65, 49, 32, 38, 20, 14, 23, 36, 35, 37, 116, 90, 110, 152, 115, 127, 162, 128, 136, 144, 106, 126, 143, 115, 140, 146, 124, 139, 167, 137, 145, 148, 125, 132, 226, 199, 195, 143, 117, 125, 161, 137, 155, 163, 138, 155, 129, 104, 119, 107, 79, 90, 101, 72, 83, 138, 108, 121, 131, 98, 114, 93, 70, 84, 40, 11, 28, 89, 44, 64, 89, 55, 62, 97, 44, 63, 91, 54, 73, 77, 34, 51, 83, 42, 59, 73, 33, 49, 76, 32, 47, 70, 38, 49, 69, 51, 57, 102, 75, 84, 65, 48, 55, 85, 44, 58, 142, 141, 148, 144, 136, 143, 128, 132, 150, 145, 116, 118, 142, 124, 131, 122, 117, 116, 163, 150, 141, 124, 110, 112, 180, 164, 180, 124, 106, 128, 98, 69, 98, 119, 90, 113, 114, 100, 112, 73, 65, 64, 69, 55, 54, 106, 84, 100, 84, 71, 83, 79, 68, 88, 45, 24, 28, 66, 37, 42, 44, 33, 39, 85, 48, 63, 72, 38, 52, 77, 38, 48, 79, 37, 59, 81, 46, 61, 95, 55, 64, 56, 29, 38, 83, 57, 66, 131, 87, 102, 111, 69, 83, 107, 61, 77], \"height\": 32, \"channels\": 3, \"width\": 32, \"type\": \"image\", \"id\": 1769808224}, {\"format\": \"raw\", \"value\": [57, 122, 149, 85, 132, 146, 92, 142, 162, 12, 125, 171, 0, 138, 186, 2, 142, 185, 1, 146, 188, 1, 151, 192, 1, 153, 193, 1, 153, 191, 1, 152, 190, 1, 153, 191, 1, 152, 190, 4, 155, 193, 8, 155, 194, 8, 154, 193, 7, 153, 193, 8, 154, 193, 9, 154, 194, 8, 149, 193, 6, 149, 192, 6, 146, 191, 6, 141, 187, 8, 129, 180, 42, 120, 155, 182, 207, 194, 253, 244, 211, 251, 237, 212, 250, 239, 209, 246, 238, 214, 251, 244, 232, 252, 246, 229, 111, 145, 152, 209, 211, 190, 171, 189, 184, 20, 119, 165, 0, 130, 184, 1, 135, 182, 1, 138, 185, 1, 142, 188, 0, 142, 187, 0, 144, 186, 0, 145, 187, 1, 146, 188, 0, 145, 187, 1, 147, 189, 3, 146, 189, 3, 146, 190, 3, 146, 189, 3, 146, 189, 3, 144, 188, 2, 139, 186, 1, 138, 185, 1, 135, 183, 1, 129, 178, 2, 119, 175, 16, 98, 143, 148, 179, 170, 253, 247, 213, 250, 238, 204, 253, 242, 204, 253, 245, 220, 255, 246, 233, 255, 246, 227, 194, 198, 174, 230, 215, 169, 176, 187, 167, 27, 113, 157, 0, 116, 173, 1, 122, 174, 1, 123, 176, 2, 126, 178, 1, 128, 179, 1, 132, 179, 0, 133, 179, 1, 134, 181, 1, 135, 181, 2, 136, 183, 2, 134, 182, 2, 133, 182, 1, 132, 182, 1, 132, 181, 1, 130, 180, 1, 125, 177, 0, 124, 176, 1, 122, 175, 1, 116, 171, 4, 106, 164, 28, 90, 125, 143, 161, 141, 249, 241, 197, 243, 235, 194, 245, 240, 198, 249, 243, 217, 251, 242, 227, 250, 240, 217, 222, 208, 159, 218, 211, 158, 167, 192, 168, 28, 107, 148, 0, 100, 163, 3, 108, 168, 1, 109, 168, 1, 113, 171, 3, 119, 175, 4, 122, 176, 3, 123, 175, 4, 123, 176, 3, 123, 176, 4, 124, 177, 3, 122, 178, 3, 121, 178, 1, 119, 176, 1, 119, 176, 0, 116, 174, 2, 112, 170, 2, 111, 170, 3, 111, 170, 2, 105, 167, 13, 98, 155, 94, 127, 141, 179, 176, 135, 249, 234, 176, 242, 235, 187, 243, 241, 197, 248, 242, 215, 249, 239, 223, 248, 238, 210, 228, 207, 150, 216, 210, 152, 168, 195, 168, 36, 103, 145, 1, 85, 153, 6, 94, 161, 3, 99, 164, 2, 106, 168, 2, 111, 171, 5, 110, 169, 6, 110, 168, 4, 108, 167, 3, 107, 166, 5, 109, 168, 5, 109, 172, 3, 108, 171, 2, 105, 169, 1, 106, 169, 1, 104, 168, 2, 97, 162, 2, 96, 161, 4, 97, 163, 4, 92, 161, 15, 84, 144, 138, 157, 159, 221, 209, 156, 244, 225, 158, 240, 231, 178, 242, 239, 192, 245, 239, 213, 248, 239, 221, 250, 239, 207, 224, 203, 151, 221, 202, 138, 180, 192, 158, 46, 97, 142, 1, 70, 146, 6, 82, 154, 4, 90, 159, 2, 99, 164, 1, 102, 165, 3, 98, 162, 6, 98, 162, 3, 95, 160, 2, 94, 158, 4, 96, 161, 4, 96, 165, 3, 95, 165, 2, 94, 163, 2, 95, 163, 4, 94, 163, 6, 88, 158, 2, 85, 155, 3, 85, 154, 4, 80, 153, 8, 68, 133, 121, 145, 149, 223, 216, 163, 236, 217, 147, 235, 221, 162, 237, 228, 178, 237, 231, 203, 245, 236, 215, 247, 235, 200, 218, 201, 145, 219, 197, 136, 187, 188, 149, 54, 92, 135, 1, 57, 141, 6, 71, 149, 5, 78, 155, 3, 85, 160, 2, 89, 162, 2, 86, 156, 4, 83, 158, 4, 80, 155, 4, 79, 152, 5, 79, 158, 6, 81, 163, 4, 82, 158, 2, 84, 152, 6, 84, 154, 10, 81, 154, 8, 77, 152, 4, 73, 149, 3, 70, 139, 5, 65, 137, 4, 53, 126, 101, 126, 136, 213, 207, 154, 228, 207, 139, 228, 212, 145, 231, 218, 166, 229, 221, 188, 240, 227, 193, 243, 226, 180, 213, 198, 136, 208, 190, 132, 183, 182, 141, 60, 91, 130, 1, 49, 137, 6, 61, 143, 5, 66, 149, 4, 71, 154, 1, 72, 153, 0, 71, 147, 1, 67, 150, 4, 65, 149, 5, 65, 145, 7, 67, 151, 6, 66, 148, 3, 71, 148, 1, 75, 150, 5, 72, 151, 9, 68, 148, 8, 65, 148, 6, 61, 148, 5, 58, 135, 7, 52, 130, 3, 40, 123, 89, 110, 125, 205, 196, 143, 221, 196, 131, 225, 207, 134, 228, 215, 160, 231, 222, 182, 238, 223, 177, 237, 217, 163, 207, 191, 130, 203, 184, 126, 180, 178, 135, 64, 91, 127, 1, 42, 129, 5, 51, 136, 4, 55, 140, 3, 60, 145, 0, 59, 143, 2, 57, 141, 2, 56, 144, 2, 54, 144, 2, 54, 138, 16, 68, 143, 39, 86, 147, 9, 64, 136, 2, 63, 152, 1, 62, 154, 3, 60, 145, 6, 55, 140, 4, 51, 145, 6, 49, 137, 8, 43, 129, 5, 31, 119, 75, 93, 112, 193, 185, 134, 212, 188, 123, 220, 201, 128, 223, 207, 149, 230, 219, 172, 232, 216, 164, 230, 210, 152, 201, 184, 124, 197, 178, 120, 179, 175, 129, 64, 85, 116, 2, 34, 122, 9, 45, 133, 7, 47, 135, 5, 49, 137, 3, 48, 137, 6, 46, 136, 5, 47, 137, 5, 46, 141, 4, 46, 134, 64, 104, 165, 132, 163, 199, 32, 70, 131, 3, 50, 141, 3, 54, 148, 4, 53, 132, 19, 58, 130, 13, 50, 138, 5, 40, 129, 9, 34, 119, 9, 25, 111, 66, 80, 104, 185, 176, 129, 210, 186, 122, 212, 193, 119, 216, 198, 137, 226, 213, 159, 227, 210, 151, 226, 205, 143, 194, 176, 117, 189, 170, 112, 175, 169, 120, 69, 84, 109, 5, 30, 117, 11, 40, 128, 8, 38, 128, 5, 38, 129, 6, 40, 132, 8, 38, 131, 6, 40, 129, 7, 40, 137, 10, 41, 129, 99, 126, 173, 174, 190, 210, 68, 89, 134, 18, 50, 125, 12, 47, 123, 33, 65, 124, 96, 123, 171, 42, 71, 142, 3, 32, 114, 11, 30, 107, 11, 22, 100, 59, 67, 97, 178, 168, 126, 203, 181, 117, 203, 183, 108, 214, 193, 129, 222, 207, 148, 222, 204, 141, 220, 199, 135, 188, 170, 111, 181, 162, 104, 171, 163, 110, 75, 86, 105, 5, 26, 111, 8, 32, 121, 5, 30, 121, 3, 30, 122, 7, 34, 127, 8, 34, 126, 7, 38, 121, 5, 34, 130, 11, 33, 118, 99, 115, 149, 158, 163, 171, 77, 87, 112, 52, 70, 115, 40, 58, 100, 107, 120, 147, 171, 186, 210, 60, 83, 141, 2, 29, 107, 10, 30, 103, 11, 22, 95, 49, 55, 88, 167, 156, 117, 191, 169, 106, 193, 173, 97, 211, 187, 121, 216, 198, 137, 217, 197, 132, 216, 194, 130, 183, 164, 106, 174, 155, 97, 168, 158, 104, 79, 87, 103, 3, 21, 105, 4, 24, 114, 4, 25, 116, 4, 26, 119, 6, 29, 123, 6, 32, 121, 5, 36, 113, 2, 28, 120, 14, 30, 111, 83, 90, 116, 115, 114, 118, 98, 101, 111, 116, 124, 139, 64, 67, 77, 138, 136, 135, 166, 171, 180, 50, 67, 120, 2, 28, 108, 6, 27, 103, 7, 19, 94, 40, 45, 82, 153, 141, 105, 180, 159, 96, 187, 166, 89, 205, 179, 112, 209, 189, 126, 213, 191, 127, 213, 190, 128, 178, 157, 103, 167, 149, 91, 161, 153, 99, 86, 88, 102, 8, 19, 98, 6, 20, 110, 6, 21, 112, 6, 22, 113, 6, 23, 114, 6, 27, 113, 4, 26, 108, 1, 20, 112, 15, 28, 98, 52, 55, 74, 106, 109, 111, 173, 180, 185, 196, 203, 208, 99, 98, 98, 108, 102, 93, 157, 160, 162, 56, 69, 121, 1, 21, 105, 5, 22, 99, 5, 15, 87, 32, 37, 76, 136, 128, 95, 172, 150, 82, 181, 157, 80, 197, 171, 103, 202, 178, 114, 208, 184, 119, 209, 187, 127, 174, 152, 101, 161, 145, 86, 151, 145, 92, 90, 88, 98, 13, 17, 90, 9, 16, 105, 8, 17, 107, 7, 18, 107, 5, 18, 103, 4, 19, 102, 4, 15, 103, 3, 18, 108, 15, 31, 91, 58, 62, 78, 111, 117, 119, 159, 170, 174, 218, 228, 234, 120, 122, 126, 80, 78, 72, 162, 169, 168, 78, 90, 141, 0, 15, 99, 6, 18, 93, 7, 14, 81, 25, 31, 71, 122, 116, 87, 163, 142, 68, 174, 148, 72, 188, 163, 92, 194, 168, 102, 201, 175, 111, 206, 185, 126, 170, 147, 95, 157, 141, 80, 145, 139, 84, 95, 94, 94, 15, 20, 83, 7, 15, 97, 7, 15, 100, 7, 17, 100, 3, 15, 96, 2, 13, 95, 4, 13, 99, 4, 22, 107, 47, 69, 123, 126, 137, 149, 182, 188, 191, 185, 194, 199, 190, 200, 205, 87, 94, 96, 77, 81, 76, 148, 158, 160, 57, 70, 120, 2, 17, 96, 5, 16, 93, 5, 12, 83, 20, 25, 65, 114, 108, 81, 161, 138, 65, 170, 143, 67, 181, 155, 85, 187, 163, 96, 193, 170, 106, 202, 182, 124, 165, 143, 88, 152, 137, 75, 142, 137, 80, 100, 101, 89, 15, 21, 73, 6, 13, 88, 6, 14, 91, 3, 13, 90, 1, 13, 88, 3, 12, 92, 7, 15, 98, 2, 24, 102, 71, 101, 148, 183, 202, 209, 217, 223, 225, 216, 223, 227, 197, 206, 208, 185, 195, 194, 162, 173, 166, 144, 157, 162, 45, 57, 103, 4, 16, 84, 4, 12, 84, 5, 10, 83, 15, 20, 59, 104, 97, 70, 158, 134, 63, 164, 136, 61, 173, 147, 75, 182, 158, 90, 188, 166, 101, 196, 178, 120, 160, 138, 82, 145, 129, 69, 136, 129, 77, 101, 102, 85, 16, 22, 64, 2, 9, 76, 3, 11, 82, 2, 10, 83, 1, 11, 84, 6, 13, 91, 9, 17, 96, 5, 28, 99, 55, 88, 129, 175, 196, 201, 201, 211, 212, 184, 193, 193, 189, 199, 197, 209, 220, 216, 203, 216, 211, 179, 192, 198, 75, 86, 120, 5, 14, 62, 6, 12, 68, 9, 12, 78, 13, 16, 54, 95, 86, 61, 152, 126, 59, 158, 128, 54, 165, 139, 64, 175, 152, 79, 186, 163, 94, 191, 173, 113, 155, 134, 74, 138, 122, 64, 129, 121, 78, 103, 104, 87, 16, 22, 60, 2, 9, 72, 6, 13, 83, 8, 16, 88, 8, 18, 90, 10, 16, 93, 14, 21, 96, 4, 25, 91, 73, 103, 141, 183, 203, 207, 187, 201, 200, 173, 184, 182, 182, 191, 186, 196, 206, 201, 205, 217, 213, 191, 202, 206, 84, 92, 111, 39, 45, 68, 32, 34, 66, 10, 11, 61, 11, 12, 48, 87, 76, 53, 148, 120, 55, 155, 123, 49, 161, 133, 56, 171, 145, 67, 185, 159, 86, 189, 167, 104, 151, 130, 69, 134, 118, 64, 125, 116, 81, 102, 103, 89, 19, 24, 60, 3, 8, 71, 4, 11, 80, 6, 14, 87, 9, 17, 91, 10, 16, 92, 12, 18, 89, 0, 19, 81, 93, 118, 154, 206, 223, 227, 195, 213, 211, 193, 207, 202, 198, 206, 199, 204, 212, 206, 207, 217, 215, 201, 210, 211, 98, 103, 108, 85, 88, 88, 83, 82, 90, 13, 10, 45, 11, 11, 44, 78, 66, 45, 145, 116, 54, 154, 121, 48, 161, 132, 52, 170, 142, 59, 184, 155, 77, 190, 165, 99, 147, 127, 67, 131, 116, 65, 117, 111, 82, 97, 102, 91, 22, 28, 69, 6, 10, 78, 5, 10, 86, 2, 9, 87, 2, 11, 86, 6, 11, 86, 7, 12, 80, 1, 16, 75, 98, 117, 152, 208, 224, 225, 206, 224, 221, 210, 224, 221, 211, 220, 216, 210, 218, 216, 210, 219, 220, 211, 219, 220, 156, 162, 162, 146, 151, 145, 137, 138, 133, 30, 27, 42, 11, 6, 30, 66, 55, 35, 140, 115, 49, 151, 121, 39, 158, 130, 47, 169, 139, 58, 183, 152, 72, 191, 164, 94, 142, 125, 66, 122, 111, 62, 103, 103, 75, 83, 95, 84, 20, 28, 69, 6, 10, 80, 6, 12, 91, 4, 12, 91, 3, 12, 86, 6, 11, 79, 6, 11, 72, 0, 9, 64, 87, 102, 132, 193, 212, 208, 203, 217, 213, 207, 219, 219, 209, 220, 220, 210, 220, 222, 211, 221, 224, 212, 220, 222, 202, 211, 213, 206, 215, 213, 191, 196, 189, 94, 93, 91, 32, 27, 36, 52, 45, 29, 133, 112, 54, 151, 120, 45, 155, 126, 52, 165, 137, 58, 180, 150, 68, 189, 163, 90, 138, 121, 65, 112, 104, 57, 90, 93, 64, 74, 87, 77, 17, 26, 59, 5, 10, 70, 5, 12, 81, 4, 12, 82, 4, 13, 78, 6, 11, 70, 5, 10, 61, 0, 6, 53, 74, 88, 113, 184, 203, 195, 191, 205, 198, 190, 202, 199, 198, 210, 208, 206, 218, 218, 211, 221, 223, 212, 220, 222, 213, 223, 225, 216, 227, 227, 207, 213, 207, 167, 168, 161, 124, 128, 129, 66, 68, 58, 120, 101, 63, 153, 119, 64, 155, 124, 60, 158, 135, 53, 173, 146, 65, 185, 160, 89, 132, 115, 65, 105, 98, 56, 89, 94, 65, 82, 94, 88, 14, 24, 55, 4, 10, 62, 6, 11, 73, 4, 10, 74, 2, 9, 70, 4, 7, 62, 4, 8, 54, 0, 5, 49, 45, 56, 83, 164, 180, 178, 183, 197, 187, 174, 187, 179, 187, 199, 193, 202, 214, 210, 208, 219, 216, 209, 218, 217, 211, 221, 222, 218, 228, 228, 183, 188, 184, 101, 103, 95, 160, 166, 163, 127, 132, 125, 101, 89, 56, 144, 123, 61, 147, 130, 56, 156, 140, 64, 170, 147, 77, 181, 155, 94, 122, 105, 64, 94, 90, 56, 94, 101, 75, 71, 81, 83, 9, 17, 56, 5, 9, 63, 7, 10, 70, 5, 8, 71, 4, 6, 68, 4, 4, 60, 4, 6, 53, 2, 5, 52, 14, 19, 57, 117, 129, 138, 179, 193, 183, 171, 184, 174, 182, 195, 186, 198, 211, 204, 206, 217, 212, 208, 216, 213, 211, 221, 220, 219, 229, 230, 171, 177, 174, 58, 57, 49, 129, 124, 118, 183, 184, 179, 101, 96, 74, 107, 104, 57, 109, 111, 56, 125, 114, 65, 142, 120, 73, 174, 147, 100, 104, 87, 57, 71, 69, 46, 93, 101, 81, 41, 50, 62, 6, 10, 58, 5, 8, 64, 6, 7, 64, 6, 6, 63, 5, 4, 60, 5, 3, 53, 4, 4, 45, 5, 6, 50, 3, 6, 45, 57, 65, 81, 154, 166, 159, 161, 174, 163, 172, 185, 177, 197, 209, 203, 205, 216, 211, 202, 211, 206, 207, 218, 216, 216, 227, 227, 198, 204, 202, 136, 133, 125, 152, 144, 131, 208, 206, 204, 102, 97, 98, 22, 19, 22, 26, 29, 33, 40, 32, 18, 101, 82, 52, 175, 150, 104, 87, 70, 50, 48, 46, 33, 76, 85, 70, 25, 32, 54, 5, 8, 58, 8, 10, 61, 5, 6, 52, 6, 5, 48, 6, 3, 45, 5, 2, 38, 3, 3, 30, 5, 6, 36, 2, 5, 35, 37, 44, 56, 137, 150, 144, 156, 169, 161, 172, 184, 179, 194, 207, 203, 199, 210, 207, 196, 205, 199, 202, 213, 210, 214, 225, 225, 219, 224, 224, 211, 211, 205, 203, 204, 192, 206, 213, 201, 128, 126, 112, 34, 25, 25, 17, 13, 28, 26, 19, 24, 112, 97, 67, 179, 158, 99, 76, 63, 44, 28, 28, 25, 41, 50, 51, 15, 22, 50, 4, 7, 51, 5, 6, 46, 4, 4, 36, 5, 4, 29, 6, 2, 24, 5, 2, 19, 7, 6, 13, 8, 8, 15, 20, 22, 29, 95, 103, 101, 163, 176, 169, 152, 165, 159, 177, 190, 186, 189, 202, 199, 187, 199, 196, 192, 203, 196, 204, 215, 210, 213, 223, 222, 218, 223, 222, 214, 217, 214, 201, 210, 203, 196, 208, 188, 161, 161, 116, 118, 103, 49, 88, 73, 36, 57, 46, 28, 99, 82, 41, 179, 156, 83, 71, 64, 49, 14, 15, 28, 11, 17, 41, 10, 15, 42, 10, 13, 34, 8, 9, 23, 13, 11, 17, 23, 20, 17, 35, 30, 21, 40, 35, 20, 48, 44, 18, 51, 49, 19, 69, 70, 47, 141, 147, 134, 178, 190, 183, 153, 167, 160, 177, 190, 184, 181, 195, 189, 175, 190, 183, 184, 199, 191, 199, 212, 206, 203, 214, 209, 206, 213, 209, 200, 205, 200, 196, 202, 196, 198, 205, 189, 172, 170, 119, 165, 145, 56, 173, 146, 51, 146, 124, 47, 142, 118, 41, 188, 159, 72, 47, 37, 43, 18, 14, 31, 15, 15, 30, 41, 42, 41, 67, 68, 43, 68, 68, 33, 77, 74, 33, 96, 90, 43, 112, 105, 52, 112, 105, 43, 112, 106, 36, 116, 112, 50, 141, 140, 105, 172, 177, 168, 177, 187, 182, 155, 167, 160, 180, 192, 186, 173, 185, 178, 162, 175, 168, 177, 192, 185, 187, 201, 194, 189, 201, 194, 191, 200, 195, 193, 201, 193, 198, 205, 195, 199, 202, 193, 170, 166, 124, 162, 142, 49, 187, 159, 44, 188, 164, 53, 187, 162, 55, 192, 163, 59, 97, 86, 78, 82, 75, 56, 83, 78, 42, 119, 115, 59, 139, 135, 61, 143, 138, 56, 149, 142, 56, 160, 150, 60, 162, 150, 57, 156, 143, 40, 151, 140, 36, 153, 146, 63, 155, 153, 115, 145, 147, 146, 163, 170, 167, 170, 178, 173, 174, 181, 176, 148, 155, 151, 136, 145, 139, 160, 173, 165, 173, 186, 178, 180, 191, 184, 181, 191, 185, 184, 194, 183, 193, 201, 187, 172, 174, 168, 138, 132, 97, 160, 142, 50, 189, 164, 41, 196, 171, 49, 191, 166, 46, 191, 164, 46, 168, 159, 115, 157, 148, 87, 155, 144, 65, 162, 152, 62, 165, 156, 61, 168, 158, 62, 172, 159, 59, 173, 157, 54, 167, 149, 44, 168, 147, 39, 167, 150, 40, 158, 147, 58, 84, 79, 42, 31, 32, 33, 78, 80, 79, 112, 114, 111, 87, 89, 86, 69, 71, 68, 64, 67, 63, 79, 87, 80, 112, 121, 113, 139, 148, 140, 145, 154, 147, 153, 162, 150, 152, 158, 143, 94, 93, 88, 76, 66, 35, 155, 138, 45, 192, 168, 44, 196, 169, 47, 196, 169, 50, 194, 167, 49], \"height\": 32, \"channels\": 3, \"width\": 32, \"type\": \"image\", \"id\": 1769810576}, {\"format\": \"raw\", \"value\": [172, 173, 179, 142, 144, 149, 124, 128, 130, 107, 106, 109, 95, 93, 97, 72, 70, 73, 103, 102, 101, 117, 117, 115, 113, 114, 111, 108, 110, 105, 123, 122, 123, 127, 130, 132, 109, 114, 115, 187, 189, 190, 248, 246, 246, 234, 235, 235, 233, 234, 232, 220, 220, 220, 142, 146, 148, 133, 141, 142, 120, 126, 130, 81, 82, 87, 69, 62, 68, 122, 95, 101, 137, 105, 112, 88, 63, 68, 50, 42, 43, 43, 43, 43, 51, 53, 57, 53, 56, 60, 50, 56, 59, 60, 70, 79, 140, 137, 145, 102, 97, 103, 95, 92, 94, 138, 137, 139, 149, 150, 156, 127, 131, 138, 140, 145, 144, 121, 130, 125, 128, 138, 134, 126, 132, 128, 145, 152, 149, 139, 149, 147, 138, 148, 148, 210, 214, 215, 245, 244, 244, 229, 231, 230, 222, 224, 222, 208, 210, 209, 148, 148, 151, 125, 127, 128, 106, 107, 110, 118, 117, 119, 110, 104, 102, 183, 176, 174, 174, 159, 159, 85, 65, 64, 53, 52, 49, 74, 80, 75, 106, 116, 119, 93, 106, 111, 66, 73, 75, 45, 48, 47, 134, 131, 138, 116, 110, 114, 101, 96, 96, 145, 143, 146, 173, 175, 183, 173, 177, 186, 121, 123, 126, 98, 100, 98, 104, 110, 106, 91, 97, 91, 94, 97, 93, 111, 116, 113, 131, 134, 134, 164, 164, 166, 173, 176, 179, 155, 161, 166, 142, 148, 151, 176, 183, 185, 180, 189, 191, 136, 142, 143, 95, 95, 95, 85, 83, 81, 114, 109, 108, 176, 172, 172, 124, 118, 113, 76, 72, 67, 49, 53, 47, 68, 76, 69, 115, 130, 126, 104, 118, 114, 99, 110, 107, 91, 100, 97, 137, 137, 144, 135, 128, 132, 127, 122, 122, 165, 162, 167, 179, 182, 190, 173, 178, 187, 145, 148, 153, 128, 133, 134, 126, 133, 130, 115, 122, 120, 119, 124, 124, 134, 143, 146, 122, 123, 129, 112, 110, 119, 116, 127, 135, 114, 127, 135, 140, 153, 158, 171, 186, 188, 118, 137, 139, 59, 73, 72, 33, 39, 36, 16, 18, 15, 54, 55, 52, 140, 137, 138, 82, 88, 85, 63, 70, 68, 68, 74, 68, 60, 65, 57, 82, 92, 86, 93, 105, 98, 82, 90, 85, 90, 102, 100, 124, 122, 127, 142, 132, 137, 168, 166, 168, 187, 188, 191, 185, 185, 191, 177, 177, 183, 167, 169, 173, 152, 156, 158, 153, 156, 157, 151, 157, 159, 143, 153, 155, 122, 128, 133, 121, 122, 133, 146, 149, 163, 140, 154, 165, 159, 174, 179, 178, 191, 193, 116, 134, 136, 69, 91, 94, 52, 72, 74, 37, 45, 44, 20, 23, 21, 52, 54, 51, 140, 138, 140, 87, 93, 94, 42, 48, 46, 43, 49, 45, 71, 75, 69, 74, 81, 74, 80, 90, 85, 55, 61, 58, 80, 91, 91, 144, 138, 141, 152, 147, 151, 198, 197, 201, 193, 196, 199, 143, 148, 151, 126, 129, 131, 150, 150, 151, 187, 187, 188, 198, 199, 199, 173, 179, 182, 118, 125, 131, 130, 132, 142, 180, 181, 191, 195, 198, 208, 180, 186, 194, 181, 193, 196, 124, 138, 141, 77, 90, 93, 82, 97, 102, 88, 102, 115, 61, 67, 78, 38, 43, 45, 67, 70, 71, 141, 138, 137, 84, 92, 89, 48, 57, 53, 30, 36, 35, 57, 60, 57, 75, 77, 71, 35, 36, 34, 20, 23, 21, 42, 50, 48, 160, 162, 168, 145, 150, 155, 204, 203, 209, 189, 194, 199, 126, 139, 144, 91, 105, 109, 105, 111, 113, 193, 193, 194, 226, 226, 227, 198, 200, 203, 176, 178, 182, 211, 214, 219, 242, 242, 246, 240, 242, 244, 232, 237, 238, 207, 217, 218, 176, 188, 191, 162, 173, 177, 153, 160, 163, 144, 141, 145, 128, 116, 117, 90, 82, 80, 99, 97, 95, 136, 132, 132, 98, 99, 96, 114, 116, 115, 68, 73, 73, 36, 39, 37, 65, 66, 63, 26, 25, 25, 3, 3, 3, 59, 62, 62, 208, 210, 215, 209, 212, 215, 222, 221, 225, 225, 225, 227, 216, 217, 220, 204, 205, 209, 203, 203, 205, 225, 223, 222, 236, 233, 233, 236, 235, 236, 238, 236, 237, 243, 241, 241, 246, 245, 244, 242, 241, 239, 241, 239, 237, 241, 239, 237, 245, 244, 242, 243, 243, 241, 238, 235, 233, 235, 227, 224, 231, 220, 215, 211, 198, 194, 197, 182, 179, 149, 136, 135, 104, 100, 98, 99, 98, 92, 41, 42, 38, 24, 27, 25, 44, 46, 41, 48, 48, 45, 13, 14, 15, 138, 138, 137, 245, 241, 242, 243, 239, 242, 237, 235, 235, 235, 232, 230, 236, 231, 229, 238, 231, 229, 239, 233, 230, 238, 231, 227, 235, 227, 223, 230, 222, 218, 225, 215, 210, 220, 209, 204, 219, 208, 203, 215, 203, 199, 214, 200, 197, 214, 199, 195, 212, 199, 194, 213, 200, 195, 214, 203, 200, 220, 213, 210, 226, 224, 222, 224, 222, 220, 218, 212, 211, 189, 178, 171, 158, 149, 139, 140, 136, 129, 116, 113, 107, 97, 96, 91, 117, 118, 111, 137, 136, 130, 96, 97, 94, 127, 128, 123, 234, 228, 226, 235, 228, 228, 234, 229, 229, 232, 226, 228, 235, 229, 229, 239, 230, 227, 233, 222, 217, 224, 213, 208, 219, 206, 201, 216, 202, 195, 213, 199, 193, 211, 197, 191, 210, 196, 190, 208, 194, 189, 207, 193, 188, 206, 192, 187, 204, 192, 185, 202, 191, 184, 200, 189, 184, 200, 189, 185, 203, 193, 190, 208, 202, 199, 215, 213, 210, 197, 191, 185, 177, 167, 156, 175, 168, 159, 176, 170, 162, 172, 165, 157, 169, 166, 159, 174, 171, 164, 169, 167, 159, 154, 151, 144, 221, 213, 211, 221, 213, 211, 232, 224, 223, 240, 231, 231, 245, 234, 233, 235, 222, 218, 218, 205, 199, 212, 199, 195, 209, 196, 192, 210, 197, 193, 211, 198, 195, 211, 198, 194, 210, 197, 193, 210, 196, 191, 210, 196, 191, 209, 196, 191, 206, 192, 185, 204, 190, 184, 203, 187, 182, 200, 184, 178, 195, 181, 174, 194, 179, 171, 199, 187, 181, 199, 189, 182, 183, 170, 160, 175, 163, 151, 171, 161, 150, 168, 161, 151, 154, 149, 140, 156, 152, 142, 165, 163, 155, 172, 169, 163, 221, 213, 211, 228, 220, 218, 233, 224, 223, 235, 223, 221, 228, 213, 209, 209, 195, 191, 202, 189, 185, 206, 193, 191, 207, 195, 190, 210, 197, 193, 214, 199, 195, 213, 196, 191, 213, 195, 189, 213, 194, 188, 218, 204, 198, 222, 213, 208, 212, 197, 190, 208, 189, 182, 204, 184, 179, 198, 179, 172, 192, 174, 164, 190, 171, 160, 193, 176, 165, 189, 172, 161, 181, 162, 148, 171, 154, 139, 165, 153, 140, 159, 152, 141, 144, 139, 128, 143, 137, 127, 149, 147, 139, 132, 131, 125, 231, 222, 222, 232, 224, 222, 230, 220, 217, 223, 209, 206, 205, 191, 187, 192, 179, 174, 194, 178, 169, 213, 190, 171, 220, 194, 169, 214, 187, 172, 214, 187, 181, 213, 187, 181, 212, 188, 182, 211, 187, 182, 214, 194, 188, 223, 211, 206, 215, 201, 196, 205, 190, 185, 198, 186, 181, 196, 185, 179, 192, 175, 165, 185, 165, 153, 184, 167, 154, 178, 159, 146, 169, 149, 134, 158, 141, 126, 147, 135, 122, 137, 131, 120, 130, 125, 115, 128, 123, 113, 114, 110, 101, 75, 75, 69, 234, 228, 230, 212, 204, 202, 200, 188, 184, 187, 172, 173, 167, 155, 151, 178, 163, 156, 189, 163, 149, 206, 171, 147, 210, 175, 150, 209, 178, 165, 212, 186, 179, 212, 187, 181, 210, 187, 181, 208, 185, 177, 209, 188, 180, 215, 202, 196, 175, 167, 162, 124, 117, 111, 89, 86, 83, 92, 91, 88, 156, 144, 137, 180, 159, 146, 175, 155, 142, 167, 148, 133, 154, 135, 120, 143, 129, 115, 132, 119, 108, 120, 112, 102, 116, 112, 103, 112, 108, 100, 78, 73, 66, 55, 54, 49, 166, 163, 167, 129, 127, 128, 113, 109, 108, 106, 101, 99, 92, 89, 84, 127, 114, 106, 185, 156, 143, 188, 155, 139, 188, 158, 142, 197, 172, 160, 205, 180, 171, 204, 179, 170, 203, 180, 170, 204, 180, 170, 215, 193, 186, 184, 169, 162, 130, 119, 104, 126, 116, 98, 64, 59, 49, 6, 6, 5, 66, 62, 58, 159, 140, 127, 163, 144, 132, 156, 140, 126, 140, 123, 110, 130, 115, 105, 121, 108, 100, 106, 99, 89, 96, 93, 83, 93, 91, 81, 63, 56, 52, 72, 67, 64, 105, 103, 107, 113, 111, 113, 143, 137, 141, 154, 146, 149, 135, 129, 134, 104, 95, 89, 171, 143, 125, 175, 147, 127, 177, 150, 129, 190, 163, 146, 196, 170, 157, 196, 169, 157, 196, 169, 156, 205, 179, 169, 204, 181, 176, 141, 119, 103, 134, 104, 88, 123, 89, 85, 122, 102, 88, 30, 26, 22, 11, 10, 11, 121, 105, 94, 158, 138, 127, 135, 123, 113, 127, 110, 100, 121, 105, 96, 110, 100, 90, 85, 82, 70, 83, 83, 69, 65, 65, 55, 36, 27, 25, 85, 76, 74, 149, 147, 149, 119, 109, 110, 145, 135, 138, 128, 122, 123, 121, 113, 107, 95, 88, 77, 151, 127, 110, 165, 138, 118, 167, 139, 120, 182, 154, 137, 189, 161, 149, 191, 163, 151, 192, 164, 151, 202, 178, 169, 167, 147, 138, 135, 103, 81, 87, 54, 49, 17, 0, 5, 80, 55, 52, 64, 53, 46, 0, 0, 0, 89, 77, 70, 138, 118, 107, 118, 104, 94, 121, 102, 92, 106, 93, 82, 79, 74, 63, 55, 55, 46, 44, 44, 37, 16, 15, 13, 35, 28, 28, 64, 60, 55, 121, 114, 117, 119, 113, 113, 117, 108, 103, 109, 99, 91, 111, 100, 86, 85, 79, 68, 135, 114, 105, 155, 129, 112, 158, 132, 116, 175, 147, 131, 181, 152, 139, 182, 153, 140, 186, 157, 143, 186, 164, 156, 128, 111, 96, 119, 83, 71, 62, 34, 30, 16, 2, 1, 52, 30, 30, 70, 57, 52, 0, 0, 0, 71, 60, 54, 128, 110, 100, 114, 100, 91, 98, 87, 77, 65, 62, 56, 39, 40, 35, 37, 38, 32, 27, 26, 23, 4, 4, 4, 35, 35, 32, 43, 45, 36, 106, 99, 103, 112, 111, 111, 96, 93, 88, 101, 90, 82, 106, 92, 91, 74, 71, 68, 120, 102, 91, 150, 124, 111, 156, 130, 116, 171, 142, 127, 174, 145, 130, 174, 144, 128, 180, 149, 134, 153, 135, 127, 96, 81, 63, 112, 86, 73, 65, 40, 37, 34, 8, 8, 51, 20, 21, 71, 54, 49, 6, 6, 6, 59, 51, 45, 109, 96, 88, 85, 79, 76, 60, 58, 54, 39, 40, 36, 37, 37, 35, 17, 17, 15, 4, 4, 3, 8, 9, 6, 17, 20, 13, 27, 29, 21, 98, 95, 94, 84, 83, 81, 112, 108, 106, 118, 110, 106, 94, 90, 87, 63, 65, 58, 111, 95, 85, 159, 131, 118, 158, 131, 118, 163, 135, 121, 165, 136, 122, 164, 134, 119, 169, 138, 123, 104, 94, 81, 76, 63, 47, 121, 99, 83, 80, 63, 55, 40, 9, 13, 54, 16, 19, 74, 53, 49, 10, 10, 9, 34, 33, 30, 64, 62, 57, 52, 48, 43, 44, 41, 37, 23, 23, 20, 6, 5, 5, 5, 4, 3, 13, 15, 9, 26, 28, 18, 27, 30, 19, 24, 26, 18, 99, 98, 98, 72, 71, 68, 91, 88, 84, 101, 95, 90, 78, 76, 71, 60, 61, 54, 104, 90, 80, 161, 133, 121, 148, 123, 109, 150, 124, 108, 150, 123, 111, 152, 124, 112, 144, 118, 106, 59, 53, 43, 63, 50, 34, 103, 78, 65, 94, 79, 76, 65, 23, 34, 58, 15, 21, 73, 52, 49, 17, 19, 15, 38, 36, 30, 46, 43, 37, 33, 31, 27, 12, 11, 10, 2, 3, 2, 5, 6, 4, 21, 22, 16, 36, 38, 26, 40, 43, 28, 35, 38, 24, 30, 32, 22, 112, 109, 110, 68, 67, 63, 77, 75, 70, 78, 76, 71, 75, 74, 68, 60, 60, 54, 83, 74, 66, 143, 116, 107, 139, 115, 99, 154, 127, 109, 137, 112, 100, 140, 112, 101, 114, 92, 84, 30, 27, 23, 60, 49, 37, 79, 56, 48, 72, 46, 47, 74, 23, 37, 75, 23, 35, 81, 59, 58, 39, 39, 31, 35, 32, 27, 16, 14, 12, 5, 5, 3, 4, 5, 3, 10, 12, 8, 25, 27, 18, 36, 38, 26, 39, 41, 27, 42, 45, 31, 44, 47, 33, 43, 45, 32, 74, 72, 72, 53, 56, 51, 57, 57, 51, 57, 58, 52, 69, 69, 62, 65, 65, 58, 57, 53, 47, 120, 96, 88, 133, 106, 94, 139, 113, 101, 135, 108, 99, 140, 113, 102, 96, 81, 75, 15, 15, 12, 56, 44, 34, 66, 40, 35, 58, 19, 20, 55, 6, 17, 82, 35, 41, 77, 60, 57, 16, 15, 12, 7, 7, 6, 1, 2, 2, 5, 6, 3, 15, 17, 11, 29, 31, 21, 40, 43, 29, 42, 44, 31, 40, 42, 29, 45, 49, 33, 48, 51, 36, 53, 56, 41, 14, 13, 13, 26, 29, 25, 39, 40, 34, 45, 47, 38, 47, 48, 39, 54, 54, 46, 44, 46, 38, 90, 75, 67, 129, 109, 101, 112, 100, 92, 106, 92, 84, 105, 90, 80, 58, 50, 47, 5, 6, 4, 53, 38, 27, 88, 47, 41, 80, 28, 35, 51, 5, 16, 101, 54, 61, 59, 49, 46, 0, 0, 0, 5, 5, 5, 5, 6, 4, 16, 19, 12, 29, 32, 23, 38, 40, 28, 45, 48, 33, 45, 47, 33, 43, 46, 30, 49, 52, 37, 53, 56, 42, 53, 55, 42, 4, 3, 3, 6, 6, 6, 16, 18, 15, 27, 29, 23, 34, 37, 29, 38, 42, 33, 41, 44, 35, 59, 54, 49, 93, 85, 81, 70, 65, 61, 41, 37, 34, 23, 22, 17, 9, 9, 7, 0, 0, 0, 51, 39, 29, 113, 60, 64, 83, 27, 41, 53, 13, 21, 120, 81, 87, 36, 32, 29, 0, 0, 0, 7, 7, 6, 20, 22, 14, 35, 37, 24, 39, 40, 28, 42, 43, 30, 42, 44, 30, 42, 44, 27, 51, 52, 35, 61, 63, 48, 56, 59, 45, 55, 56, 44, 5, 5, 5, 4, 4, 4, 3, 4, 3, 9, 10, 8, 20, 22, 18, 26, 30, 23, 28, 30, 23, 26, 27, 23, 25, 25, 22, 14, 14, 11, 14, 14, 12, 8, 8, 7, 3, 3, 2, 0, 0, 0, 37, 29, 23, 97, 61, 59, 62, 22, 32, 110, 72, 78, 110, 94, 85, 10, 8, 7, 5, 6, 6, 20, 21, 13, 32, 34, 22, 37, 38, 25, 37, 38, 24, 38, 39, 27, 38, 37, 26, 41, 42, 28, 50, 52, 38, 56, 58, 44, 55, 57, 42, 61, 62, 47, 2, 2, 2, 1, 1, 1, 1, 1, 1, 2, 2, 2, 7, 8, 6, 16, 18, 14, 15, 16, 13, 11, 11, 9, 10, 10, 9, 6, 6, 5, 3, 3, 2, 2, 2, 2, 2, 1, 2, 1, 1, 3, 17, 10, 7, 88, 70, 56, 121, 92, 91, 133, 113, 105, 53, 48, 37, 7, 8, 5, 21, 23, 17, 26, 27, 18, 31, 33, 22, 33, 34, 24, 32, 34, 21, 37, 38, 26, 42, 41, 31, 39, 40, 27, 40, 43, 31, 52, 54, 42, 59, 59, 46, 60, 62, 48, 2, 2, 2, 1, 1, 0, 1, 1, 0, 1, 0, 1, 2, 2, 2, 3, 4, 3, 3, 3, 3, 3, 3, 3, 3, 2, 2, 2, 2, 2, 1, 0, 1, 0, 0, 0, 1, 1, 1, 2, 2, 3, 3, 2, 2, 33, 24, 14, 80, 69, 50, 60, 53, 35, 18, 17, 9, 19, 21, 14, 25, 26, 18, 32, 33, 24, 38, 40, 27, 31, 33, 21, 35, 36, 26, 39, 41, 29, 40, 41, 29, 40, 42, 30, 45, 48, 35, 56, 58, 44, 60, 60, 47, 61, 62, 51, 4, 4, 4, 2, 2, 2, 2, 2, 2, 2, 2, 2, 1, 1, 1, 1, 1, 1, 1, 1, 1, 1, 1, 1, 1, 1, 1, 0, 0, 0, 0, 0, 0, 0, 0, 0, 0, 0, 0, 1, 0, 1, 0, 1, 1, 2, 2, 1, 14, 12, 6, 22, 22, 14, 26, 26, 17, 27, 27, 18, 30, 31, 20, 39, 40, 28, 40, 42, 27, 34, 36, 23, 36, 38, 27, 43, 45, 33, 42, 45, 31, 40, 42, 29, 46, 49, 34, 52, 55, 39, 58, 59, 45, 59, 59, 47, 7, 7, 7, 5, 5, 4, 5, 5, 5, 4, 4, 4, 3, 3, 3, 2, 2, 2, 2, 2, 2, 1, 1, 1, 1, 1, 1, 1, 1, 1, 0, 0, 0, 1, 1, 1, 0, 0, 0, 0, 0, 0, 2, 2, 1, 7, 8, 6, 15, 16, 11, 21, 22, 14, 25, 26, 15, 32, 32, 21, 39, 40, 27, 41, 42, 28, 36, 36, 25, 33, 35, 24, 37, 40, 27, 40, 44, 31, 39, 41, 28, 38, 40, 28, 48, 50, 36, 54, 56, 42, 62, 63, 49, 60, 61, 47, 8, 8, 8, 7, 7, 6, 6, 6, 6, 5, 5, 5, 4, 4, 4, 3, 3, 3, 3, 3, 3, 3, 3, 3, 3, 3, 3, 3, 3, 3, 1, 1, 1, 1, 1, 1, 1, 1, 1, 2, 2, 2, 8, 8, 6, 14, 16, 11, 18, 19, 13, 16, 18, 10, 19, 19, 11, 28, 28, 17, 29, 30, 18, 27, 28, 17, 33, 33, 22, 45, 46, 35, 44, 48, 34, 38, 42, 29, 41, 43, 31, 48, 50, 37, 58, 60, 46, 62, 63, 50, 60, 61, 47, 55, 57, 44, 13, 13, 12, 9, 9, 8, 4, 4, 4, 3, 3, 3, 2, 3, 2, 3, 4, 2, 4, 5, 3, 3, 3, 2, 4, 4, 4, 4, 4, 4, 2, 2, 2, 3, 3, 2, 7, 8, 6, 14, 15, 10, 14, 15, 10, 14, 15, 10, 15, 17, 11, 16, 18, 10, 18, 19, 11, 21, 21, 13, 22, 23, 14, 20, 22, 12, 29, 30, 19, 46, 47, 34, 42, 45, 32, 42, 45, 31, 52, 54, 40, 56, 59, 44, 59, 60, 46, 56, 58, 43, 51, 54, 39, 46, 52, 38], \"height\": 32, \"channels\": 3, \"width\": 32, \"type\": \"image\", \"id\": 1769809120}, {\"format\": \"raw\", \"value\": [114, 107, 99, 134, 122, 115, 108, 101, 93, 71, 75, 71, 82, 90, 90, 95, 102, 101, 76, 83, 82, 79, 87, 86, 81, 90, 89, 83, 90, 90, 97, 102, 103, 87, 85, 82, 69, 61, 50, 97, 81, 73, 86, 84, 76, 127, 103, 101, 116, 50, 44, 114, 45, 38, 119, 47, 41, 123, 49, 43, 123, 49, 42, 120, 46, 38, 119, 45, 37, 120, 46, 38, 122, 46, 40, 121, 45, 39, 120, 46, 39, 118, 45, 38, 115, 45, 36, 114, 46, 36, 112, 45, 37, 108, 42, 35, 165, 144, 138, 173, 152, 146, 155, 141, 133, 88, 91, 87, 87, 97, 97, 102, 111, 112, 91, 101, 101, 101, 113, 113, 104, 116, 116, 105, 113, 114, 107, 113, 115, 81, 76, 77, 84, 69, 59, 132, 112, 95, 114, 106, 93, 157, 120, 121, 139, 51, 37, 136, 46, 30, 137, 49, 32, 140, 52, 35, 142, 52, 33, 138, 47, 27, 136, 46, 26, 138, 47, 28, 140, 48, 30, 140, 48, 31, 139, 49, 31, 134, 46, 28, 128, 45, 26, 123, 45, 27, 121, 44, 27, 119, 43, 27, 180, 152, 148, 176, 150, 146, 178, 159, 152, 132, 134, 131, 103, 116, 116, 120, 132, 132, 98, 110, 111, 100, 113, 113, 106, 120, 120, 92, 103, 104, 113, 122, 124, 98, 99, 103, 93, 88, 86, 112, 102, 89, 109, 106, 96, 165, 128, 132, 144, 51, 37, 140, 47, 29, 132, 44, 25, 133, 46, 26, 140, 49, 30, 137, 46, 26, 137, 45, 26, 138, 46, 27, 139, 47, 29, 138, 48, 30, 136, 47, 28, 134, 46, 28, 132, 47, 30, 129, 46, 31, 127, 45, 31, 127, 45, 33, 184, 157, 154, 180, 155, 152, 176, 154, 150, 121, 122, 121, 122, 138, 138, 123, 137, 138, 105, 119, 119, 112, 125, 125, 107, 119, 120, 94, 108, 109, 113, 129, 128, 125, 135, 139, 102, 110, 114, 89, 87, 84, 101, 101, 93, 164, 125, 122, 143, 49, 35, 142, 49, 32, 134, 43, 26, 132, 42, 24, 137, 45, 29, 140, 46, 31, 141, 48, 32, 139, 46, 31, 138, 46, 31, 138, 47, 32, 136, 47, 32, 136, 48, 32, 134, 48, 34, 132, 46, 34, 128, 44, 33, 128, 44, 34, 191, 168, 167, 185, 162, 161, 165, 142, 141, 103, 104, 104, 97, 112, 113, 148, 163, 163, 128, 144, 144, 102, 115, 116, 104, 114, 116, 138, 153, 154, 165, 184, 183, 172, 186, 187, 137, 150, 153, 109, 114, 114, 116, 115, 106, 126, 84, 71, 135, 44, 27, 142, 47, 29, 141, 45, 28, 139, 43, 27, 139, 43, 27, 141, 46, 30, 142, 47, 30, 142, 47, 30, 141, 46, 30, 140, 47, 30, 139, 48, 31, 137, 47, 29, 133, 46, 29, 129, 45, 28, 126, 44, 28, 126, 45, 30, 192, 171, 169, 185, 160, 160, 146, 130, 126, 83, 87, 84, 91, 97, 98, 140, 154, 154, 128, 149, 148, 118, 135, 136, 152, 166, 169, 180, 198, 200, 153, 170, 167, 128, 135, 132, 141, 154, 151, 123, 143, 140, 114, 121, 114, 80, 48, 37, 113, 48, 30, 140, 51, 34, 149, 43, 29, 144, 45, 29, 144, 44, 29, 145, 46, 30, 144, 45, 29, 145, 46, 30, 147, 47, 32, 145, 47, 31, 143, 46, 30, 141, 45, 29, 138, 45, 28, 134, 44, 27, 133, 45, 29, 132, 47, 32, 190, 171, 167, 182, 159, 159, 110, 100, 97, 82, 90, 87, 88, 94, 96, 111, 126, 126, 146, 167, 167, 155, 172, 176, 172, 188, 194, 185, 209, 213, 163, 186, 185, 105, 112, 108, 100, 106, 100, 127, 139, 133, 101, 101, 89, 61, 40, 25, 115, 85, 73, 146, 78, 66, 147, 46, 32, 146, 47, 29, 145, 45, 29, 147, 47, 32, 147, 47, 32, 146, 47, 31, 147, 47, 32, 147, 48, 32, 145, 48, 32, 143, 47, 30, 140, 46, 29, 137, 45, 28, 135, 46, 30, 133, 47, 32, 194, 178, 173, 159, 141, 139, 54, 50, 48, 82, 96, 96, 122, 134, 138, 134, 153, 155, 170, 189, 192, 169, 176, 186, 151, 156, 171, 181, 201, 211, 172, 196, 200, 138, 146, 143, 91, 89, 79, 119, 109, 99, 124, 109, 89, 104, 88, 62, 147, 137, 120, 150, 97, 81, 145, 50, 34, 149, 50, 30, 147, 46, 29, 148, 48, 31, 148, 48, 32, 147, 47, 31, 148, 47, 31, 148, 48, 32, 147, 50, 33, 144, 49, 31, 142, 47, 30, 139, 46, 29, 136, 47, 30, 135, 48, 32, 168, 155, 150, 84, 72, 70, 59, 62, 63, 148, 169, 172, 179, 197, 204, 183, 205, 210, 176, 193, 199, 150, 141, 159, 130, 114, 139, 178, 186, 202, 159, 177, 185, 106, 111, 112, 110, 105, 96, 99, 83, 72, 123, 105, 85, 133, 118, 88, 133, 118, 86, 143, 85, 60, 145, 50, 32, 148, 51, 35, 148, 47, 30, 148, 47, 29, 150, 49, 31, 150, 49, 31, 149, 48, 31, 149, 48, 31, 149, 50, 31, 146, 49, 30, 144, 49, 30, 141, 47, 29, 138, 47, 30, 136, 48, 31, 92, 81, 76, 61, 53, 50, 117, 128, 130, 187, 213, 220, 193, 216, 225, 191, 217, 224, 188, 203, 211, 141, 119, 142, 128, 99, 129, 177, 182, 200, 180, 199, 206, 92, 99, 100, 79, 77, 72, 95, 87, 77, 78, 67, 52, 93, 80, 59, 95, 79, 46, 118, 59, 33, 147, 48, 32, 152, 52, 37, 152, 49, 32, 150, 48, 30, 152, 50, 32, 153, 51, 34, 152, 50, 32, 150, 49, 31, 150, 50, 31, 148, 50, 31, 146, 49, 30, 142, 48, 29, 139, 48, 30, 136, 48, 30, 58, 50, 46, 96, 94, 92, 166, 182, 186, 194, 223, 233, 194, 221, 232, 192, 220, 228, 193, 208, 218, 144, 127, 147, 119, 95, 121, 172, 182, 196, 190, 216, 220, 130, 142, 144, 47, 50, 48, 64, 66, 57, 48, 45, 35, 52, 44, 35, 77, 70, 52, 105, 49, 33, 147, 48, 33, 158, 53, 35, 157, 51, 34, 152, 49, 31, 152, 49, 31, 155, 52, 33, 155, 51, 33, 152, 49, 31, 151, 50, 31, 150, 50, 31, 147, 49, 30, 144, 48, 29, 140, 48, 30, 137, 48, 29, 51, 52, 51, 129, 138, 143, 192, 210, 220, 200, 226, 238, 197, 224, 234, 195, 220, 230, 195, 217, 225, 154, 160, 173, 143, 139, 154, 178, 192, 201, 195, 219, 225, 171, 187, 193, 83, 90, 88, 83, 81, 68, 60, 56, 42, 49, 48, 39, 77, 71, 61, 113, 48, 39, 145, 49, 28, 157, 52, 33, 159, 53, 37, 153, 50, 33, 152, 49, 31, 154, 50, 33, 156, 51, 35, 153, 49, 34, 151, 49, 33, 149, 49, 32, 147, 49, 31, 144, 48, 29, 142, 47, 30, 140, 47, 31, 83, 91, 93, 176, 192, 199, 199, 221, 234, 202, 228, 240, 201, 228, 238, 198, 222, 231, 198, 222, 230, 177, 195, 204, 175, 185, 195, 189, 207, 214, 191, 214, 221, 154, 166, 170, 109, 111, 103, 144, 138, 122, 98, 92, 77, 29, 31, 19, 57, 53, 41, 114, 45, 37, 148, 47, 25, 153, 51, 30, 158, 53, 37, 155, 53, 36, 153, 50, 33, 152, 49, 32, 156, 50, 36, 154, 50, 36, 152, 50, 35, 150, 49, 34, 148, 50, 32, 146, 49, 31, 143, 48, 31, 141, 47, 31, 127, 140, 144, 194, 214, 224, 196, 221, 236, 201, 228, 241, 203, 229, 239, 199, 223, 232, 203, 226, 235, 193, 216, 222, 196, 214, 222, 198, 220, 227, 192, 217, 221, 132, 138, 135, 87, 80, 64, 120, 113, 96, 153, 149, 135, 49, 50, 38, 51, 50, 35, 110, 46, 37, 149, 45, 25, 150, 50, 27, 158, 54, 37, 158, 55, 38, 155, 52, 35, 151, 48, 31, 154, 49, 34, 154, 50, 35, 152, 50, 35, 151, 50, 34, 148, 50, 32, 146, 49, 31, 143, 48, 31, 141, 47, 31, 121, 137, 142, 183, 204, 214, 196, 222, 236, 201, 228, 240, 203, 229, 239, 199, 223, 233, 204, 227, 235, 200, 227, 231, 206, 229, 235, 202, 225, 233, 198, 221, 224, 168, 169, 162, 112, 99, 80, 94, 89, 73, 175, 174, 162, 93, 92, 80, 62, 64, 50, 100, 51, 42, 145, 46, 29, 148, 48, 26, 155, 52, 35, 158, 55, 38, 156, 53, 36, 153, 50, 33, 153, 48, 33, 152, 48, 34, 151, 49, 34, 150, 49, 33, 148, 49, 32, 144, 48, 30, 142, 47, 30, 140, 46, 30, 118, 134, 139, 171, 192, 200, 198, 222, 233, 201, 227, 238, 203, 230, 240, 200, 223, 233, 205, 228, 236, 202, 227, 231, 208, 228, 235, 204, 226, 235, 200, 222, 224, 162, 164, 153, 106, 95, 76, 88, 88, 76, 166, 168, 158, 133, 127, 116, 74, 77, 65, 93, 64, 54, 134, 47, 31, 149, 47, 29, 153, 49, 33, 157, 54, 37, 156, 53, 36, 154, 51, 34, 155, 50, 35, 152, 48, 34, 149, 47, 32, 149, 48, 33, 148, 49, 32, 146, 49, 30, 142, 47, 30, 140, 46, 30, 117, 133, 136, 168, 188, 194, 198, 222, 231, 199, 226, 236, 203, 230, 239, 199, 224, 233, 205, 229, 237, 204, 227, 232, 209, 228, 236, 207, 228, 238, 199, 218, 221, 139, 139, 129, 63, 52, 35, 54, 54, 43, 128, 130, 121, 133, 126, 116, 74, 78, 68, 69, 57, 48, 118, 43, 31, 149, 48, 32, 149, 48, 31, 152, 52, 33, 155, 53, 36, 156, 52, 36, 157, 51, 37, 156, 50, 36, 152, 49, 33, 151, 49, 32, 149, 51, 32, 145, 50, 32, 142, 48, 31, 140, 47, 31, 109, 124, 126, 160, 180, 184, 197, 225, 234, 197, 227, 235, 202, 230, 236, 198, 225, 232, 205, 231, 238, 204, 226, 233, 207, 229, 239, 207, 230, 242, 202, 217, 224, 143, 142, 136, 78, 67, 51, 70, 64, 51, 105, 105, 94, 101, 100, 90, 63, 67, 55, 53, 52, 45, 98, 39, 31, 146, 50, 30, 145, 47, 27, 147, 48, 30, 152, 50, 34, 156, 50, 36, 157, 51, 38, 160, 50, 37, 154, 51, 34, 152, 52, 33, 152, 51, 34, 147, 50, 33, 144, 47, 32, 142, 46, 33, 98, 113, 115, 146, 165, 170, 196, 225, 234, 198, 228, 236, 201, 229, 235, 198, 225, 232, 206, 231, 238, 204, 226, 233, 206, 229, 239, 208, 231, 243, 204, 219, 227, 143, 145, 144, 95, 90, 81, 105, 102, 91, 124, 122, 111, 87, 87, 75, 62, 64, 54, 46, 47, 41, 77, 41, 29, 142, 51, 32, 152, 46, 30, 147, 45, 30, 144, 46, 29, 143, 49, 31, 147, 50, 33, 154, 49, 36, 148, 53, 37, 147, 54, 37, 153, 51, 36, 152, 49, 33, 147, 47, 32, 145, 45, 31, 113, 127, 130, 139, 157, 162, 197, 222, 232, 199, 228, 236, 199, 226, 233, 200, 226, 233, 207, 231, 238, 203, 225, 232, 206, 229, 237, 209, 232, 242, 202, 219, 226, 151, 160, 162, 150, 155, 155, 154, 159, 155, 124, 125, 115, 101, 99, 85, 62, 60, 52, 36, 36, 31, 59, 46, 33, 122, 46, 32, 149, 47, 32, 147, 47, 30, 146, 46, 28, 145, 47, 27, 144, 47, 26, 146, 45, 29, 139, 46, 30, 142, 48, 32, 147, 49, 33, 141, 49, 31, 137, 49, 29, 135, 49, 28, 115, 129, 133, 138, 154, 159, 192, 215, 224, 200, 226, 234, 197, 223, 230, 201, 226, 233, 206, 228, 237, 202, 224, 232, 206, 229, 236, 209, 231, 239, 206, 225, 232, 184, 199, 205, 189, 204, 209, 191, 204, 206, 147, 151, 145, 119, 116, 101, 68, 63, 54, 40, 41, 37, 44, 42, 33, 111, 66, 57, 159, 98, 82, 146, 82, 62, 141, 66, 48, 138, 56, 38, 135, 52, 32, 137, 50, 34, 120, 37, 24, 132, 42, 26, 143, 46, 31, 140, 47, 33, 139, 47, 32, 137, 47, 30, 109, 123, 128, 120, 135, 140, 182, 202, 210, 199, 224, 232, 194, 219, 226, 201, 224, 232, 206, 226, 235, 201, 223, 230, 205, 228, 234, 206, 227, 234, 203, 223, 230, 196, 215, 223, 192, 212, 220, 192, 212, 219, 166, 176, 174, 123, 119, 105, 64, 58, 44, 42, 45, 39, 39, 35, 33, 89, 80, 77, 178, 180, 170, 182, 180, 169, 175, 164, 152, 162, 144, 131, 157, 123, 109, 128, 81, 74, 82, 35, 28, 116, 55, 41, 132, 48, 35, 133, 44, 33, 134, 43, 30, 135, 41, 28, 112, 125, 130, 102, 116, 121, 167, 186, 193, 199, 222, 229, 192, 215, 222, 201, 223, 230, 205, 224, 233, 199, 220, 227, 200, 222, 228, 201, 222, 228, 200, 220, 227, 197, 217, 224, 197, 216, 226, 196, 217, 227, 191, 203, 204, 150, 146, 134, 78, 71, 50, 27, 29, 21, 37, 31, 34, 38, 43, 42, 92, 96, 100, 115, 115, 121, 127, 128, 130, 131, 131, 130, 123, 119, 114, 86, 77, 76, 105, 96, 95, 163, 143, 138, 158, 121, 114, 146, 104, 96, 139, 93, 85, 132, 82, 73, 119, 131, 134, 97, 110, 114, 152, 170, 177, 199, 219, 226, 193, 213, 219, 202, 221, 227, 202, 222, 228, 198, 218, 224, 201, 221, 226, 204, 223, 229, 203, 222, 229, 202, 219, 225, 201, 217, 225, 197, 217, 227, 197, 208, 212, 174, 173, 162, 134, 128, 103, 53, 50, 38, 45, 44, 41, 45, 48, 43, 73, 73, 69, 87, 85, 83, 79, 77, 76, 79, 77, 76, 88, 85, 84, 114, 112, 113, 174, 179, 183, 189, 199, 205, 184, 190, 197, 180, 181, 189, 175, 174, 182, 169, 166, 175, 110, 123, 124, 105, 119, 120, 153, 171, 177, 196, 215, 222, 195, 214, 220, 201, 220, 226, 202, 221, 227, 200, 219, 225, 202, 221, 227, 202, 221, 227, 203, 222, 228, 202, 219, 225, 199, 216, 223, 197, 216, 225, 196, 209, 213, 175, 177, 170, 151, 146, 128, 71, 67, 50, 45, 43, 32, 83, 83, 78, 164, 171, 169, 187, 195, 195, 184, 192, 194, 181, 188, 191, 191, 196, 200, 193, 199, 204, 190, 199, 206, 181, 195, 204, 179, 192, 202, 179, 188, 199, 179, 186, 198, 176, 182, 195, 107, 122, 123, 126, 140, 142, 133, 151, 156, 191, 210, 217, 196, 215, 221, 201, 220, 226, 202, 221, 227, 199, 218, 224, 199, 218, 224, 200, 219, 225, 200, 219, 225, 199, 217, 223, 197, 215, 222, 198, 218, 225, 185, 201, 205, 151, 158, 156, 143, 141, 133, 72, 69, 50, 42, 40, 24, 125, 126, 125, 200, 213, 218, 197, 213, 220, 197, 213, 221, 197, 213, 223, 194, 210, 220, 190, 206, 216, 187, 202, 211, 182, 197, 206, 180, 193, 203, 181, 192, 203, 178, 187, 199, 171, 179, 192, 105, 123, 129, 125, 140, 144, 128, 146, 151, 185, 204, 210, 195, 214, 220, 198, 217, 223, 198, 217, 223, 197, 216, 222, 198, 217, 223, 198, 217, 223, 198, 217, 223, 197, 216, 222, 196, 215, 222, 197, 216, 223, 195, 213, 218, 191, 204, 206, 180, 182, 179, 97, 96, 82, 48, 48, 36, 130, 136, 138, 196, 214, 221, 193, 215, 223, 193, 214, 224, 190, 211, 223, 187, 209, 220, 186, 208, 218, 186, 206, 215, 183, 200, 208, 179, 195, 206, 179, 193, 205, 177, 189, 202, 171, 181, 195, 108, 124, 138, 123, 137, 144, 115, 133, 136, 177, 196, 201, 196, 214, 220, 193, 211, 217, 193, 212, 218, 195, 214, 220, 196, 215, 221, 195, 214, 220, 196, 215, 221, 196, 216, 222, 195, 217, 223, 197, 217, 223, 201, 220, 226, 194, 210, 214, 131, 136, 133, 92, 91, 87, 111, 115, 114, 173, 189, 192, 195, 216, 222, 194, 216, 222, 196, 217, 225, 194, 215, 224, 190, 213, 220, 188, 211, 218, 187, 207, 216, 185, 204, 213, 182, 199, 211, 180, 196, 209, 177, 191, 205, 172, 183, 198, 96, 126, 151, 114, 136, 154, 131, 150, 162, 179, 201, 211, 186, 209, 217, 185, 207, 215, 188, 210, 217, 191, 211, 218, 194, 212, 219, 195, 212, 219, 197, 214, 219, 198, 216, 221, 196, 218, 224, 198, 218, 224, 198, 220, 226, 188, 208, 212, 142, 154, 154, 154, 161, 165, 189, 200, 207, 197, 218, 223, 196, 217, 222, 197, 218, 223, 198, 219, 225, 196, 216, 223, 194, 215, 221, 192, 213, 220, 190, 211, 219, 187, 207, 216, 184, 203, 213, 182, 199, 210, 179, 194, 206, 173, 188, 200, 109, 161, 184, 130, 172, 194, 161, 197, 214, 179, 211, 225, 177, 207, 221, 179, 207, 219, 182, 209, 220, 185, 209, 220, 188, 210, 221, 191, 212, 221, 195, 212, 221, 196, 215, 222, 195, 217, 223, 196, 218, 224, 197, 218, 225, 197, 218, 224, 199, 218, 224, 203, 221, 227, 201, 219, 226, 198, 218, 225, 199, 220, 226, 199, 220, 227, 199, 220, 226, 197, 218, 225, 197, 218, 226, 195, 216, 225, 194, 215, 224, 191, 212, 220, 187, 206, 217, 184, 202, 214, 178, 196, 209, 171, 189, 202, 181, 208, 217, 189, 220, 228, 196, 233, 235, 196, 229, 235, 197, 226, 237, 197, 227, 238, 195, 226, 237, 193, 225, 236, 192, 223, 235, 190, 219, 233, 189, 217, 232, 191, 216, 230, 194, 217, 228, 196, 217, 227, 200, 219, 226, 201, 218, 224, 200, 217, 222, 200, 217, 221, 201, 218, 223, 202, 219, 224, 203, 221, 228, 204, 222, 229, 202, 221, 228, 200, 218, 226, 198, 216, 225, 198, 216, 226, 198, 216, 225, 196, 213, 223, 191, 210, 223, 186, 206, 222, 181, 200, 216, 173, 192, 208, 190, 195, 194, 193, 204, 204, 195, 211, 210, 197, 213, 212, 199, 215, 214, 199, 218, 220, 200, 221, 224, 198, 223, 227, 195, 222, 227, 192, 217, 226, 186, 212, 223, 184, 207, 220, 184, 204, 217, 184, 202, 211, 186, 200, 206, 188, 199, 203, 188, 200, 201, 189, 200, 201, 190, 201, 202, 190, 201, 203, 188, 200, 204, 189, 202, 206, 190, 202, 207, 188, 201, 206, 187, 199, 205, 185, 197, 204, 182, 195, 201, 179, 192, 198, 175, 187, 196, 172, 183, 193, 167, 178, 188, 159, 170, 181], \"height\": 32, \"channels\": 3, \"width\": 32, \"type\": \"image\", \"id\": 1769809288}], \"selected_variable\": {\"name\": [\"<SArray>\"], \"dtype\": \"Image\", \"view_component\": \"Images\", \"view_file\": \"sarray\", \"descriptives\": {\"rows\": 4}, \"type\": \"SArray\", \"view_components\": [\"Images\"]}}, e);\n",
       "                });\n",
       "            })();\n",
       "        "
      ]
     },
     "metadata": {},
     "output_type": "display_data"
    }
   ],
   "source": [
    "def reveal_my_twin(x):\n",
    "    return gl_img.filter_by(x['reference_label'],'id')\n",
    "spirit_animal = reveal_my_twin(knn_model.query(me_test))\n",
    "spirit_animal['image'].show()"
   ]
  },
  {
   "cell_type": "code",
   "execution_count": 132,
   "metadata": {
    "collapsed": false
   },
   "outputs": [
    {
     "data": {
      "application/javascript": [
       "$(\"head\").append($(\"<link/>\").attr({\n",
       "  rel:  \"stylesheet\",\n",
       "  type: \"text/css\",\n",
       "  href: \"//cdnjs.cloudflare.com/ajax/libs/font-awesome/4.1.0/css/font-awesome.min.css\"\n",
       "}));\n",
       "$(\"head\").append($(\"<link/>\").attr({\n",
       "  rel:  \"stylesheet\",\n",
       "  type: \"text/css\",\n",
       "  href: \"https://static.turi.com/products/graphlab-create/2.1/canvas/css/canvas.css\"\n",
       "}));\n",
       "\n",
       "            (function(){\n",
       "\n",
       "                var e = null;\n",
       "                if (typeof element == 'undefined') {\n",
       "                    var scripts = document.getElementsByTagName('script');\n",
       "                    var thisScriptTag = scripts[scripts.length-1];\n",
       "                    var parentDiv = thisScriptTag.parentNode;\n",
       "                    e = document.createElement('div');\n",
       "                    parentDiv.appendChild(e);\n",
       "                } else {\n",
       "                    e = element[0];\n",
       "                }\n",
       "\n",
       "                if (typeof requirejs !== 'undefined') {\n",
       "                    // disable load timeout; ipython_app.js is large and can take a while to load.\n",
       "                    requirejs.config({waitSeconds: 0});\n",
       "                }\n",
       "\n",
       "                require(['https://static.turi.com/products/graphlab-create/2.1/canvas/js/ipython_app.js'], function(IPythonApp){\n",
       "                    var app = new IPythonApp();\n",
       "                    app.attachView('sarray','Images', {\"ipython\": true, \"rows\": [{\"format\": \"png\", \"value\": \"image/png;base64,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\\n\", \"height\": 96, \"channels\": 3, \"width\": 96, \"type\": \"image\", \"id\": 1769809904}], \"selected_variable\": {\"name\": [\"<SArray>\"], \"dtype\": \"Image\", \"view_component\": \"Images\", \"view_file\": \"sarray\", \"descriptives\": {\"rows\": 1}, \"type\": \"SArray\", \"view_components\": [\"Images\"]}}, e);\n",
       "                });\n",
       "            })();\n",
       "        "
      ]
     },
     "metadata": {},
     "output_type": "display_data"
    }
   ],
   "source": [
    "graphlab.image_analysis.resize(spirit_animal['image'][0:1], 96,96).show()"
   ]
  },
  {
   "cell_type": "code",
   "execution_count": null,
   "metadata": {
    "collapsed": true
   },
   "outputs": [],
   "source": []
  },
  {
   "cell_type": "code",
   "execution_count": null,
   "metadata": {
    "collapsed": true
   },
   "outputs": [],
   "source": []
  }
 ],
 "metadata": {
  "anaconda-cloud": {},
  "kernelspec": {
   "display_name": "Python 2",
   "language": "python",
   "name": "python2"
  }
 },
 "nbformat": 4,
 "nbformat_minor": 1
}
